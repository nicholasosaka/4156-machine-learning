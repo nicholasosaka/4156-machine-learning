{
 "cells": [
  {
   "cell_type": "markdown",
   "metadata": {},
   "source": [
    "\n",
    "\n",
    "# Linear Model (Workbook)\n",
    "\n",
    "### ITCS 4156:  Introduction to Machine Learning "
   ]
  },
  {
   "cell_type": "markdown",
   "metadata": {},
   "source": [
    "# Goal \n",
    "\n",
    "The goal of this activity is to practice our first machine learning models, least squares (LS) and least means squares (LMS), by applying them to real data. We will prepare data as we did in last week's practice and then apply these linear models. We'll also take a look at a few more data processing tricks we typically need to apply to data. Follow the TODO titles and comments to finish the activity!\n",
    "\n",
    "# Agenda\n",
    "\n",
    "* Data visualization\n",
    "* Data preprocessing\n",
    "* Implementing least squares (LS)\n",
    "* Normalization\n",
    "* Creating indicator variables\n",
    "* Implementing least means squared\n",
    "* Data Partitioning\n"
   ]
  },
  {
   "cell_type": "markdown",
   "metadata": {},
   "source": [
    "# Data Preparation"
   ]
  },
  {
   "cell_type": "code",
   "execution_count": 1,
   "metadata": {
    "slideshow": {
     "slide_type": "notes"
    }
   },
   "outputs": [],
   "source": [
    "import pandas as pd\n",
    "import numpy as np\n",
    "import matplotlib.pyplot as plt \n",
    "from mpl_toolkits.mplot3d import Axes3D\n",
    "\n",
    "%matplotlib inline"
   ]
  },
  {
   "cell_type": "markdown",
   "metadata": {},
   "source": [
    "## Reading forest fire data\n",
    "\n",
    "Just like the last lab we will use the forest fires data. Our goal will be to predict the 'area' feature, which corresponds to area of the forest burned. We will use the remaining features as our input features to make the predictions."
   ]
  },
  {
   "cell_type": "markdown",
   "metadata": {},
   "source": [
    "### Downloading via Linux and Mac\n",
    "\n",
    "If you are using Linux or Mac feel free to use the following `curl` command to download the data again.\n",
    "\n",
    "**NOTE: This command will only work on Linux and Mac. If you are using Windows feel free to try running the cell but don't expect it to work!**"
   ]
  },
  {
   "cell_type": "code",
   "execution_count": 3,
   "metadata": {},
   "outputs": [
    {
     "name": "stdout",
     "output_type": "stream",
     "text": [
      "  % Total    % Received % Xferd  Average Speed   Time    Time     Time  Current\n",
      "                                 Dload  Upload   Total   Spent    Left  Speed\n",
      "100 25478  100 25478    0     0  67941      0 --:--:-- --:--:-- --:--:-- 67941\n"
     ]
    }
   ],
   "source": [
    "!curl https://archive.ics.uci.edu/ml/machine-learning-databases/forest-fires/forestfires.csv -o forestfires.csv"
   ]
  },
  {
   "cell_type": "markdown",
   "metadata": {},
   "source": [
    "### Downloading via Windows\n",
    "Here is the repository where you can redownload the data if you are using Windows: https://archive.ics.uci.edu/ml/datasets/Forest+Fires.\n",
    "\n",
    "**NOTE: Make sure once you have downloaded the data that you put the `forestfires.csv` file in the same directory as this notebook!**"
   ]
  },
  {
   "cell_type": "markdown",
   "metadata": {},
   "source": [
    "### TODO\n",
    "\n",
    "* Using Pandas, read the `forestfires.csv` dataset into the variable `df`. "
   ]
  },
  {
   "cell_type": "code",
   "execution_count": 5,
   "metadata": {
    "slideshow": {
     "slide_type": "notes"
    }
   },
   "outputs": [
    {
     "data": {
      "text/html": [
       "<div>\n",
       "<style scoped>\n",
       "    .dataframe tbody tr th:only-of-type {\n",
       "        vertical-align: middle;\n",
       "    }\n",
       "\n",
       "    .dataframe tbody tr th {\n",
       "        vertical-align: top;\n",
       "    }\n",
       "\n",
       "    .dataframe thead th {\n",
       "        text-align: right;\n",
       "    }\n",
       "</style>\n",
       "<table border=\"1\" class=\"dataframe\">\n",
       "  <thead>\n",
       "    <tr style=\"text-align: right;\">\n",
       "      <th></th>\n",
       "      <th>X</th>\n",
       "      <th>Y</th>\n",
       "      <th>month</th>\n",
       "      <th>day</th>\n",
       "      <th>FFMC</th>\n",
       "      <th>DMC</th>\n",
       "      <th>DC</th>\n",
       "      <th>ISI</th>\n",
       "      <th>temp</th>\n",
       "      <th>RH</th>\n",
       "      <th>wind</th>\n",
       "      <th>rain</th>\n",
       "      <th>area</th>\n",
       "    </tr>\n",
       "  </thead>\n",
       "  <tbody>\n",
       "    <tr>\n",
       "      <th>0</th>\n",
       "      <td>7</td>\n",
       "      <td>5</td>\n",
       "      <td>mar</td>\n",
       "      <td>fri</td>\n",
       "      <td>86.2</td>\n",
       "      <td>26.2</td>\n",
       "      <td>94.3</td>\n",
       "      <td>5.1</td>\n",
       "      <td>8.2</td>\n",
       "      <td>51</td>\n",
       "      <td>6.7</td>\n",
       "      <td>0.0</td>\n",
       "      <td>0.00</td>\n",
       "    </tr>\n",
       "    <tr>\n",
       "      <th>1</th>\n",
       "      <td>7</td>\n",
       "      <td>4</td>\n",
       "      <td>oct</td>\n",
       "      <td>tue</td>\n",
       "      <td>90.6</td>\n",
       "      <td>35.4</td>\n",
       "      <td>669.1</td>\n",
       "      <td>6.7</td>\n",
       "      <td>18.0</td>\n",
       "      <td>33</td>\n",
       "      <td>0.9</td>\n",
       "      <td>0.0</td>\n",
       "      <td>0.00</td>\n",
       "    </tr>\n",
       "    <tr>\n",
       "      <th>2</th>\n",
       "      <td>7</td>\n",
       "      <td>4</td>\n",
       "      <td>oct</td>\n",
       "      <td>sat</td>\n",
       "      <td>90.6</td>\n",
       "      <td>43.7</td>\n",
       "      <td>686.9</td>\n",
       "      <td>6.7</td>\n",
       "      <td>14.6</td>\n",
       "      <td>33</td>\n",
       "      <td>1.3</td>\n",
       "      <td>0.0</td>\n",
       "      <td>0.00</td>\n",
       "    </tr>\n",
       "    <tr>\n",
       "      <th>3</th>\n",
       "      <td>8</td>\n",
       "      <td>6</td>\n",
       "      <td>mar</td>\n",
       "      <td>fri</td>\n",
       "      <td>91.7</td>\n",
       "      <td>33.3</td>\n",
       "      <td>77.5</td>\n",
       "      <td>9.0</td>\n",
       "      <td>8.3</td>\n",
       "      <td>97</td>\n",
       "      <td>4.0</td>\n",
       "      <td>0.2</td>\n",
       "      <td>0.00</td>\n",
       "    </tr>\n",
       "    <tr>\n",
       "      <th>4</th>\n",
       "      <td>8</td>\n",
       "      <td>6</td>\n",
       "      <td>mar</td>\n",
       "      <td>sun</td>\n",
       "      <td>89.3</td>\n",
       "      <td>51.3</td>\n",
       "      <td>102.2</td>\n",
       "      <td>9.6</td>\n",
       "      <td>11.4</td>\n",
       "      <td>99</td>\n",
       "      <td>1.8</td>\n",
       "      <td>0.0</td>\n",
       "      <td>0.00</td>\n",
       "    </tr>\n",
       "    <tr>\n",
       "      <th>...</th>\n",
       "      <td>...</td>\n",
       "      <td>...</td>\n",
       "      <td>...</td>\n",
       "      <td>...</td>\n",
       "      <td>...</td>\n",
       "      <td>...</td>\n",
       "      <td>...</td>\n",
       "      <td>...</td>\n",
       "      <td>...</td>\n",
       "      <td>...</td>\n",
       "      <td>...</td>\n",
       "      <td>...</td>\n",
       "      <td>...</td>\n",
       "    </tr>\n",
       "    <tr>\n",
       "      <th>512</th>\n",
       "      <td>4</td>\n",
       "      <td>3</td>\n",
       "      <td>aug</td>\n",
       "      <td>sun</td>\n",
       "      <td>81.6</td>\n",
       "      <td>56.7</td>\n",
       "      <td>665.6</td>\n",
       "      <td>1.9</td>\n",
       "      <td>27.8</td>\n",
       "      <td>32</td>\n",
       "      <td>2.7</td>\n",
       "      <td>0.0</td>\n",
       "      <td>6.44</td>\n",
       "    </tr>\n",
       "    <tr>\n",
       "      <th>513</th>\n",
       "      <td>2</td>\n",
       "      <td>4</td>\n",
       "      <td>aug</td>\n",
       "      <td>sun</td>\n",
       "      <td>81.6</td>\n",
       "      <td>56.7</td>\n",
       "      <td>665.6</td>\n",
       "      <td>1.9</td>\n",
       "      <td>21.9</td>\n",
       "      <td>71</td>\n",
       "      <td>5.8</td>\n",
       "      <td>0.0</td>\n",
       "      <td>54.29</td>\n",
       "    </tr>\n",
       "    <tr>\n",
       "      <th>514</th>\n",
       "      <td>7</td>\n",
       "      <td>4</td>\n",
       "      <td>aug</td>\n",
       "      <td>sun</td>\n",
       "      <td>81.6</td>\n",
       "      <td>56.7</td>\n",
       "      <td>665.6</td>\n",
       "      <td>1.9</td>\n",
       "      <td>21.2</td>\n",
       "      <td>70</td>\n",
       "      <td>6.7</td>\n",
       "      <td>0.0</td>\n",
       "      <td>11.16</td>\n",
       "    </tr>\n",
       "    <tr>\n",
       "      <th>515</th>\n",
       "      <td>1</td>\n",
       "      <td>4</td>\n",
       "      <td>aug</td>\n",
       "      <td>sat</td>\n",
       "      <td>94.4</td>\n",
       "      <td>146.0</td>\n",
       "      <td>614.7</td>\n",
       "      <td>11.3</td>\n",
       "      <td>25.6</td>\n",
       "      <td>42</td>\n",
       "      <td>4.0</td>\n",
       "      <td>0.0</td>\n",
       "      <td>0.00</td>\n",
       "    </tr>\n",
       "    <tr>\n",
       "      <th>516</th>\n",
       "      <td>6</td>\n",
       "      <td>3</td>\n",
       "      <td>nov</td>\n",
       "      <td>tue</td>\n",
       "      <td>79.5</td>\n",
       "      <td>3.0</td>\n",
       "      <td>106.7</td>\n",
       "      <td>1.1</td>\n",
       "      <td>11.8</td>\n",
       "      <td>31</td>\n",
       "      <td>4.5</td>\n",
       "      <td>0.0</td>\n",
       "      <td>0.00</td>\n",
       "    </tr>\n",
       "  </tbody>\n",
       "</table>\n",
       "<p>517 rows × 13 columns</p>\n",
       "</div>"
      ],
      "text/plain": [
       "     X  Y month  day  FFMC    DMC     DC   ISI  temp  RH  wind  rain   area\n",
       "0    7  5   mar  fri  86.2   26.2   94.3   5.1   8.2  51   6.7   0.0   0.00\n",
       "1    7  4   oct  tue  90.6   35.4  669.1   6.7  18.0  33   0.9   0.0   0.00\n",
       "2    7  4   oct  sat  90.6   43.7  686.9   6.7  14.6  33   1.3   0.0   0.00\n",
       "3    8  6   mar  fri  91.7   33.3   77.5   9.0   8.3  97   4.0   0.2   0.00\n",
       "4    8  6   mar  sun  89.3   51.3  102.2   9.6  11.4  99   1.8   0.0   0.00\n",
       "..  .. ..   ...  ...   ...    ...    ...   ...   ...  ..   ...   ...    ...\n",
       "512  4  3   aug  sun  81.6   56.7  665.6   1.9  27.8  32   2.7   0.0   6.44\n",
       "513  2  4   aug  sun  81.6   56.7  665.6   1.9  21.9  71   5.8   0.0  54.29\n",
       "514  7  4   aug  sun  81.6   56.7  665.6   1.9  21.2  70   6.7   0.0  11.16\n",
       "515  1  4   aug  sat  94.4  146.0  614.7  11.3  25.6  42   4.0   0.0   0.00\n",
       "516  6  3   nov  tue  79.5    3.0  106.7   1.1  11.8  31   4.5   0.0   0.00\n",
       "\n",
       "[517 rows x 13 columns]"
      ]
     },
     "execution_count": 5,
     "metadata": {},
     "output_type": "execute_result"
    }
   ],
   "source": [
    "# TODO: Using pandas, read the `forestfires.csv` dataset into a variable named `df`.\n",
    "df = \n",
    "df"
   ]
  },
  {
   "cell_type": "markdown",
   "metadata": {},
   "source": [
    "## Visualize the data\n",
    "Adding to the visualization we practiced last week, let's use the data to now visualize the burned areas at any given location in Montesinho park. Luckily, the data provides us with some simple x-y coordinates for every sample in the data. Thus, we can use these x-y coordinates to make a contour graph where brighter colors indicate larger amounts of burned forest area at a given x-y point.\n",
    "\n",
    "In order to create a contour graph we need to create a mesh-grid. This essentially allows us to make a Cartesian coordinate system. This mesh-grid will be required by the `plt.contourf()` function in order to match the x-y coordinates to the total burned forest area at each coordinate point."
   ]
  },
  {
   "cell_type": "markdown",
   "metadata": {},
   "source": [
    "Here we can see the x-y coordinates and the burned forest area for each data sample. Notice, there are duplicates of the x-y coordinates. This means multiple data samples can have the same x-y coordinates. This will be important when calculating the total burned forest area at a given x-y coordinate!"
   ]
  },
  {
   "cell_type": "code",
   "execution_count": 6,
   "metadata": {},
   "outputs": [
    {
     "data": {
      "text/html": [
       "<div>\n",
       "<style scoped>\n",
       "    .dataframe tbody tr th:only-of-type {\n",
       "        vertical-align: middle;\n",
       "    }\n",
       "\n",
       "    .dataframe tbody tr th {\n",
       "        vertical-align: top;\n",
       "    }\n",
       "\n",
       "    .dataframe thead th {\n",
       "        text-align: right;\n",
       "    }\n",
       "</style>\n",
       "<table border=\"1\" class=\"dataframe\">\n",
       "  <thead>\n",
       "    <tr style=\"text-align: right;\">\n",
       "      <th></th>\n",
       "      <th>X</th>\n",
       "      <th>Y</th>\n",
       "      <th>area</th>\n",
       "    </tr>\n",
       "  </thead>\n",
       "  <tbody>\n",
       "    <tr>\n",
       "      <th>0</th>\n",
       "      <td>7</td>\n",
       "      <td>5</td>\n",
       "      <td>0.00</td>\n",
       "    </tr>\n",
       "    <tr>\n",
       "      <th>1</th>\n",
       "      <td>7</td>\n",
       "      <td>4</td>\n",
       "      <td>0.00</td>\n",
       "    </tr>\n",
       "    <tr>\n",
       "      <th>2</th>\n",
       "      <td>7</td>\n",
       "      <td>4</td>\n",
       "      <td>0.00</td>\n",
       "    </tr>\n",
       "    <tr>\n",
       "      <th>3</th>\n",
       "      <td>8</td>\n",
       "      <td>6</td>\n",
       "      <td>0.00</td>\n",
       "    </tr>\n",
       "    <tr>\n",
       "      <th>4</th>\n",
       "      <td>8</td>\n",
       "      <td>6</td>\n",
       "      <td>0.00</td>\n",
       "    </tr>\n",
       "    <tr>\n",
       "      <th>...</th>\n",
       "      <td>...</td>\n",
       "      <td>...</td>\n",
       "      <td>...</td>\n",
       "    </tr>\n",
       "    <tr>\n",
       "      <th>512</th>\n",
       "      <td>4</td>\n",
       "      <td>3</td>\n",
       "      <td>6.44</td>\n",
       "    </tr>\n",
       "    <tr>\n",
       "      <th>513</th>\n",
       "      <td>2</td>\n",
       "      <td>4</td>\n",
       "      <td>54.29</td>\n",
       "    </tr>\n",
       "    <tr>\n",
       "      <th>514</th>\n",
       "      <td>7</td>\n",
       "      <td>4</td>\n",
       "      <td>11.16</td>\n",
       "    </tr>\n",
       "    <tr>\n",
       "      <th>515</th>\n",
       "      <td>1</td>\n",
       "      <td>4</td>\n",
       "      <td>0.00</td>\n",
       "    </tr>\n",
       "    <tr>\n",
       "      <th>516</th>\n",
       "      <td>6</td>\n",
       "      <td>3</td>\n",
       "      <td>0.00</td>\n",
       "    </tr>\n",
       "  </tbody>\n",
       "</table>\n",
       "<p>517 rows × 3 columns</p>\n",
       "</div>"
      ],
      "text/plain": [
       "     X  Y   area\n",
       "0    7  5   0.00\n",
       "1    7  4   0.00\n",
       "2    7  4   0.00\n",
       "3    8  6   0.00\n",
       "4    8  6   0.00\n",
       "..  .. ..    ...\n",
       "512  4  3   6.44\n",
       "513  2  4  54.29\n",
       "514  7  4  11.16\n",
       "515  1  4   0.00\n",
       "516  6  3   0.00\n",
       "\n",
       "[517 rows x 3 columns]"
      ]
     },
     "execution_count": 6,
     "metadata": {},
     "output_type": "execute_result"
    }
   ],
   "source": [
    "df.loc[:, ['X', 'Y', 'area']]"
   ]
  },
  {
   "cell_type": "markdown",
   "metadata": {},
   "source": [
    "### Creating the mesh-grid\n",
    "\n",
    "Here we create a mesh-grid using `np.meshgrid`. Before we do so we have to specify the domain for the x-axis and y-axis. We can generate the x-axis and y-axis domains by using Numpy's `np.arange()` function. The `np.arange()` function will generate a Numpy array object filled with integers up to, but not including, the given 'stop' number."
   ]
  },
  {
   "cell_type": "markdown",
   "metadata": {},
   "source": [
    "To generate the x-axis and y-axis domains we first need to know the maximum and minimum values for the columns 'X' and 'Y'. Otherwise, how would we know where to begin or end the x-axis and y-axis? \n",
    "\n",
    "To find the maximum of 'X' and 'Y' values in the data we use the following code. Here we can see that both max values are 9!"
   ]
  },
  {
   "cell_type": "code",
   "execution_count": 7,
   "metadata": {},
   "outputs": [
    {
     "data": {
      "text/plain": [
       "X    9\n",
       "Y    9\n",
       "dtype: int64"
      ]
     },
     "execution_count": 7,
     "metadata": {},
     "output_type": "execute_result"
    }
   ],
   "source": [
    "df.loc[:, ['X', 'Y']].max(axis=0)"
   ]
  },
  {
   "cell_type": "markdown",
   "metadata": {},
   "source": [
    "Here is the code for finding the minimum values. The minimum values here are 1 and 2!"
   ]
  },
  {
   "cell_type": "code",
   "execution_count": 8,
   "metadata": {},
   "outputs": [
    {
     "data": {
      "text/plain": [
       "X    1\n",
       "Y    2\n",
       "dtype: int64"
      ]
     },
     "execution_count": 8,
     "metadata": {},
     "output_type": "execute_result"
    }
   ],
   "source": [
    "df.loc[:, ['X', 'Y']].min(axis=0)"
   ]
  },
  {
   "cell_type": "markdown",
   "metadata": {},
   "source": [
    "In the below code we set our minimum domain element to 0 `start=0` as 0 is sufficiently low enough for both 'X' and 'Y’ according to the minimums given above. Next, we set our maximum domain for both 'X' and 'Y’ to 10 `stop=11` as 10 is sufficiently high enough according to the maximums."
   ]
  },
  {
   "cell_type": "code",
   "execution_count": 9,
   "metadata": {},
   "outputs": [
    {
     "name": "stdout",
     "output_type": "stream",
     "text": [
      "Domain for the x-axis: [ 0  1  2  3  4  5  6  7  8  9 10]\n",
      "Domain for the y-axis: [ 0  1  2  3  4  5  6  7  8  9 10]\n"
     ]
    }
   ],
   "source": [
    "x_domain, y_doamin = np.arange(start=0, stop=11), np.arange(start=0, stop=11)\n",
    "print(\"Domain for the x-axis: {}\".format(x_domain))\n",
    "print(\"Domain for the y-axis: {}\".format(y_doamin))"
   ]
  },
  {
   "cell_type": "markdown",
   "metadata": {},
   "source": [
    "Now it's time to see what exactly a mesh-grid is! Here, we input both `x_domain` and `y_domain` into `np.meshgrid()` to create a mesh-grid which outputs two more Numpy arrays. The variable `xs` corresponds to the x-axis of the mesh-grid while `ys` corresponds to the y-axis of the mesh-grid. Together these two Numpy arrays make a mesh-grid!"
   ]
  },
  {
   "cell_type": "code",
   "execution_count": 10,
   "metadata": {
    "slideshow": {
     "slide_type": "notes"
    }
   },
   "outputs": [],
   "source": [
    "xs, ys = np.meshgrid(x_domain, y_doamin)"
   ]
  },
  {
   "cell_type": "code",
   "execution_count": 11,
   "metadata": {},
   "outputs": [
    {
     "data": {
      "text/plain": [
       "array([[ 0,  1,  2,  3,  4,  5,  6,  7,  8,  9, 10],\n",
       "       [ 0,  1,  2,  3,  4,  5,  6,  7,  8,  9, 10],\n",
       "       [ 0,  1,  2,  3,  4,  5,  6,  7,  8,  9, 10],\n",
       "       [ 0,  1,  2,  3,  4,  5,  6,  7,  8,  9, 10],\n",
       "       [ 0,  1,  2,  3,  4,  5,  6,  7,  8,  9, 10],\n",
       "       [ 0,  1,  2,  3,  4,  5,  6,  7,  8,  9, 10],\n",
       "       [ 0,  1,  2,  3,  4,  5,  6,  7,  8,  9, 10],\n",
       "       [ 0,  1,  2,  3,  4,  5,  6,  7,  8,  9, 10],\n",
       "       [ 0,  1,  2,  3,  4,  5,  6,  7,  8,  9, 10],\n",
       "       [ 0,  1,  2,  3,  4,  5,  6,  7,  8,  9, 10],\n",
       "       [ 0,  1,  2,  3,  4,  5,  6,  7,  8,  9, 10]])"
      ]
     },
     "execution_count": 11,
     "metadata": {},
     "output_type": "execute_result"
    }
   ],
   "source": [
    "xs"
   ]
  },
  {
   "cell_type": "code",
   "execution_count": 12,
   "metadata": {
    "slideshow": {
     "slide_type": "notes"
    }
   },
   "outputs": [
    {
     "data": {
      "text/plain": [
       "array([[ 0,  0,  0,  0,  0,  0,  0,  0,  0,  0,  0],\n",
       "       [ 1,  1,  1,  1,  1,  1,  1,  1,  1,  1,  1],\n",
       "       [ 2,  2,  2,  2,  2,  2,  2,  2,  2,  2,  2],\n",
       "       [ 3,  3,  3,  3,  3,  3,  3,  3,  3,  3,  3],\n",
       "       [ 4,  4,  4,  4,  4,  4,  4,  4,  4,  4,  4],\n",
       "       [ 5,  5,  5,  5,  5,  5,  5,  5,  5,  5,  5],\n",
       "       [ 6,  6,  6,  6,  6,  6,  6,  6,  6,  6,  6],\n",
       "       [ 7,  7,  7,  7,  7,  7,  7,  7,  7,  7,  7],\n",
       "       [ 8,  8,  8,  8,  8,  8,  8,  8,  8,  8,  8],\n",
       "       [ 9,  9,  9,  9,  9,  9,  9,  9,  9,  9,  9],\n",
       "       [10, 10, 10, 10, 10, 10, 10, 10, 10, 10, 10]])"
      ]
     },
     "execution_count": 12,
     "metadata": {},
     "output_type": "execute_result"
    }
   ],
   "source": [
    "ys"
   ]
  },
  {
   "cell_type": "markdown",
   "metadata": {},
   "source": [
    "### Calculating total burned forest area\n",
    "Now, we need to calculate the totaled burned forest area for each unique x-y coordinate in our dataset. To make our lives easier let's first filter out all the data samples that have 0 burned forest area. In addition, let's go ahead and extract out only the 'X', 'Y', and 'area' columns."
   ]
  },
  {
   "cell_type": "code",
   "execution_count": 13,
   "metadata": {
    "slideshow": {
     "slide_type": "notes"
    }
   },
   "outputs": [
    {
     "data": {
      "text/html": [
       "<div>\n",
       "<style scoped>\n",
       "    .dataframe tbody tr th:only-of-type {\n",
       "        vertical-align: middle;\n",
       "    }\n",
       "\n",
       "    .dataframe tbody tr th {\n",
       "        vertical-align: top;\n",
       "    }\n",
       "\n",
       "    .dataframe thead th {\n",
       "        text-align: right;\n",
       "    }\n",
       "</style>\n",
       "<table border=\"1\" class=\"dataframe\">\n",
       "  <thead>\n",
       "    <tr style=\"text-align: right;\">\n",
       "      <th></th>\n",
       "      <th>X</th>\n",
       "      <th>Y</th>\n",
       "      <th>area</th>\n",
       "    </tr>\n",
       "  </thead>\n",
       "  <tbody>\n",
       "    <tr>\n",
       "      <th>138</th>\n",
       "      <td>9</td>\n",
       "      <td>9</td>\n",
       "      <td>0.36</td>\n",
       "    </tr>\n",
       "    <tr>\n",
       "      <th>139</th>\n",
       "      <td>1</td>\n",
       "      <td>4</td>\n",
       "      <td>0.43</td>\n",
       "    </tr>\n",
       "    <tr>\n",
       "      <th>140</th>\n",
       "      <td>2</td>\n",
       "      <td>5</td>\n",
       "      <td>0.47</td>\n",
       "    </tr>\n",
       "    <tr>\n",
       "      <th>141</th>\n",
       "      <td>1</td>\n",
       "      <td>2</td>\n",
       "      <td>0.55</td>\n",
       "    </tr>\n",
       "    <tr>\n",
       "      <th>142</th>\n",
       "      <td>8</td>\n",
       "      <td>6</td>\n",
       "      <td>0.61</td>\n",
       "    </tr>\n",
       "    <tr>\n",
       "      <th>...</th>\n",
       "      <td>...</td>\n",
       "      <td>...</td>\n",
       "      <td>...</td>\n",
       "    </tr>\n",
       "    <tr>\n",
       "      <th>509</th>\n",
       "      <td>5</td>\n",
       "      <td>4</td>\n",
       "      <td>2.17</td>\n",
       "    </tr>\n",
       "    <tr>\n",
       "      <th>510</th>\n",
       "      <td>6</td>\n",
       "      <td>5</td>\n",
       "      <td>0.43</td>\n",
       "    </tr>\n",
       "    <tr>\n",
       "      <th>512</th>\n",
       "      <td>4</td>\n",
       "      <td>3</td>\n",
       "      <td>6.44</td>\n",
       "    </tr>\n",
       "    <tr>\n",
       "      <th>513</th>\n",
       "      <td>2</td>\n",
       "      <td>4</td>\n",
       "      <td>54.29</td>\n",
       "    </tr>\n",
       "    <tr>\n",
       "      <th>514</th>\n",
       "      <td>7</td>\n",
       "      <td>4</td>\n",
       "      <td>11.16</td>\n",
       "    </tr>\n",
       "  </tbody>\n",
       "</table>\n",
       "<p>270 rows × 3 columns</p>\n",
       "</div>"
      ],
      "text/plain": [
       "     X  Y   area\n",
       "138  9  9   0.36\n",
       "139  1  4   0.43\n",
       "140  2  5   0.47\n",
       "141  1  2   0.55\n",
       "142  8  6   0.61\n",
       "..  .. ..    ...\n",
       "509  5  4   2.17\n",
       "510  6  5   0.43\n",
       "512  4  3   6.44\n",
       "513  2  4  54.29\n",
       "514  7  4  11.16\n",
       "\n",
       "[270 rows x 3 columns]"
      ]
     },
     "execution_count": 13,
     "metadata": {},
     "output_type": "execute_result"
    }
   ],
   "source": [
    "burned = df.loc[df.loc[:, 'area'] > 0, ['X', 'Y', 'area']]\n",
    "burned"
   ]
  },
  {
   "cell_type": "markdown",
   "metadata": {},
   "source": [
    "Finally, we can calculate the total burned forest area for each unique x-y coordinate. To track the total burned forest area we want to map each x-y coordinate to the sum of the burned forest area at a given coordinate. To do so we need to create a total burned forest area Numpy array called `zs`. We can simply reuse the shape from `xs` or `ys` to make sure we cover every possible x-y coordinate point. To find the total burned forest area we iterate through the `burned` DataFrame adding the 'area’ value of each data sample to its corresponding x-y coordinate location in `zs`."
   ]
  },
  {
   "cell_type": "code",
   "execution_count": 14,
   "metadata": {},
   "outputs": [
    {
     "data": {
      "text/plain": [
       "array([[0., 0., 0., 0., 0., 0., 0., 0., 0., 0., 0.],\n",
       "       [0., 0., 0., 0., 0., 0., 0., 0., 0., 0., 0.],\n",
       "       [0., 0., 0., 0., 0., 0., 0., 0., 0., 0., 0.],\n",
       "       [0., 0., 0., 0., 0., 0., 0., 0., 0., 0., 0.],\n",
       "       [0., 0., 0., 0., 0., 0., 0., 0., 0., 0., 0.],\n",
       "       [0., 0., 0., 0., 0., 0., 0., 0., 0., 0., 0.],\n",
       "       [0., 0., 0., 0., 0., 0., 0., 0., 0., 0., 0.],\n",
       "       [0., 0., 0., 0., 0., 0., 0., 0., 0., 0., 0.],\n",
       "       [0., 0., 0., 0., 0., 0., 0., 0., 0., 0., 0.],\n",
       "       [0., 0., 0., 0., 0., 0., 0., 0., 0., 0., 0.],\n",
       "       [0., 0., 0., 0., 0., 0., 0., 0., 0., 0., 0.]])"
      ]
     },
     "execution_count": 14,
     "metadata": {},
     "output_type": "execute_result"
    }
   ],
   "source": [
    "zs = np.zeros(xs.shape)\n",
    "zs"
   ]
  },
  {
   "cell_type": "markdown",
   "metadata": {},
   "source": [
    "**It should be noted when mapping an array to x-y coordiantes the rows of the array correspond to the y-axis and the columns correspond to the x-axis!** It might help you to think about Numpy arrays as inverted coordinate planes, which look like the following image!\n",
    "\n",
    "![inverted](https://support.cognex.com/docs/cvl_900/web/EN/cvl_users_guide/Content/Images/11_6.jpg)"
   ]
  },
  {
   "cell_type": "code",
   "execution_count": 15,
   "metadata": {
    "slideshow": {
     "slide_type": "notes"
    }
   },
   "outputs": [
    {
     "data": {
      "text/plain": [
       "<Figure size 432x288 with 0 Axes>"
      ]
     },
     "metadata": {},
     "output_type": "display_data"
    }
   ],
   "source": [
    "fig = plt.figure()\n",
    "zs = np.zeros(xs.shape)\n",
    "i = 0\n",
    "for _, sample in burned.iterrows():\n",
    "    i+= 1\n",
    "    x, y = int(sample['X']), int(sample['Y'])\n",
    "    # print(\"x-y ({}, {}) = {}\".format(x, y, sample['area']))\n",
    "    zs[y, x] += sample['area']\n"
   ]
  },
  {
   "cell_type": "markdown",
   "metadata": {},
   "source": [
    "Here's what `zs` looks like after calculating the total burned forest area at each of the x-y coordinates."
   ]
  },
  {
   "cell_type": "code",
   "execution_count": 16,
   "metadata": {},
   "outputs": [
    {
     "data": {
      "text/html": [
       "<div>\n",
       "<style scoped>\n",
       "    .dataframe tbody tr th:only-of-type {\n",
       "        vertical-align: middle;\n",
       "    }\n",
       "\n",
       "    .dataframe tbody tr th {\n",
       "        vertical-align: top;\n",
       "    }\n",
       "\n",
       "    .dataframe thead th {\n",
       "        text-align: right;\n",
       "    }\n",
       "</style>\n",
       "<table border=\"1\" class=\"dataframe\">\n",
       "  <thead>\n",
       "    <tr style=\"text-align: right;\">\n",
       "      <th></th>\n",
       "      <th>0</th>\n",
       "      <th>1</th>\n",
       "      <th>2</th>\n",
       "      <th>3</th>\n",
       "      <th>4</th>\n",
       "      <th>5</th>\n",
       "      <th>6</th>\n",
       "      <th>7</th>\n",
       "      <th>8</th>\n",
       "      <th>9</th>\n",
       "      <th>10</th>\n",
       "    </tr>\n",
       "  </thead>\n",
       "  <tbody>\n",
       "    <tr>\n",
       "      <th>0</th>\n",
       "      <td>0.0</td>\n",
       "      <td>0.00</td>\n",
       "      <td>0.00</td>\n",
       "      <td>0.00</td>\n",
       "      <td>0.00</td>\n",
       "      <td>0.00</td>\n",
       "      <td>0.00</td>\n",
       "      <td>0.00</td>\n",
       "      <td>0.00</td>\n",
       "      <td>0.00</td>\n",
       "      <td>0.0</td>\n",
       "    </tr>\n",
       "    <tr>\n",
       "      <th>1</th>\n",
       "      <td>0.0</td>\n",
       "      <td>0.00</td>\n",
       "      <td>0.00</td>\n",
       "      <td>0.00</td>\n",
       "      <td>0.00</td>\n",
       "      <td>0.00</td>\n",
       "      <td>0.00</td>\n",
       "      <td>0.00</td>\n",
       "      <td>0.00</td>\n",
       "      <td>0.00</td>\n",
       "      <td>0.0</td>\n",
       "    </tr>\n",
       "    <tr>\n",
       "      <th>2</th>\n",
       "      <td>0.0</td>\n",
       "      <td>219.94</td>\n",
       "      <td>462.65</td>\n",
       "      <td>0.00</td>\n",
       "      <td>0.00</td>\n",
       "      <td>0.00</td>\n",
       "      <td>0.00</td>\n",
       "      <td>0.00</td>\n",
       "      <td>0.00</td>\n",
       "      <td>0.00</td>\n",
       "      <td>0.0</td>\n",
       "    </tr>\n",
       "    <tr>\n",
       "      <th>3</th>\n",
       "      <td>0.0</td>\n",
       "      <td>157.14</td>\n",
       "      <td>0.00</td>\n",
       "      <td>6.58</td>\n",
       "      <td>172.88</td>\n",
       "      <td>0.00</td>\n",
       "      <td>192.78</td>\n",
       "      <td>27.35</td>\n",
       "      <td>26.31</td>\n",
       "      <td>0.00</td>\n",
       "      <td>0.0</td>\n",
       "    </tr>\n",
       "    <tr>\n",
       "      <th>4</th>\n",
       "      <td>0.0</td>\n",
       "      <td>150.28</td>\n",
       "      <td>143.37</td>\n",
       "      <td>126.35</td>\n",
       "      <td>397.43</td>\n",
       "      <td>73.75</td>\n",
       "      <td>144.47</td>\n",
       "      <td>474.37</td>\n",
       "      <td>12.18</td>\n",
       "      <td>185.61</td>\n",
       "      <td>0.0</td>\n",
       "    </tr>\n",
       "    <tr>\n",
       "      <th>5</th>\n",
       "      <td>0.0</td>\n",
       "      <td>115.47</td>\n",
       "      <td>92.63</td>\n",
       "      <td>2.18</td>\n",
       "      <td>287.01</td>\n",
       "      <td>0.00</td>\n",
       "      <td>1384.05</td>\n",
       "      <td>77.39</td>\n",
       "      <td>2.93</td>\n",
       "      <td>8.16</td>\n",
       "      <td>0.0</td>\n",
       "    </tr>\n",
       "    <tr>\n",
       "      <th>6</th>\n",
       "      <td>0.0</td>\n",
       "      <td>0.00</td>\n",
       "      <td>0.00</td>\n",
       "      <td>0.00</td>\n",
       "      <td>87.73</td>\n",
       "      <td>17.62</td>\n",
       "      <td>8.59</td>\n",
       "      <td>86.45</td>\n",
       "      <td>1265.30</td>\n",
       "      <td>42.87</td>\n",
       "      <td>0.0</td>\n",
       "    </tr>\n",
       "    <tr>\n",
       "      <th>7</th>\n",
       "      <td>0.0</td>\n",
       "      <td>0.00</td>\n",
       "      <td>0.00</td>\n",
       "      <td>0.00</td>\n",
       "      <td>0.00</td>\n",
       "      <td>0.00</td>\n",
       "      <td>0.00</td>\n",
       "      <td>0.00</td>\n",
       "      <td>0.00</td>\n",
       "      <td>0.00</td>\n",
       "      <td>0.0</td>\n",
       "    </tr>\n",
       "    <tr>\n",
       "      <th>8</th>\n",
       "      <td>0.0</td>\n",
       "      <td>0.00</td>\n",
       "      <td>0.00</td>\n",
       "      <td>0.00</td>\n",
       "      <td>0.00</td>\n",
       "      <td>0.00</td>\n",
       "      <td>0.00</td>\n",
       "      <td>0.00</td>\n",
       "      <td>185.76</td>\n",
       "      <td>0.00</td>\n",
       "      <td>0.0</td>\n",
       "    </tr>\n",
       "    <tr>\n",
       "      <th>9</th>\n",
       "      <td>0.0</td>\n",
       "      <td>0.00</td>\n",
       "      <td>0.00</td>\n",
       "      <td>0.00</td>\n",
       "      <td>0.00</td>\n",
       "      <td>0.00</td>\n",
       "      <td>0.00</td>\n",
       "      <td>0.00</td>\n",
       "      <td>0.00</td>\n",
       "      <td>4.47</td>\n",
       "      <td>0.0</td>\n",
       "    </tr>\n",
       "    <tr>\n",
       "      <th>10</th>\n",
       "      <td>0.0</td>\n",
       "      <td>0.00</td>\n",
       "      <td>0.00</td>\n",
       "      <td>0.00</td>\n",
       "      <td>0.00</td>\n",
       "      <td>0.00</td>\n",
       "      <td>0.00</td>\n",
       "      <td>0.00</td>\n",
       "      <td>0.00</td>\n",
       "      <td>0.00</td>\n",
       "      <td>0.0</td>\n",
       "    </tr>\n",
       "  </tbody>\n",
       "</table>\n",
       "</div>"
      ],
      "text/plain": [
       "      0       1       2       3       4      5        6       7        8  \\\n",
       "0   0.0    0.00    0.00    0.00    0.00   0.00     0.00    0.00     0.00   \n",
       "1   0.0    0.00    0.00    0.00    0.00   0.00     0.00    0.00     0.00   \n",
       "2   0.0  219.94  462.65    0.00    0.00   0.00     0.00    0.00     0.00   \n",
       "3   0.0  157.14    0.00    6.58  172.88   0.00   192.78   27.35    26.31   \n",
       "4   0.0  150.28  143.37  126.35  397.43  73.75   144.47  474.37    12.18   \n",
       "5   0.0  115.47   92.63    2.18  287.01   0.00  1384.05   77.39     2.93   \n",
       "6   0.0    0.00    0.00    0.00   87.73  17.62     8.59   86.45  1265.30   \n",
       "7   0.0    0.00    0.00    0.00    0.00   0.00     0.00    0.00     0.00   \n",
       "8   0.0    0.00    0.00    0.00    0.00   0.00     0.00    0.00   185.76   \n",
       "9   0.0    0.00    0.00    0.00    0.00   0.00     0.00    0.00     0.00   \n",
       "10  0.0    0.00    0.00    0.00    0.00   0.00     0.00    0.00     0.00   \n",
       "\n",
       "         9   10  \n",
       "0     0.00  0.0  \n",
       "1     0.00  0.0  \n",
       "2     0.00  0.0  \n",
       "3     0.00  0.0  \n",
       "4   185.61  0.0  \n",
       "5     8.16  0.0  \n",
       "6    42.87  0.0  \n",
       "7     0.00  0.0  \n",
       "8     0.00  0.0  \n",
       "9     4.47  0.0  \n",
       "10    0.00  0.0  "
      ]
     },
     "execution_count": 16,
     "metadata": {},
     "output_type": "execute_result"
    }
   ],
   "source": [
    "pd.DataFrame(zs)"
   ]
  },
  {
   "cell_type": "markdown",
   "metadata": {},
   "source": [
    "Now comes plotting. We can use `plt.contourf` function to plot the burned forest area at a given location. Here, brighter colors correspond to larger amounts of forest area burned.\n",
    "\n",
    "Notice, that the `plt.contourf` successfully plotted our data in a normal coordinate plane even though our mesh-grid and `zs` were structured as inverted coordinate grids. We can thank Matplotlib for automatically converting our inverted plane, given via the Numpy arrays, to a normal plane!\n",
    "\n",
    "If you are confused by anything up to this point please raise your hand and ask, send us an email, or create on post on Piazza! This goes for anything you encounter in the labs as well!"
   ]
  },
  {
   "cell_type": "code",
   "execution_count": 17,
   "metadata": {},
   "outputs": [
    {
     "data": {
      "image/png": "[encoded data removed]",
      "text/plain": [
       "<Figure size 432x288 with 2 Axes>"
      ]
     },
     "metadata": {
      "needs_background": "light"
     },
     "output_type": "display_data"
    }
   ],
   "source": [
    "plt.contourf(xs, ys, zs, alpha=0.7, cmap=plt.cm.inferno,)\n",
    "plt.colorbar()\n",
    "plt.grid(c='k', ls='-', alpha=0.3)"
   ]
  },
  {
   "cell_type": "markdown",
   "metadata": {},
   "source": [
    "Notice how all the bright areas on the contour plot have extremely high values (check  out the output of `pd.DataFrame(zs)` above for the exact numbers). This makes many of the other x-y coordinate points that have lower values for the total burned forest area harder to see. It's as if our data was skewed! If only there was a trick to deal with skewed data...\n",
    "\n",
    "Right, there is a way! Remember from last week we took the log of our target 'area' to help alleviate its “skewedness”. Let's do the same thing again but now apply the log to `zs` our total burned forest area!"
   ]
  },
  {
   "cell_type": "markdown",
   "metadata": {},
   "source": [
    "\n",
    "### TODO\n",
    "\n",
    "- Take the log of `zs` storing it in a new variable `log_zs`\n",
    "    - Hint: Don't forget you can't calculate log(0), try adding one to EVERY sample! If you only add 1 to  certain samples this biases the data!"
   ]
  },
  {
   "cell_type": "code",
   "execution_count": 20,
   "metadata": {},
   "outputs": [],
   "source": [
    "# TODO: Take the log of zs storing it in a new variable log_zs\n",
    "log_zs ="
   ]
  },
  {
   "cell_type": "markdown",
   "metadata": {},
   "source": [
    "Now run the following code to re-plot the contour plot with the logged values. Check out how much more colorful the graph is! This means we can see more smaller values for the total burned forest area than we could before."
   ]
  },
  {
   "cell_type": "code",
   "execution_count": 21,
   "metadata": {},
   "outputs": [
    {
     "data": {
      "image/png": "[encoded data removed]",
      "text/plain": [
       "<Figure size 432x288 with 2 Axes>"
      ]
     },
     "metadata": {
      "needs_background": "light"
     },
     "output_type": "display_data"
    }
   ],
   "source": [
    "plt.contourf(xs, ys, log_zs, alpha=0.7, cmap=plt.cm.inferno)\n",
    "plt.colorbar()\n",
    "plt.grid(c='k', ls='-', alpha=0.3)"
   ]
  },
  {
   "cell_type": "markdown",
   "metadata": {},
   "source": [
    "## Preprocessing the data\n",
    "Before we can begin applying least squares our data needs to pass through some preprocessing steps. "
   ]
  },
  {
   "cell_type": "markdown",
   "metadata": {},
   "source": [
    "### Splitting data into input features and targets\n",
    "Our first preprocessing step is to split our data into their given variables. `X` will be used for the input features, `T` for target labels, and `N` for the total number of samples in our data.\n"
   ]
  },
  {
   "cell_type": "markdown",
   "metadata": {},
   "source": [
    "### TODO\n",
    "\n",
    "* Assign `T` to the target column 'area'\n",
    "* Assign `X` to all the input features, excluding the target column `area`\n",
    "* Assign `N` to the total number of samples in our dataset"
   ]
  },
  {
   "cell_type": "code",
   "execution_count": 22,
   "metadata": {
    "slideshow": {
     "slide_type": "notes"
    }
   },
   "outputs": [],
   "source": [
    "# TODO: Assign the three X, T, and N variables with proper values.\n",
    "X = \n",
    "T = \n",
    "N = "
   ]
  },
  {
   "cell_type": "markdown",
   "metadata": {},
   "source": [
    "### Dealing with strings\n",
    "Remember the forest fire data has strings for the 'month' and 'day' columns. Thus, we must convert these columns to numerical values like we did last week.\n",
    "\n",
    "### TODO\n",
    "\n",
    "- Convert the string values in columns 'month' and 'day' to integers like we did last week.\n",
    "    - Hint: Remember one way to do so is to use the Pandas DataFrame `.apply()` method in conjunction with a map and a function or lambda!"
   ]
  },
  {
   "cell_type": "code",
   "execution_count": 23,
   "metadata": {},
   "outputs": [],
   "source": [
    "monthdic = {'jan': 1, 'feb':2, 'mar':3, 'apr':4, 'may':5, 'jun':6, \n",
    "            'jul': 7, 'aug':8, 'sep':9, 'oct':10, 'nov': 11, 'dec': 12}\n",
    "daydic = {'mon': 1, 'tue':2, 'wed':3, 'thu':4, 'fri':5, 'sat':6, 'sun':7 }\n",
    "\n",
    "#TODO: Convert the string values in columns 'month' and 'day' to integers like we did last week.\n",
    "X['month'] = \n",
    "X['day'] = "
   ]
  },
  {
   "cell_type": "code",
   "execution_count": 24,
   "metadata": {},
   "outputs": [],
   "source": [
    "# Convert to numpy arrays\n",
    "X = X.values\n",
    "T = T.values"
   ]
  },
  {
   "cell_type": "markdown",
   "metadata": {},
   "source": [
    "### Alleviating a heavy tailed distribution\n",
    "Once again it's time to fix our skewed target data `T` by taking the log of all the samples in `T`.\n",
    "\n",
    "### TODO\n",
    "- Take the log of `T` storing it in a new variable `Tlog`\n",
    "    - Don't forget you can't calculate log(0), try adding one to EVERY sample! If you only add 1 to certain samples this biases the data!"
   ]
  },
  {
   "cell_type": "code",
   "execution_count": 27,
   "metadata": {},
   "outputs": [],
   "source": [
    "# TODO: Take the log of T storing it in a new variable Tlog\n",
    "Tlog = "
   ]
  },
  {
   "cell_type": "markdown",
   "metadata": {},
   "source": [
    "### Adding the bias term to our data\n",
    "Linear models embed a bias as one of the weights by adding 1's to the input `X`. The bias column allows for the least squares algorithm, and others, to create a solution that is not restricted to passing through the origin! Instead, the bias allows the soluition to shift the line of best fit up and down the Y-axis.\n",
    "\n",
    "Think of a linear function $y = mx$ or more concretely an equation like $y = 5x$. This linear function is restricted to passing through the origin thus it can be harder to fit data. Now consider an affine function $y = mx + b$ or more concretely an equation like $y = 5x + 1$. This new affine function allows us to adjust the point at which our line of best fit intersects the y-axis (we are no longer confined to the origin). Essentially, adding the bias term is allowing for more flexibility in our models.\n",
    "\n",
    "![](https://qph.fs.quoracdn.net/main-qimg-c0bb76e8e57e9a33170c45265eadb213)"
   ]
  },
  {
   "cell_type": "markdown",
   "metadata": {},
   "source": [
    "### TODO\n",
    "* Add the bias term, a vector of 1s, to the first column of the `X` and store the result in a new variable called `X1`.\n",
    "    * Hint: To generate a vector of ones try using Numpy's `np.ones` function\n",
    "    * Hint: Try using Numpy's [`np.hstack()`](https://docs.scipy.org/doc/numpy/reference/generated/numpy.hstack.html) function to stack a **list** of arrays column wise."
   ]
  },
  {
   "cell_type": "code",
   "execution_count": 25,
   "metadata": {
    "slideshow": {
     "slide_type": "notes"
    }
   },
   "outputs": [
    {
     "data": {
      "text/plain": [
       "array([[ 1. ,  7. ,  5. , ..., 51. ,  6.7,  0. ],\n",
       "       [ 1. ,  7. ,  4. , ..., 33. ,  0.9,  0. ],\n",
       "       [ 1. ,  7. ,  4. , ..., 33. ,  1.3,  0. ],\n",
       "       ...,\n",
       "       [ 1. ,  7. ,  4. , ..., 70. ,  6.7,  0. ],\n",
       "       [ 1. ,  1. ,  4. , ..., 42. ,  4. ,  0. ],\n",
       "       [ 1. ,  6. ,  3. , ..., 31. ,  4.5,  0. ]])"
      ]
     },
     "execution_count": 25,
     "metadata": {},
     "output_type": "execute_result"
    }
   ],
   "source": [
    "# TODO: Add the bias term to the first column of the `X` and store the result in a new variable called `X1`\n",
    "X1 =\n",
    "X1"
   ]
  },
  {
   "cell_type": "markdown",
   "metadata": {},
   "source": [
    "# Applying Least Squares\n",
    "Now it's time to apply least squares to our data in an attempt to develop a model for predicting burned forest area! Recall that the least squares formula is used to generate weights $w$ which can then be used for making predictions given new data. The least squares  formula is given below where the symbol $\\cdot$ corresponds to the dot product.\n",
    "\n",
    "$$\n",
    "w = (X^T \\cdot X)^{-1} \\cdot X^T \\cdot T\n",
    "$$\n",
    "\n",
    "A quick note on Numpy symbol syntax regarding the dot product and element-wise multiplication. If you didn't know, you can use short hand symbols when trying to apply the dot product or element-wise multiplication to two Numpy arrays. The 'at' symbol `@` corresponds to the dot product or `np.dot()` and the 'astrick' `*` corresponds to element-wise multiplication.\n",
    "\n",
    "## References\n",
    "If you want to gain a better understanding of what least squares is doing check out the following references.\n",
    "* [ Khan Academy](https://www.youtube.com/watch?v=MC7l96tW8V8)\n",
    "* [Geometric view](https://medium.com/@andrew.chamberlain/the-linear-algebra-view-of-least-squares-regression-f67044b7f39b)\n",
    "\n",
    "\n",
    "### TODO\n",
    "\n",
    "* Apply least squares solution storing the output in the variable `w`\n",
    "    * Hint: Use Numpy's `@` symbol or `np.dot` to compute the dot products.\n",
    "    * Hint: Try using Numpy's [`linalg.pinv()`](https://docs.scipy.org/doc/numpy/reference/generated/numpy.linalg.pinv.html) to calculate the pseudo inverse"
   ]
  },
  {
   "cell_type": "code",
   "execution_count": 28,
   "metadata": {
    "slideshow": {
     "slide_type": "notes"
    }
   },
   "outputs": [],
   "source": [
    "# TODO: Apply the least squares solution storing the output in the variable w\n",
    "w = "
   ]
  },
  {
   "cell_type": "markdown",
   "metadata": {},
   "source": [
    "\n",
    "### TODO\n",
    "Now, Use the learned weights `w` to make predictions for the inputs `X1`. \n",
    "\n",
    "* Hint: Take the dot product of the `X1` matrix and our learned weights `w` to calculate our predictions $Y = X1 \\cdot w$"
   ]
  },
  {
   "cell_type": "code",
   "execution_count": 29,
   "metadata": {
    "slideshow": {
     "slide_type": "notes"
    }
   },
   "outputs": [],
   "source": [
    "# TODO: Calculate the predictions\n",
    "Y = "
   ]
  },
  {
   "cell_type": "markdown",
   "metadata": {},
   "source": [
    "\n",
    "### TODO\n",
    "\n",
    "Now check the accuracy by computing RMSE step-by-step. \n",
    "\n",
    "1. Calculate the error, i.e. difference in `Tlog` and `Y`  $(Tlog - Y)$\n",
    "2. Calculate the squared difference in `Tlog` and `Y`  $(Tlog - Y)^2$\n",
    "3. Calculate MSE or the mean squared error $\\frac{1}{N}\\sum(Tlog - Y)^2$\n",
    "4. Calculate RMSE or the root mean squared error $\\sqrt{\\frac{1}{N}\\sum(Tlog - Y)^2}$"
   ]
  },
  {
   "cell_type": "code",
   "execution_count": 33,
   "metadata": {
    "slideshow": {
     "slide_type": "notes"
    }
   },
   "outputs": [
    {
     "data": {
      "text/plain": [
       "array([-9.83710145e-01, -1.17337675e+00, -1.20468948e+00, -6.62126038e-01,\n",
       "       -5.36517929e-01, -1.39881263e+00, -1.39095028e+00, -9.16238885e-01,\n",
       "       -1.34829409e+00, -1.32630278e+00, -1.42799699e+00, -8.71468247e-01,\n",
       "       -1.10886089e+00, -1.21894482e+00, -1.44973973e+00, -1.28358032e+00,\n",
       "       -9.82795114e-01, -1.43146508e+00, -9.10328725e-01, -1.01678326e+00,\n",
       "       -1.24452716e+00, -9.96311947e-01, -2.74615833e-01, -1.49844740e+00,\n",
       "       -1.24070091e+00, -1.28475110e+00, -1.40081735e+00, -1.17198201e+00,\n",
       "       -1.42257899e+00, -1.36739108e+00, -1.13092152e+00, -1.18254112e+00,\n",
       "       -1.10650226e+00, -1.16398686e+00, -1.08067163e+00, -1.10831797e+00,\n",
       "       -1.40413367e+00, -1.24196105e+00, -1.40998675e+00, -7.50319555e-01,\n",
       "       -1.22554067e+00, -1.21377324e+00, -8.62136405e-01, -1.06805114e+00,\n",
       "       -9.64698295e-01, -1.09389509e+00, -1.09017434e+00, -1.05145719e+00,\n",
       "       -6.93732900e-01, -8.72851759e-01, -1.16677330e+00, -1.08359007e+00,\n",
       "       -1.09074974e+00, -1.09074974e+00, -1.07055703e+00, -1.24095323e+00,\n",
       "       -1.03905463e+00, -1.04894130e+00, -6.93261293e-01, -3.42710527e-01,\n",
       "       -7.68609003e-01, -6.69791367e-01, -1.22341162e+00, -1.02756534e+00,\n",
       "       -1.04055927e+00, -1.04998333e+00, -1.13219349e+00, -1.17595851e+00,\n",
       "       -1.22779173e+00, -8.67304587e-01, -9.53358161e-01, -9.32453823e-01,\n",
       "       -1.00736200e+00, -1.20601615e+00, -1.09912752e+00, -5.24088263e-01,\n",
       "       -8.16893966e-01, -4.62202252e-01, -7.71467122e-01, -1.35850953e+00,\n",
       "       -1.19495353e+00, -8.88907731e-01, -7.12274025e-01, -6.85186946e-01,\n",
       "       -9.63049246e-01, -1.03202408e+00, -1.08509384e+00, -1.03385684e+00,\n",
       "       -1.18653360e+00, -1.02176902e+00, -1.14759085e+00, -1.13002972e+00,\n",
       "       -1.42785258e+00, -1.38107349e+00, -1.30783053e+00, -9.56967887e-01,\n",
       "       -5.15247719e-01, -9.89106445e-01, -9.15088472e-01, -1.22792020e+00,\n",
       "       -1.22792020e+00, -1.05511356e+00, -7.80535598e-01, -1.27005155e+00,\n",
       "       -2.10900667e-01, -9.45619234e-01, -8.06257563e-01, -1.13630280e+00,\n",
       "       -1.10747962e+00, -1.10552238e+00, -9.63125303e-01, -8.71203645e-01,\n",
       "       -1.18809724e+00, -9.22232012e-01, -1.06938165e+00, -9.91030611e-01,\n",
       "       -9.12600775e-01, -8.70829839e-01, -7.63964411e-01, -1.16141158e+00,\n",
       "       -7.72920850e-01, -1.13676228e+00, -1.30859641e+00, -1.06755957e+00,\n",
       "       -9.55680966e-01, -1.31915179e+00, -5.94459369e-01, -1.13332770e+00,\n",
       "       -1.13781596e+00, -9.32038729e-01, -5.90367721e-01, -7.65328208e-01,\n",
       "       -7.60902729e-01, -8.17609643e-01, -7.33226543e-01, -9.40687898e-01,\n",
       "       -9.64144787e-01, -9.99520769e-01, -1.04806376e+00, -6.78291064e-01,\n",
       "       -6.57218011e-01, -6.39109071e-01, -1.05562382e+00, -5.50167552e-01,\n",
       "       -5.96403244e-01, -7.58266862e-01, -2.39040299e-01, -7.54909576e-01,\n",
       "       -1.78780505e-01, -4.32975966e-01, -3.55638688e-01, -5.53371342e-01,\n",
       "       -8.38741634e-02, -1.26673427e-01, -2.89912565e-01,  1.15222574e-01,\n",
       "       -2.38509887e-01,  6.21782985e-02, -1.17181783e-02, -4.11276156e-01,\n",
       "        8.47378430e-02, -2.05243612e-01, -1.17386751e-01, -1.26600244e-01,\n",
       "       -6.33797666e-02,  3.65544169e-01,  2.96597475e-01,  5.97630471e-02,\n",
       "        1.23656760e-01,  3.18894858e-02,  1.11150528e-01,  1.10170074e-01,\n",
       "       -8.14040880e-02,  2.82316105e-01,  7.77051101e-01,  7.01420639e-01,\n",
       "        6.76955431e-01,  7.72788830e-01,  8.87895389e-01,  5.63869519e-01,\n",
       "        4.93609780e-01,  4.03811399e-01,  1.41107032e+00,  8.49963704e-01,\n",
       "        7.51988338e-01,  1.01878537e+00,  1.08389717e+00,  1.11247489e+00,\n",
       "        1.43938880e+00,  1.33273389e+00,  1.45495406e+00,  1.16369764e+00,\n",
       "        1.35296389e+00,  1.03910770e+00,  1.47861156e+00,  1.29141650e+00,\n",
       "        1.43146095e+00,  1.33395637e+00,  1.29237340e+00,  1.44607102e+00,\n",
       "        1.47323072e+00,  1.76735333e+00,  2.02574417e+00,  1.32107132e+00,\n",
       "        1.95621764e+00,  1.61280310e+00,  1.69104030e+00,  1.61429042e+00,\n",
       "        1.61286647e+00,  1.99153467e+00,  1.98619305e+00,  2.45911891e+00,\n",
       "        2.18861596e+00,  2.34270107e+00,  2.46323051e+00,  2.46323051e+00,\n",
       "        2.41832169e+00,  2.51984669e+00,  2.35046879e+00,  2.60747004e+00,\n",
       "        2.34014688e+00,  2.60659964e+00,  2.75948911e+00,  2.49327319e+00,\n",
       "        2.49716697e+00,  2.54647024e+00,  2.74240499e+00,  2.71102151e+00,\n",
       "        2.83175661e+00,  3.00276119e+00,  3.12828644e+00,  3.35638864e+00,\n",
       "        3.41325570e+00,  3.26207339e+00,  3.80574045e+00,  3.83412731e+00,\n",
       "        4.30515220e+00,  4.35642624e+00,  5.56959329e+00, -8.77283053e-01,\n",
       "       -9.82958647e-01, -1.05442832e+00,  1.52793683e+00, -1.36472434e+00,\n",
       "        2.03286298e-01, -6.51549033e-01, -1.15181872e+00, -3.07741077e-01,\n",
       "       -1.25320929e+00,  4.35197661e-01, -7.57438000e-01, -9.94583978e-01,\n",
       "       -9.44617329e-01, -3.39168510e-01,  1.17107053e+00, -9.17569406e-01,\n",
       "        9.64559474e-01, -5.47552959e-01, -7.66445985e-01, -2.23804482e-01,\n",
       "        1.26246474e+00,  3.67207640e-01,  6.18118084e-01, -3.41861138e-01,\n",
       "        1.02763505e+00, -6.02382282e-01, -6.84137354e-01, -9.71387384e-01,\n",
       "       -9.58165591e-01,  8.10539725e-01, -4.04723214e-01,  1.19555030e+00,\n",
       "        5.11122552e-01,  3.38916018e-01,  4.10931382e-01,  1.87394775e-02,\n",
       "        7.64676351e-01,  3.32907797e-01,  9.64961151e-01,  2.04927929e-01,\n",
       "        5.50815479e-01,  9.93769140e-01, -3.49671495e-01,  1.41157004e-01,\n",
       "        2.38502663e+00, -1.36573241e+00, -1.32901016e+00, -1.15471222e+00,\n",
       "       -1.18944364e+00, -1.19855384e+00, -8.47027387e-01,  9.95721988e-01,\n",
       "        2.44043385e-01,  2.88145886e+00,  9.04323825e-01, -1.12470861e+00,\n",
       "       -4.71600033e-01, -1.23132267e+00, -1.27481650e+00, -9.31317466e-01,\n",
       "       -1.34663398e+00,  2.03425290e-01, -1.25806386e+00, -1.25806386e+00,\n",
       "       -1.01398690e+00, -8.91099794e-01, -9.69309655e-01,  6.58118558e-01,\n",
       "       -8.27095987e-01, -9.90543798e-01, -1.23523447e+00,  1.59294352e+00,\n",
       "       -8.64414068e-01, -1.30496683e+00, -2.49084129e-03, -1.02763073e+00,\n",
       "       -1.25422582e+00,  3.56376404e-01, -1.17276473e+00,  3.24849817e-01,\n",
       "        2.15132024e+00,  1.07984655e+00, -5.39055024e-01,  1.94129461e-01,\n",
       "        7.80783040e-01, -1.02193549e+00, -1.19158404e+00, -1.13892860e+00,\n",
       "       -1.09236811e+00,  2.67836294e-01,  9.17098199e-01,  1.48451452e+00,\n",
       "        1.52262601e+00,  3.46456107e-01, -1.06082062e+00, -7.32148347e-01,\n",
       "       -1.12703104e+00,  2.88910771e+00,  9.08127026e-01, -7.40497983e-03,\n",
       "        6.82571542e-01, -1.10583362e+00, -1.06907183e+00, -5.60284423e-02,\n",
       "        8.95335706e-01,  9.99360242e-01,  2.48248934e+00, -8.77490398e-01,\n",
       "       -9.72861234e-01,  2.74823219e-02,  6.72197510e-01,  9.96182094e-01,\n",
       "       -6.48715073e-02, -9.83672071e-02,  8.92014927e-01,  1.48783334e+00,\n",
       "       -3.40135731e-01, -1.03661647e+00, -1.07957196e+00,  1.36373434e+00,\n",
       "       -2.88968397e-01,  5.70778153e-01, -4.39456755e-01,  4.27608949e-01,\n",
       "        7.28788974e-01,  1.90993848e+00, -1.97867997e-02, -9.77462226e-01,\n",
       "        1.42928912e+00, -1.48669496e+00,  8.74125026e-01, -9.80327258e-01,\n",
       "       -9.26292794e-01, -1.13327992e+00,  1.65683535e+00,  2.56599698e+00,\n",
       "       -1.28205853e+00,  4.02747160e+00, -8.94430653e-01,  3.63194689e-01,\n",
       "        8.91904548e-01,  1.55685759e+00,  7.16699143e-01,  2.37607345e+00,\n",
       "        1.08027873e+00,  1.71496105e+00,  2.23317864e+00, -8.62545818e-01,\n",
       "        2.08082499e+00, -1.35426265e+00,  1.69035028e+00,  2.24506388e+00,\n",
       "        2.91756043e+00, -9.17748847e-01, -4.43832745e-01,  3.52508338e+00,\n",
       "        5.12063251e-01,  1.12413525e-01, -1.22125575e+00, -1.23211440e+00,\n",
       "        9.82731783e-01,  7.44688333e-01, -1.48886879e+00, -1.47683641e+00,\n",
       "        9.26496313e-01, -1.18553089e+00,  7.52111313e-02, -6.69910290e-01,\n",
       "        7.93362217e-01, -1.04168057e+00, -6.97038262e-01,  7.06939545e-01,\n",
       "       -4.24569326e-01, -1.50121104e+00, -1.31808757e+00,  5.11582590e+00,\n",
       "        8.76456370e-01, -1.00030248e+00, -1.10241987e-01,  9.09492723e-02,\n",
       "        3.67350399e+00, -1.17240598e+00,  5.09814744e-01, -4.15139902e-01,\n",
       "        2.30523710e-01, -1.09100833e+00, -1.34141606e+00,  4.22440126e-02,\n",
       "       -1.21933178e+00,  1.18412409e-01, -1.53261769e+00,  8.10685845e-01,\n",
       "       -1.53190214e+00,  1.64188667e+00, -1.19185535e+00, -1.04431046e+00,\n",
       "       -9.19676073e-01, -1.17013106e+00,  7.98497559e-01, -5.74761456e-01,\n",
       "       -1.36581180e+00, -5.93899908e-01,  5.47129835e-01, -8.96303043e-01,\n",
       "        1.15751468e+00, -1.45339106e+00, -1.17083302e+00, -9.18640483e-01,\n",
       "       -1.26652279e+00, -1.42895186e+00,  8.77124366e-01,  1.61233853e+00,\n",
       "       -1.29465258e+00, -1.20045850e+00, -1.15656744e+00, -7.61270812e-01,\n",
       "       -1.07690534e+00,  3.29797916e+00,  3.05267802e-02, -4.19317932e-01,\n",
       "       -1.17845055e+00, -1.43272862e+00,  1.80185278e-01,  1.20862141e+00,\n",
       "        5.24051960e-01,  1.73598295e+00,  5.38505035e-01,  1.08264233e+00,\n",
       "        1.14940782e+00,  2.84303781e+00, -1.08859263e+00,  2.52010832e+00,\n",
       "       -1.79627293e-01,  2.99867305e+00,  1.30847983e+00,  2.59024972e-01,\n",
       "       -7.77919021e-02,  1.04258096e+00,  1.42821285e-01,  4.32080183e+00,\n",
       "       -7.59609100e-02, -1.22809087e+00, -3.62940652e-01, -1.48881658e+00,\n",
       "        2.13401329e+00,  2.25892106e-01, -7.15560559e-02,  1.78729623e+00,\n",
       "        2.81412814e+00, -7.59828086e-01, -1.07922651e+00, -1.29845464e+00,\n",
       "       -1.08883143e+00,  2.61430358e+00,  8.86574460e-01, -1.01115225e+00,\n",
       "        2.17418418e-01,  1.66962107e+00,  2.47710931e+00,  7.05512956e-01,\n",
       "       -1.27933791e+00, -1.23803333e+00, -1.05418992e+00,  1.84401675e-01,\n",
       "        2.93787166e+00,  1.04856832e+00, -1.11759528e+00, -1.06352361e+00,\n",
       "       -1.02350914e+00, -2.26255982e-01, -8.34386380e-01, -1.24294819e+00,\n",
       "        9.17861166e-01,  3.03801846e+00,  1.25969326e+00, -1.07361237e+00,\n",
       "       -2.13718373e+00])"
      ]
     },
     "execution_count": 33,
     "metadata": {},
     "output_type": "execute_result"
    }
   ],
   "source": [
    "# TODO: Calculate the error, i.e. difference in Tlog and Y \n",
    "E = \n",
    "E"
   ]
  },
  {
   "cell_type": "code",
   "execution_count": 34,
   "metadata": {
    "slideshow": {
     "slide_type": "notes"
    }
   },
   "outputs": [
    {
     "data": {
      "text/plain": [
       "array([9.67685650e-01, 1.37681301e+00, 1.45127674e+00, 4.38410891e-01,\n",
       "       2.87851488e-01, 1.95667677e+00, 1.93474268e+00, 8.39493694e-01,\n",
       "       1.81789696e+00, 1.75907907e+00, 2.03917541e+00, 7.59456906e-01,\n",
       "       1.22957247e+00, 1.48582648e+00, 2.10174529e+00, 1.64757843e+00,\n",
       "       9.65886237e-01, 2.04909227e+00, 8.28698388e-01, 1.03384819e+00,\n",
       "       1.54884786e+00, 9.92637497e-01, 7.54138555e-02, 2.24534462e+00,\n",
       "       1.53933874e+00, 1.65058538e+00, 1.96228925e+00, 1.37354184e+00,\n",
       "       2.02373099e+00, 1.86975837e+00, 1.27898348e+00, 1.39840350e+00,\n",
       "       1.22434724e+00, 1.35486542e+00, 1.16785118e+00, 1.22836872e+00,\n",
       "       1.97159137e+00, 1.54246724e+00, 1.98806263e+00, 5.62979435e-01,\n",
       "       1.50194994e+00, 1.47324548e+00, 7.43279181e-01, 1.14073325e+00,\n",
       "       9.30642801e-01, 1.19660646e+00, 1.18848008e+00, 1.10556222e+00,\n",
       "       4.81265336e-01, 7.61870194e-01, 1.36135994e+00, 1.17416745e+00,\n",
       "       1.18973499e+00, 1.18973499e+00, 1.14609235e+00, 1.53996493e+00,\n",
       "       1.07963453e+00, 1.10027785e+00, 4.80611220e-01, 1.17450506e-01,\n",
       "       5.90759799e-01, 4.48620475e-01, 1.49673598e+00, 1.05589052e+00,\n",
       "       1.08276360e+00, 1.10246499e+00, 1.28186209e+00, 1.38287843e+00,\n",
       "       1.50747254e+00, 7.52217247e-01, 9.08891784e-01, 8.69470132e-01,\n",
       "       1.01477820e+00, 1.45447494e+00, 1.20808131e+00, 2.74668507e-01,\n",
       "       6.67315751e-01, 2.13630922e-01, 5.95161520e-01, 1.84554815e+00,\n",
       "       1.42791395e+00, 7.90156954e-01, 5.07334286e-01, 4.69481151e-01,\n",
       "       9.27463850e-01, 1.06507369e+00, 1.17742864e+00, 1.06885996e+00,\n",
       "       1.40786199e+00, 1.04401193e+00, 1.31696476e+00, 1.27696718e+00,\n",
       "       2.03876298e+00, 1.90736399e+00, 1.71042071e+00, 9.15787537e-01,\n",
       "       2.65480211e-01, 9.78331560e-01, 8.37386911e-01, 1.50778801e+00,\n",
       "       1.50778801e+00, 1.11326462e+00, 6.09235820e-01, 1.61303094e+00,\n",
       "       4.44790912e-02, 8.94195735e-01, 6.50051258e-01, 1.29118406e+00,\n",
       "       1.22651111e+00, 1.22217973e+00, 9.27610350e-01, 7.58995790e-01,\n",
       "       1.41157505e+00, 8.50511883e-01, 1.14357710e+00, 9.82141672e-01,\n",
       "       8.32840175e-01, 7.58344609e-01, 5.83641621e-01, 1.34887685e+00,\n",
       "       5.97406640e-01, 1.29222847e+00, 1.71242457e+00, 1.13968343e+00,\n",
       "       9.13326108e-01, 1.74016145e+00, 3.53381942e-01, 1.28443167e+00,\n",
       "       1.29462517e+00, 8.68696193e-01, 3.48534046e-01, 5.85727267e-01,\n",
       "       5.78972963e-01, 6.68485528e-01, 5.37621163e-01, 8.84893722e-01,\n",
       "       9.29575170e-01, 9.99041767e-01, 1.09843764e+00, 4.60078767e-01,\n",
       "       4.31935514e-01, 4.08460404e-01, 1.11434166e+00, 3.02684335e-01,\n",
       "       3.55696829e-01, 5.74968634e-01, 5.71402646e-02, 5.69888468e-01,\n",
       "       3.19624690e-02, 1.87468187e-01, 1.26478877e-01, 3.06219842e-01,\n",
       "       7.03487528e-03, 1.60461571e-02, 8.40492952e-02, 1.32762417e-02,\n",
       "       5.68869664e-02, 3.86614080e-03, 1.37315703e-04, 1.69148077e-01,\n",
       "       7.18050204e-03, 4.21249404e-02, 1.37796494e-02, 1.60276217e-02,\n",
       "       4.01699481e-03, 1.33622539e-01, 8.79700624e-02, 3.57162180e-03,\n",
       "       1.52909942e-02, 1.01693930e-03, 1.23544398e-02, 1.21374452e-02,\n",
       "       6.62662555e-03, 7.97023833e-02, 6.03808413e-01, 4.91990912e-01,\n",
       "       4.58268655e-01, 5.97202575e-01, 7.88358221e-01, 3.17948834e-01,\n",
       "       2.43650615e-01, 1.63063646e-01, 1.99111945e+00, 7.22438297e-01,\n",
       "       5.65486461e-01, 1.03792364e+00, 1.17483307e+00, 1.23760039e+00,\n",
       "       2.07184011e+00, 1.77617962e+00, 2.11689131e+00, 1.35419221e+00,\n",
       "       1.83051128e+00, 1.07974481e+00, 2.18629213e+00, 1.66775657e+00,\n",
       "       2.04908044e+00, 1.77943958e+00, 1.67022901e+00, 2.09112139e+00,\n",
       "       2.17040876e+00, 3.12353778e+00, 4.10363945e+00, 1.74522944e+00,\n",
       "       3.82678744e+00, 2.60113383e+00, 2.85961731e+00, 2.60593357e+00,\n",
       "       2.60133825e+00, 3.96621035e+00, 3.94496284e+00, 6.04726581e+00,\n",
       "       4.79003980e+00, 5.48824829e+00, 6.06750454e+00, 6.06750454e+00,\n",
       "       5.84827980e+00, 6.34962733e+00, 5.52470355e+00, 6.79890003e+00,\n",
       "       5.47628742e+00, 6.79436169e+00, 7.61478013e+00, 6.21641120e+00,\n",
       "       6.23584290e+00, 6.48451071e+00, 7.52078513e+00, 7.34963765e+00,\n",
       "       8.01884549e+00, 9.01657479e+00, 9.78617602e+00, 1.12653447e+01,\n",
       "       1.16503145e+01, 1.06411228e+01, 1.44836603e+01, 1.47005322e+01,\n",
       "       1.85343355e+01, 1.89784496e+01, 3.10203695e+01, 7.69625555e-01,\n",
       "       9.66207702e-01, 1.11181908e+00, 2.33459094e+00, 1.86247252e+00,\n",
       "       4.13253191e-02, 4.24516142e-01, 1.32668636e+00, 9.47045704e-02,\n",
       "       1.57053352e+00, 1.89397004e-01, 5.73712323e-01, 9.89197288e-01,\n",
       "       8.92301898e-01, 1.15035278e-01, 1.37140620e+00, 8.41933615e-01,\n",
       "       9.30374979e-01, 2.99814243e-01, 5.87439447e-01, 5.00884459e-02,\n",
       "       1.59381722e+00, 1.34841451e-01, 3.82069966e-01, 1.16869038e-01,\n",
       "       1.05603380e+00, 3.62864414e-01, 4.68043919e-01, 9.43593450e-01,\n",
       "       9.18081300e-01, 6.56974647e-01, 1.63800880e-01, 1.42934053e+00,\n",
       "       2.61246263e-01, 1.14864067e-01, 1.68864600e-01, 3.51168018e-04,\n",
       "       5.84729922e-01, 1.10827601e-01, 9.31150023e-01, 4.19954559e-02,\n",
       "       3.03397692e-01, 9.87577103e-01, 1.22270155e-01, 1.99252997e-02,\n",
       "       5.68835205e+00, 1.86522503e+00, 1.76626802e+00, 1.33336032e+00,\n",
       "       1.41477617e+00, 1.43653130e+00, 7.17455394e-01, 9.91462278e-01,\n",
       "       5.95571738e-02, 8.30280514e+00, 8.17801581e-01, 1.26496945e+00,\n",
       "       2.22406591e-01, 1.51615552e+00, 1.62515710e+00, 8.67352223e-01,\n",
       "       1.81342308e+00, 4.13818486e-02, 1.58272468e+00, 1.58272468e+00,\n",
       "       1.02816943e+00, 7.94058843e-01, 9.39561207e-01, 4.33120036e-01,\n",
       "       6.84087771e-01, 9.81177015e-01, 1.52580419e+00, 2.53746907e+00,\n",
       "       7.47211680e-01, 1.70293842e+00, 6.20429031e-06, 1.05602491e+00,\n",
       "       1.57308240e+00, 1.27004142e-01, 1.37537711e+00, 1.05527404e-01,\n",
       "       4.62817877e+00, 1.16606857e+00, 2.90580319e-01, 3.76862477e-02,\n",
       "       6.09622156e-01, 1.04435215e+00, 1.41987253e+00, 1.29715836e+00,\n",
       "       1.19326808e+00, 7.17362804e-02, 8.41069107e-01, 2.20378336e+00,\n",
       "       2.31838996e+00, 1.20031834e-01, 1.12534038e+00, 5.36041201e-01,\n",
       "       1.27019898e+00, 8.34694337e+00, 8.24694696e-01, 5.48337263e-05,\n",
       "       4.65903910e-01, 1.22286799e+00, 1.14291457e+00, 3.13918634e-03,\n",
       "       8.01626026e-01, 9.98720892e-01, 6.16275334e+00, 7.69989398e-01,\n",
       "       9.46458980e-01, 7.55278018e-04, 4.51849493e-01, 9.92378764e-01,\n",
       "       4.20831246e-03, 9.67610743e-03, 7.95690631e-01, 2.21364805e+00,\n",
       "       1.15692316e-01, 1.07457370e+00, 1.16547561e+00, 1.85977135e+00,\n",
       "       8.35027346e-02, 3.25787700e-01, 1.93122240e-01, 1.82849413e-01,\n",
       "       5.31133368e-01, 3.64786500e+00, 3.91517443e-04, 9.55432404e-01,\n",
       "       2.04286737e+00, 2.21026190e+00, 7.64094562e-01, 9.61041534e-01,\n",
       "       8.58018340e-01, 1.28432338e+00, 2.74510338e+00, 6.58434049e+00,\n",
       "       1.64367408e+00, 1.62205275e+01, 8.00006193e-01, 1.31910382e-01,\n",
       "       7.95493723e-01, 2.42380556e+00, 5.13657662e-01, 5.64572503e+00,\n",
       "       1.16700214e+00, 2.94109141e+00, 4.98708682e+00, 7.43985287e-01,\n",
       "       4.32983262e+00, 1.83402733e+00, 2.85728406e+00, 5.04031183e+00,\n",
       "       8.51215884e+00, 8.42262946e-01, 1.96987505e-01, 1.24262128e+01,\n",
       "       2.62208773e-01, 1.26368007e-02, 1.49146561e+00, 1.51810588e+00,\n",
       "       9.65761757e-01, 5.54560714e-01, 2.21673028e+00, 2.18104579e+00,\n",
       "       8.58395417e-01, 1.40548349e+00, 5.65671427e-03, 4.48779796e-01,\n",
       "       6.29423607e-01, 1.08509842e+00, 4.85862338e-01, 4.99763521e-01,\n",
       "       1.80259113e-01, 2.25363458e+00, 1.73735484e+00, 2.61716746e+01,\n",
       "       7.68175769e-01, 1.00060505e+00, 1.21532957e-02, 8.27177012e-03,\n",
       "       1.34946316e+01, 1.37453579e+00, 2.59911073e-01, 1.72341138e-01,\n",
       "       5.31411810e-02, 1.19029918e+00, 1.79939704e+00, 1.78455660e-03,\n",
       "       1.48676999e+00, 1.40214986e-02, 2.34891700e+00, 6.57211538e-01,\n",
       "       2.34672417e+00, 2.69579184e+00, 1.42051917e+00, 1.09058434e+00,\n",
       "       8.45804080e-01, 1.36920670e+00, 6.37598352e-01, 3.30350731e-01,\n",
       "       1.86544189e+00, 3.52717101e-01, 2.99351056e-01, 8.03359146e-01,\n",
       "       1.33984024e+00, 2.11234559e+00, 1.37084997e+00, 8.43900337e-01,\n",
       "       1.60407999e+00, 2.04190341e+00, 7.69347153e-01, 2.59963552e+00,\n",
       "       1.67612531e+00, 1.44110060e+00, 1.33764824e+00, 5.79533250e-01,\n",
       "       1.15972512e+00, 1.08766665e+01, 9.31884307e-04, 1.75827528e-01,\n",
       "       1.38874571e+00, 2.05271130e+00, 3.24667344e-02, 1.46076570e+00,\n",
       "       2.74630457e-01, 3.01363680e+00, 2.89987673e-01, 1.17211441e+00,\n",
       "       1.32113834e+00, 8.08286401e+00, 1.18503391e+00, 6.35094595e+00,\n",
       "       3.22659644e-02, 8.99204003e+00, 1.71211947e+00, 6.70939362e-02,\n",
       "       6.05158004e-03, 1.08697505e+00, 2.03979196e-02, 1.86693285e+01,\n",
       "       5.77005985e-03, 1.50820718e+00, 1.31725917e-01, 2.21657479e+00,\n",
       "       4.55401271e+00, 5.10272435e-02, 5.12026913e-03, 3.19442782e+00,\n",
       "       7.91931719e+00, 5.77338721e-01, 1.16472986e+00, 1.68598446e+00,\n",
       "       1.18555388e+00, 6.83458321e+00, 7.86014273e-01, 1.02242888e+00,\n",
       "       4.72707684e-02, 2.78763453e+00, 6.13607051e+00, 4.97748531e-01,\n",
       "       1.63670550e+00, 1.53272653e+00, 1.11131640e+00, 3.40039776e-02,\n",
       "       8.63108990e+00, 1.09949552e+00, 1.24901921e+00, 1.13108247e+00,\n",
       "       1.04757096e+00, 5.11917693e-02, 6.96200632e-01, 1.54492021e+00,\n",
       "       8.42469121e-01, 9.22955616e+00, 1.58682712e+00, 1.15264353e+00,\n",
       "       4.56755429e+00])"
      ]
     },
     "execution_count": 34,
     "metadata": {},
     "output_type": "execute_result"
    }
   ],
   "source": [
    "# TODO: Calculate the squared difference in Tlog and Y \n",
    "squared_E = \n",
    "squared_E"
   ]
  },
  {
   "cell_type": "code",
   "execution_count": 35,
   "metadata": {
    "slideshow": {
     "slide_type": "notes"
    }
   },
   "outputs": [
    {
     "data": {
      "text/plain": [
       "1.8780043477613277"
      ]
     },
     "execution_count": 35,
     "metadata": {},
     "output_type": "execute_result"
    }
   ],
   "source": [
    "# TODO: Calculate MSE or the mean squared error\n",
    "MSE = \n",
    "MSE"
   ]
  },
  {
   "cell_type": "code",
   "execution_count": 36,
   "metadata": {
    "slideshow": {
     "slide_type": "notes"
    }
   },
   "outputs": [
    {
     "data": {
      "text/plain": [
       "1.3704029873585828"
      ]
     },
     "execution_count": 36,
     "metadata": {},
     "output_type": "execute_result"
    }
   ],
   "source": [
    "# TODO: Calculate RMSE or the root mean squared error\n",
    "RMSE = \n",
    "RMSE"
   ]
  },
  {
   "cell_type": "markdown",
   "metadata": {},
   "source": [
    "The following code summarizes `Tlog` the log of the target values. Looking at the mean and STD of `Tlog` do you think our RMSE is good? Take a second to think about the relationship between RMSE and the mean and STD."
   ]
  },
  {
   "cell_type": "code",
   "execution_count": 39,
   "metadata": {
    "slideshow": {
     "slide_type": "notes"
    }
   },
   "outputs": [
    {
     "data": {
      "text/html": [
       "<div>\n",
       "<style scoped>\n",
       "    .dataframe tbody tr th:only-of-type {\n",
       "        vertical-align: middle;\n",
       "    }\n",
       "\n",
       "    .dataframe tbody tr th {\n",
       "        vertical-align: top;\n",
       "    }\n",
       "\n",
       "    .dataframe thead th {\n",
       "        text-align: right;\n",
       "    }\n",
       "</style>\n",
       "<table border=\"1\" class=\"dataframe\">\n",
       "  <thead>\n",
       "    <tr style=\"text-align: right;\">\n",
       "      <th></th>\n",
       "      <th>0</th>\n",
       "    </tr>\n",
       "  </thead>\n",
       "  <tbody>\n",
       "    <tr>\n",
       "      <th>count</th>\n",
       "      <td>517.000000</td>\n",
       "    </tr>\n",
       "    <tr>\n",
       "      <th>mean</th>\n",
       "      <td>1.111026</td>\n",
       "    </tr>\n",
       "    <tr>\n",
       "      <th>std</th>\n",
       "      <td>1.398436</td>\n",
       "    </tr>\n",
       "    <tr>\n",
       "      <th>min</th>\n",
       "      <td>0.000000</td>\n",
       "    </tr>\n",
       "    <tr>\n",
       "      <th>25%</th>\n",
       "      <td>0.000000</td>\n",
       "    </tr>\n",
       "    <tr>\n",
       "      <th>50%</th>\n",
       "      <td>0.418710</td>\n",
       "    </tr>\n",
       "    <tr>\n",
       "      <th>75%</th>\n",
       "      <td>2.024193</td>\n",
       "    </tr>\n",
       "    <tr>\n",
       "      <th>max</th>\n",
       "      <td>6.995620</td>\n",
       "    </tr>\n",
       "  </tbody>\n",
       "</table>\n",
       "</div>"
      ],
      "text/plain": [
       "                0\n",
       "count  517.000000\n",
       "mean     1.111026\n",
       "std      1.398436\n",
       "min      0.000000\n",
       "25%      0.000000\n",
       "50%      0.418710\n",
       "75%      2.024193\n",
       "max      6.995620"
      ]
     },
     "execution_count": 39,
     "metadata": {},
     "output_type": "execute_result"
    }
   ],
   "source": [
    "pd.DataFrame(Tlog).describe()"
   ]
  },
  {
   "cell_type": "markdown",
   "metadata": {},
   "source": [
    "Let's plot! Here we plot `Tlog` and our predictions `Y`. "
   ]
  },
  {
   "cell_type": "code",
   "execution_count": 40,
   "metadata": {
    "slideshow": {
     "slide_type": "notes"
    }
   },
   "outputs": [
    {
     "data": {
      "text/plain": [
       "[<matplotlib.lines.Line2D at 0x7fdc70baa390>]"
      ]
     },
     "execution_count": 40,
     "metadata": {},
     "output_type": "execute_result"
    },
    {
     "data": {
      "image/png": "[encoded data removed]",
      "text/plain": [
       "<Figure size 432x288 with 1 Axes>"
      ]
     },
     "metadata": {
      "needs_background": "light"
     },
     "output_type": "display_data"
    }
   ],
   "source": [
    "plt.plot(Tlog, 'ob')\n",
    "plt.plot(Y, 'xr')"
   ]
  },
  {
   "cell_type": "markdown",
   "metadata": {},
   "source": [
    "It turns out our RMSE value is not so great. One good indication of a potentially high RMSE is when the mean and STD values are almost equal. Anytime the mean and STD are relatively close in value this indicates a skewed or heavy tailed distribution (exactly what we noticed last week when plotting the histogram for `T` and `Tlog`). It seems that even when taking the log of `T` the heavy tailed distribution of our data still distorts our results.\n",
    "\n",
    "The next question is why does a heavy tailed distribution distort our results? This relates to the issue of data balance. If we recall many of our target values (burned forest area values) were 0. Thus, many of our data samples indicated 0 burned forest area. This can influence our predictions by biasing the algorithm towards predicting values closer to 0. We’ll take a closer look at data imbalance in the near future, for now keep this idea in the back of your head."
   ]
  },
  {
   "cell_type": "markdown",
   "metadata": {},
   "source": [
    "Let's now print the weights. What do you think the weight values represent? One might be tempted to think that these weights represent the significance of their corresponding feature. For instance, if the third weight is negative one might assume that the algorithm is negatively valuing the third feature. Weights can be thought of in this manner however only when all features share a similar numerical scale. It turns out that our features do not currently share a similar numerical scale!"
   ]
  },
  {
   "cell_type": "code",
   "execution_count": 41,
   "metadata": {},
   "outputs": [
    {
     "data": {
      "text/plain": [
       "array([-0.30477203,  0.0425947 , -0.00129011,  0.1550639 ,  0.00862479,\n",
       "        0.00502995,  0.00240059, -0.00119776, -0.02492829,  0.00730238,\n",
       "       -0.00418998,  0.05759247,  0.08504343])"
      ]
     },
     "execution_count": 41,
     "metadata": {},
     "output_type": "execute_result"
    }
   ],
   "source": [
    "w"
   ]
  },
  {
   "cell_type": "markdown",
   "metadata": {
    "collapsed": true,
    "slideshow": {
     "slide_type": "slide"
    }
   },
   "source": [
    "# Normalization\n",
    "\n",
    "Let's take a look at our input distribution below. We can easily observe that each feature is operating with a different scale by looking at the mean and standard deviation (STD). Having different scales for each input feature causes many ML models difficulty when trying to learn the optimal weights.\n",
    "\n",
    "Different scales across input features means some weights have small values (indicated by having a small mean and STD) and need finer updates, smaller changes to their weights. Meanwhile, other weights have larger values (indicated by having a larger mean and STD) and need larger updates, larger changes to their weights. Thus, it can be helpful to normalize the input features all to the same scale, which is called normalization."
   ]
  },
  {
   "cell_type": "code",
   "execution_count": 42,
   "metadata": {
    "slideshow": {
     "slide_type": "slide"
    }
   },
   "outputs": [
    {
     "data": {
      "text/html": [
       "<div>\n",
       "<style scoped>\n",
       "    .dataframe tbody tr th:only-of-type {\n",
       "        vertical-align: middle;\n",
       "    }\n",
       "\n",
       "    .dataframe tbody tr th {\n",
       "        vertical-align: top;\n",
       "    }\n",
       "\n",
       "    .dataframe thead th {\n",
       "        text-align: right;\n",
       "    }\n",
       "</style>\n",
       "<table border=\"1\" class=\"dataframe\">\n",
       "  <thead>\n",
       "    <tr style=\"text-align: right;\">\n",
       "      <th></th>\n",
       "      <th>0</th>\n",
       "      <th>1</th>\n",
       "      <th>2</th>\n",
       "      <th>3</th>\n",
       "      <th>4</th>\n",
       "      <th>5</th>\n",
       "      <th>6</th>\n",
       "      <th>7</th>\n",
       "      <th>8</th>\n",
       "      <th>9</th>\n",
       "      <th>10</th>\n",
       "      <th>11</th>\n",
       "    </tr>\n",
       "  </thead>\n",
       "  <tbody>\n",
       "    <tr>\n",
       "      <th>count</th>\n",
       "      <td>517.000000</td>\n",
       "      <td>517.000000</td>\n",
       "      <td>517.000000</td>\n",
       "      <td>517.000000</td>\n",
       "      <td>517.000000</td>\n",
       "      <td>517.000000</td>\n",
       "      <td>517.000000</td>\n",
       "      <td>517.000000</td>\n",
       "      <td>517.000000</td>\n",
       "      <td>517.000000</td>\n",
       "      <td>517.000000</td>\n",
       "      <td>517.000000</td>\n",
       "    </tr>\n",
       "    <tr>\n",
       "      <th>mean</th>\n",
       "      <td>4.669246</td>\n",
       "      <td>4.299807</td>\n",
       "      <td>7.475822</td>\n",
       "      <td>4.259188</td>\n",
       "      <td>90.644681</td>\n",
       "      <td>110.872340</td>\n",
       "      <td>547.940039</td>\n",
       "      <td>9.021663</td>\n",
       "      <td>18.889168</td>\n",
       "      <td>44.288201</td>\n",
       "      <td>4.017602</td>\n",
       "      <td>0.021663</td>\n",
       "    </tr>\n",
       "    <tr>\n",
       "      <th>std</th>\n",
       "      <td>2.313778</td>\n",
       "      <td>1.229900</td>\n",
       "      <td>2.275990</td>\n",
       "      <td>2.072929</td>\n",
       "      <td>5.520111</td>\n",
       "      <td>64.046482</td>\n",
       "      <td>248.066192</td>\n",
       "      <td>4.559477</td>\n",
       "      <td>5.806625</td>\n",
       "      <td>16.317469</td>\n",
       "      <td>1.791653</td>\n",
       "      <td>0.295959</td>\n",
       "    </tr>\n",
       "    <tr>\n",
       "      <th>min</th>\n",
       "      <td>1.000000</td>\n",
       "      <td>2.000000</td>\n",
       "      <td>1.000000</td>\n",
       "      <td>1.000000</td>\n",
       "      <td>18.700000</td>\n",
       "      <td>1.100000</td>\n",
       "      <td>7.900000</td>\n",
       "      <td>0.000000</td>\n",
       "      <td>2.200000</td>\n",
       "      <td>15.000000</td>\n",
       "      <td>0.400000</td>\n",
       "      <td>0.000000</td>\n",
       "    </tr>\n",
       "    <tr>\n",
       "      <th>25%</th>\n",
       "      <td>3.000000</td>\n",
       "      <td>4.000000</td>\n",
       "      <td>7.000000</td>\n",
       "      <td>2.000000</td>\n",
       "      <td>90.200000</td>\n",
       "      <td>68.600000</td>\n",
       "      <td>437.700000</td>\n",
       "      <td>6.500000</td>\n",
       "      <td>15.500000</td>\n",
       "      <td>33.000000</td>\n",
       "      <td>2.700000</td>\n",
       "      <td>0.000000</td>\n",
       "    </tr>\n",
       "    <tr>\n",
       "      <th>50%</th>\n",
       "      <td>4.000000</td>\n",
       "      <td>4.000000</td>\n",
       "      <td>8.000000</td>\n",
       "      <td>5.000000</td>\n",
       "      <td>91.600000</td>\n",
       "      <td>108.300000</td>\n",
       "      <td>664.200000</td>\n",
       "      <td>8.400000</td>\n",
       "      <td>19.300000</td>\n",
       "      <td>42.000000</td>\n",
       "      <td>4.000000</td>\n",
       "      <td>0.000000</td>\n",
       "    </tr>\n",
       "    <tr>\n",
       "      <th>75%</th>\n",
       "      <td>7.000000</td>\n",
       "      <td>5.000000</td>\n",
       "      <td>9.000000</td>\n",
       "      <td>6.000000</td>\n",
       "      <td>92.900000</td>\n",
       "      <td>142.400000</td>\n",
       "      <td>713.900000</td>\n",
       "      <td>10.800000</td>\n",
       "      <td>22.800000</td>\n",
       "      <td>53.000000</td>\n",
       "      <td>4.900000</td>\n",
       "      <td>0.000000</td>\n",
       "    </tr>\n",
       "    <tr>\n",
       "      <th>max</th>\n",
       "      <td>9.000000</td>\n",
       "      <td>9.000000</td>\n",
       "      <td>12.000000</td>\n",
       "      <td>7.000000</td>\n",
       "      <td>96.200000</td>\n",
       "      <td>291.300000</td>\n",
       "      <td>860.600000</td>\n",
       "      <td>56.100000</td>\n",
       "      <td>33.300000</td>\n",
       "      <td>100.000000</td>\n",
       "      <td>9.400000</td>\n",
       "      <td>6.400000</td>\n",
       "    </tr>\n",
       "  </tbody>\n",
       "</table>\n",
       "</div>"
      ],
      "text/plain": [
       "               0           1           2           3           4           5   \\\n",
       "count  517.000000  517.000000  517.000000  517.000000  517.000000  517.000000   \n",
       "mean     4.669246    4.299807    7.475822    4.259188   90.644681  110.872340   \n",
       "std      2.313778    1.229900    2.275990    2.072929    5.520111   64.046482   \n",
       "min      1.000000    2.000000    1.000000    1.000000   18.700000    1.100000   \n",
       "25%      3.000000    4.000000    7.000000    2.000000   90.200000   68.600000   \n",
       "50%      4.000000    4.000000    8.000000    5.000000   91.600000  108.300000   \n",
       "75%      7.000000    5.000000    9.000000    6.000000   92.900000  142.400000   \n",
       "max      9.000000    9.000000   12.000000    7.000000   96.200000  291.300000   \n",
       "\n",
       "               6           7           8           9           10          11  \n",
       "count  517.000000  517.000000  517.000000  517.000000  517.000000  517.000000  \n",
       "mean   547.940039    9.021663   18.889168   44.288201    4.017602    0.021663  \n",
       "std    248.066192    4.559477    5.806625   16.317469    1.791653    0.295959  \n",
       "min      7.900000    0.000000    2.200000   15.000000    0.400000    0.000000  \n",
       "25%    437.700000    6.500000   15.500000   33.000000    2.700000    0.000000  \n",
       "50%    664.200000    8.400000   19.300000   42.000000    4.000000    0.000000  \n",
       "75%    713.900000   10.800000   22.800000   53.000000    4.900000    0.000000  \n",
       "max    860.600000   56.100000   33.300000  100.000000    9.400000    6.400000  "
      ]
     },
     "execution_count": 42,
     "metadata": {},
     "output_type": "execute_result"
    }
   ],
   "source": [
    "pd.DataFrame(X).describe()"
   ]
  },
  {
   "cell_type": "markdown",
   "metadata": {},
   "source": [
    "One normalization trick we often use is called standardization. Standardization transforms our data to have a zero mean and unit variance. When standardizing our data we simply subtract each feature by its mean and divide by its standard deviation. For instance, if we wanted to standardize the `rain` column we would subtract the mean of the `rain` column from every point in the `rain` column and then divide all points in the `rain` column by the STD of the `rain` column.\n",
    "\n",
    "$\\frac{rain - mean(rain)}{STD(rain)}$\n",
    "\n",
    "We can generalize these computations to every column in `X` thanks to linear algebra and Numpy. To calculate the mean and STD we simply input `X` into the Numpy functions `np.mean()` and `np.std()`. We then have to specify the 'axis' parameter within these functions to compute the mean and STD per column. If `axis=0` then we are looking to compute the `np.mean()` and `np.std()` column wise, i.e. per each feature. Likewise, if `axis=1`then we are looking to compute the `np.mean()` and `np.std()` row wise, i.e. per each data sample.\n",
    "\n",
    "### TODO\n",
    "\n",
    "- Use `np.mean` and `np.std` and the axis parameter to compute the mean and STD for each column, feature, in `X`. Store the mean in `mu` and the STD in `std`.\n",
    "- Using `mu` and `std` calculate the standardized values of `X` and store them in `normX`."
   ]
  },
  {
   "cell_type": "code",
   "execution_count": 43,
   "metadata": {
    "slideshow": {
     "slide_type": "slide"
    }
   },
   "outputs": [],
   "source": [
    "# TODO: Calculate mean and std\n",
    "mu = \n",
    "std ="
   ]
  },
  {
   "cell_type": "code",
   "execution_count": 44,
   "metadata": {
    "slideshow": {
     "slide_type": "notes"
    }
   },
   "outputs": [
    {
     "data": {
      "text/html": [
       "<div>\n",
       "<style scoped>\n",
       "    .dataframe tbody tr th:only-of-type {\n",
       "        vertical-align: middle;\n",
       "    }\n",
       "\n",
       "    .dataframe tbody tr th {\n",
       "        vertical-align: top;\n",
       "    }\n",
       "\n",
       "    .dataframe thead th {\n",
       "        text-align: right;\n",
       "    }\n",
       "</style>\n",
       "<table border=\"1\" class=\"dataframe\">\n",
       "  <thead>\n",
       "    <tr style=\"text-align: right;\">\n",
       "      <th></th>\n",
       "      <th>0</th>\n",
       "      <th>1</th>\n",
       "      <th>2</th>\n",
       "      <th>3</th>\n",
       "      <th>4</th>\n",
       "      <th>5</th>\n",
       "      <th>6</th>\n",
       "      <th>7</th>\n",
       "      <th>8</th>\n",
       "      <th>9</th>\n",
       "      <th>10</th>\n",
       "      <th>11</th>\n",
       "    </tr>\n",
       "  </thead>\n",
       "  <tbody>\n",
       "    <tr>\n",
       "      <th>count</th>\n",
       "      <td>5.170000e+02</td>\n",
       "      <td>5.170000e+02</td>\n",
       "      <td>5.170000e+02</td>\n",
       "      <td>5.170000e+02</td>\n",
       "      <td>5.170000e+02</td>\n",
       "      <td>5.170000e+02</td>\n",
       "      <td>5.170000e+02</td>\n",
       "      <td>5.170000e+02</td>\n",
       "      <td>5.170000e+02</td>\n",
       "      <td>5.170000e+02</td>\n",
       "      <td>5.170000e+02</td>\n",
       "      <td>5.170000e+02</td>\n",
       "    </tr>\n",
       "    <tr>\n",
       "      <th>mean</th>\n",
       "      <td>2.113074e-16</td>\n",
       "      <td>2.611279e-16</td>\n",
       "      <td>-1.030768e-16</td>\n",
       "      <td>8.589733e-17</td>\n",
       "      <td>-1.752306e-15</td>\n",
       "      <td>-2.748715e-17</td>\n",
       "      <td>6.871787e-17</td>\n",
       "      <td>1.030768e-17</td>\n",
       "      <td>2.542561e-16</td>\n",
       "      <td>2.198972e-16</td>\n",
       "      <td>-4.191790e-16</td>\n",
       "      <td>-6.871787e-18</td>\n",
       "    </tr>\n",
       "    <tr>\n",
       "      <th>std</th>\n",
       "      <td>1.000969e+00</td>\n",
       "      <td>1.000969e+00</td>\n",
       "      <td>1.000969e+00</td>\n",
       "      <td>1.000969e+00</td>\n",
       "      <td>1.000969e+00</td>\n",
       "      <td>1.000969e+00</td>\n",
       "      <td>1.000969e+00</td>\n",
       "      <td>1.000969e+00</td>\n",
       "      <td>1.000969e+00</td>\n",
       "      <td>1.000969e+00</td>\n",
       "      <td>1.000969e+00</td>\n",
       "      <td>1.000969e+00</td>\n",
       "    </tr>\n",
       "    <tr>\n",
       "      <th>min</th>\n",
       "      <td>-1.587360e+00</td>\n",
       "      <td>-1.871724e+00</td>\n",
       "      <td>-2.848033e+00</td>\n",
       "      <td>-1.573785e+00</td>\n",
       "      <td>-1.304582e+01</td>\n",
       "      <td>-1.715608e+00</td>\n",
       "      <td>-2.179108e+00</td>\n",
       "      <td>-1.980578e+00</td>\n",
       "      <td>-2.876943e+00</td>\n",
       "      <td>-1.796637e+00</td>\n",
       "      <td>-2.021098e+00</td>\n",
       "      <td>-7.326831e-02</td>\n",
       "    </tr>\n",
       "    <tr>\n",
       "      <th>25%</th>\n",
       "      <td>-7.221360e-01</td>\n",
       "      <td>-2.440010e-01</td>\n",
       "      <td>-2.092640e-01</td>\n",
       "      <td>-1.090909e+00</td>\n",
       "      <td>-8.063453e-02</td>\n",
       "      <td>-6.606652e-01</td>\n",
       "      <td>-4.448281e-01</td>\n",
       "      <td>-5.535954e-01</td>\n",
       "      <td>-5.842379e-01</td>\n",
       "      <td>-6.924563e-01</td>\n",
       "      <td>-7.361236e-01</td>\n",
       "      <td>-7.326831e-02</td>\n",
       "    </tr>\n",
       "    <tr>\n",
       "      <th>50%</th>\n",
       "      <td>-2.895238e-01</td>\n",
       "      <td>-2.440010e-01</td>\n",
       "      <td>2.305307e-01</td>\n",
       "      <td>3.577209e-01</td>\n",
       "      <td>1.732292e-01</td>\n",
       "      <td>-4.020255e-02</td>\n",
       "      <td>4.691190e-01</td>\n",
       "      <td>-1.364774e-01</td>\n",
       "      <td>7.082076e-02</td>\n",
       "      <td>-1.403660e-01</td>\n",
       "      <td>-9.833712e-03</td>\n",
       "      <td>-7.326831e-02</td>\n",
       "    </tr>\n",
       "    <tr>\n",
       "      <th>75%</th>\n",
       "      <td>1.008313e+00</td>\n",
       "      <td>5.698604e-01</td>\n",
       "      <td>6.703255e-01</td>\n",
       "      <td>8.405974e-01</td>\n",
       "      <td>4.089598e-01</td>\n",
       "      <td>4.927389e-01</td>\n",
       "      <td>6.696628e-01</td>\n",
       "      <td>3.904086e-01</td>\n",
       "      <td>6.741643e-01</td>\n",
       "      <td>5.344111e-01</td>\n",
       "      <td>4.929823e-01</td>\n",
       "      <td>-7.326831e-02</td>\n",
       "    </tr>\n",
       "    <tr>\n",
       "      <th>max</th>\n",
       "      <td>1.873537e+00</td>\n",
       "      <td>3.825306e+00</td>\n",
       "      <td>1.989710e+00</td>\n",
       "      <td>1.323474e+00</td>\n",
       "      <td>1.007353e+00</td>\n",
       "      <td>2.819865e+00</td>\n",
       "      <td>1.261610e+00</td>\n",
       "      <td>1.033538e+01</td>\n",
       "      <td>2.484195e+00</td>\n",
       "      <td>3.417549e+00</td>\n",
       "      <td>3.007063e+00</td>\n",
       "      <td>2.157228e+01</td>\n",
       "    </tr>\n",
       "  </tbody>\n",
       "</table>\n",
       "</div>"
      ],
      "text/plain": [
       "                 0             1             2             3             4   \\\n",
       "count  5.170000e+02  5.170000e+02  5.170000e+02  5.170000e+02  5.170000e+02   \n",
       "mean   2.113074e-16  2.611279e-16 -1.030768e-16  8.589733e-17 -1.752306e-15   \n",
       "std    1.000969e+00  1.000969e+00  1.000969e+00  1.000969e+00  1.000969e+00   \n",
       "min   -1.587360e+00 -1.871724e+00 -2.848033e+00 -1.573785e+00 -1.304582e+01   \n",
       "25%   -7.221360e-01 -2.440010e-01 -2.092640e-01 -1.090909e+00 -8.063453e-02   \n",
       "50%   -2.895238e-01 -2.440010e-01  2.305307e-01  3.577209e-01  1.732292e-01   \n",
       "75%    1.008313e+00  5.698604e-01  6.703255e-01  8.405974e-01  4.089598e-01   \n",
       "max    1.873537e+00  3.825306e+00  1.989710e+00  1.323474e+00  1.007353e+00   \n",
       "\n",
       "                 5             6             7             8             9   \\\n",
       "count  5.170000e+02  5.170000e+02  5.170000e+02  5.170000e+02  5.170000e+02   \n",
       "mean  -2.748715e-17  6.871787e-17  1.030768e-17  2.542561e-16  2.198972e-16   \n",
       "std    1.000969e+00  1.000969e+00  1.000969e+00  1.000969e+00  1.000969e+00   \n",
       "min   -1.715608e+00 -2.179108e+00 -1.980578e+00 -2.876943e+00 -1.796637e+00   \n",
       "25%   -6.606652e-01 -4.448281e-01 -5.535954e-01 -5.842379e-01 -6.924563e-01   \n",
       "50%   -4.020255e-02  4.691190e-01 -1.364774e-01  7.082076e-02 -1.403660e-01   \n",
       "75%    4.927389e-01  6.696628e-01  3.904086e-01  6.741643e-01  5.344111e-01   \n",
       "max    2.819865e+00  1.261610e+00  1.033538e+01  2.484195e+00  3.417549e+00   \n",
       "\n",
       "                 10            11  \n",
       "count  5.170000e+02  5.170000e+02  \n",
       "mean  -4.191790e-16 -6.871787e-18  \n",
       "std    1.000969e+00  1.000969e+00  \n",
       "min   -2.021098e+00 -7.326831e-02  \n",
       "25%   -7.361236e-01 -7.326831e-02  \n",
       "50%   -9.833712e-03 -7.326831e-02  \n",
       "75%    4.929823e-01 -7.326831e-02  \n",
       "max    3.007063e+00  2.157228e+01  "
      ]
     },
     "execution_count": 44,
     "metadata": {},
     "output_type": "execute_result"
    }
   ],
   "source": [
    "# TODO: Calculate standardized values of X\n",
    "normX = \n",
    "pd.DataFrame(normX).describe()"
   ]
  },
  {
   "cell_type": "markdown",
   "metadata": {},
   "source": [
    "### TODO\n",
    "Let's re-add our bias term to our newly normalized inputs.\n",
    "* Add the bias term, a vector of 1s, to the first column of `normX` and store the result in a new variable called `X1s`.\n",
    "* Recompute the least squares solution using the normalized matrix `X1s` storing the new weights in `w_s`\n",
    "* Calcualte the new predictions and store in `Ys`"
   ]
  },
  {
   "cell_type": "code",
   "execution_count": 45,
   "metadata": {
    "slideshow": {
     "slide_type": "notes"
    }
   },
   "outputs": [],
   "source": [
    "# TODO: Add the bias term\n",
    "X1s = "
   ]
  },
  {
   "cell_type": "code",
   "execution_count": 46,
   "metadata": {
    "slideshow": {
     "slide_type": "notes"
    }
   },
   "outputs": [],
   "source": [
    "# TODO: Apply the least squares solution storing the output in the variable w\n",
    "w_s = "
   ]
  },
  {
   "cell_type": "code",
   "execution_count": 47,
   "metadata": {
    "slideshow": {
     "slide_type": "notes"
    }
   },
   "outputs": [],
   "source": [
    "# TODO: Calculate the new predictions\n",
    "Ys = "
   ]
  },
  {
   "cell_type": "code",
   "execution_count": 53,
   "metadata": {},
   "outputs": [
    {
     "data": {
      "text/plain": [
       "1.3704029873585828"
      ]
     },
     "execution_count": 53,
     "metadata": {},
     "output_type": "execute_result"
    }
   ],
   "source": [
    "# Computes RMSE\n",
    "np.sqrt(np.mean((Tlog- Ys)**2))"
   ]
  },
  {
   "cell_type": "markdown",
   "metadata": {},
   "source": [
    "Let's plot the results and see if our solution is better than the previous solution."
   ]
  },
  {
   "cell_type": "code",
   "execution_count": 51,
   "metadata": {
    "scrolled": true,
    "slideshow": {
     "slide_type": "notes"
    }
   },
   "outputs": [
    {
     "data": {
      "text/plain": [
       "[<matplotlib.lines.Line2D at 0x7fdc70b40bd0>]"
      ]
     },
     "execution_count": 51,
     "metadata": {},
     "output_type": "execute_result"
    },
    {
     "data": {
      "image/png": "[encoded data removed]",
      "text/plain": [
       "<Figure size 432x288 with 1 Axes>"
      ]
     },
     "metadata": {
      "needs_background": "light"
     },
     "output_type": "display_data"
    }
   ],
   "source": [
    "plt.plot(Tlog, 'ob')\n",
    "plt.plot(Ys, 'xr')"
   ]
  },
  {
   "cell_type": "markdown",
   "metadata": {},
   "source": [
    "Run the code below to print the new weights as well."
   ]
  },
  {
   "cell_type": "code",
   "execution_count": 52,
   "metadata": {
    "slideshow": {
     "slide_type": "notes"
    }
   },
   "outputs": [
    {
     "data": {
      "text/plain": [
       "array([ 1.11102577,  0.09845931, -0.00158518,  0.35258243,  0.01786126,\n",
       "        0.02773904,  0.15360069, -0.29683741, -0.11355001,  0.04236118,\n",
       "       -0.06830369,  0.10308585,  0.02514502])"
      ]
     },
     "execution_count": 52,
     "metadata": {},
     "output_type": "execute_result"
    }
   ],
   "source": [
    "w_s"
   ]
  },
  {
   "cell_type": "markdown",
   "metadata": {
    "slideshow": {
     "slide_type": "notes"
    }
   },
   "source": [
    "Welp, it doesn't seem our predictions are all that much better. At least now we can say that our weights represent the significance of their corresponding feature!"
   ]
  },
  {
   "cell_type": "markdown",
   "metadata": {
    "slideshow": {
     "slide_type": "fragment"
    }
   },
   "source": [
    "# Indicator Variables\n",
    "Well, as we observed above, normalization did not help in this data. This forest fire problem might just be a little hard for a linear model. Although it is not successful, it is good to learn normalization as it gives you better results in many cases. \n",
    "\n",
    "Now, we can practice one more useful trick, indicator variables. When we observe some categorical variables, sometimes scale is often not reasonable. For instance, let us assume we have the inputs of cat or dog.  Is it reasonable if we allocate 1 to cat and 2 to dog? Can we say that dog $>$ cat as 2 $>$ 1? No, we can't. For this reason, we convert the categorical values to indicator variables or one-hot encodings. Instead of 1 or 2 for cat or dog, we use vector representations. For instance, `[0, 1]` could be for cat and `[1, 0]` could be for dog. \n",
    "\n",
    "Follow the code for how we can covert the string values into indicator variables using `pd.get_dummies()` function in Pandas."
   ]
  },
  {
   "cell_type": "code",
   "execution_count": 54,
   "metadata": {
    "slideshow": {
     "slide_type": "notes"
    }
   },
   "outputs": [
    {
     "data": {
      "text/plain": [
       "0      mar\n",
       "1      oct\n",
       "2      oct\n",
       "3      mar\n",
       "4      mar\n",
       "      ... \n",
       "512    aug\n",
       "513    aug\n",
       "514    aug\n",
       "515    aug\n",
       "516    nov\n",
       "Name: month, Length: 517, dtype: object"
      ]
     },
     "execution_count": 54,
     "metadata": {},
     "output_type": "execute_result"
    }
   ],
   "source": [
    "df.loc[:,'month']"
   ]
  },
  {
   "cell_type": "code",
   "execution_count": 55,
   "metadata": {
    "slideshow": {
     "slide_type": "notes"
    }
   },
   "outputs": [
    {
     "data": {
      "text/html": [
       "<div>\n",
       "<style scoped>\n",
       "    .dataframe tbody tr th:only-of-type {\n",
       "        vertical-align: middle;\n",
       "    }\n",
       "\n",
       "    .dataframe tbody tr th {\n",
       "        vertical-align: top;\n",
       "    }\n",
       "\n",
       "    .dataframe thead th {\n",
       "        text-align: right;\n",
       "    }\n",
       "</style>\n",
       "<table border=\"1\" class=\"dataframe\">\n",
       "  <thead>\n",
       "    <tr style=\"text-align: right;\">\n",
       "      <th></th>\n",
       "      <th>apr</th>\n",
       "      <th>aug</th>\n",
       "      <th>dec</th>\n",
       "      <th>feb</th>\n",
       "      <th>jan</th>\n",
       "      <th>jul</th>\n",
       "      <th>jun</th>\n",
       "      <th>mar</th>\n",
       "      <th>may</th>\n",
       "      <th>nov</th>\n",
       "      <th>oct</th>\n",
       "      <th>sep</th>\n",
       "    </tr>\n",
       "  </thead>\n",
       "  <tbody>\n",
       "    <tr>\n",
       "      <th>0</th>\n",
       "      <td>0</td>\n",
       "      <td>0</td>\n",
       "      <td>0</td>\n",
       "      <td>0</td>\n",
       "      <td>0</td>\n",
       "      <td>0</td>\n",
       "      <td>0</td>\n",
       "      <td>1</td>\n",
       "      <td>0</td>\n",
       "      <td>0</td>\n",
       "      <td>0</td>\n",
       "      <td>0</td>\n",
       "    </tr>\n",
       "    <tr>\n",
       "      <th>1</th>\n",
       "      <td>0</td>\n",
       "      <td>0</td>\n",
       "      <td>0</td>\n",
       "      <td>0</td>\n",
       "      <td>0</td>\n",
       "      <td>0</td>\n",
       "      <td>0</td>\n",
       "      <td>0</td>\n",
       "      <td>0</td>\n",
       "      <td>0</td>\n",
       "      <td>1</td>\n",
       "      <td>0</td>\n",
       "    </tr>\n",
       "    <tr>\n",
       "      <th>2</th>\n",
       "      <td>0</td>\n",
       "      <td>0</td>\n",
       "      <td>0</td>\n",
       "      <td>0</td>\n",
       "      <td>0</td>\n",
       "      <td>0</td>\n",
       "      <td>0</td>\n",
       "      <td>0</td>\n",
       "      <td>0</td>\n",
       "      <td>0</td>\n",
       "      <td>1</td>\n",
       "      <td>0</td>\n",
       "    </tr>\n",
       "    <tr>\n",
       "      <th>3</th>\n",
       "      <td>0</td>\n",
       "      <td>0</td>\n",
       "      <td>0</td>\n",
       "      <td>0</td>\n",
       "      <td>0</td>\n",
       "      <td>0</td>\n",
       "      <td>0</td>\n",
       "      <td>1</td>\n",
       "      <td>0</td>\n",
       "      <td>0</td>\n",
       "      <td>0</td>\n",
       "      <td>0</td>\n",
       "    </tr>\n",
       "    <tr>\n",
       "      <th>4</th>\n",
       "      <td>0</td>\n",
       "      <td>0</td>\n",
       "      <td>0</td>\n",
       "      <td>0</td>\n",
       "      <td>0</td>\n",
       "      <td>0</td>\n",
       "      <td>0</td>\n",
       "      <td>1</td>\n",
       "      <td>0</td>\n",
       "      <td>0</td>\n",
       "      <td>0</td>\n",
       "      <td>0</td>\n",
       "    </tr>\n",
       "    <tr>\n",
       "      <th>...</th>\n",
       "      <td>...</td>\n",
       "      <td>...</td>\n",
       "      <td>...</td>\n",
       "      <td>...</td>\n",
       "      <td>...</td>\n",
       "      <td>...</td>\n",
       "      <td>...</td>\n",
       "      <td>...</td>\n",
       "      <td>...</td>\n",
       "      <td>...</td>\n",
       "      <td>...</td>\n",
       "      <td>...</td>\n",
       "    </tr>\n",
       "    <tr>\n",
       "      <th>512</th>\n",
       "      <td>0</td>\n",
       "      <td>1</td>\n",
       "      <td>0</td>\n",
       "      <td>0</td>\n",
       "      <td>0</td>\n",
       "      <td>0</td>\n",
       "      <td>0</td>\n",
       "      <td>0</td>\n",
       "      <td>0</td>\n",
       "      <td>0</td>\n",
       "      <td>0</td>\n",
       "      <td>0</td>\n",
       "    </tr>\n",
       "    <tr>\n",
       "      <th>513</th>\n",
       "      <td>0</td>\n",
       "      <td>1</td>\n",
       "      <td>0</td>\n",
       "      <td>0</td>\n",
       "      <td>0</td>\n",
       "      <td>0</td>\n",
       "      <td>0</td>\n",
       "      <td>0</td>\n",
       "      <td>0</td>\n",
       "      <td>0</td>\n",
       "      <td>0</td>\n",
       "      <td>0</td>\n",
       "    </tr>\n",
       "    <tr>\n",
       "      <th>514</th>\n",
       "      <td>0</td>\n",
       "      <td>1</td>\n",
       "      <td>0</td>\n",
       "      <td>0</td>\n",
       "      <td>0</td>\n",
       "      <td>0</td>\n",
       "      <td>0</td>\n",
       "      <td>0</td>\n",
       "      <td>0</td>\n",
       "      <td>0</td>\n",
       "      <td>0</td>\n",
       "      <td>0</td>\n",
       "    </tr>\n",
       "    <tr>\n",
       "      <th>515</th>\n",
       "      <td>0</td>\n",
       "      <td>1</td>\n",
       "      <td>0</td>\n",
       "      <td>0</td>\n",
       "      <td>0</td>\n",
       "      <td>0</td>\n",
       "      <td>0</td>\n",
       "      <td>0</td>\n",
       "      <td>0</td>\n",
       "      <td>0</td>\n",
       "      <td>0</td>\n",
       "      <td>0</td>\n",
       "    </tr>\n",
       "    <tr>\n",
       "      <th>516</th>\n",
       "      <td>0</td>\n",
       "      <td>0</td>\n",
       "      <td>0</td>\n",
       "      <td>0</td>\n",
       "      <td>0</td>\n",
       "      <td>0</td>\n",
       "      <td>0</td>\n",
       "      <td>0</td>\n",
       "      <td>0</td>\n",
       "      <td>1</td>\n",
       "      <td>0</td>\n",
       "      <td>0</td>\n",
       "    </tr>\n",
       "  </tbody>\n",
       "</table>\n",
       "<p>517 rows × 12 columns</p>\n",
       "</div>"
      ],
      "text/plain": [
       "     apr  aug  dec  feb  jan  jul  jun  mar  may  nov  oct  sep\n",
       "0      0    0    0    0    0    0    0    1    0    0    0    0\n",
       "1      0    0    0    0    0    0    0    0    0    0    1    0\n",
       "2      0    0    0    0    0    0    0    0    0    0    1    0\n",
       "3      0    0    0    0    0    0    0    1    0    0    0    0\n",
       "4      0    0    0    0    0    0    0    1    0    0    0    0\n",
       "..   ...  ...  ...  ...  ...  ...  ...  ...  ...  ...  ...  ...\n",
       "512    0    1    0    0    0    0    0    0    0    0    0    0\n",
       "513    0    1    0    0    0    0    0    0    0    0    0    0\n",
       "514    0    1    0    0    0    0    0    0    0    0    0    0\n",
       "515    0    1    0    0    0    0    0    0    0    0    0    0\n",
       "516    0    0    0    0    0    0    0    0    0    1    0    0\n",
       "\n",
       "[517 rows x 12 columns]"
      ]
     },
     "execution_count": 55,
     "metadata": {},
     "output_type": "execute_result"
    }
   ],
   "source": [
    "indicator_month = pd.get_dummies(df.loc[:, 'month'])\n",
    "indicator_month"
   ]
  },
  {
   "cell_type": "code",
   "execution_count": 56,
   "metadata": {},
   "outputs": [
    {
     "data": {
      "text/plain": [
       "0      fri\n",
       "1      tue\n",
       "2      sat\n",
       "3      fri\n",
       "4      sun\n",
       "      ... \n",
       "512    sun\n",
       "513    sun\n",
       "514    sun\n",
       "515    sat\n",
       "516    tue\n",
       "Name: day, Length: 517, dtype: object"
      ]
     },
     "execution_count": 56,
     "metadata": {},
     "output_type": "execute_result"
    }
   ],
   "source": [
    "df.loc[:,'day']"
   ]
  },
  {
   "cell_type": "code",
   "execution_count": 57,
   "metadata": {},
   "outputs": [
    {
     "data": {
      "text/html": [
       "<div>\n",
       "<style scoped>\n",
       "    .dataframe tbody tr th:only-of-type {\n",
       "        vertical-align: middle;\n",
       "    }\n",
       "\n",
       "    .dataframe tbody tr th {\n",
       "        vertical-align: top;\n",
       "    }\n",
       "\n",
       "    .dataframe thead th {\n",
       "        text-align: right;\n",
       "    }\n",
       "</style>\n",
       "<table border=\"1\" class=\"dataframe\">\n",
       "  <thead>\n",
       "    <tr style=\"text-align: right;\">\n",
       "      <th></th>\n",
       "      <th>fri</th>\n",
       "      <th>mon</th>\n",
       "      <th>sat</th>\n",
       "      <th>sun</th>\n",
       "      <th>thu</th>\n",
       "      <th>tue</th>\n",
       "      <th>wed</th>\n",
       "    </tr>\n",
       "  </thead>\n",
       "  <tbody>\n",
       "    <tr>\n",
       "      <th>0</th>\n",
       "      <td>1</td>\n",
       "      <td>0</td>\n",
       "      <td>0</td>\n",
       "      <td>0</td>\n",
       "      <td>0</td>\n",
       "      <td>0</td>\n",
       "      <td>0</td>\n",
       "    </tr>\n",
       "    <tr>\n",
       "      <th>1</th>\n",
       "      <td>0</td>\n",
       "      <td>0</td>\n",
       "      <td>0</td>\n",
       "      <td>0</td>\n",
       "      <td>0</td>\n",
       "      <td>1</td>\n",
       "      <td>0</td>\n",
       "    </tr>\n",
       "    <tr>\n",
       "      <th>2</th>\n",
       "      <td>0</td>\n",
       "      <td>0</td>\n",
       "      <td>1</td>\n",
       "      <td>0</td>\n",
       "      <td>0</td>\n",
       "      <td>0</td>\n",
       "      <td>0</td>\n",
       "    </tr>\n",
       "    <tr>\n",
       "      <th>3</th>\n",
       "      <td>1</td>\n",
       "      <td>0</td>\n",
       "      <td>0</td>\n",
       "      <td>0</td>\n",
       "      <td>0</td>\n",
       "      <td>0</td>\n",
       "      <td>0</td>\n",
       "    </tr>\n",
       "    <tr>\n",
       "      <th>4</th>\n",
       "      <td>0</td>\n",
       "      <td>0</td>\n",
       "      <td>0</td>\n",
       "      <td>1</td>\n",
       "      <td>0</td>\n",
       "      <td>0</td>\n",
       "      <td>0</td>\n",
       "    </tr>\n",
       "    <tr>\n",
       "      <th>...</th>\n",
       "      <td>...</td>\n",
       "      <td>...</td>\n",
       "      <td>...</td>\n",
       "      <td>...</td>\n",
       "      <td>...</td>\n",
       "      <td>...</td>\n",
       "      <td>...</td>\n",
       "    </tr>\n",
       "    <tr>\n",
       "      <th>512</th>\n",
       "      <td>0</td>\n",
       "      <td>0</td>\n",
       "      <td>0</td>\n",
       "      <td>1</td>\n",
       "      <td>0</td>\n",
       "      <td>0</td>\n",
       "      <td>0</td>\n",
       "    </tr>\n",
       "    <tr>\n",
       "      <th>513</th>\n",
       "      <td>0</td>\n",
       "      <td>0</td>\n",
       "      <td>0</td>\n",
       "      <td>1</td>\n",
       "      <td>0</td>\n",
       "      <td>0</td>\n",
       "      <td>0</td>\n",
       "    </tr>\n",
       "    <tr>\n",
       "      <th>514</th>\n",
       "      <td>0</td>\n",
       "      <td>0</td>\n",
       "      <td>0</td>\n",
       "      <td>1</td>\n",
       "      <td>0</td>\n",
       "      <td>0</td>\n",
       "      <td>0</td>\n",
       "    </tr>\n",
       "    <tr>\n",
       "      <th>515</th>\n",
       "      <td>0</td>\n",
       "      <td>0</td>\n",
       "      <td>1</td>\n",
       "      <td>0</td>\n",
       "      <td>0</td>\n",
       "      <td>0</td>\n",
       "      <td>0</td>\n",
       "    </tr>\n",
       "    <tr>\n",
       "      <th>516</th>\n",
       "      <td>0</td>\n",
       "      <td>0</td>\n",
       "      <td>0</td>\n",
       "      <td>0</td>\n",
       "      <td>0</td>\n",
       "      <td>1</td>\n",
       "      <td>0</td>\n",
       "    </tr>\n",
       "  </tbody>\n",
       "</table>\n",
       "<p>517 rows × 7 columns</p>\n",
       "</div>"
      ],
      "text/plain": [
       "     fri  mon  sat  sun  thu  tue  wed\n",
       "0      1    0    0    0    0    0    0\n",
       "1      0    0    0    0    0    1    0\n",
       "2      0    0    1    0    0    0    0\n",
       "3      1    0    0    0    0    0    0\n",
       "4      0    0    0    1    0    0    0\n",
       "..   ...  ...  ...  ...  ...  ...  ...\n",
       "512    0    0    0    1    0    0    0\n",
       "513    0    0    0    1    0    0    0\n",
       "514    0    0    0    1    0    0    0\n",
       "515    0    0    1    0    0    0    0\n",
       "516    0    0    0    0    0    1    0\n",
       "\n",
       "[517 rows x 7 columns]"
      ]
     },
     "execution_count": 57,
     "metadata": {},
     "output_type": "execute_result"
    }
   ],
   "source": [
    "indicator_day = pd.get_dummies(df.loc[:, 'day'])\n",
    "indicator_day"
   ]
  },
  {
   "cell_type": "code",
   "execution_count": 58,
   "metadata": {},
   "outputs": [
    {
     "data": {
      "text/plain": [
       "array(['X', 'Y', 'month', 'day', 'FFMC', 'DMC', 'DC', 'ISI', 'temp', 'RH',\n",
       "       'wind', 'rain', 'area'], dtype=object)"
      ]
     },
     "execution_count": 58,
     "metadata": {},
     "output_type": "execute_result"
    }
   ],
   "source": [
    "df.columns.values"
   ]
  },
  {
   "cell_type": "markdown",
   "metadata": {},
   "source": [
    "Here, we stitch our original data `df` back together, now with the new indicator variables, using concat. We printed out the column names above to recall where 'month' and 'day' belong in the data."
   ]
  },
  {
   "cell_type": "code",
   "execution_count": 59,
   "metadata": {},
   "outputs": [
    {
     "data": {
      "text/html": [
       "<div>\n",
       "<style scoped>\n",
       "    .dataframe tbody tr th:only-of-type {\n",
       "        vertical-align: middle;\n",
       "    }\n",
       "\n",
       "    .dataframe tbody tr th {\n",
       "        vertical-align: top;\n",
       "    }\n",
       "\n",
       "    .dataframe thead th {\n",
       "        text-align: right;\n",
       "    }\n",
       "</style>\n",
       "<table border=\"1\" class=\"dataframe\">\n",
       "  <thead>\n",
       "    <tr style=\"text-align: right;\">\n",
       "      <th></th>\n",
       "      <th>X</th>\n",
       "      <th>Y</th>\n",
       "      <th>apr</th>\n",
       "      <th>aug</th>\n",
       "      <th>dec</th>\n",
       "      <th>feb</th>\n",
       "      <th>jan</th>\n",
       "      <th>jul</th>\n",
       "      <th>jun</th>\n",
       "      <th>mar</th>\n",
       "      <th>...</th>\n",
       "      <th>tue</th>\n",
       "      <th>wed</th>\n",
       "      <th>FFMC</th>\n",
       "      <th>DMC</th>\n",
       "      <th>DC</th>\n",
       "      <th>ISI</th>\n",
       "      <th>temp</th>\n",
       "      <th>RH</th>\n",
       "      <th>wind</th>\n",
       "      <th>rain</th>\n",
       "    </tr>\n",
       "  </thead>\n",
       "  <tbody>\n",
       "    <tr>\n",
       "      <th>0</th>\n",
       "      <td>7</td>\n",
       "      <td>5</td>\n",
       "      <td>0</td>\n",
       "      <td>0</td>\n",
       "      <td>0</td>\n",
       "      <td>0</td>\n",
       "      <td>0</td>\n",
       "      <td>0</td>\n",
       "      <td>0</td>\n",
       "      <td>1</td>\n",
       "      <td>...</td>\n",
       "      <td>0</td>\n",
       "      <td>0</td>\n",
       "      <td>86.2</td>\n",
       "      <td>26.2</td>\n",
       "      <td>94.3</td>\n",
       "      <td>5.1</td>\n",
       "      <td>8.2</td>\n",
       "      <td>51</td>\n",
       "      <td>6.7</td>\n",
       "      <td>0.0</td>\n",
       "    </tr>\n",
       "    <tr>\n",
       "      <th>1</th>\n",
       "      <td>7</td>\n",
       "      <td>4</td>\n",
       "      <td>0</td>\n",
       "      <td>0</td>\n",
       "      <td>0</td>\n",
       "      <td>0</td>\n",
       "      <td>0</td>\n",
       "      <td>0</td>\n",
       "      <td>0</td>\n",
       "      <td>0</td>\n",
       "      <td>...</td>\n",
       "      <td>1</td>\n",
       "      <td>0</td>\n",
       "      <td>90.6</td>\n",
       "      <td>35.4</td>\n",
       "      <td>669.1</td>\n",
       "      <td>6.7</td>\n",
       "      <td>18.0</td>\n",
       "      <td>33</td>\n",
       "      <td>0.9</td>\n",
       "      <td>0.0</td>\n",
       "    </tr>\n",
       "    <tr>\n",
       "      <th>2</th>\n",
       "      <td>7</td>\n",
       "      <td>4</td>\n",
       "      <td>0</td>\n",
       "      <td>0</td>\n",
       "      <td>0</td>\n",
       "      <td>0</td>\n",
       "      <td>0</td>\n",
       "      <td>0</td>\n",
       "      <td>0</td>\n",
       "      <td>0</td>\n",
       "      <td>...</td>\n",
       "      <td>0</td>\n",
       "      <td>0</td>\n",
       "      <td>90.6</td>\n",
       "      <td>43.7</td>\n",
       "      <td>686.9</td>\n",
       "      <td>6.7</td>\n",
       "      <td>14.6</td>\n",
       "      <td>33</td>\n",
       "      <td>1.3</td>\n",
       "      <td>0.0</td>\n",
       "    </tr>\n",
       "    <tr>\n",
       "      <th>3</th>\n",
       "      <td>8</td>\n",
       "      <td>6</td>\n",
       "      <td>0</td>\n",
       "      <td>0</td>\n",
       "      <td>0</td>\n",
       "      <td>0</td>\n",
       "      <td>0</td>\n",
       "      <td>0</td>\n",
       "      <td>0</td>\n",
       "      <td>1</td>\n",
       "      <td>...</td>\n",
       "      <td>0</td>\n",
       "      <td>0</td>\n",
       "      <td>91.7</td>\n",
       "      <td>33.3</td>\n",
       "      <td>77.5</td>\n",
       "      <td>9.0</td>\n",
       "      <td>8.3</td>\n",
       "      <td>97</td>\n",
       "      <td>4.0</td>\n",
       "      <td>0.2</td>\n",
       "    </tr>\n",
       "    <tr>\n",
       "      <th>4</th>\n",
       "      <td>8</td>\n",
       "      <td>6</td>\n",
       "      <td>0</td>\n",
       "      <td>0</td>\n",
       "      <td>0</td>\n",
       "      <td>0</td>\n",
       "      <td>0</td>\n",
       "      <td>0</td>\n",
       "      <td>0</td>\n",
       "      <td>1</td>\n",
       "      <td>...</td>\n",
       "      <td>0</td>\n",
       "      <td>0</td>\n",
       "      <td>89.3</td>\n",
       "      <td>51.3</td>\n",
       "      <td>102.2</td>\n",
       "      <td>9.6</td>\n",
       "      <td>11.4</td>\n",
       "      <td>99</td>\n",
       "      <td>1.8</td>\n",
       "      <td>0.0</td>\n",
       "    </tr>\n",
       "    <tr>\n",
       "      <th>...</th>\n",
       "      <td>...</td>\n",
       "      <td>...</td>\n",
       "      <td>...</td>\n",
       "      <td>...</td>\n",
       "      <td>...</td>\n",
       "      <td>...</td>\n",
       "      <td>...</td>\n",
       "      <td>...</td>\n",
       "      <td>...</td>\n",
       "      <td>...</td>\n",
       "      <td>...</td>\n",
       "      <td>...</td>\n",
       "      <td>...</td>\n",
       "      <td>...</td>\n",
       "      <td>...</td>\n",
       "      <td>...</td>\n",
       "      <td>...</td>\n",
       "      <td>...</td>\n",
       "      <td>...</td>\n",
       "      <td>...</td>\n",
       "      <td>...</td>\n",
       "    </tr>\n",
       "    <tr>\n",
       "      <th>512</th>\n",
       "      <td>4</td>\n",
       "      <td>3</td>\n",
       "      <td>0</td>\n",
       "      <td>1</td>\n",
       "      <td>0</td>\n",
       "      <td>0</td>\n",
       "      <td>0</td>\n",
       "      <td>0</td>\n",
       "      <td>0</td>\n",
       "      <td>0</td>\n",
       "      <td>...</td>\n",
       "      <td>0</td>\n",
       "      <td>0</td>\n",
       "      <td>81.6</td>\n",
       "      <td>56.7</td>\n",
       "      <td>665.6</td>\n",
       "      <td>1.9</td>\n",
       "      <td>27.8</td>\n",
       "      <td>32</td>\n",
       "      <td>2.7</td>\n",
       "      <td>0.0</td>\n",
       "    </tr>\n",
       "    <tr>\n",
       "      <th>513</th>\n",
       "      <td>2</td>\n",
       "      <td>4</td>\n",
       "      <td>0</td>\n",
       "      <td>1</td>\n",
       "      <td>0</td>\n",
       "      <td>0</td>\n",
       "      <td>0</td>\n",
       "      <td>0</td>\n",
       "      <td>0</td>\n",
       "      <td>0</td>\n",
       "      <td>...</td>\n",
       "      <td>0</td>\n",
       "      <td>0</td>\n",
       "      <td>81.6</td>\n",
       "      <td>56.7</td>\n",
       "      <td>665.6</td>\n",
       "      <td>1.9</td>\n",
       "      <td>21.9</td>\n",
       "      <td>71</td>\n",
       "      <td>5.8</td>\n",
       "      <td>0.0</td>\n",
       "    </tr>\n",
       "    <tr>\n",
       "      <th>514</th>\n",
       "      <td>7</td>\n",
       "      <td>4</td>\n",
       "      <td>0</td>\n",
       "      <td>1</td>\n",
       "      <td>0</td>\n",
       "      <td>0</td>\n",
       "      <td>0</td>\n",
       "      <td>0</td>\n",
       "      <td>0</td>\n",
       "      <td>0</td>\n",
       "      <td>...</td>\n",
       "      <td>0</td>\n",
       "      <td>0</td>\n",
       "      <td>81.6</td>\n",
       "      <td>56.7</td>\n",
       "      <td>665.6</td>\n",
       "      <td>1.9</td>\n",
       "      <td>21.2</td>\n",
       "      <td>70</td>\n",
       "      <td>6.7</td>\n",
       "      <td>0.0</td>\n",
       "    </tr>\n",
       "    <tr>\n",
       "      <th>515</th>\n",
       "      <td>1</td>\n",
       "      <td>4</td>\n",
       "      <td>0</td>\n",
       "      <td>1</td>\n",
       "      <td>0</td>\n",
       "      <td>0</td>\n",
       "      <td>0</td>\n",
       "      <td>0</td>\n",
       "      <td>0</td>\n",
       "      <td>0</td>\n",
       "      <td>...</td>\n",
       "      <td>0</td>\n",
       "      <td>0</td>\n",
       "      <td>94.4</td>\n",
       "      <td>146.0</td>\n",
       "      <td>614.7</td>\n",
       "      <td>11.3</td>\n",
       "      <td>25.6</td>\n",
       "      <td>42</td>\n",
       "      <td>4.0</td>\n",
       "      <td>0.0</td>\n",
       "    </tr>\n",
       "    <tr>\n",
       "      <th>516</th>\n",
       "      <td>6</td>\n",
       "      <td>3</td>\n",
       "      <td>0</td>\n",
       "      <td>0</td>\n",
       "      <td>0</td>\n",
       "      <td>0</td>\n",
       "      <td>0</td>\n",
       "      <td>0</td>\n",
       "      <td>0</td>\n",
       "      <td>0</td>\n",
       "      <td>...</td>\n",
       "      <td>1</td>\n",
       "      <td>0</td>\n",
       "      <td>79.5</td>\n",
       "      <td>3.0</td>\n",
       "      <td>106.7</td>\n",
       "      <td>1.1</td>\n",
       "      <td>11.8</td>\n",
       "      <td>31</td>\n",
       "      <td>4.5</td>\n",
       "      <td>0.0</td>\n",
       "    </tr>\n",
       "  </tbody>\n",
       "</table>\n",
       "<p>517 rows × 29 columns</p>\n",
       "</div>"
      ],
      "text/plain": [
       "     X  Y  apr  aug  dec  feb  jan  jul  jun  mar  ...  tue  wed  FFMC    DMC  \\\n",
       "0    7  5    0    0    0    0    0    0    0    1  ...    0    0  86.2   26.2   \n",
       "1    7  4    0    0    0    0    0    0    0    0  ...    1    0  90.6   35.4   \n",
       "2    7  4    0    0    0    0    0    0    0    0  ...    0    0  90.6   43.7   \n",
       "3    8  6    0    0    0    0    0    0    0    1  ...    0    0  91.7   33.3   \n",
       "4    8  6    0    0    0    0    0    0    0    1  ...    0    0  89.3   51.3   \n",
       "..  .. ..  ...  ...  ...  ...  ...  ...  ...  ...  ...  ...  ...   ...    ...   \n",
       "512  4  3    0    1    0    0    0    0    0    0  ...    0    0  81.6   56.7   \n",
       "513  2  4    0    1    0    0    0    0    0    0  ...    0    0  81.6   56.7   \n",
       "514  7  4    0    1    0    0    0    0    0    0  ...    0    0  81.6   56.7   \n",
       "515  1  4    0    1    0    0    0    0    0    0  ...    0    0  94.4  146.0   \n",
       "516  6  3    0    0    0    0    0    0    0    0  ...    1    0  79.5    3.0   \n",
       "\n",
       "        DC   ISI  temp  RH  wind  rain  \n",
       "0     94.3   5.1   8.2  51   6.7   0.0  \n",
       "1    669.1   6.7  18.0  33   0.9   0.0  \n",
       "2    686.9   6.7  14.6  33   1.3   0.0  \n",
       "3     77.5   9.0   8.3  97   4.0   0.2  \n",
       "4    102.2   9.6  11.4  99   1.8   0.0  \n",
       "..     ...   ...   ...  ..   ...   ...  \n",
       "512  665.6   1.9  27.8  32   2.7   0.0  \n",
       "513  665.6   1.9  21.9  71   5.8   0.0  \n",
       "514  665.6   1.9  21.2  70   6.7   0.0  \n",
       "515  614.7  11.3  25.6  42   4.0   0.0  \n",
       "516  106.7   1.1  11.8  31   4.5   0.0  \n",
       "\n",
       "[517 rows x 29 columns]"
      ]
     },
     "execution_count": 59,
     "metadata": {},
     "output_type": "execute_result"
    }
   ],
   "source": [
    "X = pd.concat([\n",
    "        df.iloc[:, :2], \n",
    "        indicator_month, \n",
    "        indicator_day,\n",
    "        df.iloc[:, 4:-1]],\n",
    "        axis=1)\n",
    "X"
   ]
  },
  {
   "cell_type": "markdown",
   "metadata": {},
   "source": [
    "Before we run LS again we need to normalize the data again, as seen below."
   ]
  },
  {
   "cell_type": "code",
   "execution_count": 60,
   "metadata": {
    "slideshow": {
     "slide_type": "notes"
    }
   },
   "outputs": [],
   "source": [
    "X = X.values # Converts Pandas DataFrame back to Numpy array\n",
    "mu = np.mean(X, axis=0)\n",
    "std = np.std(X, axis=0)"
   ]
  },
  {
   "cell_type": "code",
   "execution_count": 61,
   "metadata": {
    "slideshow": {
     "slide_type": "notes"
    }
   },
   "outputs": [
    {
     "data": {
      "text/html": [
       "<div>\n",
       "<style scoped>\n",
       "    .dataframe tbody tr th:only-of-type {\n",
       "        vertical-align: middle;\n",
       "    }\n",
       "\n",
       "    .dataframe tbody tr th {\n",
       "        vertical-align: top;\n",
       "    }\n",
       "\n",
       "    .dataframe thead th {\n",
       "        text-align: right;\n",
       "    }\n",
       "</style>\n",
       "<table border=\"1\" class=\"dataframe\">\n",
       "  <thead>\n",
       "    <tr style=\"text-align: right;\">\n",
       "      <th></th>\n",
       "      <th>0</th>\n",
       "      <th>1</th>\n",
       "      <th>2</th>\n",
       "      <th>3</th>\n",
       "      <th>4</th>\n",
       "      <th>5</th>\n",
       "      <th>6</th>\n",
       "      <th>7</th>\n",
       "      <th>8</th>\n",
       "      <th>9</th>\n",
       "      <th>...</th>\n",
       "      <th>19</th>\n",
       "      <th>20</th>\n",
       "      <th>21</th>\n",
       "      <th>22</th>\n",
       "      <th>23</th>\n",
       "      <th>24</th>\n",
       "      <th>25</th>\n",
       "      <th>26</th>\n",
       "      <th>27</th>\n",
       "      <th>28</th>\n",
       "    </tr>\n",
       "  </thead>\n",
       "  <tbody>\n",
       "    <tr>\n",
       "      <th>count</th>\n",
       "      <td>5.170000e+02</td>\n",
       "      <td>5.170000e+02</td>\n",
       "      <td>517.000000</td>\n",
       "      <td>5.170000e+02</td>\n",
       "      <td>5.170000e+02</td>\n",
       "      <td>5.170000e+02</td>\n",
       "      <td>5.170000e+02</td>\n",
       "      <td>5.170000e+02</td>\n",
       "      <td>5.170000e+02</td>\n",
       "      <td>5.170000e+02</td>\n",
       "      <td>...</td>\n",
       "      <td>5.170000e+02</td>\n",
       "      <td>5.170000e+02</td>\n",
       "      <td>5.170000e+02</td>\n",
       "      <td>5.170000e+02</td>\n",
       "      <td>5.170000e+02</td>\n",
       "      <td>5.170000e+02</td>\n",
       "      <td>5.170000e+02</td>\n",
       "      <td>5.170000e+02</td>\n",
       "      <td>5.170000e+02</td>\n",
       "      <td>5.170000e+02</td>\n",
       "    </tr>\n",
       "    <tr>\n",
       "      <th>mean</th>\n",
       "      <td>2.113074e-16</td>\n",
       "      <td>2.611279e-16</td>\n",
       "      <td>0.000000</td>\n",
       "      <td>8.246144e-17</td>\n",
       "      <td>-6.871787e-17</td>\n",
       "      <td>2.061536e-17</td>\n",
       "      <td>2.233331e-17</td>\n",
       "      <td>-1.374357e-17</td>\n",
       "      <td>-1.374357e-17</td>\n",
       "      <td>-8.246144e-17</td>\n",
       "      <td>...</td>\n",
       "      <td>5.153840e-18</td>\n",
       "      <td>1.030768e-17</td>\n",
       "      <td>-1.752306e-15</td>\n",
       "      <td>-2.748715e-17</td>\n",
       "      <td>6.871787e-17</td>\n",
       "      <td>1.030768e-17</td>\n",
       "      <td>2.542561e-16</td>\n",
       "      <td>2.198972e-16</td>\n",
       "      <td>-4.191790e-16</td>\n",
       "      <td>-6.871787e-18</td>\n",
       "    </tr>\n",
       "    <tr>\n",
       "      <th>std</th>\n",
       "      <td>1.000969e+00</td>\n",
       "      <td>1.000969e+00</td>\n",
       "      <td>1.000969</td>\n",
       "      <td>1.000969e+00</td>\n",
       "      <td>1.000969e+00</td>\n",
       "      <td>1.000969e+00</td>\n",
       "      <td>1.000969e+00</td>\n",
       "      <td>1.000969e+00</td>\n",
       "      <td>1.000969e+00</td>\n",
       "      <td>1.000969e+00</td>\n",
       "      <td>...</td>\n",
       "      <td>1.000969e+00</td>\n",
       "      <td>1.000969e+00</td>\n",
       "      <td>1.000969e+00</td>\n",
       "      <td>1.000969e+00</td>\n",
       "      <td>1.000969e+00</td>\n",
       "      <td>1.000969e+00</td>\n",
       "      <td>1.000969e+00</td>\n",
       "      <td>1.000969e+00</td>\n",
       "      <td>1.000969e+00</td>\n",
       "      <td>1.000969e+00</td>\n",
       "    </tr>\n",
       "    <tr>\n",
       "      <th>min</th>\n",
       "      <td>-1.587360e+00</td>\n",
       "      <td>-1.871724e+00</td>\n",
       "      <td>-0.133103</td>\n",
       "      <td>-7.433388e-01</td>\n",
       "      <td>-1.331035e-01</td>\n",
       "      <td>-2.006027e-01</td>\n",
       "      <td>-6.231770e-02</td>\n",
       "      <td>-2.568645e-01</td>\n",
       "      <td>-1.843909e-01</td>\n",
       "      <td>-3.415123e-01</td>\n",
       "      <td>...</td>\n",
       "      <td>-3.758728e-01</td>\n",
       "      <td>-3.415123e-01</td>\n",
       "      <td>-1.304582e+01</td>\n",
       "      <td>-1.715608e+00</td>\n",
       "      <td>-2.179108e+00</td>\n",
       "      <td>-1.980578e+00</td>\n",
       "      <td>-2.876943e+00</td>\n",
       "      <td>-1.796637e+00</td>\n",
       "      <td>-2.021098e+00</td>\n",
       "      <td>-7.326831e-02</td>\n",
       "    </tr>\n",
       "    <tr>\n",
       "      <th>25%</th>\n",
       "      <td>-7.221360e-01</td>\n",
       "      <td>-2.440010e-01</td>\n",
       "      <td>-0.133103</td>\n",
       "      <td>-7.433388e-01</td>\n",
       "      <td>-1.331035e-01</td>\n",
       "      <td>-2.006027e-01</td>\n",
       "      <td>-6.231770e-02</td>\n",
       "      <td>-2.568645e-01</td>\n",
       "      <td>-1.843909e-01</td>\n",
       "      <td>-3.415123e-01</td>\n",
       "      <td>...</td>\n",
       "      <td>-3.758728e-01</td>\n",
       "      <td>-3.415123e-01</td>\n",
       "      <td>-8.063453e-02</td>\n",
       "      <td>-6.606652e-01</td>\n",
       "      <td>-4.448281e-01</td>\n",
       "      <td>-5.535954e-01</td>\n",
       "      <td>-5.842379e-01</td>\n",
       "      <td>-6.924563e-01</td>\n",
       "      <td>-7.361236e-01</td>\n",
       "      <td>-7.326831e-02</td>\n",
       "    </tr>\n",
       "    <tr>\n",
       "      <th>50%</th>\n",
       "      <td>-2.895238e-01</td>\n",
       "      <td>-2.440010e-01</td>\n",
       "      <td>-0.133103</td>\n",
       "      <td>-7.433388e-01</td>\n",
       "      <td>-1.331035e-01</td>\n",
       "      <td>-2.006027e-01</td>\n",
       "      <td>-6.231770e-02</td>\n",
       "      <td>-2.568645e-01</td>\n",
       "      <td>-1.843909e-01</td>\n",
       "      <td>-3.415123e-01</td>\n",
       "      <td>...</td>\n",
       "      <td>-3.758728e-01</td>\n",
       "      <td>-3.415123e-01</td>\n",
       "      <td>1.732292e-01</td>\n",
       "      <td>-4.020255e-02</td>\n",
       "      <td>4.691190e-01</td>\n",
       "      <td>-1.364774e-01</td>\n",
       "      <td>7.082076e-02</td>\n",
       "      <td>-1.403660e-01</td>\n",
       "      <td>-9.833712e-03</td>\n",
       "      <td>-7.326831e-02</td>\n",
       "    </tr>\n",
       "    <tr>\n",
       "      <th>75%</th>\n",
       "      <td>1.008313e+00</td>\n",
       "      <td>5.698604e-01</td>\n",
       "      <td>-0.133103</td>\n",
       "      <td>1.345282e+00</td>\n",
       "      <td>-1.331035e-01</td>\n",
       "      <td>-2.006027e-01</td>\n",
       "      <td>-6.231770e-02</td>\n",
       "      <td>-2.568645e-01</td>\n",
       "      <td>-1.843909e-01</td>\n",
       "      <td>-3.415123e-01</td>\n",
       "      <td>...</td>\n",
       "      <td>-3.758728e-01</td>\n",
       "      <td>-3.415123e-01</td>\n",
       "      <td>4.089598e-01</td>\n",
       "      <td>4.927389e-01</td>\n",
       "      <td>6.696628e-01</td>\n",
       "      <td>3.904086e-01</td>\n",
       "      <td>6.741643e-01</td>\n",
       "      <td>5.344111e-01</td>\n",
       "      <td>4.929823e-01</td>\n",
       "      <td>-7.326831e-02</td>\n",
       "    </tr>\n",
       "    <tr>\n",
       "      <th>max</th>\n",
       "      <td>1.873537e+00</td>\n",
       "      <td>3.825306e+00</td>\n",
       "      <td>7.512952</td>\n",
       "      <td>1.345282e+00</td>\n",
       "      <td>7.512952e+00</td>\n",
       "      <td>4.984977e+00</td>\n",
       "      <td>1.604681e+01</td>\n",
       "      <td>3.893103e+00</td>\n",
       "      <td>5.423261e+00</td>\n",
       "      <td>2.928152e+00</td>\n",
       "      <td>...</td>\n",
       "      <td>2.660475e+00</td>\n",
       "      <td>2.928152e+00</td>\n",
       "      <td>1.007353e+00</td>\n",
       "      <td>2.819865e+00</td>\n",
       "      <td>1.261610e+00</td>\n",
       "      <td>1.033538e+01</td>\n",
       "      <td>2.484195e+00</td>\n",
       "      <td>3.417549e+00</td>\n",
       "      <td>3.007063e+00</td>\n",
       "      <td>2.157228e+01</td>\n",
       "    </tr>\n",
       "  </tbody>\n",
       "</table>\n",
       "<p>8 rows × 29 columns</p>\n",
       "</div>"
      ],
      "text/plain": [
       "                 0             1           2             3             4   \\\n",
       "count  5.170000e+02  5.170000e+02  517.000000  5.170000e+02  5.170000e+02   \n",
       "mean   2.113074e-16  2.611279e-16    0.000000  8.246144e-17 -6.871787e-17   \n",
       "std    1.000969e+00  1.000969e+00    1.000969  1.000969e+00  1.000969e+00   \n",
       "min   -1.587360e+00 -1.871724e+00   -0.133103 -7.433388e-01 -1.331035e-01   \n",
       "25%   -7.221360e-01 -2.440010e-01   -0.133103 -7.433388e-01 -1.331035e-01   \n",
       "50%   -2.895238e-01 -2.440010e-01   -0.133103 -7.433388e-01 -1.331035e-01   \n",
       "75%    1.008313e+00  5.698604e-01   -0.133103  1.345282e+00 -1.331035e-01   \n",
       "max    1.873537e+00  3.825306e+00    7.512952  1.345282e+00  7.512952e+00   \n",
       "\n",
       "                 5             6             7             8             9   \\\n",
       "count  5.170000e+02  5.170000e+02  5.170000e+02  5.170000e+02  5.170000e+02   \n",
       "mean   2.061536e-17  2.233331e-17 -1.374357e-17 -1.374357e-17 -8.246144e-17   \n",
       "std    1.000969e+00  1.000969e+00  1.000969e+00  1.000969e+00  1.000969e+00   \n",
       "min   -2.006027e-01 -6.231770e-02 -2.568645e-01 -1.843909e-01 -3.415123e-01   \n",
       "25%   -2.006027e-01 -6.231770e-02 -2.568645e-01 -1.843909e-01 -3.415123e-01   \n",
       "50%   -2.006027e-01 -6.231770e-02 -2.568645e-01 -1.843909e-01 -3.415123e-01   \n",
       "75%   -2.006027e-01 -6.231770e-02 -2.568645e-01 -1.843909e-01 -3.415123e-01   \n",
       "max    4.984977e+00  1.604681e+01  3.893103e+00  5.423261e+00  2.928152e+00   \n",
       "\n",
       "       ...            19            20            21            22  \\\n",
       "count  ...  5.170000e+02  5.170000e+02  5.170000e+02  5.170000e+02   \n",
       "mean   ...  5.153840e-18  1.030768e-17 -1.752306e-15 -2.748715e-17   \n",
       "std    ...  1.000969e+00  1.000969e+00  1.000969e+00  1.000969e+00   \n",
       "min    ... -3.758728e-01 -3.415123e-01 -1.304582e+01 -1.715608e+00   \n",
       "25%    ... -3.758728e-01 -3.415123e-01 -8.063453e-02 -6.606652e-01   \n",
       "50%    ... -3.758728e-01 -3.415123e-01  1.732292e-01 -4.020255e-02   \n",
       "75%    ... -3.758728e-01 -3.415123e-01  4.089598e-01  4.927389e-01   \n",
       "max    ...  2.660475e+00  2.928152e+00  1.007353e+00  2.819865e+00   \n",
       "\n",
       "                 23            24            25            26            27  \\\n",
       "count  5.170000e+02  5.170000e+02  5.170000e+02  5.170000e+02  5.170000e+02   \n",
       "mean   6.871787e-17  1.030768e-17  2.542561e-16  2.198972e-16 -4.191790e-16   \n",
       "std    1.000969e+00  1.000969e+00  1.000969e+00  1.000969e+00  1.000969e+00   \n",
       "min   -2.179108e+00 -1.980578e+00 -2.876943e+00 -1.796637e+00 -2.021098e+00   \n",
       "25%   -4.448281e-01 -5.535954e-01 -5.842379e-01 -6.924563e-01 -7.361236e-01   \n",
       "50%    4.691190e-01 -1.364774e-01  7.082076e-02 -1.403660e-01 -9.833712e-03   \n",
       "75%    6.696628e-01  3.904086e-01  6.741643e-01  5.344111e-01  4.929823e-01   \n",
       "max    1.261610e+00  1.033538e+01  2.484195e+00  3.417549e+00  3.007063e+00   \n",
       "\n",
       "                 28  \n",
       "count  5.170000e+02  \n",
       "mean  -6.871787e-18  \n",
       "std    1.000969e+00  \n",
       "min   -7.326831e-02  \n",
       "25%   -7.326831e-02  \n",
       "50%   -7.326831e-02  \n",
       "75%   -7.326831e-02  \n",
       "max    2.157228e+01  \n",
       "\n",
       "[8 rows x 29 columns]"
      ]
     },
     "execution_count": 61,
     "metadata": {},
     "output_type": "execute_result"
    }
   ],
   "source": [
    "normX = (X - mu) / std\n",
    "pd.DataFrame(normX).describe()"
   ]
  },
  {
   "cell_type": "code",
   "execution_count": 62,
   "metadata": {
    "slideshow": {
     "slide_type": "notes"
    }
   },
   "outputs": [
    {
     "data": {
      "text/plain": [
       "(517, 29)"
      ]
     },
     "execution_count": 62,
     "metadata": {},
     "output_type": "execute_result"
    }
   ],
   "source": [
    "normX.shape"
   ]
  },
  {
   "cell_type": "markdown",
   "metadata": {},
   "source": [
    "### TODO\n",
    "Let's re-add our bias term to our new data which contains the indicator variables and is normalized.\n",
    "\n",
    "* Add the bias term, a vector of 1s, to the first column of `normX` and store the result in a new variable called `X1i`.\n",
    "* Recompute the least squares solution using the normalized matrix `X1i` storing the new weights in `w_i`\n",
    "* Calculate the new predictions and store in `Yi`\n"
   ]
  },
  {
   "cell_type": "code",
   "execution_count": 63,
   "metadata": {
    "slideshow": {
     "slide_type": "notes"
    }
   },
   "outputs": [],
   "source": [
    "# TODO: Add the bias term\n",
    "X1i ="
   ]
  },
  {
   "cell_type": "code",
   "execution_count": 64,
   "metadata": {
    "slideshow": {
     "slide_type": "notes"
    }
   },
   "outputs": [],
   "source": [
    "# TODO: Recompute the least squares solution using the normalized matrix `X1i`\n",
    "w_i ="
   ]
  },
  {
   "cell_type": "code",
   "execution_count": 65,
   "metadata": {
    "slideshow": {
     "slide_type": "notes"
    }
   },
   "outputs": [],
   "source": [
    "# TODO: Calcualte the predictions\n",
    "Yi ="
   ]
  },
  {
   "cell_type": "code",
   "execution_count": 66,
   "metadata": {},
   "outputs": [
    {
     "data": {
      "text/plain": [
       "1.3442088524180986"
      ]
     },
     "execution_count": 66,
     "metadata": {},
     "output_type": "execute_result"
    }
   ],
   "source": [
    "# Computes RMSE\n",
    "np.sqrt(np.mean((Tlog- Yi)**2))"
   ]
  },
  {
   "cell_type": "markdown",
   "metadata": {},
   "source": [
    "Let's plot the results and see if our solution is better than the previous solution."
   ]
  },
  {
   "cell_type": "code",
   "execution_count": 67,
   "metadata": {
    "scrolled": true,
    "slideshow": {
     "slide_type": "notes"
    }
   },
   "outputs": [
    {
     "data": {
      "text/plain": [
       "[<matplotlib.lines.Line2D at 0x7fdc705ccf90>]"
      ]
     },
     "execution_count": 67,
     "metadata": {},
     "output_type": "execute_result"
    },
    {
     "data": {
      "image/png": "[encoded data removed]",
      "text/plain": [
       "<Figure size 432x288 with 1 Axes>"
      ]
     },
     "metadata": {
      "needs_background": "light"
     },
     "output_type": "display_data"
    }
   ],
   "source": [
    "plt.plot(Tlog, 'ob')\n",
    "plt.plot(Yi, 'xr')"
   ]
  },
  {
   "cell_type": "markdown",
   "metadata": {
    "slideshow": {
     "slide_type": "fragment"
    }
   },
   "source": [
    "\n",
    "# Better? What's next?\n",
    "\n",
    "Well, still it looks poor. However, our predictions have begun to spread out a tad bit more than before.\n",
    "\n",
    "Now would probably be good time try the other ML models, ones that are more flexible or sophisticated. We'll dicuss such models in the near future but for now let's shift our attention to least mean squares (LMS) and see how it preforms."
   ]
  },
  {
   "cell_type": "markdown",
   "metadata": {
    "slideshow": {
     "slide_type": "fragment"
    }
   },
   "source": [
    "# Least Mean Squares \n",
    "\n",
    "Let's switch gears and practice LMS, an online learning algorithm. Recall that the following equation is the update rule for slowly moving our weights towards the optimal weights which will give us the best predictions. \n",
    "\n",
    "$w^{(k+1)} = w^{(k)} - \\alpha(w^{(k)^T} \\cdot x_k - t_k) \\times x_k$\n",
    "\n",
    "Here $w$ is a vector of weights corresponding to each input feature before applying a new data sample $k$, $x_k$ is a vector of input features for a given data sample, and $t_k$ is the scalar target for said data sample. **Note, $\\cdot$ corresponds to the dot product and $\\times$ corresponds to scalar multiplication.**"
   ]
  },
  {
   "cell_type": "markdown",
   "metadata": {},
   "source": [
    "### TODO\n",
    "Let's practice by adding LMS weight update and target prediction to the code below.\n",
    "\n",
    "* Add the LMS online update solution indexing `Xli` and `Tlog` one data sample at a time \n",
    "* Use the current weights `w_lms` to make predictions for all of `Xli`"
   ]
  },
  {
   "cell_type": "code",
   "execution_count": 68,
   "metadata": {
    "scrolled": true,
    "slideshow": {
     "slide_type": "notes"
    }
   },
   "outputs": [
    {
     "data": {
      "image/png": "[encoded data removed]",
      "text/plain": [
       "<Figure size 1152x576 with 2 Axes>"
      ]
     },
     "metadata": {
      "needs_background": "light"
     },
     "output_type": "display_data"
    }
   ],
   "source": [
    "import IPython.display as ipd  # for display and clear_output\n",
    "\n",
    "\n",
    "# Read one by one and update weights \n",
    "alpha = 0.001 \n",
    "\n",
    "w_lms = np.random.rand(X1i.shape[1])\n",
    "\n",
    "fig = plt.figure(figsize=(16,8))\n",
    "\n",
    "errs = []\n",
    "# Read data samples one-by-one making weight updates and predictions \n",
    "for k in range(N):\n",
    "    # TODO: Add the LMS online update \n",
    "    w_lms = \n",
    "    \n",
    "    # TODO: Use the current weights `w_lms` to make predictions for all of `Xli`\n",
    "    Y_lms = \n",
    "    errs.append(np.sqrt(np.mean(Tlog - Y_lms)**2))\n",
    "    \n",
    "    plt.clf()\n",
    "    plt.subplot(1, 2, 1)\n",
    "    plt.plot(errs) # blue line left graph\n",
    "    plt.ylabel(\"RMSE\")\n",
    "    \n",
    "    plt.subplot(1,2, 2)\n",
    "    plt.plot(Tlog[:k], 'ob') # blue line right graph\n",
    "    plt.plot(Y_lms[:k], 'xr') # orange line right graph\n",
    "    plt.ylabel(\"Current Estimation\")\n",
    "    \n",
    "    ipd.clear_output(wait=True)\n",
    "    ipd.display(fig)\n",
    "ipd.clear_output(wait=True)"
   ]
  },
  {
   "cell_type": "markdown",
   "metadata": {},
   "source": [
    "Here we can observe our RMSE error for LMS."
   ]
  },
  {
   "cell_type": "code",
   "execution_count": 69,
   "metadata": {
    "slideshow": {
     "slide_type": "notes"
    }
   },
   "outputs": [
    {
     "name": "stdout",
     "output_type": "stream",
     "text": [
      "RMSE: 0.2821716138454773\n"
     ]
    }
   ],
   "source": [
    "print(\"RMSE: {0}\".format(errs[-1]))"
   ]
  },
  {
   "cell_type": "markdown",
   "metadata": {
    "slideshow": {
     "slide_type": "slide"
    }
   },
   "source": [
    "# Partitioning Data \n",
    "\n",
    "So far we have seen how the LS and LMS models preform on our forest fire dataset. Throughout this lab we have been evaluating our models using the data we trained on. This is not typically useful as we want to know how our model will preform on unseen data. Given the limited size of data, we often simulate unseen data by simply partitioning our data into a training and testing set. Here the training set is used exclusively for training and the testing set acts as our unseen data we want to make predictions on.\n",
    "\n",
    "Read the function `partition()` below and try to understand how the data is partitioned into training and testing sets. "
   ]
  },
  {
   "cell_type": "code",
   "execution_count": 70,
   "metadata": {
    "slideshow": {
     "slide_type": "notes"
    }
   },
   "outputs": [],
   "source": [
    "# now partition the data \n",
    "\n",
    "\"\"\" partitioning data\n",
    "\n",
    "    parameters\n",
    "    -----------\n",
    "    X        pd.DataFrame\n",
    "             input data to partition\n",
    "    T        pd.DataFrame\n",
    "             target labels to partition\n",
    "    raito    list\n",
    "             list of ratios for partitions (should be summed to 1) \n",
    "             the number of return pairs are different\n",
    "\"\"\"\n",
    "def partition(X, T, ratio=[0.8, 0.2]): \n",
    "    \n",
    "    # Checks to make sure ratio sums to 1\n",
    "    assert(np.sum(ratio) == 1)\n",
    "    \n",
    "    # Shuffle the data indices \n",
    "    idxs = np.random.permutation(X.index)\n",
    "    \n",
    "    # Store the number of data samples \n",
    "    N = X.shape[0]\n",
    "    \n",
    "    Xs = []\n",
    "    Ts = []\n",
    "    i = 0  # first index to zero\n",
    "    for k, r in enumerate(ratio):\n",
    "         # Number of rows that corresponds to kth element in ratios\n",
    "        nrows = int(round(N * r)) \n",
    "        \n",
    "        # If we are on the last ratio simply use the remaining data samples\n",
    "        if k == len(ratio)-1:\n",
    "            Xs.append(X.iloc[i:, :])\n",
    "            Ts.append(T.iloc[i:, :])\n",
    "        else:\n",
    "            Xs.append(X.iloc[i:i+nrows, :])\n",
    "            Ts.append(T.iloc[i:i+nrows, :])\n",
    "        \n",
    "        i += nrows\n",
    "    \n",
    "    return Xs, Ts"
   ]
  },
  {
   "cell_type": "code",
   "execution_count": 71,
   "metadata": {
    "slideshow": {
     "slide_type": "notes"
    }
   },
   "outputs": [],
   "source": [
    "Xlst, Tlst = partition(pd.DataFrame(X1i), pd.DataFrame(Tlog))"
   ]
  },
  {
   "cell_type": "code",
   "execution_count": 72,
   "metadata": {
    "slideshow": {
     "slide_type": "notes"
    }
   },
   "outputs": [
    {
     "name": "stdout",
     "output_type": "stream",
     "text": [
      "Train data shape: (414, 30)\n",
      "Train target shape: (414, 1)\n"
     ]
    }
   ],
   "source": [
    "# Train data shape\n",
    "print(\"Train data shape: {}\".format(Xlst[0].shape))\n",
    "# Train target data shape\n",
    "print(\"Train target shape: {}\".format(Tlst[0].shape))"
   ]
  },
  {
   "cell_type": "code",
   "execution_count": 73,
   "metadata": {
    "slideshow": {
     "slide_type": "notes"
    }
   },
   "outputs": [
    {
     "name": "stdout",
     "output_type": "stream",
     "text": [
      "Test data shape: (103, 30)\n",
      "Test target shape: (103, 1)\n"
     ]
    }
   ],
   "source": [
    "# Test data shape\n",
    "print(\"Test data shape: {}\".format(Xlst[1].shape))\n",
    "# Test target data shape\n",
    "print(\"Test target shape: {}\".format(Tlst[1].shape))"
   ]
  },
  {
   "cell_type": "markdown",
   "metadata": {},
   "source": [
    "### TODO\n",
    "Use the training set for training the LMS model and then apply the learned weights to the test set to evaluate the performance. \n",
    "\n",
    "* Create the following variables `Xtrain` and `Ttrain` for training and `Xtest` and `Ttest` for testing\n",
    "    * Hint: split the lists `Xlst` and `Tlst` into separate variables\n",
    "* Compute the LMS online update of weight `w` using `Xtrain` and `Ttrain`\n",
    "* Compute and store the predictions into `Yp` using `w` and `Xtest`"
   ]
  },
  {
   "cell_type": "code",
   "execution_count": 74,
   "metadata": {
    "slideshow": {
     "slide_type": "notes"
    }
   },
   "outputs": [
    {
     "data": {
      "text/plain": [
       "2.0194131985397488"
      ]
     },
     "execution_count": 74,
     "metadata": {},
     "output_type": "execute_result"
    },
    {
     "data": {
      "text/plain": [
       "<Figure size 1152x576 with 0 Axes>"
      ]
     },
     "metadata": {},
     "output_type": "display_data"
    }
   ],
   "source": [
    "alpha = 0.001 \n",
    "\n",
    "# TODO: create (Xtrain, Ttrain) for training and (Xtest, Ttest) for testing\n",
    "Xtrain, Xtest =\n",
    "Ttrain, Ttest =\n",
    "\n",
    "# Random initialization of weight w \n",
    "# np.random.seed(0) # Setting the seed ensures we get the same RMSE output and predictions\n",
    "w = np.random.rand(Xtrain.shape[1], Ttrain.shape[1])\n",
    "\n",
    "fig = plt.figure(figsize=(16,8))\n",
    "\n",
    "errs = []\n",
    "# Read data samples one by one and update weights \n",
    "for i in range(Xtrain.shape[0]):\n",
    "    # TODO: Compute the LMS online update\n",
    "    w = \n",
    "# TODO: Compute and store the predictions into `Yp`\n",
    "Yp =\n",
    "np.sqrt(np.mean((Yp -  Ttest)**2)) # RMSE of test data partition"
   ]
  },
  {
   "cell_type": "markdown",
   "metadata": {},
   "source": [
    "Plot the LMS predictions using the code below. Notice, that each time we rerun the LMS calculations we get a new RMSE and different predictions. This is because we randomly initialize the weights every time we rerun the LMS calculations and thus our weights converge to slightly different answers each time (the order in which the data is presented can also influence our RMSE)."
   ]
  },
  {
   "cell_type": "code",
   "execution_count": 75,
   "metadata": {
    "slideshow": {
     "slide_type": "notes"
    }
   },
   "outputs": [
    {
     "data": {
      "text/plain": [
       "[<matplotlib.lines.Line2D at 0x7fdc4558bbd0>]"
      ]
     },
     "execution_count": 75,
     "metadata": {},
     "output_type": "execute_result"
    },
    {
     "data": {
      "image/png": "[encoded data removed]",
      "text/plain": [
       "<Figure size 432x288 with 1 Axes>"
      ]
     },
     "metadata": {
      "needs_background": "light"
     },
     "output_type": "display_data"
    }
   ],
   "source": [
    "plt.plot(Ttest, 'ob')\n",
    "plt.plot(Yp, 'xr')"
   ]
  },
  {
   "cell_type": "markdown",
   "metadata": {},
   "source": [
    "### TODO\n",
    "Use the training set for training the LS model and then apply the learned weights to the test set to evaluate the performance. \n",
    "\n",
    "- Compute the LS weights `w` using `Xtrain` and `Ttrain`\n",
    "- Compute and store the predictions into `Yp2` using `w` and `Xtest`"
   ]
  },
  {
   "cell_type": "code",
   "execution_count": 76,
   "metadata": {
    "slideshow": {
     "slide_type": "notes"
    }
   },
   "outputs": [
    {
     "data": {
      "text/plain": [
       "1.9619284663381849"
      ]
     },
     "execution_count": 76,
     "metadata": {},
     "output_type": "execute_result"
    }
   ],
   "source": [
    "# TODO: Compute the LS weights\n",
    "w = \n",
    "\n",
    "# TODO: Compute and store the predictions into `Yp2`\n",
    "Yp2 = \n",
    "np.sqrt(np.mean((Yp2 -  Ttest)**2))"
   ]
  },
  {
   "cell_type": "markdown",
   "metadata": {},
   "source": [
    "Plot the LS predictions using the code below."
   ]
  },
  {
   "cell_type": "code",
   "execution_count": 77,
   "metadata": {
    "slideshow": {
     "slide_type": "notes"
    }
   },
   "outputs": [
    {
     "data": {
      "text/plain": [
       "[<matplotlib.lines.Line2D at 0x7fdc672ac590>]"
      ]
     },
     "execution_count": 77,
     "metadata": {},
     "output_type": "execute_result"
    },
    {
     "data": {
      "image/png": "[encoded data removed]",
      "text/plain": [
       "<Figure size 432x288 with 1 Axes>"
      ]
     },
     "metadata": {
      "needs_background": "light"
     },
     "output_type": "display_data"
    }
   ],
   "source": [
    "plt.plot(Ttest, 'ob')\n",
    "plt.plot(Yp2, 'xr')"
   ]
  }
 ],
 "metadata": {
  "kernelspec": {
   "display_name": "Python 3",
   "language": "python",
   "name": "python3"
  },
  "language_info": {
   "codemirror_mode": {
    "name": "ipython",
    "version": 3
   },
   "file_extension": ".py",
   "mimetype": "text/x-python",
   "name": "python",
   "nbconvert_exporter": "python",
   "pygments_lexer": "ipython3",
   "version": "3.7.4"
  }
 },
 "nbformat": 4,
 "nbformat_minor": 2
}
