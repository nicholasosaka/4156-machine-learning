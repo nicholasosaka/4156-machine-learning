{
 "cells": [
  {
   "cell_type": "markdown",
   "metadata": {
    "colab_type": "text",
    "id": "wSMGkp9G0GXd"
   },
   "source": [
    "\n",
    "$\\newcommand{\\xv}{\\mathbf{x}}\n",
    " \\newcommand{\\tv}{\\mathbf{t}}\n",
    " \\newcommand{\\wv}{\\mathbf{w}}\n",
    " \\newcommand{\\Chi}{\\mathcal{X}}\n",
    " \\newcommand{\\R}{\\rm I\\!R}\n",
    " \\newcommand{\\sign}{\\text{sign}}\n",
    " \\newcommand{\\Tm}{\\mathbf{T}}\n",
    " \\newcommand{\\Xm}{\\mathbf{X}}\n",
    " \\newcommand{\\Im}{\\mathbf{I}}\n",
    "$\n",
    "### ITCS4156"
   ]
  },
  {
   "cell_type": "markdown",
   "metadata": {
    "colab_type": "text",
    "id": "8dxF7ala0GXg"
   },
   "source": [
    "# Linear Model\n",
    "\n",
    "\n",
    "**Supervised Learning**: \n",
    "\n",
    "$$ f: \\mathcal{X} \\rightarrow y $$\n",
    "\n",
    "\n",
    "Supervised learning can be formulated as above. When we want to predict tomorrow's temparature, for instance, we might look for the data that we can use as an input $\\mathcal{X}$ such as humidity, history of temparature changes, air pressure, and vapor pressure along with the output (today's temparature) $y$. Once we recorded or found the data, we can build a table as follows. \n",
    "\n",
    "humidity (%) | last year temparature (&ordm;F) | yesterday's air pressure (inHG) | vapor pressure (inHG) | **Today's Temp** (&ordm;F)\n",
    "---|---|---|---|---\n",
    "23 | 72 | 30.12 | 0.79 | 76\n",
    "15 | 82 | 29.32 | 0.68 | 81\n",
    " | | ... | |\n",
    "\n",
    "\n",
    "Here, we note that the output is *today's* not *tomorrow's* temparature. \n",
    "As we discussed in the first lecture, machine learning model *learns* from data or experiences. \n",
    "This learning is called as *\"training\"* and the data used for training is called *training samples*. \n",
    "In this example, the table is training samples that we will feed in to our models. \n",
    "To maintain the right relation between input data and output prediction, however, the humidity and pressure values from yesterday are paired with the output, today's temparature. \n",
    "\n",
    "Once you have data to play with, now you can apply learning algorithms ($f$) to find parameters. \n",
    "This model with the learned parameters is *hypothesis*, and will be your model for prediction.\n",
    "From today's measurements, applying the hypothesis model can simply generate the prediction output. \n",
    "When the training is successful, it is more likely to have a good estimation. \n"
   ]
  },
  {
   "cell_type": "markdown",
   "metadata": {
    "colab_type": "text",
    "id": "NI13cwKM0GXh"
   },
   "source": [
    "## Linear Model\n",
    "\n",
    "Linear model can be defined as a Euclidean dot product between two vectors: \n",
    "\n",
    "$$\n",
    "\\begin{align}\n",
    "  f(\\xv; \\wv) &= \\wv^\\top \\xv = \\sum_0^D w_i x_i \\\\\n",
    "     &= w_0 x_0 + w_1 x_1 + \\cdots + w_D x_D\n",
    "\\end{align}\n",
    "$$\n",
    "\n",
    "where $\\wv$ is a weight vector and $\\xv$ is an input vector. \n",
    "When it is a one dimensional vector, it represents a straight line, so it is called *linear*. \n",
    "\n",
    "Assume that we have $N$ data observations, $\\xv_i$ and target outputs, $t_i$, for $i = 1, \\cdots, N$.\n",
    "The simpliest model that we can think of is constant model, $f(\\xv) = c$, where $c$ is any scalar. \n",
    "In this case, we have the zero weights in the linear model. \n",
    "\n",
    "The linearity in the parameter $\\xv$ make the optimization based on deravatives to solvable analytically. \n",
    "The model limits the complexity so its representation is also limited. However, it can prevent possible overfitting with the simple modeling, especially when you have sparsely sampled data.\n",
    "\n",
    "\n",
    "### Dot Product\n",
    "\n",
    "The dot product, also known as inner product or scalar product, computes the product of pair of elements in each vector and the summation of the products. It is geometrically interpreted as a cosine between two vectors as well.\n",
    "Thus, it can be written as\n",
    "\n",
    "\n",
    "$$\n",
    "    \\wv^\\top \\xv = \\| \\wv \\| \\| \\xv \\| \\cos(\\theta),\n",
    "$$\n",
    "\n",
    "where $\\theta$ is the angle between two vectors. \n",
    "Thus, when the vectors are unit vectors, the dot product is simply consine of the angle between two vectors. \n",
    "\n",
    "![](https://upload.wikimedia.org/wikipedia/commons/3/3e/Dot_Product.svg)\n",
    "<center>(from wikipedia)</center>\n",
    "\n",
    "The figure illustrates the computation of the cosine similarity between two vectors using the dot product. When the vector B is unit vector, the dot product computs the projection of vector A onto B. When the two vectors are unit vectors ($\\| v \\| = 1$), the dot product is simple cosine of the angle between them. \n",
    "\n",
    "### Regression\n",
    "\n",
    "The target output $t$ and the prediction $y$ are real numbers ($y, t \\in \\R$). Thus, to solve regression problem that predicts the target values from the given input, we train the linear model $f(\\xv; \\wv)$ to generate $y$ values close to the target output. We will discuss more about linear regression in next section.\n",
    "\n",
    "\n",
    "### Classification\n",
    "\n",
    "Linear model can be used for classification problems. Unlike regression problems, classification problems have discrete values for target output (e.g., $t \\in \\{blue, red \\}$). In case of binary classification, you have two values as target ($t \\in \\{ -1, 1 \\}$). As we know that $y$ can be any real value, we need to discretize the model output to generate discrete values. A Linear model can be easily converted to a binary classfier with a sign function:\n",
    "\n",
    "$$ y = \\sign ( f(\\xv; \\wv) ).$$\n",
    "\n",
    "\n",
    "### Advantages of Linear Model\n",
    "\n",
    "We can summarize the advantages of the linear model as follows: it is\n",
    "- Simple,\n",
    "- Stable,\n",
    "- Scalable, and \n",
    "- it helps avoid overfitting.\n",
    "\n",
    "Let us think about why these are and discuss about it at the end of the module. "
   ]
  },
  {
   "cell_type": "markdown",
   "metadata": {
    "colab_type": "text",
    "id": "-NISCdHa0GXi"
   },
   "source": [
    "# Practice\n",
    "\n",
    "Q: Write a python code, by using numpy, that create two vectors, $\\wv$ and $\\xv$ as follows: \n",
    "\n",
    "$\n",
    "\\xv = \\begin{bmatrix}\n",
    "         4.0 \\\\\n",
    "         2.3 \\\\\n",
    "         1.2 \\\\\n",
    "         5.8\n",
    "        \\end{bmatrix},  \n",
    "\\wv = \\begin{bmatrix}\n",
    "         0.8 \\\\\n",
    "         0.1 \\\\\n",
    "         0.53 \\\\\n",
    "         0.33\n",
    "        \\end{bmatrix}\n",
    "$\n"
   ]
  },
  {
   "cell_type": "code",
   "execution_count": 4,
   "metadata": {
    "colab": {},
    "colab_type": "code",
    "id": "TZQks9Xy0GXk"
   },
   "outputs": [],
   "source": [
    "# TODO\n",
    "import numpy as np\n",
    "x = np.array([4.0, 2.3, 1.2, 5.8])\n",
    "w = np.array([0.8, 0.1, 0.53, 0.33])"
   ]
  },
  {
   "cell_type": "markdown",
   "metadata": {
    "colab_type": "text",
    "id": "J8BMqfu-0GXt"
   },
   "source": [
    "Q: Write a function *linear_model(x, w)* that returns the result of dot product. To complete the following code, replace \"pass\" with your implementation of dot product between the two arguments. "
   ]
  },
  {
   "cell_type": "code",
   "execution_count": 5,
   "metadata": {
    "colab": {},
    "colab_type": "code",
    "id": "2oI3V40d0GXv"
   },
   "outputs": [],
   "source": [
    "def linear_model(x, w):\n",
    "    # TODO: fill in here\n",
    "    return np.dot(w,x)"
   ]
  },
  {
   "cell_type": "markdown",
   "metadata": {
    "colab_type": "text",
    "id": "OLYgYmbF0GXz"
   },
   "source": [
    "Q: Pass the $\\wv$ and $\\xv$ and print the output of the linear model."
   ]
  },
  {
   "cell_type": "code",
   "execution_count": 6,
   "metadata": {
    "colab": {},
    "colab_type": "code",
    "id": "logSn7_60GX0"
   },
   "outputs": [
    {
     "data": {
      "text/plain": [
       "5.98"
      ]
     },
     "execution_count": 6,
     "metadata": {},
     "output_type": "execute_result"
    }
   ],
   "source": [
    "# TODO\n",
    "linear_model(x,w)"
   ]
  },
  {
   "cell_type": "markdown",
   "metadata": {
    "colab_type": "text",
    "id": "tMG0Wog00GX5"
   },
   "source": [
    "# Linear Regression\n",
    "\n",
    "In this note, we solve regression problems using the linear model as follows. \n",
    "For instance, we have example data as follows. \n",
    "The goal we want to acheive in this problem is to find a best fit on all the data.\n"
   ]
  },
  {
   "cell_type": "code",
   "execution_count": 7,
   "metadata": {
    "colab": {},
    "colab_type": "code",
    "id": "SuSQuxKH0GX6"
   },
   "outputs": [],
   "source": [
    "import numpy as np\n",
    "import matplotlib.pyplot as plt\n",
    "%matplotlib inline "
   ]
  },
  {
   "cell_type": "code",
   "execution_count": 8,
   "metadata": {
    "colab": {},
    "colab_type": "code",
    "id": "pr3lULGo0GYE"
   },
   "outputs": [],
   "source": [
    "X = np.linspace(0,10, 101)\n",
    "T = 2 * X  + 4+ np.random.rand(101) * 5"
   ]
  },
  {
   "cell_type": "code",
   "execution_count": 9,
   "metadata": {
    "colab": {},
    "colab_type": "code",
    "id": "Y8b8oiHJ0GYL"
   },
   "outputs": [],
   "source": [
    "def data_scatter(k=101):\n",
    "    plt.plot(T[:k], '.')\n",
    "    plt.xticks(range(0, 101, 20)[:k], range(0, 11, 2)[:k])"
   ]
  },
  {
   "cell_type": "code",
   "execution_count": 10,
   "metadata": {
    "colab": {},
    "colab_type": "code",
    "id": "vZfB3pHT0GYd",
    "outputId": "d7639173-24be-4cba-8d70-cb997523e21c"
   },
   "outputs": [
    {
     "data": {
      "image/png": "[encoded data removed]",
      "text/plain": [
       "<Figure size 432x288 with 1 Axes>"
      ]
     },
     "metadata": {
      "needs_background": "light"
     },
     "output_type": "display_data"
    }
   ],
   "source": [
    "data_scatter()"
   ]
  },
  {
   "cell_type": "markdown",
   "metadata": {
    "colab_type": "text",
    "id": "9HVJWGTQ0GYj"
   },
   "source": [
    "\n",
    "When we use a linear model, there can be multiple options. One of them, or the simplest solution, can be the avergage value. "
   ]
  },
  {
   "cell_type": "code",
   "execution_count": 11,
   "metadata": {
    "colab": {},
    "colab_type": "code",
    "id": "Gj6u2R5l0GYk",
    "outputId": "650ac537-074b-481b-dd3d-e638f42613c6"
   },
   "outputs": [
    {
     "data": {
      "text/plain": [
       "[<matplotlib.lines.Line2D at 0x7f73500cd2e0>]"
      ]
     },
     "execution_count": 11,
     "metadata": {},
     "output_type": "execute_result"
    },
    {
     "data": {
      "image/png": "[encoded data removed]",
      "text/plain": [
       "<Figure size 432x288 with 1 Axes>"
      ]
     },
     "metadata": {
      "needs_background": "light"
     },
     "output_type": "display_data"
    }
   ],
   "source": [
    "mean = np.mean(T)\n",
    "\n",
    "data_scatter()\n",
    "plt.plot([0, 100],[mean, mean], 'r-')"
   ]
  },
  {
   "cell_type": "markdown",
   "metadata": {
    "colab_type": "text",
    "id": "05MDxpxS0GYx"
   },
   "source": [
    "When the data is linear or when we need simple solution, the linear model can suggest better solutions. \n",
    "For instance, one dimensional affine model can be written as\n",
    "\n",
    "$$\n",
    "f(x; a, b) = a x + b.\n",
    "$$\n",
    "\n",
    "Unifying the weight symbol with $w$,\n",
    "$$\n",
    "f(x; \\wv) =  w_1 x + w_0.\n",
    "$$\n",
    "\n",
    "Considering multiple inputs for $x$, we can extend the input $x$ to input vector $\\xv$ with dummy input $x_0 = 1$:\n",
    "\n",
    "$$\n",
    "\\begin{align}\n",
    "f(\\xv; \\wv) &=  w_D x_D + \\cdots + w_1 x_1 + w_0 \\\\\n",
    "            &= \\sum_{i=0}^{D} w_i x_i \\quad\\text{where } x_0 = 1\\\\\n",
    "            &= \\wv^\\top \\xv.\n",
    "\\end{align}\n",
    "$$\n",
    "\n",
    "\n",
    "#### Error (Cost) Function\n",
    "\n",
    "When we define $\\wv \\in \\R^D$, the choice of $D$ real numbers can result in the best result. \n",
    "Here, the word \"*best*\" can be vague. Thus, we need to define what the *best* means. \n",
    "One of the possible choices is computing the prediction errors and summing them up. We call it as the sum of square errors and it is defined as follows:\n",
    "\n",
    "$$\n",
    "E(\\wv) = \\sum_{i=1}^N \\Big( f(\\xv_i; \\wv_i) - t_i \\Big)^2.\n",
    "$$\n",
    "\n",
    "This error function says that we want to minimize the sum of Euclidean distances between the target values and the model outputs. Here the square term leads the distances are not biased a few samples since sacrificing others with large errors will disturb the objective. \n",
    "\n",
    "\n",
    "## Least Squares\n",
    "\n",
    "The parameter that gives best fit will be\n",
    "\n",
    "$$\n",
    "\\wv^* = \\arg\\min_\\wv \\sum_{i=1}^{N} \\Big( f(\\xv_i; \\wv) - t_i \\Big)^2\n",
    "$$\n",
    "\n",
    "Since the error funciton is quadratic, the problem can be analytically solved by simply setting derivative with respect to $\\wv$ to zero. \n",
    "For this, let us prepare data in matrix. \n",
    "The target values are collected in matrix $\\tv$, and the input samples are in matrix $\\Xm$.\n",
    "\n",
    "$$\n",
    "\\begin{align}\n",
    "\\tv &= [t_1, t_2, \\cdots, t_N]^\\top \\\\ \n",
    "\\\\\n",
    "\\wv &= [w_0, w_1, \\cdots, w_D]^\\top \\\\\n",
    "\\\\\n",
    "\\Xm &= \\begin{bmatrix}\n",
    "    x_{10} & x_{11} & x_{12} & \\dots  & x_{1D} \\\\\n",
    "    x_{20} & x_{21} & x_{22} & \\dots  & x_{2D} \\\\\n",
    "    \\vdots & \\vdots & \\vdots & \\ddots & \\vdots \\\\\n",
    "    x_{N0} & x_{N1} & x_{N2} & \\dots  & x_{ND}\n",
    "\\end{bmatrix}\n",
    "\\end{align}\n",
    "$$\n",
    "where the first column is one's, $\\xv_{*0} = [1, 1, \\dots, 1]^\\top$.\n",
    "\n",
    "With this matrix, $f(\\xv; \\wv)$ can be written in matrix form as:\n",
    "$$\n",
    "f(\\xv; \\wv) = \\Xm \\wv.\n",
    "$$\n",
    "Thus, the error function can be\n",
    "$$\n",
    "\\begin{align}\n",
    "E(\\wv) &= \\sum_{i=1}^N \\Big(f(\\xv_i; \\wv_i) - t_i \\Big)^2 \\\\\n",
    "            \\\\\n",
    "            &= (\\Xm \\wv - \\tv)^\\top (\\Xm \\wv - \\tv) \\\\ \n",
    "            \\\\\n",
    "            &= \\wv^\\top \\Xm^\\top \\Xm \\wv - 2 \\tv^\\top \\Xm \\wv + \\tv^\\top \\tv \n",
    "\\end{align}\n",
    "$$\n",
    "because $\\tv^\\top \\Xm \\wv$ is a scalar, so symmetric. \n",
    "\n",
    "Now, let us do the derivative. \n",
    "$$\n",
    "\\begin{align}\n",
    "\\frac{\\partial E(\\wv)}{\\partial \\wv} &= \\frac{\\partial (\\Xm \\wv - \\tv)^\\top (\\Xm \\wv - \\tv)}{\\partial \\wv} \\\\\n",
    "        \\\\\n",
    "        &= \\frac{\\partial (\\wv^\\top \\Xm^\\top \\Xm \\wv - 2 \\tv^\\top \\Xm \\wv + \\tv^\\top \\tv )}{\\partial \\wv} \\\\\n",
    "        \\\\\n",
    "        &= \\frac{\\partial (\\wv^\\top \\Xm^\\top \\Xm \\wv)}{\\partial \\wv} - 2 \\Xm^\\top \\tv \\\\\n",
    "        \\\\\n",
    "        &= \\Xm^\\top \\Xm \\wv + (\\Xm^\\top \\Xm)^\\top \\wv - 2 \\Xm^\\top \\tv  \\\\\n",
    "        \\\\\n",
    "        &= 2 \\Xm^\\top \\Xm \\wv - 2 \\Xm^\\top \\tv \n",
    "\\end{align}\n",
    "$$\n",
    "\n",
    "Setting this to zero, \n",
    "$$\n",
    "\\begin{align}\n",
    " 2 \\Xm^\\top \\Xm \\wv - 2 \\Xm^\\top \\tv  &= 0\\\\\n",
    "\\\\\n",
    "\\Xm^\\top \\Xm \\wv &= \\Xm^\\top \\tv\\\\\n",
    "\\\\\n",
    "\\wv &= \\big(\\Xm^\\top \\Xm\\big)^{-1} \\Xm^\\top \\tv\n",
    "\\end{align}\n",
    "$$\n",
    "\n"
   ]
  },
  {
   "cell_type": "markdown",
   "metadata": {
    "colab_type": "text",
    "id": "X3F03ZtU0GYz"
   },
   "source": [
    "# Practice\n",
    "\n",
    "Implement the least squares model and apply to the simulated data X and T. \n",
    "Consider using **np.linalg.inv**, **np.linalg.solve**, **np.linalg.lstsq**.\n",
    "After getting the parameter w, plot the approximation line. "
   ]
  },
  {
   "cell_type": "code",
   "execution_count": 45,
   "metadata": {
    "colab": {},
    "colab_type": "code",
    "id": "90fB9cjv0GY1",
    "outputId": "ac47b170-c72c-4124-fbca-ec45295f910c"
   },
   "outputs": [],
   "source": [
    "import numpy as np \n",
    "\n",
    "N = X.shape[0]\n",
    "# TODO: code for finding w*\n",
    "# First create X1 by adding 1's column to X\n",
    "ones = np.ones(N)\n",
    "X1 = np.hstack((np.ones((N, 1)), X.reshape((X.shape[0], 1))))\n",
    "\n",
    "# Next, using inverse, solve, lstsq function to get w*\n",
    "w = np.dot(np.linalg.inv(np.dot(X1.T, X1)), np.dot(X1.T, T))"
   ]
  },
  {
   "cell_type": "code",
   "execution_count": 46,
   "metadata": {
    "colab": {},
    "colab_type": "code",
    "id": "h8V_-GNz0GY6",
    "outputId": "c93959ee-5cb1-4e9b-c6b4-9902a140fdd9"
   },
   "outputs": [
    {
     "data": {
      "text/plain": [
       "[<matplotlib.lines.Line2D at 0x7f7350006af0>]"
      ]
     },
     "execution_count": 46,
     "metadata": {},
     "output_type": "execute_result"
    },
    {
     "data": {
      "image/png": "[encoded data removed]",
      "text/plain": [
       "<Figure size 432x288 with 1 Axes>"
      ]
     },
     "metadata": {
      "needs_background": "light"
     },
     "output_type": "display_data"
    }
   ],
   "source": [
    "# TODO: Write codes to generate the plot as below. \n",
    "# call data_scatter function to present the training data\n",
    "# then, write a plotting code showing the linear line\n",
    "\n",
    "y = np.dot(X1, w)\n",
    "data_scatter()\n",
    "plt.plot(y)"
   ]
  },
  {
   "cell_type": "markdown",
   "metadata": {
    "colab_type": "text",
    "id": "yrLVb77U0GY_"
   },
   "source": [
    "## Least Mean Squares (LMS)\n",
    "\n",
    "Previously we observed that the least squares use all the available data for training or finding the best fit. \n",
    "This can be often computationally costly, especially with large data sets. When data is sufficiently large, we can consider *sequential* or *online* learning.\n",
    "During the online learning process, we introduce a data point one by one, and update the parameters. Using the updated parameters, it makes a new estimation and repeat these steps. \n",
    "\n",
    "For this, we start with an initial guess $\\wv$ and changes it as it reads more data until it converges. \n",
    "When $k$ represents the steps for the repetition,\n",
    "\n",
    "$$\n",
    "\\wv^{(k+1)} = \\wv^{(k)} - \\alpha \\nabla E_k \n",
    "$$\n",
    "\n",
    "where $E_k$ is the error for the $k$'th sample and $\\alpha$ is a learning rate. \n",
    "This is called *stochastic gradient descent* or *sequential gradient descent*. \n",
    "\n",
    "For the $k$'th sample $\\xv_k$, the gradient for the sum-of-squares error is\n",
    "\n",
    "$$\n",
    "\\begin{align}\n",
    "\\nabla E_k = \\frac{\\partial E}{\\partial \\wv^{(k)}} &= \\frac{\\partial }{\\partial \\wv^{(k)}}\\Big( f(\\xv_k; \\wv^{(k)}) - t_k \\Big)^2 \\\\\n",
    "        &= 2 \\Big( f(\\xv_k; \\wv^{(k)}) - t_k \\Big) \\frac{\\partial }{\\partial \\wv^{(k)}} \\Big( f(\\xv_k; \\wv^{(k)}) - t_k \\Big) \\\\\n",
    "        &= 2 \\Big( {\\wv^{(k)}}^\\top \\xv_k - t_k \\Big) \\frac{\\partial }{\\partial \\wv^{(k)}} \\Big( {\\wv^{(k)}}^\\top \\xv_k - t_k \\Big) \\\\\n",
    "        &= 2\\Big( {\\wv^{(k)}}^\\top \\xv_k - t_k \\Big) \\xv_k.\n",
    "\\end{align}\n",
    "$$\n",
    "This gives the following update rule for each sample:\n",
    "\n",
    "$$\n",
    "\\wv^{(k+1)} = \\wv^{(k)} - \\alpha \\Big( {\\wv^{(k)}}^\\top \\xv_k - t_k \\Big) \\xv_k.\n",
    "$$"
   ]
  },
  {
   "cell_type": "markdown",
   "metadata": {
    "colab_type": "text",
    "id": "fkPBOAuc0GZC"
   },
   "source": [
    "# Pratice\n",
    "\n",
    "Implement the LMS for the simulated sample X, and show the plot"
   ]
  },
  {
   "cell_type": "code",
   "execution_count": null,
   "metadata": {
    "colab": {},
    "colab_type": "code",
    "id": "ZikoUz6P0GZE",
    "outputId": "40e03ce0-b5a3-4989-887f-6dd9e0db7e94"
   },
   "outputs": [
    {
     "data": {
      "image/png": "[encoded data removed]",
      "text/plain": [
       "<matplotlib.figure.Figure at 0x11ddd4eb8>"
      ]
     },
     "metadata": {
      "tags": []
     },
     "output_type": "display_data"
    }
   ],
   "source": [
    "import IPython.display as ipd  # for display and clear_output\n",
    "\n",
    "# initial weights with random values\n",
    "w = np.random.rand(X1.shape[1])\n",
    "\n",
    "# learning rate\n",
    "alpha = 0.01\n",
    "\n",
    "fig = plt.figure()\n",
    "\n",
    "# sequential learning\n",
    "for k in range(N):\n",
    "\n",
    "    # TODO: online update of weights\n",
    "    \n",
    "    plt.clf()\n",
    "    data_scatter(k+1)\n",
    "    # TODO: Plot the current model's estimation in a line   \n",
    "    \n",
    "    \n",
    "    ipd.clear_output(wait=True)\n",
    "    ipd.display(fig)\n",
    "ipd.clear_output(wait=True)"
   ]
  }
 ],
 "metadata": {
  "colab": {
   "name": "Note-Linear Model.ipynb",
   "provenance": []
  },
  "kernelspec": {
   "display_name": "Python 3",
   "language": "python",
   "name": "python3"
  },
  "language_info": {
   "codemirror_mode": {
    "name": "ipython",
    "version": 3
   },
   "file_extension": ".py",
   "mimetype": "text/x-python",
   "name": "python",
   "nbconvert_exporter": "python",
   "pygments_lexer": "ipython3",
   "version": "3.8.5"
  }
 },
 "nbformat": 4,
 "nbformat_minor": 4
}
