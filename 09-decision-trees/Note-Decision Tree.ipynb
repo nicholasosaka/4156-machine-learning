{
 "cells": [
  {
   "cell_type": "markdown",
   "metadata": {},
   "source": [
    "$\n",
    "\\newcommand{\\xv}{\\mathbf{x}}\n",
    "\\newcommand{\\wv}{\\mathbf{w}}\n",
    "$\n",
    "\n",
    "# Decision Tree\n",
    "\n",
    "So far, we have examined parameteric methods--from the given input and output, we learn the parameters that map between them with minimum loss. Decision tree is a good example for *nonparametric* method. A decition tree is a hierarchical data structure that implements the divide-and-conquer strategy (see the picture below). This can be efficiently applied to both classification and regression problems. \n",
    "\n",
    "![](https://upload.wikimedia.org/wikipedia/commons/c/c6/Manual_decision_tree.jpg)\n",
    "<center> wikipedia </center>\n",
    "\n",
    "Mimicing the human decision logics, the decision tree recursively splits data into local regions. It is composed of decision nodes and terminal leaves. On each decision node, it finds a *test* function with a split threshold and the test function will outcome the branches. Starting from the root, if we traverse recursively to the leaf, we can reach the output label. \n",
    "\n",
    "\n",
    "## Practice \n",
    "\n",
    "**TODO:** Find a rule (if-statement) for the following classification boundaries (from Kdnuggets data mining course by Piatetsky and Parker) and write down your psedo code for it.  \n",
    "\n",
    "![](https://webpages.uncc.edu/mlee173/teach/itcs4156online/images/class/decision_tree.png)\n",
    "\n",
    "\n",
    "\n",
    "\n",
    "\n",
    "\n"
   ]
  },
  {
   "cell_type": "markdown",
   "metadata": {},
   "source": [
    "\n",
    "## Univariate Trees\n",
    "\n",
    "In each decision node, when the test function uses only one input feature, we call it as univariate tree. Let $x_k$ bs a $k$-th input dimension in a decision node $m$. If $x_k$ is discrete (ie. {red, green, blue}), the test function will output the corresponding branches to split (ie. three branches). If $x_k$ is continuous, we will need to choose threshold values $\\theta_m$ to build a test function\n",
    "\n",
    "$$\n",
    "  f_m(\\xv): x_k > \\theta_m,\n",
    "$$\n",
    "which will result in binary split. As we practiced above, the leaf nodes will form a hyperrectangles for classificaiton. \n",
    "\n",
    "Then, how can we build those three is the question that we have for a learning problem.\n",
    "There can be multiple trees even with zero errors. One of simple choice that we can make is the tree with lowest complexity (ie. with the smallest number of nodes). Finding the smallest tree is NP-complete (Quinlan 1986), so we use local search based on heuristics. \n",
    "\n",
    "The greedy learning algorithm can be outlined as\n",
    "\n",
    "1. find a feature for decision making\n",
    "2. find a split threshold for the test condition\n",
    "3. check stopping criteria\n",
    "4. create children and recursively repeat 1-4. \n",
    "\n",
    "Here the stopping condition can be when we cannot split anymore, which means a leaf node is created and labeled. \n"
   ]
  },
  {
   "cell_type": "markdown",
   "metadata": {},
   "source": [
    "\n",
    "## Classification Trees\n",
    "\n",
    "Let us focus the application of decision trees on classification problems. For learning, we need to consider how we can select a feature or a threshold for a decision node. For this, we need to measure the goodness of a split, which is called *impurity measure*. \n",
    "Here summarizes the popular impurity measures. \n",
    "\n",
    "1. Misclassification Rate\n",
    "$$\n",
    "E_R = \\frac{| \\{i: y_i^R \\ne t_i, x_i \\in R \\} | }{|\\{ i: x_i \\in R \\}| }\n",
    "$$\n",
    "2. Information Gain (Cross-entropy)\n",
    "$$\n",
    "I = -\\sum_{i=1}^N p_i \\log_2 p_i \\\\\n",
    "I_G = I_{parent} - I_{children} \n",
    "$$\n",
    "3. Gini Impurity (Breiman et al. 1984)\n",
    "$$\n",
    "I_G = \\sum_{i=1}^N p_i (1 - p_i) = \\sum_{i=1}^N p_i - \\sum_{i=1}^N p_i^2 = 1 - \\sum_{i=1}^N p_i^2\n",
    "$$\n",
    "\n",
    "\n"
   ]
  },
  {
   "cell_type": "code",
   "execution_count": 1,
   "metadata": {},
   "outputs": [],
   "source": [
    "import numpy as np\n",
    "import matplotlib.pyplot as plt\n",
    "%matplotlib inline"
   ]
  },
  {
   "cell_type": "code",
   "execution_count": 2,
   "metadata": {},
   "outputs": [
    {
     "data": {
      "text/plain": [
       "(35, 2)"
      ]
     },
     "execution_count": 2,
     "metadata": {},
     "output_type": "execute_result"
    },
    {
     "data": {
      "image/png": "[encoded data removed]",
      "text/plain": [
       "<matplotlib.figure.Figure at 0x1110f3c88>"
      ]
     },
     "metadata": {},
     "output_type": "display_data"
    }
   ],
   "source": [
    "# test data similar to the practice\n",
    "\n",
    "# 25 data samples from X1 - X3\n",
    "X1 = np.random.rand(7,2) * 2\n",
    "X1[:, 0] += 5 \n",
    "X1[:, 1] = X1[:, 1] * 3 + 2 \n",
    "\n",
    "X2 = np.random.rand(15,2) * 5 \n",
    "X2[:, 1] += 5 \n",
    "\n",
    "X3 = np.random.rand(3,2) + 1 \n",
    "X3[:, 1] += 1 \n",
    "\n",
    "# 10 data samples for X4\n",
    "X4 = np.random.rand(10,2) * 3\n",
    "X4[:, 0] += 2.5 \n",
    "X4[:, 1] += 2 \n",
    "\n",
    "# input data  \n",
    "X = np.vstack((X1, X2, X3, X4))\n",
    "\n",
    "# target label\n",
    "T = np.zeros(35)\n",
    "T[25:] = 1\n",
    "# pick randomly from X1 and X2 as different class for noise \n",
    "T[[5, 15]] = 1\n",
    "\n",
    "\n",
    "plt.plot(X[T==0,0], X[T==0,1], 'bo')\n",
    "plt.plot(X[T==1,0], X[T==1,1], 'ro')\n",
    "\n",
    "X.shape"
   ]
  },
  {
   "cell_type": "markdown",
   "metadata": {},
   "source": [
    "For the sample data, we first create function to compute the impurity measure."
   ]
  },
  {
   "cell_type": "code",
   "execution_count": 71,
   "metadata": {
    "collapsed": true
   },
   "outputs": [],
   "source": [
    "# compute cross entropy\n",
    "def entropy(t):\n",
    "    _, c = np.unique(t, return_counts=True)\n",
    "    probs = c / len(t)\n",
    "    res = 0. \n",
    "    for p in probs:\n",
    "        res += -p * np.log2(p)\n",
    "    return res\n",
    "\n",
    "\n",
    "# information gain for given cut at the index, k \n",
    "def info_gain(t, k):\n",
    "    if k == 0 or k == len(t):\n",
    "        return 0.\n",
    "    \n",
    "    Ip = entropy(t) # parent\n",
    "    Icl = entropy(t[:k])  # left\n",
    "    Icr = entropy(t[k:])  # right\n",
    "    \n",
    "    p_l = len(t[:k]) / len(t)\n",
    "    p_r = 1 - p_l\n",
    "    return Ip - p_l * Icl - p_r * Icr\n",
    "\n",
    "# increasing threshold cut, compute the measures...\n",
    "def impurity(t):\n",
    "    return [info_gain(t, k) for k in range(1,len(t))]\n",
    "        "
   ]
  },
  {
   "cell_type": "markdown",
   "metadata": {},
   "source": [
    "Using the impurity measure, recursively find split parent into child to construct a tree."
   ]
  },
  {
   "cell_type": "code",
   "execution_count": 72,
   "metadata": {},
   "outputs": [],
   "source": [
    "eps = 1e-4\n",
    "\n",
    "# find threshold and its impurity measure\n",
    "def find_thres(x, t):\n",
    "    best = None\n",
    "    sorted_i = np.argsort(x)\n",
    "    values = impurity(t[sorted_i])\n",
    "    k = np.argmax(values)\n",
    "    thres = np.mean(x[sorted_i][k:k+2])\n",
    "    return (thres, values[k])\n",
    "\n",
    "def split(X, t, root=0, max_depth=4):\n",
    "    if root / 2 >= max_depth:\n",
    "        return\n",
    "    \n",
    "    # when there is only one element in the target, stop \n",
    "    if len(np.unique(t)) == 1:\n",
    "        return t\n",
    "    \n",
    "    # 1. find a feature for decision making\n",
    "    measures = np.max([impurity(t[np.argsort(X[:, j])]) for j in range(X.shape[1])], 1)\n",
    "    j = np.argmax(measures)\n",
    "    \n",
    "    # if max is close to zero, return \n",
    "    if measures[j] < eps:\n",
    "        return t\n",
    "    \n",
    "    # 2. find a split threshold for the test condition\n",
    "    best_thres, best_val = find_thres(X[:, j], t) \n",
    "    \n",
    "    # assuming binary tree\n",
    "    left = X[:,j] < best_thres\n",
    "    right = X[:,j] >= best_thres\n",
    "    \n",
    "    # BUILD A TREE STRUCTURE HERE\n",
    "    res = {}\n",
    "    res[(root, \"L\", j, best_thres)] = split(X[left], t[left], 2 * root + 1, max_depth)\n",
    "    res[(root, \"R\", j, best_thres)] = split(X[right], t[right], 2 * root + 2, max_depth)\n",
    "\n",
    "    return res"
   ]
  },
  {
   "cell_type": "markdown",
   "metadata": {},
   "source": [
    "Training the decision tree on the data, we achive the tree as shown in the output. "
   ]
  },
  {
   "cell_type": "code",
   "execution_count": 73,
   "metadata": {},
   "outputs": [
    {
     "data": {
      "text/plain": [
       "{(0,\n",
       "  'L',\n",
       "  1,\n",
       "  4.1370699786970038): {(1,\n",
       "   'L',\n",
       "   0,\n",
       "   2.2755893533553113): array([ 0.,  0.,  0.]), (1,\n",
       "   'R',\n",
       "   0,\n",
       "   2.2755893533553113): None},\n",
       " (0, 'R', 1, 4.1370699786970038): {(2, 'L', 0, 2.7885215231257345): None,\n",
       "  (2, 'R', 0, 2.7885215231257345): None}}"
      ]
     },
     "execution_count": 73,
     "metadata": {},
     "output_type": "execute_result"
    }
   ],
   "source": [
    "tree = split(X, T, 0, 2)\n",
    "tree"
   ]
  },
  {
   "cell_type": "markdown",
   "metadata": {},
   "source": [
    "Recursively traversing the tree, we plot the data and decision boundary. "
   ]
  },
  {
   "cell_type": "code",
   "execution_count": 69,
   "metadata": {
    "scrolled": true
   },
   "outputs": [
    {
     "name": "stdout",
     "output_type": "stream",
     "text": [
      "[(0, 'L', 1, 4.1370699786970038), (0, 'R', 1, 4.1370699786970038)]\n",
      "[(1, 'L', 0, 2.2755893533553113), (1, 'R', 0, 2.2755893533553113)]\n",
      "[(2, 'L', 0, 2.7885215231257345), (2, 'R', 0, 2.7885215231257345)]\n"
     ]
    },
    {
     "data": {
      "image/png": "[encoded data removed]",
      "text/plain": [
       "<matplotlib.figure.Figure at 0x1181cbcf8>"
      ]
     },
     "metadata": {},
     "output_type": "display_data"
    }
   ],
   "source": [
    "plt.plot(X[T==0,0], X[T==0,1], 'bo')\n",
    "plt.plot(X[T==1,0], X[T==1,1], 'ro')\n",
    "\n",
    "xmin, xmax = np.min(X[:, 0]), np.max(X[:, 0])\n",
    "ymin, ymax = np.min(X[:, 1]), np.max(X[:, 1])\n",
    "\n",
    "def traverse(tr, xmin, xmax, ymin, ymax):\n",
    "    if not isinstance(tr, dict):\n",
    "        return\n",
    "    \n",
    "    keys = list(tr.keys())\n",
    "    print(keys)\n",
    "    _, _, j, thres = keys[0]\n",
    "    if j == 1:\n",
    "        #print(f\"plot y {thres} {xmin} {xmax} {ymin} {ymax}\")\n",
    "        plt.plot([xmin, xmax], [thres, thres], '-')\n",
    "        traverse(tr[keys[0]], xmin, xmax, ymin, thres) # left\n",
    "        traverse(tr[keys[1]], xmin, xmax, thres, ymax) # right\n",
    "    elif j == 0:\n",
    "        #print(f\"plot x {thres} {xmin} {xmax} {ymin} {ymax}\")\n",
    "        plt.plot([thres, thres], [ymin, ymax], '-')\n",
    "        traverse(tr[keys[0]], xmin, thres, ymin, ymax) # left\n",
    "        traverse(tr[keys[1]], thres, xmax, ymin, ymax) # right\n",
    "    \n",
    "        \n",
    "traverse(tree, xmin, xmax, ymin, ymax)\n",
    "    "
   ]
  },
  {
   "cell_type": "markdown",
   "metadata": {},
   "source": [
    " \n",
    "## Regression Trees\n",
    "\n",
    "A regression tree can be constructed in the same manner as a classification tree.\n",
    "However, for regression trees, we need to modify the impurity measure appropriate for regression problems. We can simply replace previous information gain to standard deviation reduction and build a regression tree as in the scikit-learn figure.\n",
    "When constructing a tree, we calculate the final value on a leaf note with the *average*. \n",
    "For example, please take a look at this (http://chem-eng.utoronto.ca/~datamining/dmc/decision_tree_reg.htm).\n",
    "\n",
    "* Standard Deviation Reduction:\n",
    "$$\n",
    "\\sigma_R = \\sigma_{parent} - \\sigma_{children}\n",
    "$$\n",
    "\n",
    "\n",
    "![](http://scikit-learn.org/stable/_images/sphx_glr_plot_tree_regression_001.png)"
   ]
  },
  {
   "cell_type": "markdown",
   "metadata": {},
   "source": [
    "\n",
    "## Multivariate Trees\n",
    "\n",
    "For a univariate tree, we use only one feature variable at each decision node for a split. In a multivarate tree, all the input features can be used. Thus, this becomes more general approach and the decision function can be defined as a linear function with a threshold $\\tau_m$ at the node $m$ as\n",
    "$$\n",
    "b_m(\\xv) = \\wv_m^\\top \\xv - \\tau_m> 0. \n",
    "$$\n",
    "\n",
    "Because of an exhaustive search for vast amount of possible hyperplanes, it requires heavy computation (Murthy et al. 1994). "
   ]
  },
  {
   "cell_type": "markdown",
   "metadata": {},
   "source": [
    "## Random Forest\n",
    "\n",
    "Random forest is an ensemble method that uses multiple trees (a bag of trees) for better classification or regression. With training data, it training a preset number of trees and when making a prediction, it votes for final decision from multiple decision tree predictions.\n",
    "Typically, we refer to a decision forest in general and random forest when we training each tree with a random subset of the input features--this has increased overall accuracy significantly. \n",
    "\n",
    "![](https://media.springernature.com/full/springer-static/image/art%3A10.1186%2Fs12859-017-1578-z/MediaObjects/12859_2017_1578_Fig1_HTML.gif)"
   ]
  },
  {
   "cell_type": "markdown",
   "metadata": {},
   "source": [
    "## References\n",
    "\n",
    "[1] R. Quinlan, \"Learning efficient classification procedures\", Machine Learning: an artificial intelligence approach, Michalski, Carbonell & Mitchell (eds.), Morgan Kaufmann, 1983, p. 463-482.\n",
    "\n",
    "[2] Quinlan, J. R. C4.5: Programs for Machine Learning. Morgan Kaufmann Publishers, 1993.\n",
    "\n",
    "[3] Breiman, Leo; Friedman, J. H.; Olshen, R. A.; Stone, C. J. (1984). Classification and regression trees. Monterey, CA: Wadsworth & Brooks/Cole Advanced Books & Software."
   ]
  }
 ],
 "metadata": {
  "kernelspec": {
   "display_name": "Python 3",
   "language": "python",
   "name": "python3"
  },
  "language_info": {
   "codemirror_mode": {
    "name": "ipython",
    "version": 3
   },
   "file_extension": ".py",
   "mimetype": "text/x-python",
   "name": "python",
   "nbconvert_exporter": "python",
   "pygments_lexer": "ipython3",
   "version": "3.7.6"
  }
 },
 "nbformat": 4,
 "nbformat_minor": 2
}
