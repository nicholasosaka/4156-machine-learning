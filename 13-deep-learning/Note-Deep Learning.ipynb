{
 "cells": [
  {
   "cell_type": "markdown",
   "metadata": {},
   "source": [
    "$\\newcommand{\\xv}{\\mathbf{x}}\n",
    " \\newcommand{\\wv}{\\mathbf{w}}\n",
    " \\newcommand{\\yv}{\\mathbf{y}}\n",
    " \\newcommand{\\zv}{\\mathbf{z}}\n",
    " \\newcommand{\\Chi}{\\mathcal{X}}\n",
    " \\newcommand{\\R}{\\rm I\\!R}\n",
    " \\newcommand{\\sign}{\\text{sign}}\n",
    " \\newcommand{\\Tm}{\\mathbf{T}}\n",
    " \\newcommand{\\Xm}{\\mathbf{X}}\n",
    " \\newcommand{\\Zm}{\\mathbf{Z}}\n",
    " \\newcommand{\\Wm}{\\mathbf{W}}\n",
    " \\newcommand{\\Ym}{\\mathbf{Y}}\n",
    " \\newcommand{\\I}{\\mathbf{I}}\n",
    " \\newcommand{\\muv}{\\boldsymbol\\mu}\n",
    " \\newcommand{\\Sigmav}{\\boldsymbol\\Sigma}\n",
    "$\n",
    "\n",
    "# Deep Learning"
   ]
  },
  {
   "cell_type": "markdown",
   "metadata": {},
   "source": [
    "Deep learning is one of the most popular technologies in machine learning, well not only in ML, in general IT or engineering (even broader applications). There are many sources that show increasing the popularity and success with deep learning. Here is one of them from Google. \n",
    "\n",
    "<img src=\"https://image.slidesharecdn.com/movingtoneuralmachinetranslationatgoogle-gopro-meetup-171130223447/95/moving-to-neural-machine-translation-at-google-gopromeetup-2-638.jpg?cb=1512081326\" />\n",
    "Source: https://www.slideshare.net/ChesterChen/moving-to-neural-machine-translation-at-google-gopromeetup\n",
    "<!--img src=\"https://instinct.radeon.com/wp-content/uploads/sites/4/2017/04/deep-learning-google-1.png\" />\n",
    "Source: https://www.slideshare.net/HadoopSummit/machine-intelligence-at-google-scale-tensorflow\n",
    " -->\n",
    "\n",
    "Google has exponentially increased the use of deep learning, and this is not only for Google. In many areas, deep learning has suggested the solutions to many difficult or complex problems. Here are some articles that I can save my words for introduction.\n",
    "\n",
    "\n",
    "- https://www.technologyreview.com/s/513696/deep-learning/\n",
    "- https://www.wired.com/2014/01/geoffrey-hinton-deep-learning/\n",
    "- http://fortune.com/ai-artificial-intelligence-deep-machine-learning/\n"
   ]
  },
  {
   "cell_type": "markdown",
   "metadata": {},
   "source": [
    "## Going Deep from 2-Layer Neural Network\n",
    "\n",
    "Previously we learned neural networks and how they can be stacked up into a two-layer neural network. With the codes that I provided, we also learned to build deep neural networks by passing multiple entry with the number of hidden units for each layer \n",
    "(i.e., nn = nnet.NeuralNet([5, 10, 10, 10, 3])   for 4-layer neural networks).\n",
    "\n",
    "Deep learning has made a revolutionary advances in machine learning and AI by making ML algorithms (specifically neural networks) buch better and easier to use. [Yoshua Bengio](http://proceedings.mlr.press/v27/bengio12a/bengio12a.pdf) discussed their findings of deep network representations of polinomials which can be efficiently represented two family polynomials but require exponential size with shallow networks. More interestingly, he points out that too shallow networks may not generalize well unless huge numbers of examples and capacity are not provided. We have observed a large number of follow-up research and applicaitions that have successfully shown efficiency of deep neural networks.  \n",
    "\n",
    "\n",
    "#### Deep Neural Networks with TensorFlow\n",
    "\n",
    "Now, let us write the neural network codes with TensorFlow. Neural network with multiple hidden nodes can be computed fast by using multiple processors. By using TensorFlow, we can make our implementaion to be executed in distributed systems or GPU machines without rewriting the codes.\n",
    "\n",
    "You can learn some basics of TensorFlow from the [TensorFlow tuutorials](https://www.tensorflow.org/tutorials).\n",
    "\n",
    "\n",
    "Here follow some codes to importing libraries. As TensorFlow 2.0 is transient, some library dependency issues can happen. When reinstalling the libraries do not work, setting the environment variable, KMP_DUPLICATE_LIB_OK to True would help to fix the problem. "
   ]
  },
  {
   "cell_type": "code",
   "execution_count": 1,
   "metadata": {},
   "outputs": [],
   "source": [
    "# preparation\n",
    "\n",
    "import tensorflow as tf\n",
    "# Common imports\n",
    "import numpy as np\n",
    "import os\n",
    "os.environ['KMP_DUPLICATE_LIB_OK']='True'   #TF2: to fix Jupyter down\n",
    "\n",
    "# To plot pretty figures\n",
    "%matplotlib inline\n",
    "import matplotlib\n",
    "import matplotlib.pyplot as plt\n",
    "plt.rcParams['axes.labelsize'] = 14\n",
    "plt.rcParams['xtick.labelsize'] = 12\n",
    "plt.rcParams['ytick.labelsize'] = 12\n",
    "\n",
    "import IPython.display as ipd  # for display and clear_output"
   ]
  },
  {
   "cell_type": "markdown",
   "metadata": {},
   "source": [
    "Before moving on, you can load the old neural network codes and compare the following changes in TensorFolw. "
   ]
  },
  {
   "cell_type": "markdown",
   "metadata": {},
   "source": [
    "## Training and Testing Data\n",
    "\n",
    "We use the same train and test data. We are using TF APIs instead of numpy. Check what difference this version has. "
   ]
  },
  {
   "cell_type": "code",
   "execution_count": 2,
   "metadata": {},
   "outputs": [],
   "source": [
    "# Now play with example \n",
    "# Make some training data\n",
    "n = 20\n",
    "Xtrain = np.linspace(0.,20.0,n).reshape((n,1)) - 10\n",
    "Ttrain = 0.2 + 0.05 * (Xtrain+10) + 0.4 * np.sin(Xtrain+10) + 0.2 * np.random.normal(size=(n,1))\n",
    "\n",
    "# Make some testing data\n",
    "Xtest = Xtrain + 0.1*np.random.normal(size=(n,1))\n",
    "Ttest = 0.2 + 0.05 * (Xtest+10) + 0.4 * np.sin(Xtest+10) + 0.2 * np.random.normal(size=(n,1))"
   ]
  },
  {
   "cell_type": "code",
   "execution_count": 3,
   "metadata": {},
   "outputs": [],
   "source": [
    "def addOnes(A):\n",
    "    \"\"\"Adds bias to passed data\"\"\"\n",
    "    return np.insert(A, 0, 1, axis=1)"
   ]
  },
  {
   "cell_type": "code",
   "execution_count": 4,
   "metadata": {},
   "outputs": [],
   "source": [
    "X1train, X1test = addOnes(Xtrain), addOnes(Xtest)"
   ]
  },
  {
   "cell_type": "code",
   "execution_count": 5,
   "metadata": {},
   "outputs": [],
   "source": [
    "# 2 inputs and 1 output\n",
    "ni = 1\n",
    "nh = 10\n",
    "no = 1\n",
    "learning_rate = 0.1\n",
    "\n",
    "# random generation of data following standard normal distribution\n",
    "# but truncate when the magnitude of random variable is more than 2 std\n",
    "V = tf.Variable(tf.random.truncated_normal((ni+1, nh)))\n",
    "W = tf.Variable(tf.random.truncated_normal((nh+1, no)))\n",
    "\n",
    "model = [V, W]"
   ]
  },
  {
   "cell_type": "code",
   "execution_count": 6,
   "metadata": {},
   "outputs": [],
   "source": [
    "# forward pass\n",
    "#  Y =  h(XV) W\n",
    "def forward(model, X):\n",
    "    V, W = model\n",
    "    a = tf.matmul(X.astype('float32'), V[1:, :]) + V[0, :]\n",
    "    Z = tf.tanh(a)  # activation\n",
    "    Y = tf.matmul(Z, W[1:, :]) + W[0, :]\n",
    "    return Y, Z"
   ]
  },
  {
   "cell_type": "code",
   "execution_count": 7,
   "metadata": {},
   "outputs": [],
   "source": [
    "# backward pass\n",
    "\n",
    "def errorf(model, X, T):\n",
    "    Y, Z = forward(model, X)\n",
    "    error = T - Y\n",
    "    return tf.reduce_mean(tf.square(error), name=\"mse\"), Y, Z\n",
    "\n",
    "\n",
    "def train(model, X, T): \n",
    "    V, W = model\n",
    "    with tf.GradientTape() as t:\n",
    "        mse, _, _ = errorf(model, X, T)\n",
    "    \n",
    "    v, w = t.gradient(mse, [V, W])\n",
    "    V.assign_sub(learning_rate * v)\n",
    "    W.assign_sub(learning_rate * w)\n"
   ]
  },
  {
   "cell_type": "code",
   "execution_count": 8,
   "metadata": {},
   "outputs": [
    {
     "name": "stdout",
     "output_type": "stream",
     "text": [
      "Train MSE: 0.06648951768875122\n",
      "Test MSE: 0.12064886093139648\n"
     ]
    },
    {
     "data": {
      "image/png": "[encoded data removed]",
      "text/plain": [
       "<Figure size 720x576 with 3 Axes>"
      ]
     },
     "metadata": {
      "needs_background": "light"
     },
     "output_type": "display_data"
    }
   ],
   "source": [
    "n_epochs = 1000\n",
    "\n",
    "fig = plt.figure(figsize=(10,8))\n",
    "    \n",
    "errorTrace = []\n",
    "for epoch in range(n_epochs):\n",
    "    #Y = forward(model, Xtrain)\n",
    "    mse, Y, Z = errorf(model, Xtrain, Ttrain)\n",
    "    train(model, Xtrain, Ttrain)\n",
    "    \n",
    "    if epoch % 100 == 0:\n",
    "        print(\"Epoch\", epoch, \"MSE =\", mse)\n",
    "\n",
    "        plt.clf()\n",
    "        plt.subplot(3,1,1)\n",
    "        plt.plot(errorTrace[:epoch])\n",
    "        plt.ylim(0,0.7)\n",
    "        plt.xlabel('Epochs')\n",
    "        plt.ylabel('RMSE')\n",
    "        plt.legend(('Train','Test'),loc='upper left')\n",
    "\n",
    "        plt.subplot(3,1,2)\n",
    "        plt.plot(Xtrain,Ttrain,'o-',Xtest,Ttest,'o-',Xtest,Y,'o-')\n",
    "        plt.xlim(-10,10)\n",
    "        plt.legend(('Training','Testing','Model'),loc='upper left')\n",
    "        plt.xlabel('$x$')\n",
    "        plt.ylabel('Actual and Predicted $f(x)$')\n",
    "\n",
    "        plt.subplot(3,1,3)\n",
    "        plt.plot(Xtrain, Z)\n",
    "        plt.ylim(-1.1,1.1)\n",
    "        plt.xlabel('$x$')\n",
    "        plt.ylabel('Hidden Unit Outputs ($z$)');\n",
    "\n",
    "        plt.tight_layout()\n",
    "\n",
    "        ipd.clear_output(wait=True)\n",
    "        ipd.display(fig)            \n",
    "\n",
    "    errorTrace.append(mse)\n",
    "\n",
    "\n",
    "ipd.clear_output(wait=True)\n",
    "\n",
    "train_error, _, _ = errorf(model, Xtrain, Ttrain)\n",
    "test_error, _, _ = errorf(model, Xtest, Ttest)\n",
    "print(\"Train MSE: {}\".format(train_error))\n",
    "print(\"Test MSE: {}\".format(test_error))\n"
   ]
  },
  {
   "cell_type": "markdown",
   "metadata": {},
   "source": [
    "What do you have observed? ANy notable difference did you find? As TF v2 with eager execution, the cosmetic is very similar to regular python codes. Now, let us build network with Keras APIs, which is much easier. "
   ]
  },
  {
   "cell_type": "markdown",
   "metadata": {},
   "source": [
    "# Module: tf.keras\n",
    "\n",
    "There is a module for high level neural networks layers. \n",
    "Here are the link to the reference: https://www.tensorflow.org/api_docs/python/tf/keras. \n",
    "Following the [ML Basics with Keras](https://www.tensorflow.org/tutorials/keras/classification) tutorial will be helpful for you to practice. \n",
    "\n",
    "With this built-in module, we can easily stack layers to build neural networks. "
   ]
  },
  {
   "cell_type": "code",
   "execution_count": 10,
   "metadata": {},
   "outputs": [
    {
     "name": "stdout",
     "output_type": "stream",
     "text": [
      "Model: \"sequential_1\"\n",
      "_________________________________________________________________\n",
      "Layer (type)                 Output Shape              Param #   \n",
      "=================================================================\n",
      "flatten_1 (Flatten)          (None, 1)                 0         \n",
      "_________________________________________________________________\n",
      "dense_2 (Dense)              (None, 10)                20        \n",
      "_________________________________________________________________\n",
      "dense_3 (Dense)              (None, 1)                 11        \n",
      "=================================================================\n",
      "Total params: 31\n",
      "Trainable params: 31\n",
      "Non-trainable params: 0\n",
      "_________________________________________________________________\n"
     ]
    }
   ],
   "source": [
    "# with layers to build networks \n",
    "from tensorflow import keras \n",
    "\n",
    "ni = 1\n",
    "nh = 10\n",
    "no = 1\n",
    "learning_rate = 0.1\n",
    "\n",
    "\n",
    "# build a neural network model\n",
    "model = keras.Sequential([\n",
    "            keras.layers.Flatten(input_shape=[ni]),\n",
    "            keras.layers.Dense(nh, activation='tanh'),\n",
    "            keras.layers.Dense(no)\n",
    "        ])\n",
    "\n",
    "# compile the model\n",
    "model.compile(optimizer='adam',\n",
    "              loss='mse', \n",
    "              metrics=['MSE', 'MAE'])\n",
    "\n",
    "model.summary()"
   ]
  },
  {
   "cell_type": "markdown",
   "metadata": {},
   "source": [
    "summary() shows the neuraln network structure for you to examine the structure and the parameters. \n",
    "fit() function trains the model that you just built and returns the training information. "
   ]
  },
  {
   "cell_type": "code",
   "execution_count": 11,
   "metadata": {},
   "outputs": [
    {
     "name": "stdout",
     "output_type": "stream",
     "text": [
      "Epoch 1/100\n",
      "1/1 [==============================] - 0s 146ms/step - loss: 1.5835 - MSE: 1.5835 - MAE: 1.0160 - val_loss: 6.1568 - val_MSE: 6.1568 - val_MAE: 2.4431\n",
      "Epoch 2/100\n",
      "1/1 [==============================] - 0s 26ms/step - loss: 1.5487 - MSE: 1.5487 - MAE: 1.0036 - val_loss: 6.0502 - val_MSE: 6.0502 - val_MAE: 2.4211\n",
      "Epoch 3/100\n",
      "1/1 [==============================] - 0s 23ms/step - loss: 1.5143 - MSE: 1.5143 - MAE: 0.9913 - val_loss: 5.9444 - val_MSE: 5.9444 - val_MAE: 2.3992\n",
      "Epoch 4/100\n",
      "1/1 [==============================] - 0s 27ms/step - loss: 1.4803 - MSE: 1.4803 - MAE: 0.9790 - val_loss: 5.8394 - val_MSE: 5.8394 - val_MAE: 2.3772\n",
      "Epoch 5/100\n",
      "1/1 [==============================] - 0s 28ms/step - loss: 1.4468 - MSE: 1.4468 - MAE: 0.9667 - val_loss: 5.7352 - val_MSE: 5.7352 - val_MAE: 2.3551\n",
      "Epoch 6/100\n",
      "1/1 [==============================] - 0s 33ms/step - loss: 1.4138 - MSE: 1.4138 - MAE: 0.9543 - val_loss: 5.6319 - val_MSE: 5.6319 - val_MAE: 2.3330\n",
      "Epoch 7/100\n",
      "1/1 [==============================] - 0s 25ms/step - loss: 1.3812 - MSE: 1.3812 - MAE: 0.9420 - val_loss: 5.5294 - val_MSE: 5.5294 - val_MAE: 2.3109\n",
      "Epoch 8/100\n",
      "1/1 [==============================] - 0s 29ms/step - loss: 1.3491 - MSE: 1.3491 - MAE: 0.9297 - val_loss: 5.4279 - val_MSE: 5.4279 - val_MAE: 2.2888\n",
      "Epoch 9/100\n",
      "1/1 [==============================] - 0s 24ms/step - loss: 1.3174 - MSE: 1.3174 - MAE: 0.9174 - val_loss: 5.3272 - val_MSE: 5.3272 - val_MAE: 2.2667\n",
      "Epoch 10/100\n",
      "1/1 [==============================] - 0s 27ms/step - loss: 1.2862 - MSE: 1.2862 - MAE: 0.9051 - val_loss: 5.2276 - val_MSE: 5.2276 - val_MAE: 2.2446\n",
      "Epoch 11/100\n",
      "1/1 [==============================] - 0s 28ms/step - loss: 1.2556 - MSE: 1.2556 - MAE: 0.8928 - val_loss: 5.1289 - val_MSE: 5.1289 - val_MAE: 2.2225\n",
      "Epoch 12/100\n",
      "1/1 [==============================] - 0s 25ms/step - loss: 1.2254 - MSE: 1.2254 - MAE: 0.8806 - val_loss: 5.0312 - val_MSE: 5.0312 - val_MAE: 2.2004\n",
      "Epoch 13/100\n",
      "1/1 [==============================] - 0s 27ms/step - loss: 1.1957 - MSE: 1.1957 - MAE: 0.8683 - val_loss: 4.9345 - val_MSE: 4.9345 - val_MAE: 2.1783\n",
      "Epoch 14/100\n",
      "1/1 [==============================] - 0s 24ms/step - loss: 1.1665 - MSE: 1.1665 - MAE: 0.8561 - val_loss: 4.8388 - val_MSE: 4.8388 - val_MAE: 2.1562\n",
      "Epoch 15/100\n",
      "1/1 [==============================] - 0s 27ms/step - loss: 1.1378 - MSE: 1.1378 - MAE: 0.8439 - val_loss: 4.7443 - val_MSE: 4.7443 - val_MAE: 2.1342\n",
      "Epoch 16/100\n",
      "1/1 [==============================] - 0s 23ms/step - loss: 1.1097 - MSE: 1.1097 - MAE: 0.8318 - val_loss: 4.6508 - val_MSE: 4.6508 - val_MAE: 2.1122\n",
      "Epoch 17/100\n",
      "1/1 [==============================] - 0s 24ms/step - loss: 1.0820 - MSE: 1.0820 - MAE: 0.8197 - val_loss: 4.5585 - val_MSE: 4.5585 - val_MAE: 2.0902\n",
      "Epoch 18/100\n",
      "1/1 [==============================] - 0s 27ms/step - loss: 1.0549 - MSE: 1.0549 - MAE: 0.8076 - val_loss: 4.4672 - val_MSE: 4.4672 - val_MAE: 2.0682\n",
      "Epoch 19/100\n",
      "1/1 [==============================] - 0s 25ms/step - loss: 1.0283 - MSE: 1.0283 - MAE: 0.7956 - val_loss: 4.3771 - val_MSE: 4.3771 - val_MAE: 2.0463\n",
      "Epoch 20/100\n",
      "1/1 [==============================] - 0s 24ms/step - loss: 1.0023 - MSE: 1.0023 - MAE: 0.7836 - val_loss: 4.2882 - val_MSE: 4.2882 - val_MAE: 2.0245\n",
      "Epoch 21/100\n",
      "1/1 [==============================] - 0s 24ms/step - loss: 0.9767 - MSE: 0.9767 - MAE: 0.7716 - val_loss: 4.2004 - val_MSE: 4.2004 - val_MAE: 2.0027\n",
      "Epoch 22/100\n",
      "1/1 [==============================] - 0s 26ms/step - loss: 0.9517 - MSE: 0.9517 - MAE: 0.7598 - val_loss: 4.1139 - val_MSE: 4.1139 - val_MAE: 1.9810\n",
      "Epoch 23/100\n",
      "1/1 [==============================] - 0s 28ms/step - loss: 0.9272 - MSE: 0.9272 - MAE: 0.7479 - val_loss: 4.0285 - val_MSE: 4.0285 - val_MAE: 1.9593\n",
      "Epoch 24/100\n",
      "1/1 [==============================] - 0s 27ms/step - loss: 0.9033 - MSE: 0.9033 - MAE: 0.7362 - val_loss: 3.9444 - val_MSE: 3.9444 - val_MAE: 1.9377\n",
      "Epoch 25/100\n",
      "1/1 [==============================] - 0s 33ms/step - loss: 0.8799 - MSE: 0.8799 - MAE: 0.7244 - val_loss: 3.8614 - val_MSE: 3.8614 - val_MAE: 1.9162\n",
      "Epoch 26/100\n",
      "1/1 [==============================] - 0s 23ms/step - loss: 0.8570 - MSE: 0.8570 - MAE: 0.7128 - val_loss: 3.7798 - val_MSE: 3.7798 - val_MAE: 1.8948\n",
      "Epoch 27/100\n",
      "1/1 [==============================] - 0s 25ms/step - loss: 0.8346 - MSE: 0.8346 - MAE: 0.7021 - val_loss: 3.6993 - val_MSE: 3.6993 - val_MAE: 1.8735\n",
      "Epoch 28/100\n",
      "1/1 [==============================] - 0s 25ms/step - loss: 0.8127 - MSE: 0.8127 - MAE: 0.6926 - val_loss: 3.6202 - val_MSE: 3.6202 - val_MAE: 1.8522\n",
      "Epoch 29/100\n",
      "1/1 [==============================] - 0s 26ms/step - loss: 0.7914 - MSE: 0.7914 - MAE: 0.6831 - val_loss: 3.5423 - val_MSE: 3.5423 - val_MAE: 1.8311\n",
      "Epoch 30/100\n",
      "1/1 [==============================] - 0s 23ms/step - loss: 0.7706 - MSE: 0.7706 - MAE: 0.6737 - val_loss: 3.4656 - val_MSE: 3.4656 - val_MAE: 1.8101\n",
      "Epoch 31/100\n",
      "1/1 [==============================] - 0s 24ms/step - loss: 0.7503 - MSE: 0.7503 - MAE: 0.6644 - val_loss: 3.3903 - val_MSE: 3.3903 - val_MAE: 1.7892\n",
      "Epoch 32/100\n",
      "1/1 [==============================] - 0s 25ms/step - loss: 0.7305 - MSE: 0.7305 - MAE: 0.6551 - val_loss: 3.3162 - val_MSE: 3.3162 - val_MAE: 1.7684\n",
      "Epoch 33/100\n",
      "1/1 [==============================] - 0s 23ms/step - loss: 0.7112 - MSE: 0.7112 - MAE: 0.6459 - val_loss: 3.2434 - val_MSE: 3.2434 - val_MAE: 1.7477\n",
      "Epoch 34/100\n",
      "1/1 [==============================] - 0s 22ms/step - loss: 0.6925 - MSE: 0.6925 - MAE: 0.6367 - val_loss: 3.1719 - val_MSE: 3.1719 - val_MAE: 1.7271\n",
      "Epoch 35/100\n",
      "1/1 [==============================] - 0s 32ms/step - loss: 0.6742 - MSE: 0.6742 - MAE: 0.6276 - val_loss: 3.1016 - val_MSE: 3.1016 - val_MAE: 1.7067\n",
      "Epoch 36/100\n",
      "1/1 [==============================] - 0s 24ms/step - loss: 0.6564 - MSE: 0.6564 - MAE: 0.6190 - val_loss: 3.0327 - val_MSE: 3.0327 - val_MAE: 1.6865\n",
      "Epoch 37/100\n",
      "1/1 [==============================] - 0s 25ms/step - loss: 0.6391 - MSE: 0.6391 - MAE: 0.6110 - val_loss: 2.9650 - val_MSE: 2.9650 - val_MAE: 1.6663\n",
      "Epoch 38/100\n",
      "1/1 [==============================] - 0s 28ms/step - loss: 0.6223 - MSE: 0.6223 - MAE: 0.6031 - val_loss: 2.8987 - val_MSE: 2.8987 - val_MAE: 1.6463\n",
      "Epoch 39/100\n",
      "1/1 [==============================] - 0s 25ms/step - loss: 0.6059 - MSE: 0.6059 - MAE: 0.5952 - val_loss: 2.8336 - val_MSE: 2.8336 - val_MAE: 1.6265\n",
      "Epoch 40/100\n",
      "1/1 [==============================] - 0s 26ms/step - loss: 0.5900 - MSE: 0.5900 - MAE: 0.5875 - val_loss: 2.7697 - val_MSE: 2.7697 - val_MAE: 1.6068\n",
      "Epoch 41/100\n",
      "1/1 [==============================] - 0s 24ms/step - loss: 0.5746 - MSE: 0.5746 - MAE: 0.5801 - val_loss: 2.7072 - val_MSE: 2.7072 - val_MAE: 1.5873\n",
      "Epoch 42/100\n",
      "1/1 [==============================] - 0s 25ms/step - loss: 0.5596 - MSE: 0.5596 - MAE: 0.5727 - val_loss: 2.6459 - val_MSE: 2.6459 - val_MAE: 1.5679\n",
      "Epoch 43/100\n",
      "1/1 [==============================] - 0s 25ms/step - loss: 0.5451 - MSE: 0.5451 - MAE: 0.5654 - val_loss: 2.5859 - val_MSE: 2.5859 - val_MAE: 1.5487\n",
      "Epoch 44/100\n",
      "1/1 [==============================] - 0s 31ms/step - loss: 0.5310 - MSE: 0.5310 - MAE: 0.5582 - val_loss: 2.5271 - val_MSE: 2.5271 - val_MAE: 1.5297\n",
      "Epoch 45/100\n",
      "1/1 [==============================] - 0s 26ms/step - loss: 0.5173 - MSE: 0.5173 - MAE: 0.5511 - val_loss: 2.4696 - val_MSE: 2.4696 - val_MAE: 1.5108\n",
      "Epoch 46/100\n",
      "1/1 [==============================] - 0s 24ms/step - loss: 0.5041 - MSE: 0.5041 - MAE: 0.5441 - val_loss: 2.4133 - val_MSE: 2.4133 - val_MAE: 1.4921\n",
      "Epoch 47/100\n",
      "1/1 [==============================] - 0s 27ms/step - loss: 0.4912 - MSE: 0.4912 - MAE: 0.5371 - val_loss: 2.3582 - val_MSE: 2.3582 - val_MAE: 1.4736\n",
      "Epoch 48/100\n",
      "1/1 [==============================] - 0s 30ms/step - loss: 0.4788 - MSE: 0.4788 - MAE: 0.5303 - val_loss: 2.3044 - val_MSE: 2.3044 - val_MAE: 1.4553\n",
      "Epoch 49/100\n",
      "1/1 [==============================] - 0s 26ms/step - loss: 0.4667 - MSE: 0.4667 - MAE: 0.5235 - val_loss: 2.2517 - val_MSE: 2.2517 - val_MAE: 1.4372\n",
      "Epoch 50/100\n",
      "1/1 [==============================] - 0s 26ms/step - loss: 0.4551 - MSE: 0.4551 - MAE: 0.5168 - val_loss: 2.2003 - val_MSE: 2.2003 - val_MAE: 1.4192\n",
      "Epoch 51/100\n",
      "1/1 [==============================] - 0s 28ms/step - loss: 0.4438 - MSE: 0.4438 - MAE: 0.5102 - val_loss: 2.1500 - val_MSE: 2.1500 - val_MAE: 1.4015\n",
      "Epoch 52/100\n",
      "1/1 [==============================] - 0s 27ms/step - loss: 0.4329 - MSE: 0.4329 - MAE: 0.5037 - val_loss: 2.1009 - val_MSE: 2.1009 - val_MAE: 1.3839\n",
      "Epoch 53/100\n",
      "1/1 [==============================] - 0s 26ms/step - loss: 0.4224 - MSE: 0.4224 - MAE: 0.4973 - val_loss: 2.0530 - val_MSE: 2.0530 - val_MAE: 1.3666\n",
      "Epoch 54/100\n",
      "1/1 [==============================] - 0s 35ms/step - loss: 0.4122 - MSE: 0.4122 - MAE: 0.4910 - val_loss: 2.0062 - val_MSE: 2.0062 - val_MAE: 1.3494\n",
      "Epoch 55/100\n",
      "1/1 [==============================] - 0s 28ms/step - loss: 0.4023 - MSE: 0.4023 - MAE: 0.4847 - val_loss: 1.9606 - val_MSE: 1.9606 - val_MAE: 1.3325\n",
      "Epoch 56/100\n",
      "1/1 [==============================] - 0s 27ms/step - loss: 0.3928 - MSE: 0.3928 - MAE: 0.4786 - val_loss: 1.9160 - val_MSE: 1.9160 - val_MAE: 1.3158\n",
      "Epoch 57/100\n",
      "1/1 [==============================] - 0s 29ms/step - loss: 0.3836 - MSE: 0.3836 - MAE: 0.4725 - val_loss: 1.8726 - val_MSE: 1.8726 - val_MAE: 1.2992\n",
      "Epoch 58/100\n",
      "1/1 [==============================] - 0s 29ms/step - loss: 0.3748 - MSE: 0.3748 - MAE: 0.4666 - val_loss: 1.8302 - val_MSE: 1.8302 - val_MAE: 1.2829\n",
      "Epoch 59/100\n",
      "1/1 [==============================] - 0s 27ms/step - loss: 0.3662 - MSE: 0.3662 - MAE: 0.4607 - val_loss: 1.7889 - val_MSE: 1.7889 - val_MAE: 1.2668\n",
      "Epoch 60/100\n",
      "1/1 [==============================] - 0s 26ms/step - loss: 0.3580 - MSE: 0.3580 - MAE: 0.4550 - val_loss: 1.7487 - val_MSE: 1.7487 - val_MAE: 1.2509\n",
      "Epoch 61/100\n",
      "1/1 [==============================] - 0s 29ms/step - loss: 0.3500 - MSE: 0.3500 - MAE: 0.4493 - val_loss: 1.7095 - val_MSE: 1.7095 - val_MAE: 1.2353\n",
      "Epoch 62/100\n",
      "1/1 [==============================] - 0s 33ms/step - loss: 0.3423 - MSE: 0.3423 - MAE: 0.4437 - val_loss: 1.6713 - val_MSE: 1.6713 - val_MAE: 1.2198\n",
      "Epoch 63/100\n",
      "1/1 [==============================] - 0s 31ms/step - loss: 0.3349 - MSE: 0.3349 - MAE: 0.4382 - val_loss: 1.6341 - val_MSE: 1.6341 - val_MAE: 1.2046\n",
      "Epoch 64/100\n",
      "1/1 [==============================] - 0s 32ms/step - loss: 0.3277 - MSE: 0.3277 - MAE: 0.4329 - val_loss: 1.5979 - val_MSE: 1.5979 - val_MAE: 1.1895\n",
      "Epoch 65/100\n",
      "1/1 [==============================] - 0s 24ms/step - loss: 0.3209 - MSE: 0.3209 - MAE: 0.4276 - val_loss: 1.5627 - val_MSE: 1.5627 - val_MAE: 1.1747\n",
      "Epoch 66/100\n",
      "1/1 [==============================] - 0s 30ms/step - loss: 0.3142 - MSE: 0.3142 - MAE: 0.4230 - val_loss: 1.5285 - val_MSE: 1.5285 - val_MAE: 1.1601\n",
      "Epoch 67/100\n",
      "1/1 [==============================] - 0s 24ms/step - loss: 0.3078 - MSE: 0.3078 - MAE: 0.4193 - val_loss: 1.4951 - val_MSE: 1.4951 - val_MAE: 1.1458\n",
      "Epoch 68/100\n",
      "1/1 [==============================] - 0s 24ms/step - loss: 0.3016 - MSE: 0.3016 - MAE: 0.4163 - val_loss: 1.4627 - val_MSE: 1.4627 - val_MAE: 1.1316\n",
      "Epoch 69/100\n",
      "1/1 [==============================] - 0s 23ms/step - loss: 0.2957 - MSE: 0.2957 - MAE: 0.4133 - val_loss: 1.4312 - val_MSE: 1.4312 - val_MAE: 1.1177\n",
      "Epoch 70/100\n",
      "1/1 [==============================] - 0s 25ms/step - loss: 0.2900 - MSE: 0.2900 - MAE: 0.4104 - val_loss: 1.4006 - val_MSE: 1.4006 - val_MAE: 1.1040\n",
      "Epoch 71/100\n",
      "1/1 [==============================] - 0s 24ms/step - loss: 0.2845 - MSE: 0.2845 - MAE: 0.4076 - val_loss: 1.3708 - val_MSE: 1.3708 - val_MAE: 1.0906\n",
      "Epoch 72/100\n",
      "1/1 [==============================] - 0s 27ms/step - loss: 0.2792 - MSE: 0.2792 - MAE: 0.4047 - val_loss: 1.3418 - val_MSE: 1.3418 - val_MAE: 1.0773\n",
      "Epoch 73/100\n",
      "1/1 [==============================] - 0s 26ms/step - loss: 0.2741 - MSE: 0.2741 - MAE: 0.4020 - val_loss: 1.3137 - val_MSE: 1.3137 - val_MAE: 1.0643\n",
      "Epoch 74/100\n",
      "1/1 [==============================] - 0s 33ms/step - loss: 0.2691 - MSE: 0.2691 - MAE: 0.3992 - val_loss: 1.2864 - val_MSE: 1.2864 - val_MAE: 1.0515\n",
      "Epoch 75/100\n",
      "1/1 [==============================] - 0s 25ms/step - loss: 0.2644 - MSE: 0.2644 - MAE: 0.3966 - val_loss: 1.2599 - val_MSE: 1.2599 - val_MAE: 1.0389\n",
      "Epoch 76/100\n",
      "1/1 [==============================] - 0s 25ms/step - loss: 0.2598 - MSE: 0.2598 - MAE: 0.3939 - val_loss: 1.2342 - val_MSE: 1.2342 - val_MAE: 1.0265\n",
      "Epoch 77/100\n",
      "1/1 [==============================] - 0s 23ms/step - loss: 0.2554 - MSE: 0.2554 - MAE: 0.3913 - val_loss: 1.2092 - val_MSE: 1.2092 - val_MAE: 1.0143\n",
      "Epoch 78/100\n",
      "1/1 [==============================] - 0s 28ms/step - loss: 0.2512 - MSE: 0.2512 - MAE: 0.3888 - val_loss: 1.1849 - val_MSE: 1.1849 - val_MAE: 1.0024\n",
      "Epoch 79/100\n",
      "1/1 [==============================] - 0s 24ms/step - loss: 0.2471 - MSE: 0.2471 - MAE: 0.3862 - val_loss: 1.1614 - val_MSE: 1.1614 - val_MAE: 0.9907\n",
      "Epoch 80/100\n",
      "1/1 [==============================] - 0s 25ms/step - loss: 0.2431 - MSE: 0.2431 - MAE: 0.3838 - val_loss: 1.1386 - val_MSE: 1.1386 - val_MAE: 0.9792\n",
      "Epoch 81/100\n",
      "1/1 [==============================] - 0s 28ms/step - loss: 0.2394 - MSE: 0.2394 - MAE: 0.3813 - val_loss: 1.1164 - val_MSE: 1.1164 - val_MAE: 0.9679\n",
      "Epoch 82/100\n",
      "1/1 [==============================] - 0s 24ms/step - loss: 0.2357 - MSE: 0.2357 - MAE: 0.3789 - val_loss: 1.0949 - val_MSE: 1.0949 - val_MAE: 0.9568\n",
      "Epoch 83/100\n",
      "1/1 [==============================] - 0s 31ms/step - loss: 0.2322 - MSE: 0.2322 - MAE: 0.3766 - val_loss: 1.0741 - val_MSE: 1.0741 - val_MAE: 0.9460\n",
      "Epoch 84/100\n",
      "1/1 [==============================] - 0s 28ms/step - loss: 0.2288 - MSE: 0.2288 - MAE: 0.3743 - val_loss: 1.0539 - val_MSE: 1.0539 - val_MAE: 0.9353\n",
      "Epoch 85/100\n",
      "1/1 [==============================] - 0s 26ms/step - loss: 0.2255 - MSE: 0.2255 - MAE: 0.3720 - val_loss: 1.0343 - val_MSE: 1.0343 - val_MAE: 0.9249\n",
      "Epoch 86/100\n",
      "1/1 [==============================] - 0s 24ms/step - loss: 0.2224 - MSE: 0.2224 - MAE: 0.3698 - val_loss: 1.0153 - val_MSE: 1.0153 - val_MAE: 0.9146\n",
      "Epoch 87/100\n",
      "1/1 [==============================] - 0s 26ms/step - loss: 0.2193 - MSE: 0.2193 - MAE: 0.3676 - val_loss: 0.9969 - val_MSE: 0.9969 - val_MAE: 0.9046\n",
      "Epoch 88/100\n",
      "1/1 [==============================] - 0s 29ms/step - loss: 0.2164 - MSE: 0.2164 - MAE: 0.3654 - val_loss: 0.9790 - val_MSE: 0.9790 - val_MAE: 0.8947\n",
      "Epoch 89/100\n",
      "1/1 [==============================] - 0s 27ms/step - loss: 0.2135 - MSE: 0.2135 - MAE: 0.3633 - val_loss: 0.9617 - val_MSE: 0.9617 - val_MAE: 0.8851\n",
      "Epoch 90/100\n",
      "1/1 [==============================] - 0s 26ms/step - loss: 0.2108 - MSE: 0.2108 - MAE: 0.3612 - val_loss: 0.9449 - val_MSE: 0.9449 - val_MAE: 0.8756\n",
      "Epoch 91/100\n",
      "1/1 [==============================] - 0s 30ms/step - loss: 0.2082 - MSE: 0.2082 - MAE: 0.3592 - val_loss: 0.9287 - val_MSE: 0.9287 - val_MAE: 0.8664\n",
      "Epoch 92/100\n",
      "1/1 [==============================] - 0s 33ms/step - loss: 0.2056 - MSE: 0.2056 - MAE: 0.3572 - val_loss: 0.9129 - val_MSE: 0.9129 - val_MAE: 0.8573\n",
      "Epoch 93/100\n",
      "1/1 [==============================] - 0s 33ms/step - loss: 0.2031 - MSE: 0.2031 - MAE: 0.3552 - val_loss: 0.8977 - val_MSE: 0.8977 - val_MAE: 0.8485\n",
      "Epoch 94/100\n",
      "1/1 [==============================] - 0s 26ms/step - loss: 0.2008 - MSE: 0.2008 - MAE: 0.3533 - val_loss: 0.8829 - val_MSE: 0.8829 - val_MAE: 0.8398\n",
      "Epoch 95/100\n",
      "1/1 [==============================] - 0s 27ms/step - loss: 0.1984 - MSE: 0.1984 - MAE: 0.3514 - val_loss: 0.8686 - val_MSE: 0.8686 - val_MAE: 0.8313\n",
      "Epoch 96/100\n",
      "1/1 [==============================] - 0s 27ms/step - loss: 0.1962 - MSE: 0.1962 - MAE: 0.3495 - val_loss: 0.8547 - val_MSE: 0.8547 - val_MAE: 0.8229\n",
      "Epoch 97/100\n",
      "1/1 [==============================] - 0s 27ms/step - loss: 0.1941 - MSE: 0.1941 - MAE: 0.3477 - val_loss: 0.8412 - val_MSE: 0.8412 - val_MAE: 0.8148\n",
      "Epoch 98/100\n",
      "1/1 [==============================] - 0s 24ms/step - loss: 0.1920 - MSE: 0.1920 - MAE: 0.3459 - val_loss: 0.8282 - val_MSE: 0.8282 - val_MAE: 0.8068\n",
      "Epoch 99/100\n",
      "1/1 [==============================] - 0s 25ms/step - loss: 0.1900 - MSE: 0.1900 - MAE: 0.3442 - val_loss: 0.8156 - val_MSE: 0.8156 - val_MAE: 0.7990\n",
      "Epoch 100/100\n",
      "1/1 [==============================] - 0s 24ms/step - loss: 0.1880 - MSE: 0.1880 - MAE: 0.3425 - val_loss: 0.8033 - val_MSE: 0.8033 - val_MAE: 0.7914\n"
     ]
    }
   ],
   "source": [
    "n_epochs = 100\n",
    "\n",
    "history = model.fit(Xtrain, Ttrain, epochs=n_epochs, validation_split=0.2)"
   ]
  },
  {
   "cell_type": "code",
   "execution_count": 12,
   "metadata": {},
   "outputs": [
    {
     "data": {
      "text/plain": [
       "dict_keys(['loss', 'MSE', 'MAE', 'val_loss', 'val_MSE', 'val_MAE'])"
      ]
     },
     "execution_count": 12,
     "metadata": {},
     "output_type": "execute_result"
    }
   ],
   "source": [
    "history.history.keys()"
   ]
  },
  {
   "cell_type": "code",
   "execution_count": 13,
   "metadata": {
    "scrolled": true
   },
   "outputs": [
    {
     "data": {
      "text/plain": [
       "Text(0, 0.5, 'Actual and Predicted $f(x)$')"
      ]
     },
     "execution_count": 13,
     "metadata": {},
     "output_type": "execute_result"
    },
    {
     "data": {
      "image/png": "[encoded data removed]",
      "text/plain": [
       "<Figure size 720x432 with 2 Axes>"
      ]
     },
     "metadata": {
      "needs_background": "light"
     },
     "output_type": "display_data"
    }
   ],
   "source": [
    "\n",
    "fig = plt.figure(figsize=(10,6))\n",
    "\n",
    "plt.subplot(2,1,1)\n",
    "plt.plot(history.history['loss'])\n",
    "plt.ylim(0,0.7)\n",
    "plt.xlabel('Epochs')\n",
    "plt.ylabel('RMSE')\n",
    "plt.legend(('Train','Test'),loc='upper left')\n",
    "\n",
    "plt.subplot(2,1,2)\n",
    "plt.plot(Xtrain,Ttrain,'o-', Xtest,Ttest,'o-', Xtest, model.predict(Xtest),'o-')\n",
    "plt.xlim(-10,10)\n",
    "plt.legend(('Training','Testing','Model'),loc='upper left')\n",
    "plt.xlabel('$x$')\n",
    "plt.ylabel('Actual and Predicted $f(x)$')\n",
    "\n"
   ]
  },
  {
   "cell_type": "markdown",
   "metadata": {},
   "source": [
    "# Going Deeper with TF\n",
    "\n",
    "Previous neural networks are still shallow. Now let us modify the codes to make deeper. "
   ]
  },
  {
   "cell_type": "code",
   "execution_count": 14,
   "metadata": {},
   "outputs": [
    {
     "name": "stdout",
     "output_type": "stream",
     "text": [
      "Model: \"sequential_2\"\n",
      "_________________________________________________________________\n",
      "Layer (type)                 Output Shape              Param #   \n",
      "=================================================================\n",
      "flatten_2 (Flatten)          (None, 1)                 0         \n",
      "_________________________________________________________________\n",
      "dense_4 (Dense)              (None, 3)                 6         \n",
      "_________________________________________________________________\n",
      "dense_5 (Dense)              (None, 3)                 12        \n",
      "_________________________________________________________________\n",
      "dense_6 (Dense)              (None, 3)                 12        \n",
      "_________________________________________________________________\n",
      "dense_7 (Dense)              (None, 1)                 4         \n",
      "=================================================================\n",
      "Total params: 34\n",
      "Trainable params: 34\n",
      "Non-trainable params: 0\n",
      "_________________________________________________________________\n"
     ]
    }
   ],
   "source": [
    "# You can go deep by stacking the dense (full-connected) layers\n",
    "\n",
    "\n",
    "ni = 1\n",
    "nh1 = 3\n",
    "nh2 = 3\n",
    "nh3 = 3\n",
    "no = 1\n",
    "learning_rate = 0.1\n",
    "\n",
    "\n",
    "# build a neural network model\n",
    "model = keras.Sequential([\n",
    "            keras.layers.Flatten(input_shape=[ni]),\n",
    "            keras.layers.Dense(nh1, activation='tanh'),\n",
    "            keras.layers.Dense(nh2, activation='tanh'),\n",
    "            keras.layers.Dense(nh3, activation='tanh'),\n",
    "            keras.layers.Dense(no)\n",
    "        ])\n",
    "\n",
    "# compile the model\n",
    "model.compile(optimizer='adam',\n",
    "              loss='mse', \n",
    "              metrics=['MSE', 'MAE'])\n",
    "\n",
    "model.summary()"
   ]
  },
  {
   "cell_type": "markdown",
   "metadata": {},
   "source": [
    "# Training Deep Nets"
   ]
  },
  {
   "cell_type": "markdown",
   "metadata": {},
   "source": [
    "## Initialization\n",
    "\n",
    "[Glorot and Bengio](http://proceedings.mlr.press/v9/glorot10a.html) discussed about how we can initialize the weights to ensure deep networks not to have the vanishing gradient problem. The basic idea of it was how to make the neural networks to have equal variance for the outputs to the inputs. Later, [He, et al.](https://arxiv.org/abs/1502.01852), also suggested an efficient initialization for the ReLU activation functions. \n",
    "\n",
    "Here follows the table from the text. \n",
    "\n",
    "<img src=\"http://webpages.uncc.edu/mlee173/teach/itcs4156online/images/class/nn_init.png\" width=600 />\n",
    "\n",
    "In TensorFlow, the Xavier initialization ('glorot_uniform') is default. To select a He initialization, you can use this code. "
   ]
  },
  {
   "cell_type": "code",
   "execution_count": 15,
   "metadata": {},
   "outputs": [
    {
     "name": "stdout",
     "output_type": "stream",
     "text": [
      "Model: \"sequential_3\"\n",
      "_________________________________________________________________\n",
      "Layer (type)                 Output Shape              Param #   \n",
      "=================================================================\n",
      "flatten_3 (Flatten)          (None, 1)                 0         \n",
      "_________________________________________________________________\n",
      "dense_8 (Dense)              (None, 3)                 6         \n",
      "_________________________________________________________________\n",
      "dense_9 (Dense)              (None, 3)                 12        \n",
      "_________________________________________________________________\n",
      "dense_10 (Dense)             (None, 3)                 12        \n",
      "_________________________________________________________________\n",
      "dense_11 (Dense)             (None, 1)                 4         \n",
      "=================================================================\n",
      "Total params: 34\n",
      "Trainable params: 34\n",
      "Non-trainable params: 0\n",
      "_________________________________________________________________\n"
     ]
    }
   ],
   "source": [
    "\n",
    "# build a neural network model\n",
    "model = keras.Sequential([\n",
    "            keras.layers.Flatten(input_shape=[ni]),\n",
    "            keras.layers.Dense(nh1, activation='tanh', kernel_initializer='he_normal'),\n",
    "            keras.layers.Dense(nh2, activation='tanh', kernel_initializer='he_normal'),\n",
    "            keras.layers.Dense(nh3, activation='tanh', kernel_initializer='he_normal'),\n",
    "            keras.layers.Dense(no)\n",
    "        ])\n",
    "\n",
    "# compile the model\n",
    "model.compile(optimizer='adam',\n",
    "              loss='mse', \n",
    "              metrics=['MSE', 'MAE'])\n",
    "\n",
    "model.summary()"
   ]
  },
  {
   "cell_type": "markdown",
   "metadata": {},
   "source": [
    "## Activation Function\n",
    "\n",
    "Previously, we have discussed about various choice of activation functions briefly.\n",
    "In deep networks, vanishing or exploding gradient problems were in part due to a poor choice of activation function.\n",
    "The s-shape curves like logistic sigmoid or tanh saturates to when inputs become very large. This can result in nearly zero derivative, which affects other layers' gradient. ReLU, the Rectifier Linear Unit, does not have any positive saturation with simple and fast gradient (0 or 1). \n",
    "However, ReLU has well-known *dying ReLU* problem that always outputs 0. Since the gradient of ReLU for negative inputs are 0, it is unlikely to be recovered when a ReLU is dead. \n",
    "Leaky ReLU suggests a solution by allowing leaks for negative inputs. That is, now you have a slope, typically 0.01, for the negatives. \n",
    "Now, let us take a look at the activation functions in the following codes.\n"
   ]
  },
  {
   "cell_type": "code",
   "execution_count": 16,
   "metadata": {},
   "outputs": [
    {
     "data": {
      "text/plain": [
       "<matplotlib.legend.Legend at 0x7f40f873e700>"
      ]
     },
     "execution_count": 16,
     "metadata": {},
     "output_type": "execute_result"
    },
    {
     "data": {
      "image/png": "[encoded data removed]",
      "text/plain": [
       "<Figure size 576x576 with 1 Axes>"
      ]
     },
     "metadata": {
      "needs_background": "light"
     },
     "output_type": "display_data"
    }
   ],
   "source": [
    "# Activation Functions\n",
    "\n",
    "def step(x):\n",
    "    return 1 if x > 0 else -1\n",
    "\n",
    "def sigmoid(x):\n",
    "    return 1 / (1 + np.exp(-x))\n",
    "\n",
    "def tanh(x):\n",
    "    return np.tanh(x)\n",
    "\n",
    "def relu(x):\n",
    "    return x if x > 0 else 0\n",
    "\n",
    "def leak_relu(x):\n",
    "    return x if x > 0 else 0.01 * x\n",
    "\n",
    "def softplus(x):\n",
    "    return np.log(1+np.exp(x))\n",
    "\n",
    "def gauss(x):\n",
    "    return np.exp(-x**2)\n",
    "\n",
    "COLORS=['g','r','y','c','m','b','k']\n",
    "LABELS=['Step','Sigmoid','tanh','ReLU','Leaky ReLU','SoftPlus','RBF']\n",
    "x = np.linspace(-3, 3, 100)\n",
    "\n",
    "plt.figure(figsize=(8,8))\n",
    "for i, f in enumerate([step, sigmoid, tanh, relu, leak_relu, softplus, gauss]):\n",
    "     plt.plot(x, list(map(f,x)), color=COLORS[i], linewidth=4 if i!=4 else 2, label=LABELS[i])\n",
    "\n",
    "plt.legend()"
   ]
  },
  {
   "cell_type": "markdown",
   "metadata": {},
   "source": [
    "Our text discuss more choices that extends ReLU, including ELU (Exponential Linear Unit). This has been improved training time and better performance on the test data. \n",
    "\n",
    "$$\n",
    "ELU_\\alpha (z) = \\begin{cases}\n",
    "    \\alpha( \\exp(z) - 1)      & \\quad \\text{if } z < 0\\\\\n",
    "    z  & \\quad \\text{if } z \\ge 0\n",
    "  \\end{cases}\n",
    "$$\n",
    "\n",
    "The negative outputs for negative inputs help a hidden unit to produce outputs centered to zero. This helps speed up learning. Also, similar to Leaky ReLU, the nonzero gradient for negetive inputs avoids the dying ReLU. "
   ]
  },
  {
   "cell_type": "code",
   "execution_count": 17,
   "metadata": {},
   "outputs": [],
   "source": [
    "def elu(z, alpha=1):\n",
    "    return np.where(z < 0, alpha * (np.exp(z) - 1), z)"
   ]
  },
  {
   "cell_type": "code",
   "execution_count": 18,
   "metadata": {},
   "outputs": [
    {
     "data": {
      "image/png": "[encoded data removed]",
      "text/plain": [
       "<Figure size 432x288 with 1 Axes>"
      ]
     },
     "metadata": {
      "needs_background": "light"
     },
     "output_type": "display_data"
    }
   ],
   "source": [
    "z = np.linspace(-5, 5, 200)\n",
    "\n",
    "plt.plot(z, elu(z), \"b-\", linewidth=2)\n",
    "plt.plot([-5, 5], [0, 0], 'k-')\n",
    "plt.plot([-5, 5], [-1, -1], 'k--')\n",
    "plt.plot([0, 0], [-2.2, 3.2], 'k-')\n",
    "plt.grid(True)\n",
    "plt.title(r\"ELU activation function ($\\alpha=1$)\", fontsize=14)\n",
    "plt.axis([-5, 5, -2.2, 3.2])\n",
    "plt.show()"
   ]
  },
  {
   "cell_type": "markdown",
   "metadata": {},
   "source": [
    "### SELU\n",
    "\n",
    "This activation function was proposed in this [great paper](https://arxiv.org/pdf/1706.02515.pdf) by Günter Klambauer, Thomas Unterthiner and Andreas Mayr, published in June 2017 (I will definitely add it to the book). It outperforms the other activation functions very significantly for deep neural networks, so you should really try it out.\n",
    "\n",
    "According to the author of our text, this activation function preserves the mean 0 and standard deviation 1 across all layers of neural networks with 100 layers. That is amzaing! "
   ]
  },
  {
   "cell_type": "code",
   "execution_count": 19,
   "metadata": {},
   "outputs": [],
   "source": [
    "def selu(z,\n",
    "         scale=1.0507009873554804934193349852946,\n",
    "         alpha=1.6732632423543772848170429916717):\n",
    "    return scale * elu(z, alpha)"
   ]
  },
  {
   "cell_type": "code",
   "execution_count": 20,
   "metadata": {},
   "outputs": [
    {
     "data": {
      "image/png": "[encoded data removed]",
      "text/plain": [
       "<Figure size 432x288 with 1 Axes>"
      ]
     },
     "metadata": {
      "needs_background": "light"
     },
     "output_type": "display_data"
    }
   ],
   "source": [
    "plt.plot(z, selu(z), \"b-\", linewidth=2)\n",
    "plt.plot([-5, 5], [0, 0], 'k-')\n",
    "plt.plot([-5, 5], [-1.758, -1.758], 'k--')\n",
    "plt.plot([0, 0], [-2.2, 3.2], 'k-')\n",
    "plt.grid(True)\n",
    "plt.title(r\"SELU activation function\", fontsize=14)\n",
    "plt.axis([-5, 5, -2.2, 3.2])\n",
    "\n",
    "plt.show()"
   ]
  },
  {
   "cell_type": "markdown",
   "metadata": {},
   "source": [
    "Now, let us try this in TensorFlow. "
   ]
  },
  {
   "cell_type": "code",
   "execution_count": 21,
   "metadata": {},
   "outputs": [],
   "source": [
    "def selu(z,\n",
    "         scale=1.0507009873554804934193349852946,\n",
    "         alpha=1.6732632423543772848170429916717):\n",
    "    return scale * tf.where(z >= 0.0, z, alpha * tf.nn.elu(z))\n",
    "\n"
   ]
  },
  {
   "cell_type": "code",
   "execution_count": 22,
   "metadata": {},
   "outputs": [
    {
     "data": {
      "text/plain": [
       "<tensorflow.python.keras.layers.core.Dense at 0x7f40f872b2e0>"
      ]
     },
     "execution_count": 22,
     "metadata": {},
     "output_type": "execute_result"
    }
   ],
   "source": [
    "# to use SELU activation, you just need to create the dense layer with activation parameter!\n",
    "# bypassing the custom function\n",
    "keras.layers.Dense(nh1, activation=selu)  \n"
   ]
  },
  {
   "cell_type": "markdown",
   "metadata": {},
   "source": [
    "Or, you can use the preset activation functions. The list of builtin activation functions are available from https://www.tensorflow.org/api_docs/python/tf/keras/activations. "
   ]
  },
  {
   "cell_type": "code",
   "execution_count": 23,
   "metadata": {},
   "outputs": [
    {
     "data": {
      "text/plain": [
       "<tensorflow.python.keras.layers.core.Dense at 0x7f40f8784160>"
      ]
     },
     "execution_count": 23,
     "metadata": {},
     "output_type": "execute_result"
    }
   ],
   "source": [
    "keras.layers.Dense(nh1, activation='selu')  "
   ]
  },
  {
   "cell_type": "markdown",
   "metadata": {},
   "source": [
    "# Example: MNIST Hand-written Digit Classification"
   ]
  },
  {
   "cell_type": "markdown",
   "metadata": {},
   "source": [
    "Let us apply the deep neural networks to MNIST data, which is builtin tensorflow library. "
   ]
  },
  {
   "cell_type": "code",
   "execution_count": 24,
   "metadata": {},
   "outputs": [],
   "source": [
    "# MNIST Example\n",
    "\n",
    "mnist = tf.keras.datasets.mnist\n",
    "\n",
    "(x_train, y_train), (x_test, y_test) = mnist.load_data()\n",
    "x_train, x_test = x_train / 255.0, x_test / 255.0"
   ]
  },
  {
   "cell_type": "code",
   "execution_count": 25,
   "metadata": {},
   "outputs": [
    {
     "name": "stdout",
     "output_type": "stream",
     "text": [
      "38173\n"
     ]
    },
    {
     "data": {
      "text/plain": [
       "<matplotlib.image.AxesImage at 0x7f40f861f2e0>"
      ]
     },
     "execution_count": 25,
     "metadata": {},
     "output_type": "execute_result"
    },
    {
     "data": {
      "image/png": "[encoded data removed]",
      "text/plain": [
       "<Figure size 432x288 with 1 Axes>"
      ]
     },
     "metadata": {
      "needs_background": "light"
     },
     "output_type": "display_data"
    }
   ],
   "source": [
    "randidx = np.random.randint(x_train.shape[0])\n",
    "print(randidx)\n",
    "plt.imshow(x_train[randidx].reshape((28,28)), cmap='gray')"
   ]
  },
  {
   "cell_type": "code",
   "execution_count": 26,
   "metadata": {},
   "outputs": [
    {
     "name": "stdout",
     "output_type": "stream",
     "text": [
      "Model: \"sequential_4\"\n",
      "_________________________________________________________________\n",
      "Layer (type)                 Output Shape              Param #   \n",
      "=================================================================\n",
      "flatten_4 (Flatten)          (None, 784)               0         \n",
      "_________________________________________________________________\n",
      "dense_14 (Dense)             (None, 128)               100480    \n",
      "_________________________________________________________________\n",
      "dense_15 (Dense)             (None, 10)                1290      \n",
      "=================================================================\n",
      "Total params: 101,770\n",
      "Trainable params: 101,770\n",
      "Non-trainable params: 0\n",
      "_________________________________________________________________\n"
     ]
    }
   ],
   "source": [
    "# Building a network\n",
    "tf.keras.backend.set_floatx('float64')\n",
    "\n",
    "model = keras.Sequential([\n",
    "    keras.layers.Flatten(input_shape=(28, 28)),\n",
    "    keras.layers.Dense(128, activation='relu'),\n",
    "    keras.layers.Dense(10)\n",
    "])\n",
    "\n",
    "model.compile(optimizer='adam',\n",
    "              loss=tf.keras.losses.SparseCategoricalCrossentropy(from_logits=True),\n",
    "              metrics=['accuracy'])\n",
    "\n",
    "model.summary()"
   ]
  },
  {
   "cell_type": "code",
   "execution_count": 27,
   "metadata": {},
   "outputs": [
    {
     "name": "stdout",
     "output_type": "stream",
     "text": [
      "Epoch 1/10\n",
      "1875/1875 [==============================] - 5s 3ms/step - loss: 0.2592 - accuracy: 0.9257\n",
      "Epoch 2/10\n",
      "1875/1875 [==============================] - 5s 2ms/step - loss: 0.1140 - accuracy: 0.9658\n",
      "Epoch 3/10\n",
      "1875/1875 [==============================] - 5s 3ms/step - loss: 0.0782 - accuracy: 0.9762\n",
      "Epoch 4/10\n",
      "1875/1875 [==============================] - 5s 2ms/step - loss: 0.0582 - accuracy: 0.9818\n",
      "Epoch 5/10\n",
      "1875/1875 [==============================] - 5s 3ms/step - loss: 0.0461 - accuracy: 0.9858\n",
      "Epoch 6/10\n",
      "1875/1875 [==============================] - 5s 3ms/step - loss: 0.0357 - accuracy: 0.9890\n",
      "Epoch 7/10\n",
      "1875/1875 [==============================] - 5s 3ms/step - loss: 0.0279 - accuracy: 0.9910\n",
      "Epoch 8/10\n",
      "1875/1875 [==============================] - 5s 2ms/step - loss: 0.0227 - accuracy: 0.9928\n",
      "Epoch 9/10\n",
      "1875/1875 [==============================] - 5s 3ms/step - loss: 0.0190 - accuracy: 0.9941\n",
      "Epoch 10/10\n",
      "1875/1875 [==============================] - 5s 3ms/step - loss: 0.0149 - accuracy: 0.9955\n"
     ]
    },
    {
     "data": {
      "text/plain": [
       "<tensorflow.python.keras.callbacks.History at 0x7f40f85dedc0>"
      ]
     },
     "execution_count": 27,
     "metadata": {},
     "output_type": "execute_result"
    }
   ],
   "source": [
    "model.fit(x_train, y_train, epochs=10)"
   ]
  },
  {
   "cell_type": "markdown",
   "metadata": {},
   "source": [
    "## Batch Normalization\n",
    "\n",
    "[Ioffe and Szegedy](https://arxiv.org/pdf/1502.03167.pdf) proposed a batch normalization technique to avoid the vanishing gradient problem. Unlike the standard normalization, it has minibatch normalization on each layer. \n",
    "That is, before applying an activation function, it applies normalization of the data, centering to zero and normalizing, scaling and shifting the inputs. \n",
    "\n",
    "Here follows the codes for it."
   ]
  },
  {
   "cell_type": "code",
   "execution_count": 30,
   "metadata": {},
   "outputs": [],
   "source": [
    "def build_model():\n",
    "    model = keras.Sequential([\n",
    "                keras.layers.Flatten(input_shape=(28, 28)),\n",
    "                keras.layers.BatchNormalization(),\n",
    "                keras.layers.Dense(128, activation='relu'),\n",
    "                keras.layers.BatchNormalization(),    \n",
    "                keras.layers.Dense(10)\n",
    "            ])\n",
    "    return model"
   ]
  },
  {
   "cell_type": "code",
   "execution_count": 31,
   "metadata": {},
   "outputs": [
    {
     "name": "stdout",
     "output_type": "stream",
     "text": [
      "Model: \"sequential_6\"\n",
      "_________________________________________________________________\n",
      "Layer (type)                 Output Shape              Param #   \n",
      "=================================================================\n",
      "flatten_6 (Flatten)          (None, 784)               0         \n",
      "_________________________________________________________________\n",
      "batch_normalization_2 (Batch (None, 784)               3136      \n",
      "_________________________________________________________________\n",
      "dense_18 (Dense)             (None, 128)               100480    \n",
      "_________________________________________________________________\n",
      "batch_normalization_3 (Batch (None, 128)               512       \n",
      "_________________________________________________________________\n",
      "dense_19 (Dense)             (None, 10)                1290      \n",
      "=================================================================\n",
      "Total params: 105,418\n",
      "Trainable params: 103,594\n",
      "Non-trainable params: 1,824\n",
      "_________________________________________________________________\n"
     ]
    }
   ],
   "source": [
    "model = build_model()\n",
    "model.compile(optimizer='adam',\n",
    "              loss=tf.keras.losses.SparseCategoricalCrossentropy(from_logits=True),\n",
    "              metrics=['accuracy'])\n",
    "\n",
    "model.summary()"
   ]
  },
  {
   "cell_type": "markdown",
   "metadata": {},
   "source": [
    "Borrowing the codes from the text, we can have the batch normalized version as below:"
   ]
  },
  {
   "cell_type": "code",
   "execution_count": 32,
   "metadata": {},
   "outputs": [
    {
     "name": "stdout",
     "output_type": "stream",
     "text": [
      "Epoch 1/10\n",
      "1875/1875 [==============================] - 6s 3ms/step - loss: 0.2487 - accuracy: 0.9258\n",
      "Epoch 2/10\n",
      "1875/1875 [==============================] - 6s 3ms/step - loss: 0.1203 - accuracy: 0.9638\n",
      "Epoch 3/10\n",
      "1875/1875 [==============================] - 6s 3ms/step - loss: 0.0925 - accuracy: 0.9711\n",
      "Epoch 4/10\n",
      "1875/1875 [==============================] - 6s 3ms/step - loss: 0.0745 - accuracy: 0.9762\n",
      "Epoch 5/10\n",
      "1875/1875 [==============================] - 6s 3ms/step - loss: 0.0648 - accuracy: 0.9789\n",
      "Epoch 6/10\n",
      "1875/1875 [==============================] - 6s 3ms/step - loss: 0.0572 - accuracy: 0.9813\n",
      "Epoch 7/10\n",
      "1875/1875 [==============================] - 6s 3ms/step - loss: 0.0501 - accuracy: 0.9837\n",
      "Epoch 8/10\n",
      "1875/1875 [==============================] - 6s 3ms/step - loss: 0.0444 - accuracy: 0.9849\n",
      "Epoch 9/10\n",
      "1875/1875 [==============================] - 6s 3ms/step - loss: 0.0404 - accuracy: 0.9867\n",
      "Epoch 10/10\n",
      "1875/1875 [==============================] - 6s 3ms/step - loss: 0.0371 - accuracy: 0.9877\n"
     ]
    },
    {
     "data": {
      "text/plain": [
       "<tensorflow.python.keras.callbacks.History at 0x7f40f83fcdf0>"
      ]
     },
     "execution_count": 32,
     "metadata": {},
     "output_type": "execute_result"
    }
   ],
   "source": [
    "model.fit(x_train, y_train, epochs=10)"
   ]
  },
  {
   "cell_type": "markdown",
   "metadata": {},
   "source": [
    "# Reusing Pretrained Layers! \n",
    "\n",
    "Often, the training deep network requires a fair amount of time. For similar problems, instead of training a very large deep network from scratch, you can always reuse old networks for similar problems as the figure below: \n",
    "<img src=\"http://webpages.uncc.edu/mlee173/teach/itcs4156online/images/class/nn_reuse.png\" width=600 />\n",
    "\n",
    "\n",
    "First, we store checkpoints during training by using ModelCheckpoint callback. "
   ]
  },
  {
   "cell_type": "code",
   "execution_count": 33,
   "metadata": {},
   "outputs": [
    {
     "name": "stdout",
     "output_type": "stream",
     "text": [
      "WARNING:tensorflow:`period` argument is deprecated. Please use `save_freq` to specify the frequency in number of batches seen.\n",
      "Epoch 1/10\n",
      "1875/1875 [==============================] - 7s 4ms/step - loss: 0.0371 - accuracy: 0.9874 - val_loss: 0.1138 - val_accuracy: 0.9761\n",
      "Epoch 2/10\n",
      "1875/1875 [==============================] - 7s 4ms/step - loss: 0.0317 - accuracy: 0.9892 - val_loss: 0.1282 - val_accuracy: 0.9746\n",
      "Epoch 3/10\n",
      "1875/1875 [==============================] - 7s 4ms/step - loss: 0.0294 - accuracy: 0.9898 - val_loss: 0.1250 - val_accuracy: 0.9765\n",
      "Epoch 4/10\n",
      "1875/1875 [==============================] - 7s 4ms/step - loss: 0.0288 - accuracy: 0.9903 - val_loss: 0.1272 - val_accuracy: 0.9757\n",
      "Epoch 5/10\n",
      "1869/1875 [============================>.] - ETA: 0s - loss: 0.0269 - accuracy: 0.9909\n",
      "Epoch 00005: saving model to training_1/cp.ckpt\n",
      "1875/1875 [==============================] - 7s 4ms/step - loss: 0.0270 - accuracy: 0.9909 - val_loss: 0.1307 - val_accuracy: 0.9753\n",
      "Epoch 6/10\n",
      "1875/1875 [==============================] - 7s 4ms/step - loss: 0.0255 - accuracy: 0.9913 - val_loss: 0.1283 - val_accuracy: 0.9761\n",
      "Epoch 7/10\n",
      "1875/1875 [==============================] - 7s 4ms/step - loss: 0.0258 - accuracy: 0.9914 - val_loss: 0.1324 - val_accuracy: 0.9757\n",
      "Epoch 8/10\n",
      "1875/1875 [==============================] - 7s 4ms/step - loss: 0.0238 - accuracy: 0.9918 - val_loss: 0.1400 - val_accuracy: 0.9759\n",
      "Epoch 9/10\n",
      "1875/1875 [==============================] - 7s 4ms/step - loss: 0.0227 - accuracy: 0.9922 - val_loss: 0.1381 - val_accuracy: 0.9754\n",
      "Epoch 10/10\n",
      "1864/1875 [============================>.] - ETA: 0s - loss: 0.0213 - accuracy: 0.9923\n",
      "Epoch 00010: saving model to training_1/cp.ckpt\n",
      "1875/1875 [==============================] - 7s 4ms/step - loss: 0.0215 - accuracy: 0.9922 - val_loss: 0.1263 - val_accuracy: 0.9784\n"
     ]
    },
    {
     "data": {
      "text/plain": [
       "<tensorflow.python.keras.callbacks.History at 0x7f40f82c6bb0>"
      ]
     },
     "execution_count": 33,
     "metadata": {},
     "output_type": "execute_result"
    }
   ],
   "source": [
    "checkpoint_path = \"training_1/cp.ckpt\"\n",
    "checkpoint_dir = os.path.dirname(checkpoint_path)\n",
    "\n",
    "# Create a callback that saves the model's weights\n",
    "cp_callback = keras.callbacks.ModelCheckpoint(filepath=checkpoint_path,\n",
    "                                                 save_weights_only=True,\n",
    "                                                 verbose=1,\n",
    "                                                 period=5) # every 10 epoch\n",
    "\n",
    "# Train the model with the new callback\n",
    "model.fit(x_train, \n",
    "          y_train,  \n",
    "          epochs=10,\n",
    "          validation_data=(x_test, y_test),\n",
    "          callbacks=[cp_callback])  # Pass callback to training\n",
    "\n",
    "# This may generate warnings related to saving the state of the optimizer.\n",
    "# These warnings (and similar warnings throughout this notebook)\n",
    "# are in place to discourage outdated usage, and can be ignored."
   ]
  },
  {
   "cell_type": "markdown",
   "metadata": {},
   "source": [
    "Now, we can load from the checkpoint to load the pre-trained model to be reused. "
   ]
  },
  {
   "cell_type": "code",
   "execution_count": 34,
   "metadata": {},
   "outputs": [],
   "source": [
    "latest = tf.train.latest_checkpoint(checkpoint_dir)"
   ]
  },
  {
   "cell_type": "code",
   "execution_count": 35,
   "metadata": {},
   "outputs": [
    {
     "data": {
      "text/plain": [
       "<tensorflow.python.training.tracking.util.CheckpointLoadStatus at 0x7f40f82c26a0>"
      ]
     },
     "execution_count": 35,
     "metadata": {},
     "output_type": "execute_result"
    }
   ],
   "source": [
    "model = build_model() \n",
    "\n",
    "model.load_weights(latest)"
   ]
  },
  {
   "cell_type": "markdown",
   "metadata": {},
   "source": [
    "You can manually save weights with save_weights or save_model APIs. Please refer the [tutorial page](https://www.tensorflow.org/tutorials/keras/save_and_load). "
   ]
  },
  {
   "cell_type": "markdown",
   "metadata": {},
   "source": [
    "## More tricks...\n",
    "\n",
    "There are far more tricks are disucssed in our text. Please download the python notebook from the GitHub, practice them by yourself. \n"
   ]
  },
  {
   "cell_type": "markdown",
   "metadata": {},
   "source": [
    "# Regularization\n",
    "\n",
    "We have discussed about some regularization techniques such as early stopping, regularization, adding noises, and so on. For neural networks, you can consider dropout that turns some hidden nodes with dropout rate (usually 50%) for training. It has successfully generated better model in many practical applications. So you can consider add a line for tf.layers.dropout() call.  "
   ]
  },
  {
   "cell_type": "code",
   "execution_count": 36,
   "metadata": {},
   "outputs": [
    {
     "name": "stdout",
     "output_type": "stream",
     "text": [
      "Model: \"sequential_8\"\n",
      "_________________________________________________________________\n",
      "Layer (type)                 Output Shape              Param #   \n",
      "=================================================================\n",
      "flatten_8 (Flatten)          (None, 784)               0         \n",
      "_________________________________________________________________\n",
      "batch_normalization_6 (Batch (None, 784)               3136      \n",
      "_________________________________________________________________\n",
      "dense_22 (Dense)             (None, 128)               100480    \n",
      "_________________________________________________________________\n",
      "batch_normalization_7 (Batch (None, 128)               512       \n",
      "_________________________________________________________________\n",
      "dropout (Dropout)            (None, 128)               0         \n",
      "_________________________________________________________________\n",
      "dense_23 (Dense)             (None, 10)                1290      \n",
      "=================================================================\n",
      "Total params: 105,418\n",
      "Trainable params: 103,594\n",
      "Non-trainable params: 1,824\n",
      "_________________________________________________________________\n"
     ]
    }
   ],
   "source": [
    "model = keras.Sequential([\n",
    "            keras.layers.Flatten(input_shape=(28, 28)),\n",
    "            keras.layers.BatchNormalization(),\n",
    "            keras.layers.Dense(128, activation='relu'),\n",
    "            keras.layers.BatchNormalization(), \n",
    "            keras.layers.Dropout(0.2),   ### 0.2 of input units to drop\n",
    "            keras.layers.Dense(10)\n",
    "        ])\n",
    "\n",
    "model.summary()"
   ]
  },
  {
   "cell_type": "code",
   "execution_count": null,
   "metadata": {},
   "outputs": [],
   "source": []
  }
 ],
 "metadata": {
  "kernelspec": {
   "display_name": "Python 3",
   "language": "python",
   "name": "python3"
  },
  "language_info": {
   "codemirror_mode": {
    "name": "ipython",
    "version": 3
   },
   "file_extension": ".py",
   "mimetype": "text/x-python",
   "name": "python",
   "nbconvert_exporter": "python",
   "pygments_lexer": "ipython3",
   "version": "3.8.5"
  }
 },
 "nbformat": 4,
 "nbformat_minor": 4
}
