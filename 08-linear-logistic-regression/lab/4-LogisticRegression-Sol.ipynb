{
 "cells": [
  {
   "cell_type": "markdown",
   "metadata": {},
   "source": [
    "$\n",
    " \\newcommand{\\wv}{\\mathbf{w}}\n",
    " \\newcommand{\\Tm}{\\mathbf{T}}\n",
    " \\newcommand{\\Xm}{\\mathbf{X}}\n",
    "$\n",
    "\n",
    "# Logistic Regression (Workbook)\n",
    "\n",
    "### ITCS 4156\n",
    "### Minwoo \"Jake\" Lee"
   ]
  },
  {
   "cell_type": "markdown",
   "metadata": {},
   "source": [
    "# Goal\n",
    "\n",
    "The goal of this activity is to implement the logistic regression and apply it to [iris dataset](https://archive.ics.uci.edu/ml/datasets/iris) that we used last week. In addition we will look at how to analyze our predictions with a confusion matrix, a popular method for quantifying and visualizing classification predictions. Follow the TODO titles and comments to finish the activity!"
   ]
  },
  {
   "cell_type": "markdown",
   "metadata": {},
   "source": [
    "# Agenda\n",
    "\n",
    "* Iris Data: Loading and Partitioning\n",
    "    * Data Partitioning\n",
    "* Applying Logistic Regression\n",
    "    * Converting to Indicator Variables\n",
    "    * Logistic Regression Training\n",
    "* Applying New Metrics\n",
    "    * Confusion Matrix\n",
    "    * Precision, Recall, and F1-score"
   ]
  },
  {
   "cell_type": "code",
   "execution_count": 1,
   "metadata": {
    "slideshow": {
     "slide_type": "notes"
    }
   },
   "outputs": [],
   "source": [
    "from copy import deepcopy as copy\n",
    "from IPython.core.debugger import set_trace\n",
    "\n",
    "import numpy as np\n",
    "import pandas as pd\n",
    "import matplotlib.pyplot as plt \n",
    "from mpl_toolkits.mplot3d import Axes3D\n",
    "%matplotlib inline"
   ]
  },
  {
   "cell_type": "markdown",
   "metadata": {},
   "source": [
    "# Iris Data: Loading and Partitioning\n",
    "Just like last week we will load the iris data via Scikit-learn. However, this week we will skip the detailed break down of the data loading and visualization. If you want to review the iris data loading process or the iris visualizations see last weeks lab on linear classification."
   ]
  },
  {
   "cell_type": "markdown",
   "metadata": {},
   "source": [
    "As we did last week we import the iris data via sklearn.To do so we call the `load_iris()` function and store the `sklearn.utils.Bunch` output instance inside the varaible `iris`. We'll also go ahead and store the iris data into variables so we don't have to keep typing `iris.data` and `iris.target` every time we need to access the data."
   ]
  },
  {
   "cell_type": "code",
   "execution_count": 2,
   "metadata": {},
   "outputs": [],
   "source": [
    "from sklearn.datasets import load_iris\n",
    "iris = load_iris()\n",
    "X = iris.data\n",
    "T = iris.target"
   ]
  },
  {
   "cell_type": "markdown",
   "metadata": {},
   "source": [
    "## Data Partitioning\n",
    "\n",
    "The below code is the `partition()` function we used last week. Recall, that the `partition()` function takes as input the following Numpy arrays `X` and `T`. The output of  `partition()` is a list of data and targets where `Xs` holds our training and testing data partitions and `Ts` holds our training and testing target partitions."
   ]
  },
  {
   "cell_type": "code",
   "execution_count": 3,
   "metadata": {},
   "outputs": [],
   "source": [
    "# now partition the data \n",
    "\n",
    "\"\"\" partitioning data\n",
    "\n",
    "    parameters\n",
    "    -----------\n",
    "    X        numpy array\n",
    "             input data to partition\n",
    "    T        numpy array\n",
    "             target labels to partition\n",
    "    raito    list\n",
    "             list of ratios for partitions (should be summed to 1) \n",
    "             the number of return pairs are different\n",
    "    return\n",
    "    -------\n",
    "    \n",
    "    Xs       list of numpy arrays\n",
    "    \n",
    "    Ts       list of numpy arrays\n",
    "\"\"\"\n",
    "def partition(X, T, ratio=[0.8, 0.2]): \n",
    "    \n",
    "    # Checks to make sure ratio sums to 1\n",
    "    assert(np.sum(ratio) == 1)\n",
    "    \n",
    "    # Store the number of data samples \n",
    "    N = X.shape[0]\n",
    "\n",
    "    # change the 1d array to 2d if need\n",
    "    if len(T.shape) == 1:\n",
    "        T = T.reshape((N,1))\n",
    "    \n",
    "    # Shuffle the data indices \n",
    "    idxs = np.random.permutation(N)\n",
    "        \n",
    "    Xs = []\n",
    "    Ts = []\n",
    "    i = 0  # first index to zero\n",
    "    for k, r in enumerate(ratio):\n",
    "         # Number of rows that corresponds to kth element in ratios\n",
    "        nrows = int(round(N * r)) \n",
    "        \n",
    "        # print (i, nrows)\n",
    "        # If we are on the last ratio simply use the remaining data samples\n",
    "        if k == len(ratio)-1:\n",
    "            Xs.append(X[idxs[i:], :])\n",
    "            Ts.append(T[idxs[i:], :])\n",
    "        else:\n",
    "            Xs.append(X[idxs[i:i+nrows], :])\n",
    "            Ts.append(T[idxs[i:i+nrows], :])\n",
    "        \n",
    "        i += nrows\n",
    "    \n",
    "    return Xs, Ts"
   ]
  },
  {
   "cell_type": "markdown",
   "metadata": {},
   "source": [
    "### TODO: \n",
    "Complete the `partition_data()` function below which will partition data into `Xtrain`, `Xtest`, `Ttrain`, and `Ttest` when called.\n",
    "\n",
    "1. Split the `data` output from the `partition()` function into `Xtrain`, and `Xtest`\n",
    "2. Split the `targets` output from the `partition()` function into `Ttrain`, and `Ttest`"
   ]
  },
  {
   "cell_type": "code",
   "execution_count": 4,
   "metadata": {},
   "outputs": [],
   "source": [
    "def partition_data():\n",
    "    \"\"\"Partition data into train and test splits.\"\"\"\n",
    "    global Xtrain, Xtest, Ttrain, Ttest\n",
    "    data, targets = partition(copy(X), copy(T))\n",
    "    # TODO: Fill in the right had side of the assignments below\n",
    "    Xtrain, Xtest = data\n",
    "    # TODO: Fill in the right had side of the assignments below\n",
    "    Ttrain, Ttest = targets"
   ]
  },
  {
   "cell_type": "code",
   "execution_count": 5,
   "metadata": {},
   "outputs": [
    {
     "name": "stdout",
     "output_type": "stream",
     "text": [
      "Train data shape: (120, 4)\n",
      "Train target shape: (120, 1)\n",
      "Test data shape: (30, 4)\n",
      "Test target shape: (30, 1)\n"
     ]
    }
   ],
   "source": [
    "partition_data()\n",
    "print(\"Train data shape: {}\".format(Xtrain.shape))\n",
    "print(\"Train target shape: {}\".format(Ttrain.shape))\n",
    "print(\"Test data shape: {}\".format(Xtest.shape))\n",
    "print(\"Test target shape: {}\".format(Ttest.shape))"
   ]
  },
  {
   "cell_type": "markdown",
   "metadata": {},
   "source": [
    "#  Applying Logistic Regression \n",
    "\n",
    "Here we are, already on logistic regression - I  think this is the quickest we have ever made it to our algorithm! For this section make sure to reference the readings and lecture notes if you are getting stuck."
   ]
  },
  {
   "cell_type": "markdown",
   "metadata": {},
   "source": [
    "## Converting to Indicator Variables\n",
    "Well, maybe we aren't there yet. Just like last week we need to do some preprocessing of targets so they are compatible with logistic regression. \n",
    "\n",
    "Remember how we adjusted our targets to `[-1, 1]` specifically for the perceptron algorithm last week? Well, we’ll be doing another adjustment of our targets, but this time we need to convert our targets to indicator variables, also called one-hot encodings. \n",
    "\n",
    "Recall from the lecture notes and our previous lab on linear models that converting to indicator variables means converting all our targets to a row vector of 1s and 0s. To frame this in more concrete terms we want to assign each unique target to have its own column. This means that if we have three targets (0, 1, and 2) then we have three columns, one for each target. For example, if a given data sample's indicator variable has a 1 in the first column then the rest of the columns must contain 0s. The 1 in the first column indicates to us that our target is 0!"
   ]
  },
  {
   "cell_type": "markdown",
   "metadata": {},
   "source": [
    "Okay, let's recall how many unique targets our iris data has by calling the Numpy `unique()` function."
   ]
  },
  {
   "cell_type": "code",
   "execution_count": 6,
   "metadata": {},
   "outputs": [
    {
     "data": {
      "text/plain": [
       "array([0, 1, 2])"
      ]
     },
     "execution_count": 6,
     "metadata": {},
     "output_type": "execute_result"
    }
   ],
   "source": [
    "np.unique(Ttrain)"
   ]
  },
  {
   "cell_type": "markdown",
   "metadata": {},
   "source": [
    "Cool, just like last week our number of targets is 3. Remember, target 0 corresponds to setosa, target 1 corresponds to versicolor, and target 2 corresponds virginica. Let's also just take a quick look at the actual `Ttrain` targets to confirm our unique classes are all there."
   ]
  },
  {
   "cell_type": "code",
   "execution_count": 7,
   "metadata": {},
   "outputs": [
    {
     "data": {
      "text/plain": [
       "array([[1],\n",
       "       [2],\n",
       "       [1],\n",
       "       [0],\n",
       "       [0],\n",
       "       [2],\n",
       "       [0],\n",
       "       [2],\n",
       "       [0],\n",
       "       [0],\n",
       "       [1],\n",
       "       [1],\n",
       "       [0],\n",
       "       [1],\n",
       "       [0],\n",
       "       [0],\n",
       "       [2],\n",
       "       [1],\n",
       "       [2],\n",
       "       [2],\n",
       "       [0],\n",
       "       [2],\n",
       "       [1],\n",
       "       [2],\n",
       "       [2],\n",
       "       [1],\n",
       "       [2],\n",
       "       [0],\n",
       "       [2],\n",
       "       [2],\n",
       "       [0],\n",
       "       [2],\n",
       "       [0],\n",
       "       [1],\n",
       "       [1],\n",
       "       [1],\n",
       "       [0],\n",
       "       [2],\n",
       "       [0],\n",
       "       [2],\n",
       "       [1],\n",
       "       [0],\n",
       "       [0],\n",
       "       [1],\n",
       "       [2],\n",
       "       [1],\n",
       "       [1],\n",
       "       [1],\n",
       "       [1],\n",
       "       [2],\n",
       "       [1],\n",
       "       [0],\n",
       "       [2],\n",
       "       [0],\n",
       "       [2],\n",
       "       [1],\n",
       "       [0],\n",
       "       [0],\n",
       "       [1],\n",
       "       [1],\n",
       "       [0],\n",
       "       [0],\n",
       "       [2],\n",
       "       [2],\n",
       "       [2],\n",
       "       [1],\n",
       "       [1],\n",
       "       [0],\n",
       "       [1],\n",
       "       [0],\n",
       "       [1],\n",
       "       [1],\n",
       "       [0],\n",
       "       [1],\n",
       "       [1],\n",
       "       [1],\n",
       "       [0],\n",
       "       [2],\n",
       "       [0],\n",
       "       [0],\n",
       "       [2],\n",
       "       [1],\n",
       "       [1],\n",
       "       [2],\n",
       "       [0],\n",
       "       [1],\n",
       "       [2],\n",
       "       [0],\n",
       "       [0],\n",
       "       [2],\n",
       "       [0],\n",
       "       [1],\n",
       "       [0],\n",
       "       [1],\n",
       "       [0],\n",
       "       [2],\n",
       "       [1],\n",
       "       [0],\n",
       "       [0],\n",
       "       [1],\n",
       "       [0],\n",
       "       [2],\n",
       "       [1],\n",
       "       [0],\n",
       "       [2],\n",
       "       [0],\n",
       "       [1],\n",
       "       [2],\n",
       "       [2],\n",
       "       [2],\n",
       "       [2],\n",
       "       [0],\n",
       "       [2],\n",
       "       [0],\n",
       "       [2],\n",
       "       [0],\n",
       "       [1],\n",
       "       [0],\n",
       "       [0],\n",
       "       [2]])"
      ]
     },
     "execution_count": 7,
     "metadata": {},
     "output_type": "execute_result"
    }
   ],
   "source": [
    "Ttrain"
   ]
  },
  {
   "cell_type": "markdown",
   "metadata": {},
   "source": [
    "### Indicator Variables, Numpy, and Broadcasting \n",
    "Here comes the magical part of the lab. How do we  convert our target array `Ttrain` into indicator variables? This will require a new Numpy concept called broadcasting. Broadcasting is typically an implicit concept used by Numpy to allow array arithmetic between arrays of different shapes or sizes. Below are some quotes that help convey the essence of broadcasting.\n",
    "\n",
    "> The term broadcasting describes how numpy treats arrays with different shapes during arithmetic operations. Subject to certain constraints, the smaller array is “broadcast” across the larger array so that they have compatible shapes.\n",
    "\n",
    "> In the context of deep learning, we also use some less conventional notation. We allow the addition of matrix and a vector, yielding another matrix: $C = A + b$, where $ C_{i,j} = A_{i,j} + b_j$. In other words, the vector $b$ is added to each row of the matrix. **This shorthand eliminates the need to define a matrix with $b$ copied into each row before doing the addition. This implicit copying of $b$ to many locations is called broadcasting.**\n",
    "\n",
    "\n",
    "Broadcasting essentially helps save us time and memory. Going in-depth into broadcasting is out of scope for this lab, but if you wish to learn more check out the references below.\n",
    "\n",
    "**References:**\n",
    "- [Gentle Introduction to Broadcasting](https://machinelearningmastery.com/broadcasting-with-numpy-arrays)\n",
    "- [Numpy Broadcasting Docs](https://docs.scipy.org/doc/numpy/user/basics.broadcasting.html)"
   ]
  },
  {
   "cell_type": "markdown",
   "metadata": {},
   "source": [
    "Keep in mind the following code that checks if each element meets a desired condition. In the case below our condition is that we are checking which elements in `Ttrain` equal to 1. Remember that this line of code outputs a boolean array where the true values correspond to elements in `Ttrain` that met our condition and the false values correspond to elements in `Ttrain` that failed our condition."
   ]
  },
  {
   "cell_type": "code",
   "execution_count": 8,
   "metadata": {},
   "outputs": [
    {
     "data": {
      "text/plain": [
       "array([[ True],\n",
       "       [False],\n",
       "       [ True],\n",
       "       [False],\n",
       "       [False],\n",
       "       [False],\n",
       "       [False],\n",
       "       [False],\n",
       "       [False],\n",
       "       [False],\n",
       "       [ True],\n",
       "       [ True],\n",
       "       [False],\n",
       "       [ True],\n",
       "       [False],\n",
       "       [False],\n",
       "       [False],\n",
       "       [ True],\n",
       "       [False],\n",
       "       [False],\n",
       "       [False],\n",
       "       [False],\n",
       "       [ True],\n",
       "       [False],\n",
       "       [False],\n",
       "       [ True],\n",
       "       [False],\n",
       "       [False],\n",
       "       [False],\n",
       "       [False],\n",
       "       [False],\n",
       "       [False],\n",
       "       [False],\n",
       "       [ True],\n",
       "       [ True],\n",
       "       [ True],\n",
       "       [False],\n",
       "       [False],\n",
       "       [False],\n",
       "       [False],\n",
       "       [ True],\n",
       "       [False],\n",
       "       [False],\n",
       "       [ True],\n",
       "       [False],\n",
       "       [ True],\n",
       "       [ True],\n",
       "       [ True],\n",
       "       [ True],\n",
       "       [False],\n",
       "       [ True],\n",
       "       [False],\n",
       "       [False],\n",
       "       [False],\n",
       "       [False],\n",
       "       [ True],\n",
       "       [False],\n",
       "       [False],\n",
       "       [ True],\n",
       "       [ True],\n",
       "       [False],\n",
       "       [False],\n",
       "       [False],\n",
       "       [False],\n",
       "       [False],\n",
       "       [ True],\n",
       "       [ True],\n",
       "       [False],\n",
       "       [ True],\n",
       "       [False],\n",
       "       [ True],\n",
       "       [ True],\n",
       "       [False],\n",
       "       [ True],\n",
       "       [ True],\n",
       "       [ True],\n",
       "       [False],\n",
       "       [False],\n",
       "       [False],\n",
       "       [False],\n",
       "       [False],\n",
       "       [ True],\n",
       "       [ True],\n",
       "       [False],\n",
       "       [False],\n",
       "       [ True],\n",
       "       [False],\n",
       "       [False],\n",
       "       [False],\n",
       "       [False],\n",
       "       [False],\n",
       "       [ True],\n",
       "       [False],\n",
       "       [ True],\n",
       "       [False],\n",
       "       [False],\n",
       "       [ True],\n",
       "       [False],\n",
       "       [False],\n",
       "       [ True],\n",
       "       [False],\n",
       "       [False],\n",
       "       [ True],\n",
       "       [False],\n",
       "       [False],\n",
       "       [False],\n",
       "       [ True],\n",
       "       [False],\n",
       "       [False],\n",
       "       [False],\n",
       "       [False],\n",
       "       [False],\n",
       "       [False],\n",
       "       [False],\n",
       "       [False],\n",
       "       [False],\n",
       "       [ True],\n",
       "       [False],\n",
       "       [False],\n",
       "       [False]])"
      ]
     },
     "execution_count": 8,
     "metadata": {},
     "output_type": "execute_result"
    }
   ],
   "source": [
    "Ttrain == 1"
   ]
  },
  {
   "cell_type": "markdown",
   "metadata": {},
   "source": [
    "Now, we can take this aforementioned idea of checking if each element meets a desired condition and apply it to all our unique  `Ttrain` targets at once by using broadcasting. Meaning, with a single line of code we want to generate three boolean arrays, like the one above, but now instead of simply checking which elements are equal to 1, we want to check which elements are equal to 0, 1, or 2, i.e. our unique class targets.\n",
    "\n",
    "We can do so using the below code which essentially converts ours targets into indicator variables. The below code works as if we took the boolean arrays for `Ttrain == 0`, `Ttrain == 1`, and `Ttrain == 2` and concatenated them into a single array. However, now it only takes us one line of code and works for any number of classes! Most of the complicated work here is being done behind the scenes with broadcasting."
   ]
  },
  {
   "cell_type": "code",
   "execution_count": 9,
   "metadata": {},
   "outputs": [
    {
     "data": {
      "text/plain": [
       "array([[False,  True, False],\n",
       "       [False, False,  True],\n",
       "       [False,  True, False],\n",
       "       [ True, False, False],\n",
       "       [ True, False, False],\n",
       "       [False, False,  True],\n",
       "       [ True, False, False],\n",
       "       [False, False,  True],\n",
       "       [ True, False, False],\n",
       "       [ True, False, False],\n",
       "       [False,  True, False],\n",
       "       [False,  True, False],\n",
       "       [ True, False, False],\n",
       "       [False,  True, False],\n",
       "       [ True, False, False],\n",
       "       [ True, False, False],\n",
       "       [False, False,  True],\n",
       "       [False,  True, False],\n",
       "       [False, False,  True],\n",
       "       [False, False,  True],\n",
       "       [ True, False, False],\n",
       "       [False, False,  True],\n",
       "       [False,  True, False],\n",
       "       [False, False,  True],\n",
       "       [False, False,  True],\n",
       "       [False,  True, False],\n",
       "       [False, False,  True],\n",
       "       [ True, False, False],\n",
       "       [False, False,  True],\n",
       "       [False, False,  True],\n",
       "       [ True, False, False],\n",
       "       [False, False,  True],\n",
       "       [ True, False, False],\n",
       "       [False,  True, False],\n",
       "       [False,  True, False],\n",
       "       [False,  True, False],\n",
       "       [ True, False, False],\n",
       "       [False, False,  True],\n",
       "       [ True, False, False],\n",
       "       [False, False,  True],\n",
       "       [False,  True, False],\n",
       "       [ True, False, False],\n",
       "       [ True, False, False],\n",
       "       [False,  True, False],\n",
       "       [False, False,  True],\n",
       "       [False,  True, False],\n",
       "       [False,  True, False],\n",
       "       [False,  True, False],\n",
       "       [False,  True, False],\n",
       "       [False, False,  True],\n",
       "       [False,  True, False],\n",
       "       [ True, False, False],\n",
       "       [False, False,  True],\n",
       "       [ True, False, False],\n",
       "       [False, False,  True],\n",
       "       [False,  True, False],\n",
       "       [ True, False, False],\n",
       "       [ True, False, False],\n",
       "       [False,  True, False],\n",
       "       [False,  True, False],\n",
       "       [ True, False, False],\n",
       "       [ True, False, False],\n",
       "       [False, False,  True],\n",
       "       [False, False,  True],\n",
       "       [False, False,  True],\n",
       "       [False,  True, False],\n",
       "       [False,  True, False],\n",
       "       [ True, False, False],\n",
       "       [False,  True, False],\n",
       "       [ True, False, False],\n",
       "       [False,  True, False],\n",
       "       [False,  True, False],\n",
       "       [ True, False, False],\n",
       "       [False,  True, False],\n",
       "       [False,  True, False],\n",
       "       [False,  True, False],\n",
       "       [ True, False, False],\n",
       "       [False, False,  True],\n",
       "       [ True, False, False],\n",
       "       [ True, False, False],\n",
       "       [False, False,  True],\n",
       "       [False,  True, False],\n",
       "       [False,  True, False],\n",
       "       [False, False,  True],\n",
       "       [ True, False, False],\n",
       "       [False,  True, False],\n",
       "       [False, False,  True],\n",
       "       [ True, False, False],\n",
       "       [ True, False, False],\n",
       "       [False, False,  True],\n",
       "       [ True, False, False],\n",
       "       [False,  True, False],\n",
       "       [ True, False, False],\n",
       "       [False,  True, False],\n",
       "       [ True, False, False],\n",
       "       [False, False,  True],\n",
       "       [False,  True, False],\n",
       "       [ True, False, False],\n",
       "       [ True, False, False],\n",
       "       [False,  True, False],\n",
       "       [ True, False, False],\n",
       "       [False, False,  True],\n",
       "       [False,  True, False],\n",
       "       [ True, False, False],\n",
       "       [False, False,  True],\n",
       "       [ True, False, False],\n",
       "       [False,  True, False],\n",
       "       [False, False,  True],\n",
       "       [False, False,  True],\n",
       "       [False, False,  True],\n",
       "       [False, False,  True],\n",
       "       [ True, False, False],\n",
       "       [False, False,  True],\n",
       "       [ True, False, False],\n",
       "       [False, False,  True],\n",
       "       [ True, False, False],\n",
       "       [False,  True, False],\n",
       "       [ True, False, False],\n",
       "       [ True, False, False],\n",
       "       [False, False,  True]])"
      ]
     },
     "execution_count": 9,
     "metadata": {},
     "output_type": "execute_result"
    }
   ],
   "source": [
    "Ttrain == np.unique(Ttrain)"
   ]
  },
  {
   "cell_type": "markdown",
   "metadata": {},
   "source": [
    "The idea behind what is happening is that we have two Numpy arrays, `Ttrain` and `np.unique(Ttrain)`, being compared to create a boolean array. Recall the shape of `Ttrain` is (120, 1) and the shape of `np.unique(Ttrain)` is (3,). A note about broadcasting to keep in mind is that it can only be performed when the shape of each dimension in the arrays are equal or when one of the arrays has the dimension size of 1. Here we can see our `Ttrain` has size 1 in the 2nd dimension (column dimension). This means that `np.unique(Ttrain)` can be broadcasted with `Ttrain`. Thus, this creates our output array above which has a shape of (120, 3).\n",
    "\n",
    "The results of this broadcasting automatically creates a boolean version of our desired indicator variables. The final step we'll need to take is converting our boolean array to 1s and 0s. We can do this by simply recasting the boolean array as an integer using Numpy's  `astype()` method. This works because the integer 1 is associated with true and the integer 0 is associated with false."
   ]
  },
  {
   "cell_type": "code",
   "execution_count": 10,
   "metadata": {},
   "outputs": [
    {
     "data": {
      "text/plain": [
       "array([[0, 1, 0],\n",
       "       [0, 0, 1],\n",
       "       [0, 1, 0],\n",
       "       [1, 0, 0],\n",
       "       [1, 0, 0],\n",
       "       [0, 0, 1],\n",
       "       [1, 0, 0],\n",
       "       [0, 0, 1],\n",
       "       [1, 0, 0],\n",
       "       [1, 0, 0],\n",
       "       [0, 1, 0],\n",
       "       [0, 1, 0],\n",
       "       [1, 0, 0],\n",
       "       [0, 1, 0],\n",
       "       [1, 0, 0],\n",
       "       [1, 0, 0],\n",
       "       [0, 0, 1],\n",
       "       [0, 1, 0],\n",
       "       [0, 0, 1],\n",
       "       [0, 0, 1],\n",
       "       [1, 0, 0],\n",
       "       [0, 0, 1],\n",
       "       [0, 1, 0],\n",
       "       [0, 0, 1],\n",
       "       [0, 0, 1],\n",
       "       [0, 1, 0],\n",
       "       [0, 0, 1],\n",
       "       [1, 0, 0],\n",
       "       [0, 0, 1],\n",
       "       [0, 0, 1],\n",
       "       [1, 0, 0],\n",
       "       [0, 0, 1],\n",
       "       [1, 0, 0],\n",
       "       [0, 1, 0],\n",
       "       [0, 1, 0],\n",
       "       [0, 1, 0],\n",
       "       [1, 0, 0],\n",
       "       [0, 0, 1],\n",
       "       [1, 0, 0],\n",
       "       [0, 0, 1],\n",
       "       [0, 1, 0],\n",
       "       [1, 0, 0],\n",
       "       [1, 0, 0],\n",
       "       [0, 1, 0],\n",
       "       [0, 0, 1],\n",
       "       [0, 1, 0],\n",
       "       [0, 1, 0],\n",
       "       [0, 1, 0],\n",
       "       [0, 1, 0],\n",
       "       [0, 0, 1],\n",
       "       [0, 1, 0],\n",
       "       [1, 0, 0],\n",
       "       [0, 0, 1],\n",
       "       [1, 0, 0],\n",
       "       [0, 0, 1],\n",
       "       [0, 1, 0],\n",
       "       [1, 0, 0],\n",
       "       [1, 0, 0],\n",
       "       [0, 1, 0],\n",
       "       [0, 1, 0],\n",
       "       [1, 0, 0],\n",
       "       [1, 0, 0],\n",
       "       [0, 0, 1],\n",
       "       [0, 0, 1],\n",
       "       [0, 0, 1],\n",
       "       [0, 1, 0],\n",
       "       [0, 1, 0],\n",
       "       [1, 0, 0],\n",
       "       [0, 1, 0],\n",
       "       [1, 0, 0],\n",
       "       [0, 1, 0],\n",
       "       [0, 1, 0],\n",
       "       [1, 0, 0],\n",
       "       [0, 1, 0],\n",
       "       [0, 1, 0],\n",
       "       [0, 1, 0],\n",
       "       [1, 0, 0],\n",
       "       [0, 0, 1],\n",
       "       [1, 0, 0],\n",
       "       [1, 0, 0],\n",
       "       [0, 0, 1],\n",
       "       [0, 1, 0],\n",
       "       [0, 1, 0],\n",
       "       [0, 0, 1],\n",
       "       [1, 0, 0],\n",
       "       [0, 1, 0],\n",
       "       [0, 0, 1],\n",
       "       [1, 0, 0],\n",
       "       [1, 0, 0],\n",
       "       [0, 0, 1],\n",
       "       [1, 0, 0],\n",
       "       [0, 1, 0],\n",
       "       [1, 0, 0],\n",
       "       [0, 1, 0],\n",
       "       [1, 0, 0],\n",
       "       [0, 0, 1],\n",
       "       [0, 1, 0],\n",
       "       [1, 0, 0],\n",
       "       [1, 0, 0],\n",
       "       [0, 1, 0],\n",
       "       [1, 0, 0],\n",
       "       [0, 0, 1],\n",
       "       [0, 1, 0],\n",
       "       [1, 0, 0],\n",
       "       [0, 0, 1],\n",
       "       [1, 0, 0],\n",
       "       [0, 1, 0],\n",
       "       [0, 0, 1],\n",
       "       [0, 0, 1],\n",
       "       [0, 0, 1],\n",
       "       [0, 0, 1],\n",
       "       [1, 0, 0],\n",
       "       [0, 0, 1],\n",
       "       [1, 0, 0],\n",
       "       [0, 0, 1],\n",
       "       [1, 0, 0],\n",
       "       [0, 1, 0],\n",
       "       [1, 0, 0],\n",
       "       [1, 0, 0],\n",
       "       [0, 0, 1]])"
      ]
     },
     "execution_count": 10,
     "metadata": {},
     "output_type": "execute_result"
    }
   ],
   "source": [
    "(Ttrain == np.unique(Ttrain)).astype(int)"
   ]
  },
  {
   "cell_type": "markdown",
   "metadata": {},
   "source": [
    "Welp we did it! We somehow managed to convert our `Ttrain` targets into indicator variables through Numpy's magical broadcasting abilities."
   ]
  },
  {
   "cell_type": "markdown",
   "metadata": {},
   "source": [
    "### TODO:\n",
    "Now its time for you to try. Using the idea of broadcasting presented above finish the `convert_to_indicators()` function for converting `Ttrain` and `Ttest` into indicator variables.\n",
    "\n",
    "1. Convert `Ttrain` into an indicator variable and store the output into `Titrain`\n",
    "2. Convert `Ttest` into an indicator variable and store the output into `Titest`"
   ]
  },
  {
   "cell_type": "code",
   "execution_count": 11,
   "metadata": {},
   "outputs": [],
   "source": [
    "def convert_to_indicators():\n",
    "    global Titrain, Titest\n",
    "    # TODO (1)\n",
    "    Titrain = (Ttrain == np.unique(Ttrain)).astype(int) \n",
    "    # TODO (2)\n",
    "    Titest = (Ttest == np.unique(Ttest)).astype(int) "
   ]
  },
  {
   "cell_type": "markdown",
   "metadata": {},
   "source": [
    "To test if your `convert_to_indicators()` function works, run the following code. The `assert` code checks if your code produces the correct results and throws an error if it doesn't. **If you are failing the `assert` tests then something most likely went wrong in your function (check your shapes)!**"
   ]
  },
  {
   "cell_type": "code",
   "execution_count": 12,
   "metadata": {},
   "outputs": [
    {
     "name": "stdout",
     "output_type": "stream",
     "text": [
      "Train indicator shape: (120, 3)\n",
      "Test indicator shape: (30, 3)\n"
     ]
    }
   ],
   "source": [
    "convert_to_indicators()\n",
    "print(\"Train indicator shape: {}\".format(Titrain.shape))\n",
    "print(\"Test indicator shape: {}\".format(Titest.shape))"
   ]
  },
  {
   "cell_type": "code",
   "execution_count": 13,
   "metadata": {},
   "outputs": [],
   "source": [
    "assert (np.argmax(Titrain, axis=1) == Ttrain.flatten()).all()\n",
    "assert (np.argmax(Titest, axis=1) == Ttest.flatten()).all()"
   ]
  },
  {
   "cell_type": "markdown",
   "metadata": {},
   "source": [
    "Now we can use `Titrain` and `Titest` in our logistic regression algorithm!"
   ]
  },
  {
   "cell_type": "markdown",
   "metadata": {},
   "source": [
    "## Logistic Regression Training\n",
    "Now its time to implement our logistic regression algorithm. \n",
    "\n",
    "<img src=\"http://webpages.uncc.edu/mlee173/teach/itcs4156/images/class/linearlogreg.png\" width=450 />\n",
    "\n",
    "Remember, the logistic regression gradient update is as follows.\n",
    "$$\n",
    "\\wv \\leftarrow \\wv + \\alpha \\Xm^\\top \\Big(  \\Tm - g(\\Xm)\\Big).\n",
    "$$\n",
    "\n",
    "Where $w$ represents our weights, $X^T$ represents our data transposed, $T$ represents our targets, $g(X)$ represents our predictions, i.e. $X \\cdot w$, and $\\alpha$ represents our learning rate. \n"
   ]
  },
  {
   "cell_type": "markdown",
   "metadata": {},
   "source": [
    "Recall that in order to establish the probability of a given data sample belonging to one of our three flower classes, i.e. ${P(T = k | x)}$, we need to compute the softmax. Let's implement the softmax function before getting started.\n",
    "\n",
    "### TODO\n",
    "\n",
    "Implement the `softmax()` function and its wrapper function `g()`. Recall that the softmax is equal to the following formula.\n",
    "\n",
    "$$\n",
    " softmax = {P(T = k | x)} = \\frac{e^{z_k}}{\\sum_{i=1}^K e^{z_i}}\n",
    "$$\n",
    "\n",
    "Here $z$ represents our predictions made by computing $X \\cdot w$ which is calculated by the function `g()`.\n",
    "\n",
    "1. Using Numpy's `np.exp()` function compute the numerator of the softmax function, i.e. apply the exponential function to all our predictions `z`.\n",
    "2. Compute the denominator of the softmax function, i.e. apply the exponential function to all our predictions `z` and sum them.\n",
    "    1. Hint: Try using Numpy's `np.sum()`\n",
    "    2. Hint: If you're getting broadcasting errors make sure the numerator and denominator have the same shapes!\n",
    "3. Return the softmax output calced inside `softmax()` function.\n",
    "    1. Hint: Simply divide the numerator by the denominator\n",
    "4. Call the `softmax()` function and pass as its parameter the predictions calculated from dotting `X` and `w`. In addition, return the output of the `softmax()` function."
   ]
  },
  {
   "cell_type": "code",
   "execution_count": 25,
   "metadata": {},
   "outputs": [],
   "source": [
    "def softmax(z):\n",
    "    if not isinstance(z, np.ndarray):\n",
    "        z = np.asarray(z)\n",
    "    # TODO (1)\n",
    "    numerator = np.exp(z)\n",
    "    # TODO (2)\n",
    "    if len(z.shape) == 2:\n",
    "        denominator = np.sum(np.exp(z), axis=1, keepdims=True)\n",
    "    else:\n",
    "        denominator = np.sum(np.exp(z))\n",
    "    # TODO (3)\n",
    "    return numerator / denominator\n",
    "\n",
    "# Wrapper for softmax\n",
    "def g(X, w):\n",
    "    # TODO (4\n",
    "    return softmax(X @ w) "
   ]
  },
  {
   "cell_type": "markdown",
   "metadata": {},
   "source": [
    "Let's implement the logistic regression algorithm below. We have already created a new variable with the bias already added called `X1train`. Be sure to use `X1train` when computing the predictions and weight updates!\n",
    "\n",
    "### TODO\n",
    "\n",
    "1. Compute the class probabilities by calling the `g()` function which takes in the current weights `w` and all our training data with bias added `X1train`. Store the predicted class probabilities in `ys`.\n",
    "2. Compute the logistic regression weight update using the predicted class probabilities `ys`, the train data with bias `X1train`, and the training indicator varaibles `Titrain`.\n",
    "    1. Hint: If you are getting an error \"overflow encountered in exp\" simply try rerunning the cell."
   ]
  },
  {
   "cell_type": "code",
   "execution_count": 26,
   "metadata": {},
   "outputs": [
    {
     "name": "stdout",
     "output_type": "stream",
     "text": [
      "[[1.12785879e-018 1.00000000e+000 5.33998224e-104]\n",
      " [2.25141436e-162 1.55999856e-047 1.00000000e+000]\n",
      " [5.74599181e-074 1.00000000e+000 3.40637563e-052]\n",
      " [1.00000000e+000 9.51684430e-054 0.00000000e+000]\n",
      " [1.00000000e+000 2.28749836e-092 0.00000000e+000]\n",
      " [1.24117622e-120 2.84791008e-046 1.00000000e+000]\n",
      " [1.00000000e+000 2.39701991e-078 0.00000000e+000]\n",
      " [1.84803800e-218 1.17997605e-089 1.00000000e+000]\n",
      " [1.00000000e+000 1.22058307e-066 0.00000000e+000]\n",
      " [1.00000000e+000 2.89556216e-068 0.00000000e+000]\n",
      " [6.64857481e-064 1.00000000e+000 1.92968344e-029]\n",
      " [2.41492273e-057 1.00000000e+000 3.23954549e-056]\n",
      " [1.00000000e+000 6.43635674e-080 0.00000000e+000]\n",
      " [1.09293181e-051 1.00000000e+000 1.35378011e-082]\n",
      " [1.00000000e+000 1.29882473e-050 0.00000000e+000]\n",
      " [1.00000000e+000 2.66657458e-071 0.00000000e+000]\n",
      " [1.37493555e-161 1.10341591e-063 1.00000000e+000]\n",
      " [3.93774075e-070 1.00000000e+000 8.05397296e-024]\n",
      " [1.22401654e-157 5.80705808e-073 1.00000000e+000]\n",
      " [3.81323226e-139 3.32245911e-067 1.00000000e+000]\n",
      " [1.00000000e+000 1.48777764e-108 0.00000000e+000]\n",
      " [9.87196088e-159 1.11381358e-075 1.00000000e+000]\n",
      " [1.03864846e-073 1.00000000e+000 3.15572352e-042]\n",
      " [5.91726552e-145 8.95723240e-063 1.00000000e+000]\n",
      " [1.21398943e-173 9.70348732e-055 1.00000000e+000]\n",
      " [2.51737429e-067 1.00000000e+000 5.05141938e-027]\n",
      " [2.83956056e-193 1.12993083e-072 1.00000000e+000]\n",
      " [1.00000000e+000 2.14930834e-054 0.00000000e+000]\n",
      " [5.57350379e-170 5.12924128e-069 1.00000000e+000]\n",
      " [2.93858597e-117 4.29059470e-040 1.00000000e+000]\n",
      " [1.00000000e+000 1.98997922e-056 0.00000000e+000]\n",
      " [1.40084995e-174 9.70494226e-093 1.00000000e+000]\n",
      " [1.00000000e+000 5.83006305e-078 0.00000000e+000]\n",
      " [2.74655220e-056 1.00000000e+000 2.05411851e-037]\n",
      " [2.39632720e-050 1.00000000e+000 4.52958423e-077]\n",
      " [1.56873273e-035 1.00000000e+000 1.99195796e-114]\n",
      " [1.00000000e+000 1.69474306e-054 0.00000000e+000]\n",
      " [8.45968520e-130 8.81664819e-044 1.00000000e+000]\n",
      " [1.00000000e+000 2.55541494e-055 0.00000000e+000]\n",
      " [6.64963763e-134 1.12203006e-032 1.00000000e+000]\n",
      " [4.36784878e-122 6.63570446e-034 1.00000000e+000]\n",
      " [1.00000000e+000 1.32936032e-078 0.00000000e+000]\n",
      " [1.00000000e+000 1.64617107e-071 0.00000000e+000]\n",
      " [3.69582668e-041 1.00000000e+000 1.09235560e-055]\n",
      " [9.02282651e-142 3.48710926e-074 1.00000000e+000]\n",
      " [1.03491409e-051 1.00000000e+000 3.35068133e-079]\n",
      " [4.91171866e-058 1.00000000e+000 7.03232602e-026]\n",
      " [7.56508739e-071 1.00000000e+000 1.17232936e-012]\n",
      " [7.87549952e-079 1.00000000e+000 2.36275419e-043]\n",
      " [7.61289410e-169 8.89030675e-068 1.00000000e+000]\n",
      " [1.63630385e-024 1.00000000e+000 1.13713008e-085]\n",
      " [1.00000000e+000 6.36444575e-067 0.00000000e+000]\n",
      " [5.51817062e-101 4.23113143e-024 1.00000000e+000]\n",
      " [1.00000000e+000 1.58053973e-079 0.00000000e+000]\n",
      " [8.12116248e-186 2.10529025e-094 1.00000000e+000]\n",
      " [7.85367013e-044 1.00000000e+000 3.54047103e-027]\n",
      " [1.00000000e+000 1.07642445e-058 0.00000000e+000]\n",
      " [1.00000000e+000 1.14759730e-066 0.00000000e+000]\n",
      " [1.72179502e-054 1.00000000e+000 3.31678520e-066]\n",
      " [5.86028298e-065 1.00000000e+000 1.12332415e-025]\n",
      " [1.00000000e+000 8.30450791e-071 0.00000000e+000]\n",
      " [1.00000000e+000 4.29966160e-102 0.00000000e+000]\n",
      " [3.07622096e-116 1.92941577e-041 1.00000000e+000]\n",
      " [5.76546442e-176 7.13860234e-089 1.00000000e+000]\n",
      " [1.36834307e-293 4.89692703e-140 1.00000000e+000]\n",
      " [4.96420322e-040 1.00000000e+000 4.19107438e-080]\n",
      " [4.34682436e-056 1.00000000e+000 8.70410324e-083]\n",
      " [1.00000000e+000 2.69226271e-071 0.00000000e+000]\n",
      " [3.14360817e-053 1.00000000e+000 2.10427381e-066]\n",
      " [1.00000000e+000 6.18970855e-070 0.00000000e+000]\n",
      " [7.05435710e-049 1.00000000e+000 4.81597586e-050]\n",
      " [4.90260500e-065 1.00000000e+000 8.86730865e-041]\n",
      " [1.00000000e+000 9.13516672e-051 0.00000000e+000]\n",
      " [2.33486786e-046 1.00000000e+000 1.26148367e-063]\n",
      " [1.23051752e-059 1.00000000e+000 1.47641993e-054]\n",
      " [1.35764614e-054 1.00000000e+000 1.55660004e-068]\n",
      " [1.00000000e+000 4.33019198e-071 0.00000000e+000]\n",
      " [4.24185611e-232 4.42248503e-142 1.00000000e+000]\n",
      " [1.00000000e+000 2.52962047e-033 4.58534107e-290]\n",
      " [1.00000000e+000 4.90081357e-055 0.00000000e+000]\n",
      " [7.24016981e-142 1.90066168e-037 1.00000000e+000]\n",
      " [6.03692185e-055 9.99999997e-001 2.53685791e-009]\n",
      " [2.10992640e-036 1.00000000e+000 5.91291914e-079]\n",
      " [9.15315118e-090 1.12741350e-026 1.00000000e+000]\n",
      " [1.00000000e+000 8.79084893e-079 0.00000000e+000]\n",
      " [2.17096604e-072 6.43839106e-018 1.00000000e+000]\n",
      " [4.41937361e-110 3.58098183e-019 1.00000000e+000]\n",
      " [1.00000000e+000 3.38053229e-103 0.00000000e+000]\n",
      " [1.00000000e+000 3.54643959e-059 0.00000000e+000]\n",
      " [1.22401654e-157 5.80705808e-073 1.00000000e+000]\n",
      " [1.00000000e+000 3.71406203e-097 0.00000000e+000]\n",
      " [8.72063623e-044 1.00000000e+000 3.45059099e-080]\n",
      " [1.00000000e+000 2.13913313e-062 0.00000000e+000]\n",
      " [6.81977438e-046 1.00000000e+000 2.20892363e-058]\n",
      " [1.00000000e+000 7.03895709e-077 0.00000000e+000]\n",
      " [2.80810291e-132 1.24388458e-042 1.00000000e+000]\n",
      " [2.76403659e-054 1.00000000e+000 3.31864530e-085]\n",
      " [1.00000000e+000 1.01880108e-074 0.00000000e+000]\n",
      " [1.00000000e+000 3.44054728e-062 0.00000000e+000]\n",
      " [3.63457993e-065 1.00000000e+000 6.70292000e-053]\n",
      " [1.00000000e+000 3.16846106e-065 0.00000000e+000]\n",
      " [3.21916256e-101 6.65523250e-039 1.00000000e+000]\n",
      " [1.18338032e-091 2.74485480e-003 9.97255145e-001]\n",
      " [1.00000000e+000 6.44372109e-050 0.00000000e+000]\n",
      " [1.57620329e-130 5.90367434e-060 1.00000000e+000]\n",
      " [1.00000000e+000 2.43563423e-083 0.00000000e+000]\n",
      " [1.99440725e-059 1.00000000e+000 8.37888643e-038]\n",
      " [3.49567182e-178 3.72121113e-101 1.00000000e+000]\n",
      " [2.97527063e-141 5.20455390e-056 1.00000000e+000]\n",
      " [5.16807239e-147 2.95660990e-075 1.00000000e+000]\n",
      " [1.06805037e-147 2.81653775e-083 1.00000000e+000]\n",
      " [1.00000000e+000 1.63939837e-058 0.00000000e+000]\n",
      " [3.68063631e-198 2.14733620e-101 1.00000000e+000]\n",
      " [1.00000000e+000 3.98982804e-065 0.00000000e+000]\n",
      " [3.11987667e-088 2.06031517e-022 1.00000000e+000]\n",
      " [1.00000000e+000 3.96848919e-066 0.00000000e+000]\n",
      " [5.45031661e-057 2.06457168e-002 9.79354283e-001]\n",
      " [1.00000000e+000 5.24643884e-076 0.00000000e+000]\n",
      " [1.00000000e+000 2.56757027e-047 0.00000000e+000]\n",
      " [1.27458717e-087 1.86542065e-018 1.00000000e+000]]\n",
      "[[1.00000000e+000 7.50409124e-054 0.00000000e+000]\n",
      " [1.35289531e-048 1.00000000e+000 7.50443073e-053]\n",
      " [1.85223640e-172 2.52729758e-101 1.00000000e+000]\n",
      " [3.70458651e-049 1.00000000e+000 4.74923135e-034]\n",
      " [9.24637026e-172 1.08223637e-090 1.00000000e+000]\n",
      " [1.00000000e+000 5.42967223e-094 0.00000000e+000]\n",
      " [1.00000000e+000 3.09466402e-076 0.00000000e+000]\n",
      " [1.26362696e-063 1.00000000e+000 4.31230942e-069]\n",
      " [5.46887951e-189 2.54740893e-091 1.00000000e+000]\n",
      " [1.00000000e+000 8.57422266e-081 0.00000000e+000]\n",
      " [2.46093777e-175 9.68321248e-070 1.00000000e+000]\n",
      " [2.49054537e-045 1.00000000e+000 3.49039942e-077]\n",
      " [2.60509847e-231 1.08766468e-089 1.00000000e+000]\n",
      " [2.22079882e-191 5.93641896e-117 1.00000000e+000]\n",
      " [2.47884696e-084 9.99999970e-001 3.02201959e-008]\n",
      " [1.12923999e-056 1.00000000e+000 6.18659568e-037]\n",
      " [1.62792102e-147 9.81304186e-056 1.00000000e+000]\n",
      " [1.04618023e-037 1.00000000e+000 3.23832136e-036]\n",
      " [1.00000000e+000 8.07152222e-067 0.00000000e+000]\n",
      " [4.14419088e-111 7.16939192e-008 9.99999928e-001]\n",
      " [3.90985311e-042 1.00000000e+000 4.12273161e-045]\n",
      " [4.87981390e-090 6.47712309e-005 9.99935229e-001]\n",
      " [1.15678303e-082 9.37181348e-021 1.00000000e+000]\n",
      " [1.11707938e-070 1.00000000e+000 6.40125187e-080]\n",
      " [4.52564527e-052 1.00000000e+000 6.26537174e-069]\n",
      " [2.69619162e-197 6.46734881e-101 1.00000000e+000]\n",
      " [1.26193567e-184 7.00212700e-060 1.00000000e+000]\n",
      " [9.14311990e-136 1.83834376e-048 1.00000000e+000]\n",
      " [1.00000000e+000 8.06152000e-081 0.00000000e+000]\n",
      " [2.32909745e-046 1.00000000e+000 3.41759971e-086]]\n"
     ]
    }
   ],
   "source": [
    "# Convert to indicators\n",
    "convert_to_indicators()\n",
    "\n",
    "# Set shape parameters\n",
    "Ntrain, D = Xtrain.shape\n",
    "Ntest = Xtest.shape[0]\n",
    "K = Titrain.shape[1]\n",
    "\n",
    "# initialize the weight matrix\n",
    "w = np.random.rand(D+1, K)\n",
    "\n",
    "# iterate to update weights\n",
    "niter = 1000\n",
    "alpha = 0.1\n",
    "\n",
    "# Add bias to data\n",
    "X1train = np.hstack((np.ones((Ntrain, 1)), Xtrain))\n",
    "\n",
    "likeli = []\n",
    "for step in range(niter):\n",
    "    # TODO (1)\n",
    "    ys = g(X1train, w)\n",
    "    # TODO (2)\n",
    "    w += alpha * X1train.T @ (Titrain - ys)\n",
    "    \n",
    "# Get class probabilities for each sample in X1train\n",
    "Ytrain = g(X1train, w)\n",
    "\n",
    "# Add bias to test data\n",
    "X1test = np.hstack((np.ones((Ntest,1)), Xtest))\n",
    "# Get class probabilities for each sample in X1test\n",
    "Ytest = g(X1test, w)\n",
    "\n",
    "print(Ytrain)\n",
    "print(Ytest)"
   ]
  },
  {
   "cell_type": "markdown",
   "metadata": {},
   "source": [
    "After running the logistic regression algorithm we should now have the predicted class probabilities for the training data `Ytrain`, and testing data `Ytest`. The question now is how do we get our predicted labels?\n",
    "\n",
    "The answer is quite simple! Recall, that there are three probabilities for each data sample (as seen in the above output). Logically, we want to label each data sample based on the class with the highest probability. We can do so by taking the argmax for each row in our data. The idea behind argmax is to return the column index that contains the highest probability.  Argmax works great here because our column indices are synonymous with our class targets because our targets are formatted as indicator variables!\n",
    "\n",
    "### TODO:\n",
    "Compute the argmax over our class probabilities for `Ytrain` and `Ytest`.\n",
    "\n",
    "1. Take the argmax of the training class probabilities `Ytrian` using Numpy's `argmax()` function. Store the predicted labels in `Ltrain`.\n",
    "    1. Hint: Remember to take the `argmax()` over the rows!\n",
    "2. Take the argmax of the testing class probabilities `Ytest` using Numpy's `argmax()` function. Store the predicted labels in `Ltest`.\n",
    "    1. Hint: Remember to take the `argmax()` over the rows!"
   ]
  },
  {
   "cell_type": "code",
   "execution_count": 92,
   "metadata": {},
   "outputs": [
    {
     "data": {
      "text/plain": [
       "array([2, 1, 0, 0, 2, 2, 2, 2, 0, 1, 0, 0, 2, 0, 2, 0, 0, 1, 1, 2, 1, 0,\n",
       "       1, 0, 1, 2, 0, 2, 1, 0, 0, 1, 0, 0, 1, 1, 0, 2, 2, 2, 2, 1, 1, 1,\n",
       "       1, 1, 0, 0, 2, 2, 0, 0, 1, 0, 2, 2, 2, 0, 2, 2, 1, 1, 2, 1, 2, 0,\n",
       "       2, 0, 2, 1, 0, 0, 2, 1, 0, 0, 0, 0, 2, 2, 0, 2, 2, 2, 0, 1, 0, 1,\n",
       "       0, 2, 2, 0, 1, 2, 2, 1, 1, 1, 0, 0, 0, 2, 0, 1, 1, 2, 2, 2, 1, 2,\n",
       "       0, 1, 2, 1, 2, 2, 1, 0, 0, 0])"
      ]
     },
     "execution_count": 92,
     "metadata": {},
     "output_type": "execute_result"
    }
   ],
   "source": [
    "# TODO (1)\n",
    "Ltrain = np.argmax(Ytrain, axis=1) \n",
    "Ltrain "
   ]
  },
  {
   "cell_type": "code",
   "execution_count": 93,
   "metadata": {},
   "outputs": [
    {
     "data": {
      "text/plain": [
       "array([2, 1, 2, 1, 2, 0, 0, 1, 1, 1, 2, 0, 1, 1, 0, 2, 1, 1, 2, 0, 0, 1,\n",
       "       1, 2, 2, 2, 2, 2, 0, 1])"
      ]
     },
     "execution_count": 93,
     "metadata": {},
     "output_type": "execute_result"
    }
   ],
   "source": [
    "# TODO (2)\n",
    "Ltest = np.argmax(Ytest, axis=1) \n",
    "Ltest "
   ]
  },
  {
   "cell_type": "markdown",
   "metadata": {},
   "source": [
    "Awesome, now we have our predicted labels which corresponds to the classes that our logistic algorithm thought were the most likely correct for all the training and testing data samples. Let's visualize these predictions and see how they did."
   ]
  },
  {
   "cell_type": "code",
   "execution_count": 94,
   "metadata": {},
   "outputs": [
    {
     "data": {
      "text/plain": [
       "Text(0.5, 1.0, 'Training results')"
      ]
     },
     "execution_count": 94,
     "metadata": {},
     "output_type": "execute_result"
    },
    {
     "data": {
      "image/png": "[encoded data removed]",
      "text/plain": [
       "<Figure size 432x288 with 1 Axes>"
      ]
     },
     "metadata": {
      "needs_background": "light"
     },
     "output_type": "display_data"
    }
   ],
   "source": [
    "plt.plot(Ttrain, 'ro')\n",
    "plt.plot(Ltrain, 'bx')\n",
    "plt.title(\"Training results\")"
   ]
  },
  {
   "cell_type": "code",
   "execution_count": 95,
   "metadata": {},
   "outputs": [
    {
     "data": {
      "text/plain": [
       "Text(0.5, 1.0, 'Test results')"
      ]
     },
     "execution_count": 95,
     "metadata": {},
     "output_type": "execute_result"
    },
    {
     "data": {
      "image/png": "[encoded data removed]",
      "text/plain": [
       "<Figure size 432x288 with 1 Axes>"
      ]
     },
     "metadata": {
      "needs_background": "light"
     },
     "output_type": "display_data"
    }
   ],
   "source": [
    "plt.plot(Ttest, 'ro')\n",
    "plt.plot(Ltest, 'bx')\n",
    "plt.title(\"Test results\")"
   ]
  },
  {
   "cell_type": "markdown",
   "metadata": {},
   "source": [
    "The below code is another way to visualize which of our `Ttest` samples we got right (True) or wrong (False). Here we are simply comparing our predicted labels `Ltest` and our target labels `Ttest`. "
   ]
  },
  {
   "cell_type": "code",
   "execution_count": 96,
   "metadata": {},
   "outputs": [
    {
     "data": {
      "text/plain": [
       "array([ True,  True, False,  True,  True,  True,  True,  True,  True,\n",
       "        True,  True,  True,  True,  True,  True,  True,  True,  True,\n",
       "        True,  True,  True,  True,  True,  True,  True,  True,  True,\n",
       "        True,  True,  True])"
      ]
     },
     "execution_count": 96,
     "metadata": {},
     "output_type": "execute_result"
    }
   ],
   "source": [
    "Ltest==Ttest.flatten()"
   ]
  },
  {
   "cell_type": "markdown",
   "metadata": {},
   "source": [
    "Finally, let's quantify our algorithms preformance by computing the accuracy."
   ]
  },
  {
   "cell_type": "code",
   "execution_count": 97,
   "metadata": {},
   "outputs": [],
   "source": [
    "def print_accuracy(y, t, name):\n",
    "    N = y.shape[0]\n",
    "    n_correct = np.sum(y.flat == t.flat)\n",
    "    n_correct_percent =  (n_correct / N) * 100\n",
    "    print(\"{} accyracy:\\t{}/{}\\t{} %\".format(name, n_correct, N, n_correct_percent))"
   ]
  },
  {
   "cell_type": "code",
   "execution_count": 98,
   "metadata": {},
   "outputs": [
    {
     "name": "stdout",
     "output_type": "stream",
     "text": [
      "Train accyracy:\t117/120\t97.5 %\n",
      "Test accyracy:\t29/30\t96.66666666666667 %\n"
     ]
    }
   ],
   "source": [
    "print_accuracy(Ltrain, Ttrain, \"Train\")\n",
    "print_accuracy(Ltest, Ttest, \"Test\")"
   ]
  },
  {
   "cell_type": "markdown",
   "metadata": {},
   "source": [
    "As you can see our logistic regression algorithm does pretty well!"
   ]
  },
  {
   "cell_type": "markdown",
   "metadata": {},
   "source": [
    "# Applying New Metrics\n",
    "\n",
    "## Confusion Matrix \n",
    "Now it's time to visualize our results in a slightly different yet very meaningful way using a confusion matrix! A confusion matrix allows us to see the number of samples we mislabeled and which classes the samples were mislabeled as. While this may sound simplistic it is actually very powerful!\n",
    "\n",
    "Although our confusion matrix will have a shape of (3, 3), since we have three classes, the ideas of a binary confusion matrix still apply, however things are slightly more muddled. It's important to remember that a confusion matrix comes down to a matter of perspective! Let's see what this means by looking at the rows and columns of a confusion matrix of arbitrary size. \n",
    "\n",
    "### Reading a NxN Confusion Matrix\n",
    "\n",
    "Recall from the lecture notes that for a confusion matrix each row represents the predicted labels made by the model and each column represents the actual targets. This means that the main diagonal contains the number of samples we predicted correctly, i.e. our **true positives** and **true negatives**. Meanwhile, any values off the main diagonal corresponds to misclassified data samples. \n",
    "\n",
    "Looking row wise we can observe the **true positives** and **false positives**. Like the binary case **true posties** lie on the main diagonal. However, the rest of the row wise elements correspond to **false positives**. These being values that were predicted to be the class corresponding to the given row, but actually belong to the class corresponding to the given column. \n",
    "\n",
    "Likewise, looking column wise we can observe the **true negatives** and **false negatives**.Like the binary case **true negatives** lie on the main diagonal. However, the rest of the column wise elements correspond to **false negatives**. These being values that belong to the class corresponding to the given column, but were predicted to be the class corresponding to the given row. As we can see this is the reverse of the row perspective! \n",
    "\n",
    "### References:\n",
    "- [What is true positive and true negative – confusion matrix](https://moredvikas.wordpress.com/2017/09/12/what-is-true-positive-and-true-negative-confusion-matrix/)\n",
    "- [Simple guide to confusion matrix terminology](https://www.dataschool.io/simple-guide-to-confusion-matrix-terminology/)\n",
    "\n",
    "### TODO:\n",
    "1. Create a 3x3 confusion matrix for your test results by filling in the `confusion_matrix()` function. You can write your own or use the `confusion_matrix()` function from the [class notes](https://nbviewer.jupyter.org/url/webpages.uncc.edu/mlee173/teach/itcs4156/notebooks/notes/Note-Linear%20Classification.ipynb)."
   ]
  },
  {
   "cell_type": "code",
   "execution_count": 99,
   "metadata": {},
   "outputs": [],
   "source": [
    "# TODO (1)\n",
    "def confusion_matrix(Y, T):\n",
    "    \"\"\"\n",
    "        Y    ndarray\n",
    "             predicted labels\n",
    "        T    ndarray\n",
    "             target labels\n",
    "             \n",
    "        @cfm DataFrame\n",
    "             confusion matrix\n",
    "    \"\"\"\n",
    "    # TODO (1): Add code here\n",
    "    if len(Y) != len(T):\n",
    "        raise ValueError(\"Wrong prediction and target length!\")\n",
    "    \n",
    "    classes = np.unique(T)\n",
    "    n_classes = len(classes)\n",
    "    \n",
    "    cfm = pd.DataFrame(np.zeros((n_classes, n_classes)), index=classes, columns=classes, dtype=int)\n",
    "    \n",
    "    Tidx = [T == c for c in classes]\n",
    "    for c in classes:\n",
    "        pred_idx = Y == c\n",
    "        cfm.loc[c, :] = [np.sum(np.logical_and(pred_idx, tidx)) for tidx in Tidx]\n",
    "    \n",
    "    return cfm"
   ]
  },
  {
   "cell_type": "code",
   "execution_count": 100,
   "metadata": {},
   "outputs": [
    {
     "data": {
      "text/html": [
       "<div>\n",
       "<style scoped>\n",
       "    .dataframe tbody tr th:only-of-type {\n",
       "        vertical-align: middle;\n",
       "    }\n",
       "\n",
       "    .dataframe tbody tr th {\n",
       "        vertical-align: top;\n",
       "    }\n",
       "\n",
       "    .dataframe thead th {\n",
       "        text-align: right;\n",
       "    }\n",
       "</style>\n",
       "<table border=\"1\" class=\"dataframe\">\n",
       "  <thead>\n",
       "    <tr style=\"text-align: right;\">\n",
       "      <th></th>\n",
       "      <th>0</th>\n",
       "      <th>1</th>\n",
       "      <th>2</th>\n",
       "    </tr>\n",
       "  </thead>\n",
       "  <tbody>\n",
       "    <tr>\n",
       "      <th>0</th>\n",
       "      <td>7</td>\n",
       "      <td>0</td>\n",
       "      <td>0</td>\n",
       "    </tr>\n",
       "    <tr>\n",
       "      <th>1</th>\n",
       "      <td>0</td>\n",
       "      <td>12</td>\n",
       "      <td>0</td>\n",
       "    </tr>\n",
       "    <tr>\n",
       "      <th>2</th>\n",
       "      <td>0</td>\n",
       "      <td>1</td>\n",
       "      <td>10</td>\n",
       "    </tr>\n",
       "  </tbody>\n",
       "</table>\n",
       "</div>"
      ],
      "text/plain": [
       "   0   1   2\n",
       "0  7   0   0\n",
       "1  0  12   0\n",
       "2  0   1  10"
      ]
     },
     "execution_count": 100,
     "metadata": {},
     "output_type": "execute_result"
    }
   ],
   "source": [
    "cfm = confusion_matrix(Ltest.flat, Ttest.flat)\n",
    "cfm"
   ]
  },
  {
   "cell_type": "markdown",
   "metadata": {},
   "source": [
    "**Notice that `cfm` is a Pandas DataFrmae not a Nump array!**"
   ]
  },
  {
   "cell_type": "code",
   "execution_count": 103,
   "metadata": {},
   "outputs": [
    {
     "data": {
      "text/plain": [
       "pandas.core.frame.DataFrame"
      ]
     },
     "execution_count": 103,
     "metadata": {},
     "output_type": "execute_result"
    }
   ],
   "source": [
    "type(cfm)"
   ]
  },
  {
   "cell_type": "markdown",
   "metadata": {},
   "source": [
    "## Precision, Recall, and F1-score \n",
    "Now that we have our confusion matrix we can use it to compute new metrics that inform us about different aspects of our models performance. Recall that we discussed precision, recall, and the F1-score in the class notes. Let's do a quick review of what these scores mean and how to compute them.\n",
    "\n",
    "### Precision\n",
    "Precision represents the accuracy when only looking at our **positive predictions**. Meaning, we want to know how many of our positive predictions were correct out of all the positive predictions made. Hence, we divide by the sum of the true positives $\\mathrm{TP}$ and false positives $\\mathrm{FP}$. Notice, the sum these two variables is equal the total number of positive predictions made for a given class.\n",
    "$$\n",
    "Precision = \\mathrm{\\frac{TP}{TP + FP}}\n",
    "$$\n",
    "\n",
    "### Recall\n",
    "Recall represents the accuracy when only looking at the **positive targets**. This means we want to know how many positive predictions we got correct out of the actual positive targets. Hence, we divide by the sum of true positives $\\mathrm{TP}$ and false negatives $\\mathrm{FN}$. Notice the sum these two variables is equal the total number of targets for a given class.\n",
    "$$\n",
    "Recall = \\mathrm{\\frac{TP}{TP + FN}}\n",
    "$$\n",
    "\n",
    "### F1-score\n",
    "The F1-score is used to gain a combined measure of both precision and recall. To do so we calculate the harmonic mean (the reciprocal of the arithmetic mean) of the precision and recall scores. F1-score is a good alternative to accuracy if the number false negatives and false positives are important to your problem. \n",
    "$$\n",
    "F_1 = 2 \\times \\frac{Precision \\times Recall}{Precision+Recall} = \\frac{2 \\times tp}{2 \\times tp + fp + fn}\n",
    "$$"
   ]
  },
  {
   "cell_type": "markdown",
   "metadata": {},
   "source": [
    "### TODO:\n",
    "Compute precision, recall, and F1-score using the elements confusion matrix `cfm`. Recall that the **rows** of the confusion matrix correspond to the *true positives* and *false positives*. Likewise, the **columns** correspond to *true negatives* and *false negatives*.\n",
    "\n",
    "**Remember that `cfm` is a Pandas DataFrmae not a Nump array! You must index `cfm` using `cfm.iloc()`!**\n",
    "\n",
    "1. Compute the percision score using our confusion matrix `cfm`\n",
    "2. Compute the recall score using our confusion matrix `cfm`\n",
    "3. Compute the F1-score score using the percision and recall"
   ]
  },
  {
   "cell_type": "code",
   "execution_count": 104,
   "metadata": {},
   "outputs": [
    {
     "name": "stdout",
     "output_type": "stream",
     "text": [
      "setosa:\n",
      "\tPrecision (setosa): 1.00000\n",
      "\tRecall (setosa): 1.00000\n",
      "\tF1 Score (setosa): 1.00000\n",
      "versicolor:\n",
      "\tPrecision (versicolor): 1.00000\n",
      "\tRecall (versicolor): 0.92308\n",
      "\tF1 Score (versicolor): 0.96000\n",
      "virginica:\n",
      "\tPrecision (virginica): 0.90909\n",
      "\tRecall (virginica): 1.00000\n",
      "\tF1 Score (virginica): 0.95238\n"
     ]
    }
   ],
   "source": [
    "for i in range(3):\n",
    "    t_name = iris.target_names[i]\n",
    "    print(\"{}:\".format(t_name))\n",
    "    # TODO (1)\n",
    "    precision = cfm.iloc[i, i] / np.sum(cfm.iloc[i, :])\n",
    "    # TODO (2)\n",
    "    recall = cfm.iloc[i, i] / np.sum(cfm.iloc[:, i])\n",
    "    # TODO (3)\n",
    "    f1 = 2 * precision * recall / (precision + recall)\n",
    "    # Print scores for each class\n",
    "    print(\"\\tPrecision ({}): {:.5f}\".format(t_name, precision))\n",
    "    print(\"\\tRecall ({}): {:.5f}\".format(t_name, recall))\n",
    "    print(\"\\tF1 Score ({}): {:.5f}\".format(t_name, f1))\n"
   ]
  }
 ],
 "metadata": {
  "kernelspec": {
   "display_name": "Python 3",
   "language": "python",
   "name": "python3"
  },
  "language_info": {
   "codemirror_mode": {
    "name": "ipython",
    "version": 3
   },
   "file_extension": ".py",
   "mimetype": "text/x-python",
   "name": "python",
   "nbconvert_exporter": "python",
   "pygments_lexer": "ipython3",
   "version": "3.7.6"
  }
 },
 "nbformat": 4,
 "nbformat_minor": 2
}
