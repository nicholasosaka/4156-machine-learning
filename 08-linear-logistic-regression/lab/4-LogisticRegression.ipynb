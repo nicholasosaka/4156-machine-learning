{
 "cells": [
  {
   "cell_type": "markdown",
   "metadata": {},
   "source": [
    "$\n",
    " \\newcommand{\\wv}{\\mathbf{w}}\n",
    " \\newcommand{\\Tm}{\\mathbf{T}}\n",
    " \\newcommand{\\Xm}{\\mathbf{X}}\n",
    "$\n",
    "\n",
    "# Logistic Regression (Workbook)\n",
    "\n",
    "### ITCS 4156\n",
    "### Minwoo \"Jake\" Lee"
   ]
  },
  {
   "cell_type": "markdown",
   "metadata": {},
   "source": [
    "# Goal\n",
    "\n",
    "The goal of this activity is to implement the logistic regression and apply it to [iris dataset](https://archive.ics.uci.edu/ml/datasets/iris) that we used last week. In addition we will look at how to analyze our predictions with a confusion matrix, a popular method for quantifying and visualizing classification predictions. Follow the TODO titles and comments to finish the activity!"
   ]
  },
  {
   "cell_type": "markdown",
   "metadata": {},
   "source": [
    "# Agenda\n",
    "\n",
    "* Iris Data: Loading and Partitioning\n",
    "    * Data Partitioning\n",
    "* Applying Logistic Regression\n",
    "    * Converting to Indicator Variables\n",
    "    * Logistic Regression Training\n",
    "* Applying New Metrics\n",
    "    * Confusion Matrix\n",
    "    * Precision, Recall, and F1-score"
   ]
  },
  {
   "cell_type": "code",
   "execution_count": 1,
   "metadata": {
    "slideshow": {
     "slide_type": "notes"
    }
   },
   "outputs": [],
   "source": [
    "from copy import deepcopy as copy\n",
    "from IPython.core.debugger import set_trace\n",
    "\n",
    "import numpy as np\n",
    "import pandas as pd\n",
    "import matplotlib.pyplot as plt \n",
    "from mpl_toolkits.mplot3d import Axes3D\n",
    "%matplotlib inline"
   ]
  },
  {
   "cell_type": "markdown",
   "metadata": {},
   "source": [
    "# Iris Data: Loading and Partitioning\n",
    "Just like last week we will load the iris data via Scikit-learn. However, this week we will skip the detailed break down of the data loading and visualization. If you want to review the iris data loading process or the iris visualizations see last weeks lab on linear classification."
   ]
  },
  {
   "cell_type": "markdown",
   "metadata": {},
   "source": [
    "As we did last week we import the iris data via sklearn.To do so we call the `load_iris()` function and store the `sklearn.utils.Bunch` output instance inside the varaible `iris`. We'll also go ahead and store the iris data into variables so we don't have to keep typing `iris.data` and `iris.target` every time we need to access the data."
   ]
  },
  {
   "cell_type": "code",
   "execution_count": 2,
   "metadata": {},
   "outputs": [],
   "source": [
    "from sklearn.datasets import load_iris\n",
    "iris = load_iris()\n",
    "X = iris.data\n",
    "T = iris.target"
   ]
  },
  {
   "cell_type": "markdown",
   "metadata": {},
   "source": [
    "## Data Partitioning\n",
    "\n",
    "The below code is the `partition()` function we used last week. Recall, that the `partition()` function takes as input the following Numpy arrays `X` and `T`. The output of  `partition()` is a list of data and targets where `Xs` holds our training and testing data partitions and `Ts` holds our training and testing target partitions."
   ]
  },
  {
   "cell_type": "code",
   "execution_count": 3,
   "metadata": {},
   "outputs": [],
   "source": [
    "# now partition the data \n",
    "\n",
    "\"\"\" partitioning data\n",
    "\n",
    "    parameters\n",
    "    -----------\n",
    "    X        numpy array\n",
    "             input data to partition\n",
    "    T        numpy array\n",
    "             target labels to partition\n",
    "    raito    list\n",
    "             list of ratios for partitions (should be summed to 1) \n",
    "             the number of return pairs are different\n",
    "    return\n",
    "    -------\n",
    "    \n",
    "    Xs       list of numpy arrays\n",
    "    \n",
    "    Ts       list of numpy arrays\n",
    "\"\"\"\n",
    "def partition(X, T, ratio=[0.8, 0.2]): \n",
    "    \n",
    "    # Checks to make sure ratio sums to 1\n",
    "    assert(np.sum(ratio) == 1)\n",
    "    \n",
    "    # Store the number of data samples \n",
    "    N = X.shape[0]\n",
    "\n",
    "    # change the 1d array to 2d if need\n",
    "    if len(T.shape) == 1:\n",
    "        T = T.reshape((N,1))\n",
    "    \n",
    "    # Shuffle the data indices \n",
    "    idxs = np.random.permutation(N)\n",
    "        \n",
    "    Xs = []\n",
    "    Ts = []\n",
    "    i = 0  # first index to zero\n",
    "    for k, r in enumerate(ratio):\n",
    "         # Number of rows that corresponds to kth element in ratios\n",
    "        nrows = int(round(N * r)) \n",
    "        \n",
    "        # print (i, nrows)\n",
    "        # If we are on the last ratio simply use the remaining data samples\n",
    "        if k == len(ratio)-1:\n",
    "            Xs.append(X[idxs[i:], :])\n",
    "            Ts.append(T[idxs[i:], :])\n",
    "        else:\n",
    "            Xs.append(X[idxs[i:i+nrows], :])\n",
    "            Ts.append(T[idxs[i:i+nrows], :])\n",
    "        \n",
    "        i += nrows\n",
    "    \n",
    "    return Xs, Ts"
   ]
  },
  {
   "cell_type": "code",
   "execution_count": 4,
   "metadata": {},
   "outputs": [],
   "source": [
    "def partition_data():\n",
    "    \"\"\"Partition data into train and test splits.\"\"\"\n",
    "    global Xtrain, Xtest, Ttrain, Ttest\n",
    "    data, targets = partition(copy(X), copy(T))\n",
    "    # TODO: Fill in the right had side of the assignments below\n",
    "    Xtrain, Xtest = data[0], data[1]\n",
    "    # TODO: Fill in the right had side of the assignments below\n",
    "    Ttrain, Ttest = targets[0], targets[1]"
   ]
  },
  {
   "cell_type": "code",
   "execution_count": 5,
   "metadata": {},
   "outputs": [
    {
     "name": "stdout",
     "output_type": "stream",
     "text": [
      "Train data shape: (120, 4)\n",
      "Train target shape: (120, 1)\n",
      "Test data shape: (30, 4)\n",
      "Test target shape: (30, 1)\n"
     ]
    }
   ],
   "source": [
    "partition_data()\n",
    "print(\"Train data shape: {}\".format(Xtrain.shape))\n",
    "print(\"Train target shape: {}\".format(Ttrain.shape))\n",
    "print(\"Test data shape: {}\".format(Xtest.shape))\n",
    "print(\"Test target shape: {}\".format(Ttest.shape))"
   ]
  },
  {
   "cell_type": "markdown",
   "metadata": {},
   "source": [
    "#  Applying Logistic Regression \n",
    "\n",
    "Here we are, already on logistic regression - I  think this is the quickest we have ever made it to our algorithm! For this section make sure to reference the readings and lecture notes if you are getting stuck."
   ]
  },
  {
   "cell_type": "markdown",
   "metadata": {},
   "source": [
    "## Converting to Indicator Variables\n",
    "Well, maybe we aren't there yet. Just like last week we need to do some preprocessing of targets so they are compatible with logistic regression. \n",
    "\n",
    "Remember how we adjusted our targets to `[-1, 1]` specifically for the perceptron algorithm last week? Well, we’ll be doing another adjustment of our targets, but this time we need to convert our targets to indicator variables, also called one-hot encodings. \n",
    "\n",
    "Recall from the lecture notes and our previous lab on linear models that converting to indicator variables means converting all our targets to a row vector of 1s and 0s. To frame this in more concrete terms we want to assign each unique target to have its own column. This means that if we have three targets (0, 1, and 2) then we have three columns, one for each target. For example, if a given data sample's indicator variable has a 1 in the first column then the rest of the columns must contain 0s. The 1 in the first column indicates to us that our target is 0!"
   ]
  },
  {
   "cell_type": "markdown",
   "metadata": {},
   "source": [
    "Okay, let's recall how many unique targets our iris data has by calling the Numpy `unique()` function."
   ]
  },
  {
   "cell_type": "code",
   "execution_count": 6,
   "metadata": {},
   "outputs": [
    {
     "data": {
      "text/plain": [
       "array([0, 1, 2])"
      ]
     },
     "execution_count": 6,
     "metadata": {},
     "output_type": "execute_result"
    }
   ],
   "source": [
    "np.unique(Ttrain)"
   ]
  },
  {
   "cell_type": "markdown",
   "metadata": {},
   "source": [
    "Cool, just like last week our number of targets is 3. Remember, target 0 corresponds to setosa, target 1 corresponds to versicolor, and target 2 corresponds virginica. Let's also just take a quick look at the actual `Ttrain` targets to confirm our unique classes are all there."
   ]
  },
  {
   "cell_type": "code",
   "execution_count": 7,
   "metadata": {},
   "outputs": [
    {
     "data": {
      "text/plain": [
       "array([[0],\n",
       "       [2],\n",
       "       [0],\n",
       "       [1],\n",
       "       [1],\n",
       "       [0],\n",
       "       [2],\n",
       "       [0],\n",
       "       [2],\n",
       "       [2],\n",
       "       [1],\n",
       "       [0],\n",
       "       [2],\n",
       "       [2],\n",
       "       [0],\n",
       "       [1],\n",
       "       [2],\n",
       "       [0],\n",
       "       [1],\n",
       "       [2],\n",
       "       [1],\n",
       "       [0],\n",
       "       [1],\n",
       "       [2],\n",
       "       [1],\n",
       "       [2],\n",
       "       [0],\n",
       "       [1],\n",
       "       [2],\n",
       "       [0],\n",
       "       [1],\n",
       "       [0],\n",
       "       [0],\n",
       "       [2],\n",
       "       [0],\n",
       "       [2],\n",
       "       [0],\n",
       "       [1],\n",
       "       [1],\n",
       "       [2],\n",
       "       [1],\n",
       "       [1],\n",
       "       [2],\n",
       "       [1],\n",
       "       [0],\n",
       "       [0],\n",
       "       [0],\n",
       "       [1],\n",
       "       [0],\n",
       "       [2],\n",
       "       [0],\n",
       "       [2],\n",
       "       [1],\n",
       "       [2],\n",
       "       [2],\n",
       "       [0],\n",
       "       [1],\n",
       "       [2],\n",
       "       [1],\n",
       "       [0],\n",
       "       [2],\n",
       "       [2],\n",
       "       [0],\n",
       "       [0],\n",
       "       [0],\n",
       "       [1],\n",
       "       [1],\n",
       "       [0],\n",
       "       [1],\n",
       "       [0],\n",
       "       [2],\n",
       "       [1],\n",
       "       [0],\n",
       "       [1],\n",
       "       [1],\n",
       "       [0],\n",
       "       [1],\n",
       "       [0],\n",
       "       [1],\n",
       "       [2],\n",
       "       [0],\n",
       "       [0],\n",
       "       [0],\n",
       "       [2],\n",
       "       [0],\n",
       "       [1],\n",
       "       [2],\n",
       "       [0],\n",
       "       [0],\n",
       "       [0],\n",
       "       [2],\n",
       "       [1],\n",
       "       [0],\n",
       "       [1],\n",
       "       [2],\n",
       "       [1],\n",
       "       [2],\n",
       "       [1],\n",
       "       [2],\n",
       "       [1],\n",
       "       [2],\n",
       "       [1],\n",
       "       [2],\n",
       "       [2],\n",
       "       [1],\n",
       "       [1],\n",
       "       [0],\n",
       "       [2],\n",
       "       [2],\n",
       "       [2],\n",
       "       [1],\n",
       "       [1],\n",
       "       [1],\n",
       "       [1],\n",
       "       [1],\n",
       "       [1],\n",
       "       [0],\n",
       "       [2],\n",
       "       [1],\n",
       "       [2]])"
      ]
     },
     "execution_count": 7,
     "metadata": {},
     "output_type": "execute_result"
    }
   ],
   "source": [
    "Ttrain"
   ]
  },
  {
   "cell_type": "markdown",
   "metadata": {},
   "source": [
    "### Indicator Variables, Numpy, and Broadcasting \n",
    "Here comes the magical part of the lab. How do we  convert our target array `Ttrain` into indicator variables? This will require a new Numpy concept called broadcasting. Broadcasting is typically an implicit concept used by Numpy to allow array arithmetic between arrays of different shapes or sizes. Below are some quotes that help convey the essence of broadcasting.\n",
    "\n",
    "> The term broadcasting describes how numpy treats arrays with different shapes during arithmetic operations. Subject to certain constraints, the smaller array is “broadcast” across the larger array so that they have compatible shapes.\n",
    "\n",
    "> In the context of deep learning, we also use some less conventional notation. We allow the addition of matrix and a vector, yielding another matrix: $C = A + b$, where $ C_{i,j} = A_{i,j} + b_j$. In other words, the vector $b$ is added to each row of the matrix. **This shorthand eliminates the need to define a matrix with $b$ copied into each row before doing the addition. This implicit copying of $b$ to many locations is called broadcasting.**\n",
    "\n",
    "\n",
    "Broadcasting essentially helps save us time and memory. Going in-depth into broadcasting is out of scope for this lab, but if you wish to learn more check out the references below.\n",
    "\n",
    "**References:**\n",
    "- [Gentle Introduction to Broadcasting](https://machinelearningmastery.com/broadcasting-with-numpy-arrays)\n",
    "- [Numpy Broadcasting Docs](https://docs.scipy.org/doc/numpy/user/basics.broadcasting.html)"
   ]
  },
  {
   "cell_type": "markdown",
   "metadata": {},
   "source": [
    "Keep in mind the following code that checks if each element meets a desired condition. In the case below our condition is that we are checking which elements in `Ttrain` equal to 1. Remember that this line of code outputs a boolean array where the true values correspond to elements in `Ttrain` that met our condition and the false values correspond to elements in `Ttrain` that failed our condition."
   ]
  },
  {
   "cell_type": "code",
   "execution_count": 8,
   "metadata": {},
   "outputs": [
    {
     "data": {
      "text/plain": [
       "array([[False],\n",
       "       [False],\n",
       "       [False],\n",
       "       [ True],\n",
       "       [ True],\n",
       "       [False],\n",
       "       [False],\n",
       "       [False],\n",
       "       [False],\n",
       "       [False],\n",
       "       [ True],\n",
       "       [False],\n",
       "       [False],\n",
       "       [False],\n",
       "       [False],\n",
       "       [ True],\n",
       "       [False],\n",
       "       [False],\n",
       "       [ True],\n",
       "       [False],\n",
       "       [ True],\n",
       "       [False],\n",
       "       [ True],\n",
       "       [False],\n",
       "       [ True],\n",
       "       [False],\n",
       "       [False],\n",
       "       [ True],\n",
       "       [False],\n",
       "       [False],\n",
       "       [ True],\n",
       "       [False],\n",
       "       [False],\n",
       "       [False],\n",
       "       [False],\n",
       "       [False],\n",
       "       [False],\n",
       "       [ True],\n",
       "       [ True],\n",
       "       [False],\n",
       "       [ True],\n",
       "       [ True],\n",
       "       [False],\n",
       "       [ True],\n",
       "       [False],\n",
       "       [False],\n",
       "       [False],\n",
       "       [ True],\n",
       "       [False],\n",
       "       [False],\n",
       "       [False],\n",
       "       [False],\n",
       "       [ True],\n",
       "       [False],\n",
       "       [False],\n",
       "       [False],\n",
       "       [ True],\n",
       "       [False],\n",
       "       [ True],\n",
       "       [False],\n",
       "       [False],\n",
       "       [False],\n",
       "       [False],\n",
       "       [False],\n",
       "       [False],\n",
       "       [ True],\n",
       "       [ True],\n",
       "       [False],\n",
       "       [ True],\n",
       "       [False],\n",
       "       [False],\n",
       "       [ True],\n",
       "       [False],\n",
       "       [ True],\n",
       "       [ True],\n",
       "       [False],\n",
       "       [ True],\n",
       "       [False],\n",
       "       [ True],\n",
       "       [False],\n",
       "       [False],\n",
       "       [False],\n",
       "       [False],\n",
       "       [False],\n",
       "       [False],\n",
       "       [ True],\n",
       "       [False],\n",
       "       [False],\n",
       "       [False],\n",
       "       [False],\n",
       "       [False],\n",
       "       [ True],\n",
       "       [False],\n",
       "       [ True],\n",
       "       [False],\n",
       "       [ True],\n",
       "       [False],\n",
       "       [ True],\n",
       "       [False],\n",
       "       [ True],\n",
       "       [False],\n",
       "       [ True],\n",
       "       [False],\n",
       "       [False],\n",
       "       [ True],\n",
       "       [ True],\n",
       "       [False],\n",
       "       [False],\n",
       "       [False],\n",
       "       [False],\n",
       "       [ True],\n",
       "       [ True],\n",
       "       [ True],\n",
       "       [ True],\n",
       "       [ True],\n",
       "       [ True],\n",
       "       [False],\n",
       "       [False],\n",
       "       [ True],\n",
       "       [False]])"
      ]
     },
     "execution_count": 8,
     "metadata": {},
     "output_type": "execute_result"
    }
   ],
   "source": [
    "Ttrain == 1"
   ]
  },
  {
   "cell_type": "markdown",
   "metadata": {},
   "source": [
    "Now, we can take this aforementioned idea of checking if each element meets a desired condition and apply it to all our unique  `Ttrain` targets at once by using broadcasting. Meaning, with a single line of code we want to generate three boolean arrays, like the one above, but now instead of simply checking which elements are equal to 1, we want to check which elements are equal to 0, 1, or 2, i.e. our unique class targets.\n",
    "\n",
    "We can do so using the below code which essentially converts ours targets into indicator variables. The below code works as if we took the boolean arrays for `Ttrain == 0`, `Ttrain == 1`, and `Ttrain == 2` and concatenated them into a single array. However, now it only takes us one line of code and works for any number of classes! Most of the complicated work here is being done behind the scenes with broadcasting."
   ]
  },
  {
   "cell_type": "code",
   "execution_count": 9,
   "metadata": {},
   "outputs": [
    {
     "data": {
      "text/plain": [
       "array([[ True, False, False],\n",
       "       [False, False,  True],\n",
       "       [ True, False, False],\n",
       "       [False,  True, False],\n",
       "       [False,  True, False],\n",
       "       [ True, False, False],\n",
       "       [False, False,  True],\n",
       "       [ True, False, False],\n",
       "       [False, False,  True],\n",
       "       [False, False,  True],\n",
       "       [False,  True, False],\n",
       "       [ True, False, False],\n",
       "       [False, False,  True],\n",
       "       [False, False,  True],\n",
       "       [ True, False, False],\n",
       "       [False,  True, False],\n",
       "       [False, False,  True],\n",
       "       [ True, False, False],\n",
       "       [False,  True, False],\n",
       "       [False, False,  True],\n",
       "       [False,  True, False],\n",
       "       [ True, False, False],\n",
       "       [False,  True, False],\n",
       "       [False, False,  True],\n",
       "       [False,  True, False],\n",
       "       [False, False,  True],\n",
       "       [ True, False, False],\n",
       "       [False,  True, False],\n",
       "       [False, False,  True],\n",
       "       [ True, False, False],\n",
       "       [False,  True, False],\n",
       "       [ True, False, False],\n",
       "       [ True, False, False],\n",
       "       [False, False,  True],\n",
       "       [ True, False, False],\n",
       "       [False, False,  True],\n",
       "       [ True, False, False],\n",
       "       [False,  True, False],\n",
       "       [False,  True, False],\n",
       "       [False, False,  True],\n",
       "       [False,  True, False],\n",
       "       [False,  True, False],\n",
       "       [False, False,  True],\n",
       "       [False,  True, False],\n",
       "       [ True, False, False],\n",
       "       [ True, False, False],\n",
       "       [ True, False, False],\n",
       "       [False,  True, False],\n",
       "       [ True, False, False],\n",
       "       [False, False,  True],\n",
       "       [ True, False, False],\n",
       "       [False, False,  True],\n",
       "       [False,  True, False],\n",
       "       [False, False,  True],\n",
       "       [False, False,  True],\n",
       "       [ True, False, False],\n",
       "       [False,  True, False],\n",
       "       [False, False,  True],\n",
       "       [False,  True, False],\n",
       "       [ True, False, False],\n",
       "       [False, False,  True],\n",
       "       [False, False,  True],\n",
       "       [ True, False, False],\n",
       "       [ True, False, False],\n",
       "       [ True, False, False],\n",
       "       [False,  True, False],\n",
       "       [False,  True, False],\n",
       "       [ True, False, False],\n",
       "       [False,  True, False],\n",
       "       [ True, False, False],\n",
       "       [False, False,  True],\n",
       "       [False,  True, False],\n",
       "       [ True, False, False],\n",
       "       [False,  True, False],\n",
       "       [False,  True, False],\n",
       "       [ True, False, False],\n",
       "       [False,  True, False],\n",
       "       [ True, False, False],\n",
       "       [False,  True, False],\n",
       "       [False, False,  True],\n",
       "       [ True, False, False],\n",
       "       [ True, False, False],\n",
       "       [ True, False, False],\n",
       "       [False, False,  True],\n",
       "       [ True, False, False],\n",
       "       [False,  True, False],\n",
       "       [False, False,  True],\n",
       "       [ True, False, False],\n",
       "       [ True, False, False],\n",
       "       [ True, False, False],\n",
       "       [False, False,  True],\n",
       "       [False,  True, False],\n",
       "       [ True, False, False],\n",
       "       [False,  True, False],\n",
       "       [False, False,  True],\n",
       "       [False,  True, False],\n",
       "       [False, False,  True],\n",
       "       [False,  True, False],\n",
       "       [False, False,  True],\n",
       "       [False,  True, False],\n",
       "       [False, False,  True],\n",
       "       [False,  True, False],\n",
       "       [False, False,  True],\n",
       "       [False, False,  True],\n",
       "       [False,  True, False],\n",
       "       [False,  True, False],\n",
       "       [ True, False, False],\n",
       "       [False, False,  True],\n",
       "       [False, False,  True],\n",
       "       [False, False,  True],\n",
       "       [False,  True, False],\n",
       "       [False,  True, False],\n",
       "       [False,  True, False],\n",
       "       [False,  True, False],\n",
       "       [False,  True, False],\n",
       "       [False,  True, False],\n",
       "       [ True, False, False],\n",
       "       [False, False,  True],\n",
       "       [False,  True, False],\n",
       "       [False, False,  True]])"
      ]
     },
     "execution_count": 9,
     "metadata": {},
     "output_type": "execute_result"
    }
   ],
   "source": [
    "Ttrain == np.unique(Ttrain)"
   ]
  },
  {
   "cell_type": "markdown",
   "metadata": {},
   "source": [
    "The idea behind what is happening is that we have two Numpy arrays, `Ttrain` and `np.unique(Ttrain)`, being compared to create a boolean array. Recall the shape of `Ttrain` is (120, 1) and the shape of `np.unique(Ttrain)` is (3,). A note about broadcasting to keep in mind is that it can only be performed when the shape of each dimension in the arrays are equal or when one of the arrays has the dimension size of 1. Here we can see our `Ttrain` has size 1 in the 2nd dimension (column dimension). This means that `np.unique(Ttrain)` can be broadcasted with `Ttrain`. Thus, this creates our output array above which has a shape of (120, 3).\n",
    "\n",
    "The results of this broadcasting automatically creates a boolean version of our desired indicator variables. The final step we'll need to take is converting our boolean array to 1s and 0s. We can do this by simply recasting the boolean array as an integer using Numpy's  `astype()` method. This works because the integer 1 is associated with true and the integer 0 is associated with false."
   ]
  },
  {
   "cell_type": "code",
   "execution_count": 10,
   "metadata": {},
   "outputs": [
    {
     "data": {
      "text/plain": [
       "array([[1, 0, 0],\n",
       "       [0, 0, 1],\n",
       "       [1, 0, 0],\n",
       "       [0, 1, 0],\n",
       "       [0, 1, 0],\n",
       "       [1, 0, 0],\n",
       "       [0, 0, 1],\n",
       "       [1, 0, 0],\n",
       "       [0, 0, 1],\n",
       "       [0, 0, 1],\n",
       "       [0, 1, 0],\n",
       "       [1, 0, 0],\n",
       "       [0, 0, 1],\n",
       "       [0, 0, 1],\n",
       "       [1, 0, 0],\n",
       "       [0, 1, 0],\n",
       "       [0, 0, 1],\n",
       "       [1, 0, 0],\n",
       "       [0, 1, 0],\n",
       "       [0, 0, 1],\n",
       "       [0, 1, 0],\n",
       "       [1, 0, 0],\n",
       "       [0, 1, 0],\n",
       "       [0, 0, 1],\n",
       "       [0, 1, 0],\n",
       "       [0, 0, 1],\n",
       "       [1, 0, 0],\n",
       "       [0, 1, 0],\n",
       "       [0, 0, 1],\n",
       "       [1, 0, 0],\n",
       "       [0, 1, 0],\n",
       "       [1, 0, 0],\n",
       "       [1, 0, 0],\n",
       "       [0, 0, 1],\n",
       "       [1, 0, 0],\n",
       "       [0, 0, 1],\n",
       "       [1, 0, 0],\n",
       "       [0, 1, 0],\n",
       "       [0, 1, 0],\n",
       "       [0, 0, 1],\n",
       "       [0, 1, 0],\n",
       "       [0, 1, 0],\n",
       "       [0, 0, 1],\n",
       "       [0, 1, 0],\n",
       "       [1, 0, 0],\n",
       "       [1, 0, 0],\n",
       "       [1, 0, 0],\n",
       "       [0, 1, 0],\n",
       "       [1, 0, 0],\n",
       "       [0, 0, 1],\n",
       "       [1, 0, 0],\n",
       "       [0, 0, 1],\n",
       "       [0, 1, 0],\n",
       "       [0, 0, 1],\n",
       "       [0, 0, 1],\n",
       "       [1, 0, 0],\n",
       "       [0, 1, 0],\n",
       "       [0, 0, 1],\n",
       "       [0, 1, 0],\n",
       "       [1, 0, 0],\n",
       "       [0, 0, 1],\n",
       "       [0, 0, 1],\n",
       "       [1, 0, 0],\n",
       "       [1, 0, 0],\n",
       "       [1, 0, 0],\n",
       "       [0, 1, 0],\n",
       "       [0, 1, 0],\n",
       "       [1, 0, 0],\n",
       "       [0, 1, 0],\n",
       "       [1, 0, 0],\n",
       "       [0, 0, 1],\n",
       "       [0, 1, 0],\n",
       "       [1, 0, 0],\n",
       "       [0, 1, 0],\n",
       "       [0, 1, 0],\n",
       "       [1, 0, 0],\n",
       "       [0, 1, 0],\n",
       "       [1, 0, 0],\n",
       "       [0, 1, 0],\n",
       "       [0, 0, 1],\n",
       "       [1, 0, 0],\n",
       "       [1, 0, 0],\n",
       "       [1, 0, 0],\n",
       "       [0, 0, 1],\n",
       "       [1, 0, 0],\n",
       "       [0, 1, 0],\n",
       "       [0, 0, 1],\n",
       "       [1, 0, 0],\n",
       "       [1, 0, 0],\n",
       "       [1, 0, 0],\n",
       "       [0, 0, 1],\n",
       "       [0, 1, 0],\n",
       "       [1, 0, 0],\n",
       "       [0, 1, 0],\n",
       "       [0, 0, 1],\n",
       "       [0, 1, 0],\n",
       "       [0, 0, 1],\n",
       "       [0, 1, 0],\n",
       "       [0, 0, 1],\n",
       "       [0, 1, 0],\n",
       "       [0, 0, 1],\n",
       "       [0, 1, 0],\n",
       "       [0, 0, 1],\n",
       "       [0, 0, 1],\n",
       "       [0, 1, 0],\n",
       "       [0, 1, 0],\n",
       "       [1, 0, 0],\n",
       "       [0, 0, 1],\n",
       "       [0, 0, 1],\n",
       "       [0, 0, 1],\n",
       "       [0, 1, 0],\n",
       "       [0, 1, 0],\n",
       "       [0, 1, 0],\n",
       "       [0, 1, 0],\n",
       "       [0, 1, 0],\n",
       "       [0, 1, 0],\n",
       "       [1, 0, 0],\n",
       "       [0, 0, 1],\n",
       "       [0, 1, 0],\n",
       "       [0, 0, 1]])"
      ]
     },
     "execution_count": 10,
     "metadata": {},
     "output_type": "execute_result"
    }
   ],
   "source": [
    "(Ttrain == np.unique(Ttrain)).astype(int)"
   ]
  },
  {
   "cell_type": "markdown",
   "metadata": {},
   "source": [
    "Welp we did it! We somehow managed to convert our `Ttrain` targets into indicator variables through Numpy's magical broadcasting abilities."
   ]
  },
  {
   "cell_type": "markdown",
   "metadata": {},
   "source": [
    "### TODO:\n",
    "Now its time for you to try. Using the idea of broadcasting presented above finish the `convert_to_indicators()` function for converting `Ttrain` and `Ttest` into indicator variables.\n",
    "\n",
    "1. Convert `Ttrain` into an indicator variable and store the output into `Titrain`\n",
    "2. Convert `Ttest` into an indicator variable and store the output into `Titest`"
   ]
  },
  {
   "cell_type": "code",
   "execution_count": 11,
   "metadata": {},
   "outputs": [],
   "source": [
    "def convert_to_indicators():\n",
    "    global Titrain, Titest\n",
    "    # TODO (1)\n",
    "    Titrain = (Ttrain == np.unique(Ttrain)).astype(int)\n",
    "    # TODO (2)\n",
    "    Titest = (Ttest == np.unique(Ttest)).astype(int)"
   ]
  },
  {
   "cell_type": "markdown",
   "metadata": {},
   "source": [
    "To test if your `convert_to_indicators()` function works, run the following code. The `assert` code checks if your code produces the correct results and throws an error if it doesn't. **If you are failing the `assert` tests then something most likely went wrong in your function (check your shapes)!**"
   ]
  },
  {
   "cell_type": "code",
   "execution_count": 12,
   "metadata": {},
   "outputs": [
    {
     "name": "stdout",
     "output_type": "stream",
     "text": [
      "Train indicator shape: (120, 3)\n",
      "Test indicator shape: (30, 3)\n"
     ]
    }
   ],
   "source": [
    "convert_to_indicators()\n",
    "print(\"Train indicator shape: {}\".format(Titrain.shape))\n",
    "print(\"Test indicator shape: {}\".format(Titest.shape))"
   ]
  },
  {
   "cell_type": "code",
   "execution_count": 13,
   "metadata": {},
   "outputs": [],
   "source": [
    "assert (np.argmax(Titrain, axis=1) == Ttrain.flatten()).all()\n",
    "assert (np.argmax(Titest, axis=1) == Ttest.flatten()).all()"
   ]
  },
  {
   "cell_type": "markdown",
   "metadata": {},
   "source": [
    "Now we can use `Titrain` and `Titest` in our logistic regression algorithm!"
   ]
  },
  {
   "cell_type": "markdown",
   "metadata": {},
   "source": [
    "## Logistic Regression Training\n",
    "Now its time to implement our logistic regression algorithm. \n",
    "\n",
    "<img src=\"http://webpages.uncc.edu/mlee173/teach/itcs4156/images/class/linearlogreg.png\" width=450 />\n",
    "\n",
    "Remember, the logistic regression gradient update is as follows.\n",
    "$$\n",
    "\\wv \\leftarrow \\wv + \\alpha \\Xm^\\top \\Big(  \\Tm - g(\\Xm)\\Big).\n",
    "$$\n",
    "\n",
    "Where $w$ represents our weights, $X^T$ represents our data transformed, $T$ represents our targets, $g(X)$ represents our predictions, i.e. $X \\cdot w$, and $\\alpha$ represents our learning rate. \n"
   ]
  },
  {
   "cell_type": "markdown",
   "metadata": {},
   "source": [
    "Recall that in order to establish the probability of a given data sample belonging to one of our three flower classes, i.e. ${P(T = k | x)}$, we need to compute the softmax. Let's implement the softmax function before getting started.\n",
    "\n",
    "### TODO\n",
    "\n",
    "Implement the `softmax()` function and its wrapper function `g()`. Recall that the softmax is equal to the following formula.\n",
    "\n",
    "$$\n",
    " softmax = {P(T = k | x)} = \\frac{e^{z_k}}{\\sum_{i=1}^K e^{z_i}}\n",
    "$$\n",
    "\n",
    "Here $z$ represents our predictions made by computing $X \\cdot w$ which is calculated by the function `g()`.\n",
    "\n",
    "1. Using Numpy's `np.exp()` function compute the numerator of the softmax function, i.e. apply the exponential function to all our predictions `z`.\n",
    "2. Compute the denominator of the softmax function, i.e. apply the exponential function to all our predictions `z` and sum them.\n",
    "    1. Hint: Try using Numpy's `np.sum()`\n",
    "    2. Hint: If you're getting broadcasting errors make sure the numerator and denominator have the same shapes!\n",
    "3. Return the softmax output calced inside `softmax()` function.\n",
    "    1. Hint: Simply divide the numerator by the denominator\n",
    "4. Call the `softmax()` function and pass as its parameter the predictions calculated from dotting `X` and `w`. In addition, return the output of the `softmax()` function."
   ]
  },
  {
   "cell_type": "code",
   "execution_count": 14,
   "metadata": {},
   "outputs": [],
   "source": [
    "def softmax(z):\n",
    "    if not isinstance(z, np.ndarray):\n",
    "        z = np.asarray(z)\n",
    "    # TODO (1)\n",
    "    numerator = np.exp(z)\n",
    "    # TODO (2)\n",
    "    denominator = (np.sum(np.exp(z), axis=1, keepdims=True) if len(z.shape) == 2 else np.sum(np.exp(z)))\n",
    "    # TODO (3)\n",
    "    return numerator / denominator\n",
    "\n",
    "# Wrapper for softmax\n",
    "def g(X, w):\n",
    "    # TODO (4)\n",
    "    return softmax(X @ w)"
   ]
  },
  {
   "cell_type": "markdown",
   "metadata": {},
   "source": [
    "Let's implement the logistic regression algorithm below. We have already created a new variable with the bias already added called `X1train`. Be sure to use `X1train` when computing the predictions and weight updates!\n",
    "\n",
    "### TODO\n",
    "\n",
    "1. Compute the class probabilities by calling the `g()` function which takes in the current weights `w` and all our training data with bias added `X1train`. Store the predicted class probabilities in `ys`.\n",
    "2. Compute the logistic regression weight update using the predicted class probabilities `ys`, the train data with bias `X1train`, and the training indicator varaibles `Titrain`.\n",
    "    1. Hint: If you are getting an error \"overflow encountered in exp\" simply try rerunning the cell."
   ]
  },
  {
   "cell_type": "code",
   "execution_count": 15,
   "metadata": {},
   "outputs": [
    {
     "name": "stdout",
     "output_type": "stream",
     "text": [
      "[[1.00000000e+000 2.37012902e-058 0.00000000e+000]\n",
      " [7.87522248e-135 1.16623527e-055 1.00000000e+000]\n",
      " [1.00000000e+000 3.70919738e-046 5.70877552e-301]\n",
      " [5.02864098e-065 1.00000000e+000 2.36222175e-010]\n",
      " [1.10158675e-049 1.00000000e+000 3.06841134e-036]\n",
      " [1.00000000e+000 6.10332615e-037 3.32306132e-270]\n",
      " [7.57104778e-114 2.11698640e-045 1.00000000e+000]\n",
      " [1.00000000e+000 6.70424378e-082 0.00000000e+000]\n",
      " [8.02770672e-068 6.80296462e-022 1.00000000e+000]\n",
      " [3.53392120e-150 2.88617203e-059 1.00000000e+000]\n",
      " [2.08680757e-043 1.00000000e+000 2.28411148e-022]\n",
      " [1.00000000e+000 3.88636474e-055 0.00000000e+000]\n",
      " [1.02995279e-137 1.47015439e-073 1.00000000e+000]\n",
      " [3.99973835e-143 3.00373576e-049 1.00000000e+000]\n",
      " [1.00000000e+000 5.08095464e-049 1.14623230e-321]\n",
      " [6.83911462e-035 1.00000000e+000 4.25937133e-066]\n",
      " [3.61407497e-123 5.72152008e-061 1.00000000e+000]\n",
      " [1.00000000e+000 7.93771940e-040 7.19017292e-299]\n",
      " [4.94277510e-028 1.00000000e+000 4.57454441e-067]\n",
      " [1.24809167e-155 8.59101753e-085 1.00000000e+000]\n",
      " [6.75074749e-053 1.00000000e+000 4.66271350e-020]\n",
      " [1.00000000e+000 1.30461041e-060 0.00000000e+000]\n",
      " [6.08958800e-049 1.00000000e+000 1.27172348e-026]\n",
      " [2.91999617e-230 1.03370819e-114 1.00000000e+000]\n",
      " [1.24443094e-049 1.00000000e+000 7.00372833e-046]\n",
      " [1.03784089e-102 3.94010444e-027 1.00000000e+000]\n",
      " [1.00000000e+000 1.93271682e-070 0.00000000e+000]\n",
      " [2.34552284e-032 1.00000000e+000 4.97723828e-023]\n",
      " [4.29393124e-126 1.16163343e-053 1.00000000e+000]\n",
      " [1.00000000e+000 4.32988471e-052 0.00000000e+000]\n",
      " [1.21927842e-036 1.00000000e+000 6.12931222e-045]\n",
      " [1.00000000e+000 3.05456756e-051 1.97626258e-323]\n",
      " [1.00000000e+000 6.77616994e-040 4.40555338e-296]\n",
      " [1.19580189e-065 3.01876057e-014 1.00000000e+000]\n",
      " [1.00000000e+000 4.56846261e-049 6.52289253e-311]\n",
      " [1.03092342e-112 6.91298561e-053 1.00000000e+000]\n",
      " [1.00000000e+000 2.18980117e-048 1.50074375e-296]\n",
      " [2.46060811e-053 1.00000000e+000 3.92232897e-012]\n",
      " [9.32667146e-043 2.20354650e-003 9.97796454e-001]\n",
      " [1.64965845e-100 3.34633242e-037 1.00000000e+000]\n",
      " [9.00947122e-040 1.00000000e+000 5.68237625e-059]\n",
      " [1.15349253e-035 1.00000000e+000 5.10821677e-074]\n",
      " [4.90238238e-100 2.51327480e-048 1.00000000e+000]\n",
      " [5.61066074e-041 1.00000000e+000 3.30688692e-057]\n",
      " [1.00000000e+000 5.00703590e-043 3.51138656e-285]\n",
      " [1.00000000e+000 2.11406117e-069 0.00000000e+000]\n",
      " [1.00000000e+000 1.33839319e-022 2.60708664e-240]\n",
      " [3.25281280e-043 1.00000000e+000 4.18795561e-070]\n",
      " [1.00000000e+000 2.45401710e-059 0.00000000e+000]\n",
      " [2.60662415e-184 3.19384803e-120 1.00000000e+000]\n",
      " [1.00000000e+000 4.26689268e-046 1.62248463e-297]\n",
      " [3.88496323e-180 2.65846183e-073 1.00000000e+000]\n",
      " [7.22701435e-027 1.00000000e+000 1.41305508e-029]\n",
      " [3.61407497e-123 5.72152008e-061 1.00000000e+000]\n",
      " [4.95024608e-076 2.48350387e-030 1.00000000e+000]\n",
      " [1.00000000e+000 1.37409592e-060 0.00000000e+000]\n",
      " [9.96701527e-042 1.00000000e+000 4.49947452e-073]\n",
      " [1.64946939e-126 2.60582904e-040 1.00000000e+000]\n",
      " [4.46117374e-036 1.00000000e+000 1.80355591e-028]\n",
      " [1.00000000e+000 3.31187984e-058 0.00000000e+000]\n",
      " [7.42535887e-067 1.22611498e-018 1.00000000e+000]\n",
      " [1.60887010e-083 2.08428625e-016 1.00000000e+000]\n",
      " [1.00000000e+000 4.33744384e-049 7.02625577e-319]\n",
      " [1.00000000e+000 2.10223468e-053 5.56344432e-303]\n",
      " [1.00000000e+000 5.83471383e-052 0.00000000e+000]\n",
      " [2.89093458e-031 1.00000000e+000 1.88352999e-038]\n",
      " [3.54824153e-040 9.99999644e-001 3.55769374e-007]\n",
      " [1.00000000e+000 9.06963121e-054 3.38712107e-289]\n",
      " [2.56584860e-068 3.53654194e-001 6.46345806e-001]\n",
      " [1.00000000e+000 3.61718013e-058 0.00000000e+000]\n",
      " [1.07792309e-150 2.46086281e-097 1.00000000e+000]\n",
      " [1.57458132e-044 1.00000000e+000 6.10406909e-032]\n",
      " [1.00000000e+000 2.73407460e-056 0.00000000e+000]\n",
      " [1.12604059e-048 1.00000000e+000 1.90328838e-021]\n",
      " [1.29175224e-050 1.00000000e+000 4.73907171e-023]\n",
      " [1.00000000e+000 6.26244486e-048 3.73487445e-305]\n",
      " [8.69531336e-043 1.00000000e+000 1.17568624e-032]\n",
      " [1.00000000e+000 5.07209974e-052 0.00000000e+000]\n",
      " [1.20068700e-034 1.00000000e+000 5.61873789e-053]\n",
      " [3.42139365e-136 1.11815709e-076 1.00000000e+000]\n",
      " [1.00000000e+000 1.58959019e-076 0.00000000e+000]\n",
      " [1.00000000e+000 4.84932962e-040 2.88019235e-284]\n",
      " [1.00000000e+000 1.03307862e-038 4.43463160e-301]\n",
      " [4.33585442e-102 1.14787333e-035 1.00000000e+000]\n",
      " [1.00000000e+000 3.93723716e-037 2.52071785e-274]\n",
      " [1.05429389e-038 1.00000000e+000 1.89537635e-066]\n",
      " [2.78186068e-134 4.50632508e-076 1.00000000e+000]\n",
      " [1.00000000e+000 9.63202243e-039 8.31837958e-303]\n",
      " [1.00000000e+000 9.02122944e-034 1.27638072e-285]\n",
      " [1.00000000e+000 3.87558225e-057 0.00000000e+000]\n",
      " [7.59714715e-148 9.33918968e-076 1.00000000e+000]\n",
      " [2.50233893e-034 1.00000000e+000 1.25332404e-049]\n",
      " [1.00000000e+000 2.05093986e-043 2.30275665e-279]\n",
      " [5.72851761e-094 3.10704283e-028 1.00000000e+000]\n",
      " [4.60888284e-115 3.46068864e-063 1.00000000e+000]\n",
      " [2.68935799e-040 1.00000000e+000 6.88949886e-071]\n",
      " [1.01725381e-108 1.22161880e-045 1.00000000e+000]\n",
      " [1.54467228e-043 1.00000000e+000 1.59968285e-048]\n",
      " [1.05445359e-130 1.78636167e-055 1.00000000e+000]\n",
      " [2.77763098e-061 1.00000000e+000 1.50480925e-039]\n",
      " [1.73100342e-062 2.56554065e-017 1.00000000e+000]\n",
      " [5.35012794e-056 1.00000000e+000 8.69669116e-036]\n",
      " [7.79234115e-109 1.43486898e-029 1.00000000e+000]\n",
      " [1.43446119e-154 1.24054998e-083 1.00000000e+000]\n",
      " [3.34987987e-028 1.00000000e+000 8.98026038e-098]\n",
      " [1.75765311e-018 1.00000000e+000 9.07027726e-073]\n",
      " [1.00000000e+000 2.97782607e-058 0.00000000e+000]\n",
      " [1.66595300e-145 7.50851842e-079 1.00000000e+000]\n",
      " [1.31032633e-139 2.15221638e-084 1.00000000e+000]\n",
      " [3.15546624e-123 1.49271256e-062 1.00000000e+000]\n",
      " [3.74752555e-042 1.00000000e+000 3.87173635e-057]\n",
      " [1.14172585e-055 1.00000000e+000 5.36390366e-070]\n",
      " [2.13307542e-046 1.00000000e+000 8.36028864e-048]\n",
      " [7.55280325e-040 1.00000000e+000 4.46456308e-068]\n",
      " [1.90149759e-030 1.00000000e+000 2.02155705e-046]\n",
      " [5.96493080e-049 1.00000000e+000 1.45914207e-059]\n",
      " [1.00000000e+000 3.50657699e-049 2.27342201e-297]\n",
      " [1.31269443e-067 1.10341748e-003 9.98896583e-001]\n",
      " [3.78727309e-031 1.00000000e+000 1.33359195e-068]\n",
      " [2.85302451e-110 8.02031608e-062 1.00000000e+000]]\n",
      "[[1.00000000e+000 1.20484727e-072 0.00000000e+000]\n",
      " [1.00000000e+000 6.42229939e-043 3.57866569e-319]\n",
      " [6.82546892e-089 8.42507440e-034 1.00000000e+000]\n",
      " [4.12742765e-076 1.38717208e-018 1.00000000e+000]\n",
      " [8.74093388e-034 1.00000000e+000 5.06858210e-069]\n",
      " [5.76874222e-136 7.76520020e-086 1.00000000e+000]\n",
      " [1.00000000e+000 5.42111485e-058 0.00000000e+000]\n",
      " [1.20015326e-093 1.72875620e-039 1.00000000e+000]\n",
      " [1.09247769e-042 1.00000000e+000 1.69770058e-031]\n",
      " [3.02249138e-109 5.54063714e-057 1.00000000e+000]\n",
      " [6.62611135e-104 2.28197532e-038 1.00000000e+000]\n",
      " [8.18495999e-055 7.77865740e-016 1.00000000e+000]\n",
      " [1.00000000e+000 1.63456269e-062 0.00000000e+000]\n",
      " [1.15098947e-133 7.62672531e-044 1.00000000e+000]\n",
      " [1.00000000e+000 4.73728410e-049 1.97626258e-323]\n",
      " [1.00000000e+000 2.88701735e-056 0.00000000e+000]\n",
      " [1.00000000e+000 1.24513725e-051 8.50375433e-299]\n",
      " [1.09287758e-083 1.15037059e-005 9.99988496e-001]\n",
      " [1.00000000e+000 5.20112861e-040 1.53546636e-282]\n",
      " [5.71642344e-057 1.00000000e+000 5.00194073e-046]\n",
      " [1.00000000e+000 2.84180830e-076 0.00000000e+000]\n",
      " [5.42355149e-116 9.13100335e-071 1.00000000e+000]\n",
      " [2.64121793e-170 7.99253332e-074 1.00000000e+000]\n",
      " [1.00000000e+000 5.11289626e-041 1.24388725e-287]\n",
      " [1.21746462e-132 6.94619292e-059 1.00000000e+000]\n",
      " [1.00000000e+000 6.32886649e-037 1.09582408e-282]\n",
      " [7.47090493e-015 1.00000000e+000 6.25419602e-089]\n",
      " [1.42828324e-036 1.00000000e+000 4.39930761e-042]\n",
      " [4.01939317e-042 1.00000000e+000 7.78937927e-059]\n",
      " [3.14462590e-089 3.38364710e-032 1.00000000e+000]]\n"
     ]
    }
   ],
   "source": [
    "# Convert to indicators\n",
    "convert_to_indicators()\n",
    "\n",
    "# Set shape parameters\n",
    "Ntrain, D = Xtrain.shape\n",
    "Ntest = Xtest.shape[0]\n",
    "K = Titrain.shape[1]\n",
    "\n",
    "# initialize the weight matrix\n",
    "w = np.random.rand(D+1, K)\n",
    "\n",
    "# iterate to update weights\n",
    "niter = 1000\n",
    "alpha = 0.1\n",
    "\n",
    "# Add bias to data\n",
    "X1train = np.hstack((np.ones((Ntrain, 1)), Xtrain))\n",
    "\n",
    "likeli = []\n",
    "for step in range(niter):\n",
    "    # TODO (1)\n",
    "    ys = g(X1train, w)\n",
    "    # TODO (2)\n",
    "    w = w + alpha * X1train.T @ (Titrain - ys)\n",
    "    \n",
    "# Get class probabilities for each sample in X1train\n",
    "Ytrain = g(X1train, w)\n",
    "\n",
    "# Add bias to test data\n",
    "X1test = np.hstack((np.ones((Ntest,1)), Xtest))\n",
    "# Get class probabilities for each sample in X1test\n",
    "Ytest = g(X1test, w)\n",
    "\n",
    "print(Ytrain)\n",
    "print(Ytest)"
   ]
  },
  {
   "cell_type": "markdown",
   "metadata": {},
   "source": [
    "After running the logistic regression algorithm we should now have the predicted class probabilities for the training data `Ytrain`, and testing data `Ytest`. The question now is how do we get our predicted labels?\n",
    "\n",
    "The answer is quite simple! Recall, that there are three probabilities for each data sample (as seen in the above output). Logically, we want to label each data sample based on the class with the highest probability. We can do so by taking the argmax for each row in our data. The idea behind argmax is to return the column index that contains the highest probability.  Argmax works great here because our column indices are synonymous with our class targets because our targets are formatted as indicator variables!\n",
    "\n",
    "### TODO:\n",
    "Compute the argmax over our class probabilities for `Ytrain` and `Ytest`.\n",
    "\n",
    "1. Take the argmax of the training class probabilities `Ytrian` using Numpy's `argmax()` function. Store the predicted labels in `Ltrain`.\n",
    "    1. Hint: Remember to take the `argmax()` over the rows!\n",
    "2. Take the argmax of the testing class probabilities `Ytest` using Numpy's `argmax()` function. Store the predicted labels in `Ltest`.\n",
    "    1. Hint: Remember to take the `argmax()` over the rows!"
   ]
  },
  {
   "cell_type": "code",
   "execution_count": 16,
   "metadata": {},
   "outputs": [
    {
     "data": {
      "text/plain": [
       "array([0, 2, 0, 1, 1, 0, 2, 0, 2, 2, 1, 0, 2, 2, 0, 1, 2, 0, 1, 2, 1, 0,\n",
       "       1, 2, 1, 2, 0, 1, 2, 0, 1, 0, 0, 2, 0, 2, 0, 1, 2, 2, 1, 1, 2, 1,\n",
       "       0, 0, 0, 1, 0, 2, 0, 2, 1, 2, 2, 0, 1, 2, 1, 0, 2, 2, 0, 0, 0, 1,\n",
       "       1, 0, 2, 0, 2, 1, 0, 1, 1, 0, 1, 0, 1, 2, 0, 0, 0, 2, 0, 1, 2, 0,\n",
       "       0, 0, 2, 1, 0, 2, 2, 1, 2, 1, 2, 1, 2, 1, 2, 2, 1, 1, 0, 2, 2, 2,\n",
       "       1, 1, 1, 1, 1, 1, 0, 2, 1, 2])"
      ]
     },
     "execution_count": 16,
     "metadata": {},
     "output_type": "execute_result"
    }
   ],
   "source": [
    "# TODO (1)\n",
    "Ltrain = np.argmax(Ytrain, axis=1)\n",
    "Ltrain "
   ]
  },
  {
   "cell_type": "code",
   "execution_count": 17,
   "metadata": {},
   "outputs": [
    {
     "data": {
      "text/plain": [
       "array([0, 0, 2, 2, 1, 2, 0, 2, 1, 2, 2, 2, 0, 2, 0, 0, 0, 2, 0, 1, 0, 2,\n",
       "       2, 0, 2, 0, 1, 1, 1, 2])"
      ]
     },
     "execution_count": 17,
     "metadata": {},
     "output_type": "execute_result"
    }
   ],
   "source": [
    "# TODO (2)\n",
    "Ltest = np.argmax(Ytest, axis=1)\n",
    "Ltest "
   ]
  },
  {
   "cell_type": "markdown",
   "metadata": {},
   "source": [
    "Awesome, now we have our predicted labels which corresponds to the classes that our logistic algorithm thought were the most likely correct for all the training and testing data samples. Let's visualize these predictions and see how they did."
   ]
  },
  {
   "cell_type": "code",
   "execution_count": 18,
   "metadata": {},
   "outputs": [
    {
     "data": {
      "text/plain": [
       "Text(0.5, 1.0, 'Training results')"
      ]
     },
     "execution_count": 18,
     "metadata": {},
     "output_type": "execute_result"
    },
    {
     "data": {
      "image/png": "[encoded data removed]",
      "text/plain": [
       "<Figure size 432x288 with 1 Axes>"
      ]
     },
     "metadata": {
      "needs_background": "light"
     },
     "output_type": "display_data"
    }
   ],
   "source": [
    "plt.plot(Ttrain, 'ro')\n",
    "plt.plot(Ltrain, 'bx')\n",
    "plt.title(\"Training results\")"
   ]
  },
  {
   "cell_type": "code",
   "execution_count": 19,
   "metadata": {},
   "outputs": [
    {
     "data": {
      "text/plain": [
       "Text(0.5, 1.0, 'Test results')"
      ]
     },
     "execution_count": 19,
     "metadata": {},
     "output_type": "execute_result"
    },
    {
     "data": {
      "image/png": "[encoded data removed]",
      "text/plain": [
       "<Figure size 432x288 with 1 Axes>"
      ]
     },
     "metadata": {
      "needs_background": "light"
     },
     "output_type": "display_data"
    }
   ],
   "source": [
    "plt.plot(Ttest, 'ro')\n",
    "plt.plot(Ltest, 'bx')\n",
    "plt.title(\"Test results\")"
   ]
  },
  {
   "cell_type": "markdown",
   "metadata": {},
   "source": [
    "The below code is another way to visualize which of our `Ttest` samples we got right (True) or wrong (False). Here we are simply comparing our predicted labels `Ltest` and our target labels `Ttest`. "
   ]
  },
  {
   "cell_type": "code",
   "execution_count": 20,
   "metadata": {},
   "outputs": [
    {
     "data": {
      "text/plain": [
       "array([ True,  True,  True,  True,  True,  True,  True,  True,  True,\n",
       "        True,  True, False,  True,  True,  True,  True,  True,  True,\n",
       "        True,  True,  True,  True,  True,  True,  True,  True,  True,\n",
       "        True,  True,  True])"
      ]
     },
     "execution_count": 20,
     "metadata": {},
     "output_type": "execute_result"
    }
   ],
   "source": [
    "Ltest==Ttest.flatten()"
   ]
  },
  {
   "cell_type": "markdown",
   "metadata": {},
   "source": [
    "Finally, let's quantify our algorithms preformance by computing the accuracy."
   ]
  },
  {
   "cell_type": "code",
   "execution_count": 21,
   "metadata": {},
   "outputs": [],
   "source": [
    "def print_accuracy(y, t, name):\n",
    "    N = y.shape[0]\n",
    "    n_correct = np.sum(y.flat == t.flat)\n",
    "    n_correct_percent =  (n_correct / N) * 100\n",
    "    print(\"{} accyracy:\\t{}/{}\\t{} %\".format(name, n_correct, N, n_correct_percent))"
   ]
  },
  {
   "cell_type": "code",
   "execution_count": 22,
   "metadata": {},
   "outputs": [
    {
     "name": "stdout",
     "output_type": "stream",
     "text": [
      "Train accyracy:\t117/120\t97.5 %\n",
      "Test accyracy:\t29/30\t96.66666666666667 %\n"
     ]
    }
   ],
   "source": [
    "print_accuracy(Ltrain, Ttrain, \"Train\")\n",
    "print_accuracy(Ltest, Ttest, \"Test\")"
   ]
  },
  {
   "cell_type": "markdown",
   "metadata": {},
   "source": [
    "As you can see our logistic regression algorithm does pretty well!"
   ]
  },
  {
   "cell_type": "markdown",
   "metadata": {},
   "source": [
    "array([0, 0, 1, 1, 2, 2, 2, 2, 0, 1, 1, 2, 2, 2, 1, 1, 0, 0, 0, 0, 0, 1,\n",
    "       0, 1, 0, 1, 0, 1, 2, 1, 1, 1, 0, 2, 1, 1, 1, 2, 1, 1, 1, 1, 2, 2,\n",
    "       0, 0, 1, 2, 0, 1, 1, 1, 1, 2, 0, 1, 2, 1, 0, 0, 0, 2, 1, 2, 1, 2,\n",
    "       0, 0, 0, 1, 0, 2, 0, 0, 1, 0, 2, 1, 2, 0, 1, 2, 2, 1, 2, 0, 1, 2,\n",
    "       0, 1, 2, 0, 0, 1, 2, 1, 0, 0, 1, 0, 2, 1, 1, 0, 0, 2, 2, 2, 0, 0,\n",
    "       0, 2, 2, 1, 2, 1, 1, 0, 1, 1])\n",
    "# Applying New Metrics\n",
    "\n",
    "## Confusion Matrix \n",
    "Now it's time to visualize our results in a slightly different yet very meaningful way using a confusion matrix! A confusion matrix allows us to see the number of samples we mislabeled and which classes the samples were mislabeled as. While this may sound simplistic it is actually very powerful!\n",
    "\n",
    "Although our confusion matrix will have a shape of (3, 3), since we have three classes, the ideas of a binary confusion matrix still apply, however things are slightly more muddled. It's important to remember that a confusion matrix comes down to a matter of perspective! Let's see what this means by looking at the rows and columns of a confusion matrix of arbitrary size. \n",
    "\n",
    "### Reading a NxN Confusion Matrix\n",
    "\n",
    "Recall from the lecture notes that for a confusion matrix each row represents the predicted labels made by the model and each column represents the actual targets. This means that the main diagonal contains the number of samples we predicted correctly, i.e. our **true positives** and **true negatives**. Meanwhile, any values off the main diagonal corresponds to misclassified data samples. \n",
    "\n",
    "Looking row wise we can observe the **true positives** and **false positives**. Like the binary case **true positives** lie on the main diagonal. However, the rest of the row wise elements correspond to **false positives**. These being values that were predicted to be the class corresponding to the given row, but actually belong to the class corresponding to the given column. \n",
    "\n",
    "Likewise, looking column wise we can observe the **true negatives** and **false negatives**. Like the binary case **true negatives** lie on the main diagonal. However, the rest of the column wise elements correspond to **false negatives**. These being values that belong to the class corresponding to the given column, but were predicted to be the class corresponding to the given row. As we can see this is the reverse of the row perspective! \n",
    "\n",
    "### References:\n",
    "- [What is true positive and true negative – confusion matrix](https://moredvikas.wordpress.com/2017/09/12/what-is-true-positive-and-true-negative-confusion-matrix/)\n",
    "- [Simple guide to confusion matrix terminology](https://www.dataschool.io/simple-guide-to-confusion-matrix-terminology/)\n",
    "\n",
    "### TODO:\n",
    "1. Create a 3x3 confusion matrix for your test results by filling in the `confusion_matrix()` function. You can write your own or use the `confusion_matrix()` function from the [class notes](https://nbviewer.jupyter.org/url/webpages.uncc.edu/mlee173/teach/itcs4156/notebooks/notes/Note-Linear%20Classification.ipynb)."
   ]
  },
  {
   "cell_type": "code",
   "execution_count": 46,
   "metadata": {},
   "outputs": [],
   "source": [
    "def confusion_matrix(Y, T):\n",
    "    \"\"\"\n",
    "        Y    ndarray\n",
    "             predicted labels\n",
    "        T    ndarray\n",
    "             target labels\n",
    "             \n",
    "        @cfm DataFrame\n",
    "             confusion matrix\n",
    "    \"\"\"\n",
    "    # TODO (1): Add code here\n",
    "    categories = np.unique(T)\n",
    "    \n",
    "    cfm = pd.DataFrame(np.zeros((len(categories), len(categories))), index=categories, columns=categories, dtype=int)\n",
    "    \n",
    "    Tidx = [T == cat for cat in categories]\n",
    "    for cat in categories:\n",
    "        pred_idx = Y == cat\n",
    "        cfm.loc[cat, :] = [np.sum(np.logical_and(pred_idx, tidx)) for tidx in Tidx]\n",
    "     \n",
    "    return cfm"
   ]
  },
  {
   "cell_type": "code",
   "execution_count": 47,
   "metadata": {},
   "outputs": [
    {
     "data": {
      "text/html": [
       "<div>\n",
       "<style scoped>\n",
       "    .dataframe tbody tr th:only-of-type {\n",
       "        vertical-align: middle;\n",
       "    }\n",
       "\n",
       "    .dataframe tbody tr th {\n",
       "        vertical-align: top;\n",
       "    }\n",
       "\n",
       "    .dataframe thead th {\n",
       "        text-align: right;\n",
       "    }\n",
       "</style>\n",
       "<table border=\"1\" class=\"dataframe\">\n",
       "  <thead>\n",
       "    <tr style=\"text-align: right;\">\n",
       "      <th></th>\n",
       "      <th>0</th>\n",
       "      <th>1</th>\n",
       "      <th>2</th>\n",
       "    </tr>\n",
       "  </thead>\n",
       "  <tbody>\n",
       "    <tr>\n",
       "      <th>0</th>\n",
       "      <td>11</td>\n",
       "      <td>0</td>\n",
       "      <td>0</td>\n",
       "    </tr>\n",
       "    <tr>\n",
       "      <th>1</th>\n",
       "      <td>0</td>\n",
       "      <td>6</td>\n",
       "      <td>0</td>\n",
       "    </tr>\n",
       "    <tr>\n",
       "      <th>2</th>\n",
       "      <td>0</td>\n",
       "      <td>1</td>\n",
       "      <td>12</td>\n",
       "    </tr>\n",
       "  </tbody>\n",
       "</table>\n",
       "</div>"
      ],
      "text/plain": [
       "    0  1   2\n",
       "0  11  0   0\n",
       "1   0  6   0\n",
       "2   0  1  12"
      ]
     },
     "execution_count": 47,
     "metadata": {},
     "output_type": "execute_result"
    }
   ],
   "source": [
    "cfm = confusion_matrix(Ltest.flat, Ttest.flat)\n",
    "cfm"
   ]
  },
  {
   "cell_type": "markdown",
   "metadata": {},
   "source": [
    "**Notice that `cfm` is a Pandas DataFrmae not a Nump array!**"
   ]
  },
  {
   "cell_type": "code",
   "execution_count": 48,
   "metadata": {},
   "outputs": [
    {
     "data": {
      "text/plain": [
       "pandas.core.frame.DataFrame"
      ]
     },
     "execution_count": 48,
     "metadata": {},
     "output_type": "execute_result"
    }
   ],
   "source": [
    "type(cfm)"
   ]
  },
  {
   "cell_type": "markdown",
   "metadata": {},
   "source": [
    "## Precision, Recall, and F1-score \n",
    "Now that we have our confusion matrix we can use it to compute new metrics that inform us about different aspects of our models performance. Recall that we discussed precision, recall, and the F1-score in the class notes. Let's do a quick review of what these scores mean and how to compute them.\n",
    "\n",
    "### Precision\n",
    "Precision represents the accuracy when only looking at our **positive predictions**. Meaning, we want to know how many of our positive predictions were correct out of all the positive predictions made. Hence, we divide by the sum of the true positives $\\mathrm{TP}$ and false positives $\\mathrm{FP}$. Notice, the sum these two variables is equal the total number of positive predictions made for a given class.\n",
    "$$\n",
    "Precision = \\mathrm{\\frac{TP}{TP + FP}}\n",
    "$$\n",
    "\n",
    "### Recall\n",
    "Recall represents the accuracy when only looking at the **positive targets**. This means we want to know how many positive predictions we got correct out of the actual positive targets. Hence, we divide by the sum of true positives $\\mathrm{TP}$ and false negatives $\\mathrm{FN}$. Notice the sum these two variables is equal the total number of targets for a given class.\n",
    "$$\n",
    "Recall = \\mathrm{\\frac{TP}{TP + FN}}\n",
    "$$\n",
    "\n",
    "### F1-score\n",
    "The F1-score is used to gain a combined measure of both precision and recall. To do so we calculate the harmonic mean (the reciprocal of the arithmetic mean) of the precision and recall scores. F1-score is a good alternative to accuracy if the number false negatives and false positives are important to your problem. \n",
    "$$\n",
    "F_1 = 2 \\times \\frac{Precision \\times Recall}{Precision+Recall} = \\frac{2 \\times tp}{2 \\times tp + fp + fn}\n",
    "$$"
   ]
  },
  {
   "cell_type": "markdown",
   "metadata": {},
   "source": [
    "### TODO:\n",
    "Compute precision, recall, and F1-score using the elements confusion matrix `cfm`. Recall that the **rows** of the confusion matrix correspond to the *true positives* and *false positives*. Likewise, the **columns** correspond to *true negatives* and *false negatives*.\n",
    "\n",
    "**Remember that `cfm` is a Pandas DataFrmae not a Nump array! You must index `cfm` using `cfm.iloc()`!**\n",
    "\n",
    "1. Compute the percision score using our confusion matrix `cfm`\n",
    "2. Compute the recall score using our confusion matrix `cfm`\n",
    "3. Compute the F1-score score using the percision and recall"
   ]
  },
  {
   "cell_type": "code",
   "execution_count": 71,
   "metadata": {},
   "outputs": [
    {
     "name": "stdout",
     "output_type": "stream",
     "text": [
      "setosa:\n",
      "\tPrecision (setosa): 1.00000\n",
      "\tRecall (setosa): 1.00000\n",
      "\tF1 Score (setosa): 1.00000\n",
      "versicolor:\n",
      "\tPrecision (versicolor): 0.85714\n",
      "\tRecall (versicolor): 1.00000\n",
      "\tF1 Score (versicolor): 0.92308\n",
      "virginica:\n",
      "\tPrecision (virginica): 1.00000\n",
      "\tRecall (virginica): 0.92308\n",
      "\tF1 Score (virginica): 0.96000\n"
     ]
    }
   ],
   "source": [
    "for i in range(3):\n",
    "    t_name = iris.target_names[i]\n",
    "    print(\"{}:\".format(t_name))\n",
    "    # TODO (1)\n",
    "    precision = cfm.iloc[i][i] / np.sum(cfm.iloc[:][i])\n",
    "    # TODO (2)\n",
    "    recall = cfm.iloc[i][i] / np.sum(cfm.iloc[i][:])\n",
    "    # TODO (3)\n",
    "    f1 = 2 * ((precision * recall) / (precision + recall))\n",
    "    # Print scores for each class\n",
    "    print(\"\\tPrecision ({}): {:.5f}\".format(t_name, precision))\n",
    "    print(\"\\tRecall ({}): {:.5f}\".format(t_name, recall))\n",
    "    print(\"\\tF1 Score ({}): {:.5f}\".format(t_name, f1))\n"
   ]
  }
 ],
 "metadata": {
  "kernelspec": {
   "display_name": "Python 3",
   "language": "python",
   "name": "python3"
  },
  "language_info": {
   "codemirror_mode": {
    "name": "ipython",
    "version": 3
   },
   "file_extension": ".py",
   "mimetype": "text/x-python",
   "name": "python",
   "nbconvert_exporter": "python",
   "pygments_lexer": "ipython3",
   "version": "3.8.5"
  }
 },
 "nbformat": 4,
 "nbformat_minor": 4
}
