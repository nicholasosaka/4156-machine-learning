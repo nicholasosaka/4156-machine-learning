{
 "cells": [
  {
   "cell_type": "markdown",
   "metadata": {},
   "source": [
    "$\n",
    " \\newcommand{\\wv}{\\mathbf{w}}\n",
    " \\newcommand{\\Tm}{\\mathbf{T}}\n",
    " \\newcommand{\\Xm}{\\mathbf{X}}\n",
    "$\n",
    "\n",
    "# Logistic Regression (Workbook)\n",
    "\n",
    "### ITCS 4156\n",
    "### Minwoo \"Jake\" Lee"
   ]
  },
  {
   "cell_type": "markdown",
   "metadata": {},
   "source": [
    "# Goal\n",
    "\n",
    "The goal of this activity is to implement the logistic regression and apply it to [iris dataset](https://archive.ics.uci.edu/ml/datasets/iris) that we used last week. In addition we will look at how to analyze our predictions with a confusion matrix, a popular method for quantifying and visualizing classification predictions. Follow the TODO titles and comments to finish the activity!"
   ]
  },
  {
   "cell_type": "markdown",
   "metadata": {},
   "source": [
    "# Agenda\n",
    "\n",
    "* Iris Data: Loading and Partitioning\n",
    "    * Data Partitioning\n",
    "* Applying Logistic Regression\n",
    "    * Converting to Indicator Variables\n",
    "    * Logistic Regression Training\n",
    "* Applying New Metrics\n",
    "    * Confusion Matrix\n",
    "    * Precision, Recall, and F1-score"
   ]
  },
  {
   "cell_type": "code",
   "execution_count": 1,
   "metadata": {
    "slideshow": {
     "slide_type": "notes"
    }
   },
   "outputs": [],
   "source": [
    "from copy import deepcopy as copy\n",
    "from IPython.core.debugger import set_trace\n",
    "\n",
    "import numpy as np\n",
    "import pandas as pd\n",
    "import matplotlib.pyplot as plt \n",
    "from mpl_toolkits.mplot3d import Axes3D\n",
    "%matplotlib inline"
   ]
  },
  {
   "cell_type": "markdown",
   "metadata": {},
   "source": [
    "# Iris Data: Loading and Partitioning\n",
    "Just like last week we will load the iris data via Scikit-learn. However, this week we will skip the detailed break down of the data loading and visualization. If you want to review the iris data loading process or the iris visualizations see last weeks lab on linear classification."
   ]
  },
  {
   "cell_type": "markdown",
   "metadata": {},
   "source": [
    "As we did last week we import the iris data via sklearn.To do so we call the `load_iris()` function and store the `sklearn.utils.Bunch` output instance inside the varaible `iris`. We'll also go ahead and store the iris data into variables so we don't have to keep typing `iris.data` and `iris.target` every time we need to access the data."
   ]
  },
  {
   "cell_type": "code",
   "execution_count": 2,
   "metadata": {},
   "outputs": [],
   "source": [
    "from sklearn.datasets import load_iris\n",
    "iris = load_iris()\n",
    "X = iris.data\n",
    "T = iris.target"
   ]
  },
  {
   "cell_type": "markdown",
   "metadata": {},
   "source": [
    "## Data Partitioning\n",
    "\n",
    "The below code is the `partition()` function we used last week. Recall, that the `partition()` function takes as input the following Numpy arrays `X` and `T`. The output of  `partition()` is a list of data and targets where `Xs` holds our training and testing data partitions and `Ts` holds our training and testing target partitions."
   ]
  },
  {
   "cell_type": "code",
   "execution_count": 3,
   "metadata": {},
   "outputs": [],
   "source": [
    "# now partition the data \n",
    "\n",
    "\"\"\" partitioning data\n",
    "\n",
    "    parameters\n",
    "    -----------\n",
    "    X        numpy array\n",
    "             input data to partition\n",
    "    T        numpy array\n",
    "             target labels to partition\n",
    "    raito    list\n",
    "             list of ratios for partitions (should be summed to 1) \n",
    "             the number of return pairs are different\n",
    "    return\n",
    "    -------\n",
    "    \n",
    "    Xs       list of numpy arrays\n",
    "    \n",
    "    Ts       list of numpy arrays\n",
    "\"\"\"\n",
    "def partition(X, T, ratio=[0.8, 0.2]): \n",
    "    \n",
    "    # Checks to make sure ratio sums to 1\n",
    "    assert(np.sum(ratio) == 1)\n",
    "    \n",
    "    # Store the number of data samples \n",
    "    N = X.shape[0]\n",
    "\n",
    "    # change the 1d array to 2d if need\n",
    "    if len(T.shape) == 1:\n",
    "        T = T.reshape((N,1))\n",
    "    \n",
    "    # Shuffle the data indices \n",
    "    idxs = np.random.permutation(N)\n",
    "        \n",
    "    Xs = []\n",
    "    Ts = []\n",
    "    i = 0  # first index to zero\n",
    "    for k, r in enumerate(ratio):\n",
    "         # Number of rows that corresponds to kth element in ratios\n",
    "        nrows = int(round(N * r)) \n",
    "        \n",
    "        # print (i, nrows)\n",
    "        # If we are on the last ratio simply use the remaining data samples\n",
    "        if k == len(ratio)-1:\n",
    "            Xs.append(X[idxs[i:], :])\n",
    "            Ts.append(T[idxs[i:], :])\n",
    "        else:\n",
    "            Xs.append(X[idxs[i:i+nrows], :])\n",
    "            Ts.append(T[idxs[i:i+nrows], :])\n",
    "        \n",
    "        i += nrows\n",
    "    \n",
    "    return Xs, Ts"
   ]
  },
  {
   "cell_type": "code",
   "execution_count": 4,
   "metadata": {},
   "outputs": [],
   "source": [
    "def partition_data():\n",
    "    \"\"\"Partition data into train and test splits.\"\"\"\n",
    "    global Xtrain, Xtest, Ttrain, Ttest\n",
    "    data, targets = partition(copy(X), copy(T))\n",
    "    # TODO: Fill in the right had side of the assignments below\n",
    "    Xtrain, Xtest = \n",
    "    # TODO: Fill in the right had side of the assignments below\n",
    "    Ttrain, Ttest = "
   ]
  },
  {
   "cell_type": "code",
   "execution_count": 5,
   "metadata": {},
   "outputs": [
    {
     "name": "stdout",
     "output_type": "stream",
     "text": [
      "Train data shape: (120, 4)\n",
      "Train target shape: (120, 1)\n",
      "Test data shape: (30, 4)\n",
      "Test target shape: (30, 1)\n"
     ]
    }
   ],
   "source": [
    "partition_data()\n",
    "print(\"Train data shape: {}\".format(Xtrain.shape))\n",
    "print(\"Train target shape: {}\".format(Ttrain.shape))\n",
    "print(\"Test data shape: {}\".format(Xtest.shape))\n",
    "print(\"Test target shape: {}\".format(Ttest.shape))"
   ]
  },
  {
   "cell_type": "markdown",
   "metadata": {},
   "source": [
    "#  Applying Logistic Regression \n",
    "\n",
    "Here we are, already on logistic regression - I  think this is the quickest we have ever made it to our algorithm! For this section make sure to reference the readings and lecture notes if you are getting stuck."
   ]
  },
  {
   "cell_type": "markdown",
   "metadata": {},
   "source": [
    "## Converting to Indicator Variables\n",
    "Well, maybe we aren't there yet. Just like last week we need to do some preprocessing of targets so they are compatible with logistic regression. \n",
    "\n",
    "Remember how we adjusted our targets to `[-1, 1]` specifically for the perceptron algorithm last week? Well, we’ll be doing another adjustment of our targets, but this time we need to convert our targets to indicator variables, also called one-hot encodings. \n",
    "\n",
    "Recall from the lecture notes and our previous lab on linear models that converting to indicator variables means converting all our targets to a row vector of 1s and 0s. To frame this in more concrete terms we want to assign each unique target to have its own column. This means that if we have three targets (0, 1, and 2) then we have three columns, one for each target. For example, if a given data sample's indicator variable has a 1 in the first column then the rest of the columns must contain 0s. The 1 in the first column indicates to us that our target is 0!"
   ]
  },
  {
   "cell_type": "markdown",
   "metadata": {},
   "source": [
    "Okay, let's recall how many unique targets our iris data has by calling the Numpy `unique()` function."
   ]
  },
  {
   "cell_type": "code",
   "execution_count": 6,
   "metadata": {},
   "outputs": [
    {
     "data": {
      "text/plain": [
       "array([0, 1, 2])"
      ]
     },
     "execution_count": 6,
     "metadata": {},
     "output_type": "execute_result"
    }
   ],
   "source": [
    "np.unique(Ttrain)"
   ]
  },
  {
   "cell_type": "markdown",
   "metadata": {},
   "source": [
    "Cool, just like last week our number of targets is 3. Remember, target 0 corresponds to setosa, target 1 corresponds to versicolor, and target 2 corresponds virginica. Let's also just take a quick look at the actual `Ttrain` targets to confirm our unique classes are all there."
   ]
  },
  {
   "cell_type": "code",
   "execution_count": 7,
   "metadata": {},
   "outputs": [
    {
     "data": {
      "text/plain": [
       "array([[2],\n",
       "       [1],\n",
       "       [0],\n",
       "       [0],\n",
       "       [2],\n",
       "       [2],\n",
       "       [2],\n",
       "       [2],\n",
       "       [0],\n",
       "       [1],\n",
       "       [0],\n",
       "       [0],\n",
       "       [2],\n",
       "       [0],\n",
       "       [2],\n",
       "       [0],\n",
       "       [0],\n",
       "       [1],\n",
       "       [1],\n",
       "       [2],\n",
       "       [1],\n",
       "       [0],\n",
       "       [1],\n",
       "       [0],\n",
       "       [1],\n",
       "       [2],\n",
       "       [0],\n",
       "       [2],\n",
       "       [1],\n",
       "       [0],\n",
       "       [0],\n",
       "       [1],\n",
       "       [0],\n",
       "       [0],\n",
       "       [1],\n",
       "       [1],\n",
       "       [0],\n",
       "       [2],\n",
       "       [2],\n",
       "       [2],\n",
       "       [2],\n",
       "       [1],\n",
       "       [1],\n",
       "       [1],\n",
       "       [1],\n",
       "       [1],\n",
       "       [0],\n",
       "       [0],\n",
       "       [2],\n",
       "       [2],\n",
       "       [0],\n",
       "       [0],\n",
       "       [1],\n",
       "       [0],\n",
       "       [2],\n",
       "       [2],\n",
       "       [2],\n",
       "       [0],\n",
       "       [2],\n",
       "       [2],\n",
       "       [1],\n",
       "       [1],\n",
       "       [2],\n",
       "       [1],\n",
       "       [2],\n",
       "       [0],\n",
       "       [2],\n",
       "       [0],\n",
       "       [2],\n",
       "       [1],\n",
       "       [0],\n",
       "       [0],\n",
       "       [2],\n",
       "       [1],\n",
       "       [0],\n",
       "       [0],\n",
       "       [0],\n",
       "       [0],\n",
       "       [2],\n",
       "       [2],\n",
       "       [0],\n",
       "       [2],\n",
       "       [2],\n",
       "       [2],\n",
       "       [0],\n",
       "       [1],\n",
       "       [0],\n",
       "       [1],\n",
       "       [0],\n",
       "       [2],\n",
       "       [1],\n",
       "       [0],\n",
       "       [1],\n",
       "       [2],\n",
       "       [2],\n",
       "       [1],\n",
       "       [1],\n",
       "       [1],\n",
       "       [0],\n",
       "       [0],\n",
       "       [0],\n",
       "       [2],\n",
       "       [0],\n",
       "       [1],\n",
       "       [1],\n",
       "       [2],\n",
       "       [1],\n",
       "       [1],\n",
       "       [1],\n",
       "       [2],\n",
       "       [0],\n",
       "       [1],\n",
       "       [2],\n",
       "       [1],\n",
       "       [2],\n",
       "       [2],\n",
       "       [1],\n",
       "       [0],\n",
       "       [0],\n",
       "       [0]])"
      ]
     },
     "execution_count": 7,
     "metadata": {},
     "output_type": "execute_result"
    }
   ],
   "source": [
    "Ttrain"
   ]
  },
  {
   "cell_type": "markdown",
   "metadata": {},
   "source": [
    "### Indicator Variables, Numpy, and Broadcasting \n",
    "Here comes the magical part of the lab. How do we  convert our target array `Ttrain` into indicator variables? This will require a new Numpy concept called broadcasting. Broadcasting is typically an implicit concept used by Numpy to allow array arithmetic between arrays of different shapes or sizes. Below are some quotes that help convey the essence of broadcasting.\n",
    "\n",
    "> The term broadcasting describes how numpy treats arrays with different shapes during arithmetic operations. Subject to certain constraints, the smaller array is “broadcast” across the larger array so that they have compatible shapes.\n",
    "\n",
    "> In the context of deep learning, we also use some less conventional notation. We allow the addition of matrix and a vector, yielding another matrix: $C = A + b$, where $ C_{i,j} = A_{i,j} + b_j$. In other words, the vector $b$ is added to each row of the matrix. **This shorthand eliminates the need to define a matrix with $b$ copied into each row before doing the addition. This implicit copying of $b$ to many locations is called broadcasting.**\n",
    "\n",
    "\n",
    "Broadcasting essentially helps save us time and memory. Going in-depth into broadcasting is out of scope for this lab, but if you wish to learn more check out the references below.\n",
    "\n",
    "**References:**\n",
    "- [Gentle Introduction to Broadcasting](https://machinelearningmastery.com/broadcasting-with-numpy-arrays)\n",
    "- [Numpy Broadcasting Docs](https://docs.scipy.org/doc/numpy/user/basics.broadcasting.html)"
   ]
  },
  {
   "cell_type": "markdown",
   "metadata": {},
   "source": [
    "Keep in mind the following code that checks if each element meets a desired condition. In the case below our condition is that we are checking which elements in `Ttrain` equal to 1. Remember that this line of code outputs a boolean array where the true values correspond to elements in `Ttrain` that met our condition and the false values correspond to elements in `Ttrain` that failed our condition."
   ]
  },
  {
   "cell_type": "code",
   "execution_count": 8,
   "metadata": {},
   "outputs": [
    {
     "data": {
      "text/plain": [
       "array([[False],\n",
       "       [ True],\n",
       "       [False],\n",
       "       [False],\n",
       "       [False],\n",
       "       [False],\n",
       "       [False],\n",
       "       [False],\n",
       "       [False],\n",
       "       [ True],\n",
       "       [False],\n",
       "       [False],\n",
       "       [False],\n",
       "       [False],\n",
       "       [False],\n",
       "       [False],\n",
       "       [False],\n",
       "       [ True],\n",
       "       [ True],\n",
       "       [False],\n",
       "       [ True],\n",
       "       [False],\n",
       "       [ True],\n",
       "       [False],\n",
       "       [ True],\n",
       "       [False],\n",
       "       [False],\n",
       "       [False],\n",
       "       [ True],\n",
       "       [False],\n",
       "       [False],\n",
       "       [ True],\n",
       "       [False],\n",
       "       [False],\n",
       "       [ True],\n",
       "       [ True],\n",
       "       [False],\n",
       "       [False],\n",
       "       [False],\n",
       "       [False],\n",
       "       [False],\n",
       "       [ True],\n",
       "       [ True],\n",
       "       [ True],\n",
       "       [ True],\n",
       "       [ True],\n",
       "       [False],\n",
       "       [False],\n",
       "       [False],\n",
       "       [False],\n",
       "       [False],\n",
       "       [False],\n",
       "       [ True],\n",
       "       [False],\n",
       "       [False],\n",
       "       [False],\n",
       "       [False],\n",
       "       [False],\n",
       "       [False],\n",
       "       [False],\n",
       "       [ True],\n",
       "       [ True],\n",
       "       [False],\n",
       "       [ True],\n",
       "       [False],\n",
       "       [False],\n",
       "       [False],\n",
       "       [False],\n",
       "       [False],\n",
       "       [ True],\n",
       "       [False],\n",
       "       [False],\n",
       "       [False],\n",
       "       [ True],\n",
       "       [False],\n",
       "       [False],\n",
       "       [False],\n",
       "       [False],\n",
       "       [False],\n",
       "       [False],\n",
       "       [False],\n",
       "       [False],\n",
       "       [False],\n",
       "       [False],\n",
       "       [False],\n",
       "       [ True],\n",
       "       [False],\n",
       "       [ True],\n",
       "       [False],\n",
       "       [False],\n",
       "       [ True],\n",
       "       [False],\n",
       "       [ True],\n",
       "       [False],\n",
       "       [False],\n",
       "       [ True],\n",
       "       [ True],\n",
       "       [ True],\n",
       "       [False],\n",
       "       [False],\n",
       "       [False],\n",
       "       [False],\n",
       "       [False],\n",
       "       [ True],\n",
       "       [ True],\n",
       "       [False],\n",
       "       [ True],\n",
       "       [ True],\n",
       "       [ True],\n",
       "       [False],\n",
       "       [False],\n",
       "       [ True],\n",
       "       [False],\n",
       "       [ True],\n",
       "       [False],\n",
       "       [False],\n",
       "       [ True],\n",
       "       [False],\n",
       "       [False],\n",
       "       [False]])"
      ]
     },
     "execution_count": 8,
     "metadata": {},
     "output_type": "execute_result"
    }
   ],
   "source": [
    "Ttrain == 1"
   ]
  },
  {
   "cell_type": "markdown",
   "metadata": {},
   "source": [
    "Now, we can take this aforementioned idea of checking if each element meets a desired condition and apply it to all our unique  `Ttrain` targets at once by using broadcasting. Meaning, with a single line of code we want to generate three boolean arrays, like the one above, but now instead of simply checking which elements are equal to 1, we want to check which elements are equal to 0, 1, or 2, i.e. our unique class targets.\n",
    "\n",
    "We can do so using the below code which essentially converts ours targets into indicator variables. The below code works as if we took the boolean arrays for `Ttrain == 0`, `Ttrain == 1`, and `Ttrain == 2` and concatenated them into a single array. However, now it only takes us one line of code and works for any number of classes! Most of the complicated work here is being done behind the scenes with broadcasting."
   ]
  },
  {
   "cell_type": "code",
   "execution_count": 9,
   "metadata": {},
   "outputs": [
    {
     "data": {
      "text/plain": [
       "array([[False, False,  True],\n",
       "       [False,  True, False],\n",
       "       [ True, False, False],\n",
       "       [ True, False, False],\n",
       "       [False, False,  True],\n",
       "       [False, False,  True],\n",
       "       [False, False,  True],\n",
       "       [False, False,  True],\n",
       "       [ True, False, False],\n",
       "       [False,  True, False],\n",
       "       [ True, False, False],\n",
       "       [ True, False, False],\n",
       "       [False, False,  True],\n",
       "       [ True, False, False],\n",
       "       [False, False,  True],\n",
       "       [ True, False, False],\n",
       "       [ True, False, False],\n",
       "       [False,  True, False],\n",
       "       [False,  True, False],\n",
       "       [False, False,  True],\n",
       "       [False,  True, False],\n",
       "       [ True, False, False],\n",
       "       [False,  True, False],\n",
       "       [ True, False, False],\n",
       "       [False,  True, False],\n",
       "       [False, False,  True],\n",
       "       [ True, False, False],\n",
       "       [False, False,  True],\n",
       "       [False,  True, False],\n",
       "       [ True, False, False],\n",
       "       [ True, False, False],\n",
       "       [False,  True, False],\n",
       "       [ True, False, False],\n",
       "       [ True, False, False],\n",
       "       [False,  True, False],\n",
       "       [False,  True, False],\n",
       "       [ True, False, False],\n",
       "       [False, False,  True],\n",
       "       [False, False,  True],\n",
       "       [False, False,  True],\n",
       "       [False, False,  True],\n",
       "       [False,  True, False],\n",
       "       [False,  True, False],\n",
       "       [False,  True, False],\n",
       "       [False,  True, False],\n",
       "       [False,  True, False],\n",
       "       [ True, False, False],\n",
       "       [ True, False, False],\n",
       "       [False, False,  True],\n",
       "       [False, False,  True],\n",
       "       [ True, False, False],\n",
       "       [ True, False, False],\n",
       "       [False,  True, False],\n",
       "       [ True, False, False],\n",
       "       [False, False,  True],\n",
       "       [False, False,  True],\n",
       "       [False, False,  True],\n",
       "       [ True, False, False],\n",
       "       [False, False,  True],\n",
       "       [False, False,  True],\n",
       "       [False,  True, False],\n",
       "       [False,  True, False],\n",
       "       [False, False,  True],\n",
       "       [False,  True, False],\n",
       "       [False, False,  True],\n",
       "       [ True, False, False],\n",
       "       [False, False,  True],\n",
       "       [ True, False, False],\n",
       "       [False, False,  True],\n",
       "       [False,  True, False],\n",
       "       [ True, False, False],\n",
       "       [ True, False, False],\n",
       "       [False, False,  True],\n",
       "       [False,  True, False],\n",
       "       [ True, False, False],\n",
       "       [ True, False, False],\n",
       "       [ True, False, False],\n",
       "       [ True, False, False],\n",
       "       [False, False,  True],\n",
       "       [False, False,  True],\n",
       "       [ True, False, False],\n",
       "       [False, False,  True],\n",
       "       [False, False,  True],\n",
       "       [False, False,  True],\n",
       "       [ True, False, False],\n",
       "       [False,  True, False],\n",
       "       [ True, False, False],\n",
       "       [False,  True, False],\n",
       "       [ True, False, False],\n",
       "       [False, False,  True],\n",
       "       [False,  True, False],\n",
       "       [ True, False, False],\n",
       "       [False,  True, False],\n",
       "       [False, False,  True],\n",
       "       [False, False,  True],\n",
       "       [False,  True, False],\n",
       "       [False,  True, False],\n",
       "       [False,  True, False],\n",
       "       [ True, False, False],\n",
       "       [ True, False, False],\n",
       "       [ True, False, False],\n",
       "       [False, False,  True],\n",
       "       [ True, False, False],\n",
       "       [False,  True, False],\n",
       "       [False,  True, False],\n",
       "       [False, False,  True],\n",
       "       [False,  True, False],\n",
       "       [False,  True, False],\n",
       "       [False,  True, False],\n",
       "       [False, False,  True],\n",
       "       [ True, False, False],\n",
       "       [False,  True, False],\n",
       "       [False, False,  True],\n",
       "       [False,  True, False],\n",
       "       [False, False,  True],\n",
       "       [False, False,  True],\n",
       "       [False,  True, False],\n",
       "       [ True, False, False],\n",
       "       [ True, False, False],\n",
       "       [ True, False, False]])"
      ]
     },
     "execution_count": 9,
     "metadata": {},
     "output_type": "execute_result"
    }
   ],
   "source": [
    "Ttrain == np.unique(Ttrain)"
   ]
  },
  {
   "cell_type": "markdown",
   "metadata": {},
   "source": [
    "The idea behind what is happening is that we have two Numpy arrays, `Ttrain` and `np.unique(Ttrain)`, being compared to create a boolean array. Recall the shape of `Ttrain` is (120, 1) and the shape of `np.unique(Ttrain)` is (3,). A note about broadcasting to keep in mind is that it can only be performed when the shape of each dimension in the arrays are equal or when one of the arrays has the dimension size of 1. Here we can see our `Ttrain` has size 1 in the 2nd dimension (column dimension). This means that `np.unique(Ttrain)` can be broadcasted with `Ttrain`. Thus, this creates our output array above which has a shape of (120, 3).\n",
    "\n",
    "The results of this broadcasting automatically creates a boolean version of our desired indicator variables. The final step we'll need to take is converting our boolean array to 1s and 0s. We can do this by simply recasting the boolean array as an integer using Numpy's  `astype()` method. This works because the integer 1 is associated with true and the integer 0 is associated with false."
   ]
  },
  {
   "cell_type": "code",
   "execution_count": 10,
   "metadata": {},
   "outputs": [
    {
     "data": {
      "text/plain": [
       "array([[0, 0, 1],\n",
       "       [0, 1, 0],\n",
       "       [1, 0, 0],\n",
       "       [1, 0, 0],\n",
       "       [0, 0, 1],\n",
       "       [0, 0, 1],\n",
       "       [0, 0, 1],\n",
       "       [0, 0, 1],\n",
       "       [1, 0, 0],\n",
       "       [0, 1, 0],\n",
       "       [1, 0, 0],\n",
       "       [1, 0, 0],\n",
       "       [0, 0, 1],\n",
       "       [1, 0, 0],\n",
       "       [0, 0, 1],\n",
       "       [1, 0, 0],\n",
       "       [1, 0, 0],\n",
       "       [0, 1, 0],\n",
       "       [0, 1, 0],\n",
       "       [0, 0, 1],\n",
       "       [0, 1, 0],\n",
       "       [1, 0, 0],\n",
       "       [0, 1, 0],\n",
       "       [1, 0, 0],\n",
       "       [0, 1, 0],\n",
       "       [0, 0, 1],\n",
       "       [1, 0, 0],\n",
       "       [0, 0, 1],\n",
       "       [0, 1, 0],\n",
       "       [1, 0, 0],\n",
       "       [1, 0, 0],\n",
       "       [0, 1, 0],\n",
       "       [1, 0, 0],\n",
       "       [1, 0, 0],\n",
       "       [0, 1, 0],\n",
       "       [0, 1, 0],\n",
       "       [1, 0, 0],\n",
       "       [0, 0, 1],\n",
       "       [0, 0, 1],\n",
       "       [0, 0, 1],\n",
       "       [0, 0, 1],\n",
       "       [0, 1, 0],\n",
       "       [0, 1, 0],\n",
       "       [0, 1, 0],\n",
       "       [0, 1, 0],\n",
       "       [0, 1, 0],\n",
       "       [1, 0, 0],\n",
       "       [1, 0, 0],\n",
       "       [0, 0, 1],\n",
       "       [0, 0, 1],\n",
       "       [1, 0, 0],\n",
       "       [1, 0, 0],\n",
       "       [0, 1, 0],\n",
       "       [1, 0, 0],\n",
       "       [0, 0, 1],\n",
       "       [0, 0, 1],\n",
       "       [0, 0, 1],\n",
       "       [1, 0, 0],\n",
       "       [0, 0, 1],\n",
       "       [0, 0, 1],\n",
       "       [0, 1, 0],\n",
       "       [0, 1, 0],\n",
       "       [0, 0, 1],\n",
       "       [0, 1, 0],\n",
       "       [0, 0, 1],\n",
       "       [1, 0, 0],\n",
       "       [0, 0, 1],\n",
       "       [1, 0, 0],\n",
       "       [0, 0, 1],\n",
       "       [0, 1, 0],\n",
       "       [1, 0, 0],\n",
       "       [1, 0, 0],\n",
       "       [0, 0, 1],\n",
       "       [0, 1, 0],\n",
       "       [1, 0, 0],\n",
       "       [1, 0, 0],\n",
       "       [1, 0, 0],\n",
       "       [1, 0, 0],\n",
       "       [0, 0, 1],\n",
       "       [0, 0, 1],\n",
       "       [1, 0, 0],\n",
       "       [0, 0, 1],\n",
       "       [0, 0, 1],\n",
       "       [0, 0, 1],\n",
       "       [1, 0, 0],\n",
       "       [0, 1, 0],\n",
       "       [1, 0, 0],\n",
       "       [0, 1, 0],\n",
       "       [1, 0, 0],\n",
       "       [0, 0, 1],\n",
       "       [0, 1, 0],\n",
       "       [1, 0, 0],\n",
       "       [0, 1, 0],\n",
       "       [0, 0, 1],\n",
       "       [0, 0, 1],\n",
       "       [0, 1, 0],\n",
       "       [0, 1, 0],\n",
       "       [0, 1, 0],\n",
       "       [1, 0, 0],\n",
       "       [1, 0, 0],\n",
       "       [1, 0, 0],\n",
       "       [0, 0, 1],\n",
       "       [1, 0, 0],\n",
       "       [0, 1, 0],\n",
       "       [0, 1, 0],\n",
       "       [0, 0, 1],\n",
       "       [0, 1, 0],\n",
       "       [0, 1, 0],\n",
       "       [0, 1, 0],\n",
       "       [0, 0, 1],\n",
       "       [1, 0, 0],\n",
       "       [0, 1, 0],\n",
       "       [0, 0, 1],\n",
       "       [0, 1, 0],\n",
       "       [0, 0, 1],\n",
       "       [0, 0, 1],\n",
       "       [0, 1, 0],\n",
       "       [1, 0, 0],\n",
       "       [1, 0, 0],\n",
       "       [1, 0, 0]])"
      ]
     },
     "execution_count": 10,
     "metadata": {},
     "output_type": "execute_result"
    }
   ],
   "source": [
    "(Ttrain == np.unique(Ttrain)).astype(int)"
   ]
  },
  {
   "cell_type": "markdown",
   "metadata": {},
   "source": [
    "Welp we did it! We somehow managed to convert our `Ttrain` targets into indicator variables through Numpy's magical broadcasting abilities."
   ]
  },
  {
   "cell_type": "markdown",
   "metadata": {},
   "source": [
    "### TODO:\n",
    "Now its time for you to try. Using the idea of broadcasting presented above finish the `convert_to_indicators()` function for converting `Ttrain` and `Ttest` into indicator variables.\n",
    "\n",
    "1. Convert `Ttrain` into an indicator variable and store the output into `Titrain`\n",
    "2. Convert `Ttest` into an indicator variable and store the output into `Titest`"
   ]
  },
  {
   "cell_type": "code",
   "execution_count": 11,
   "metadata": {},
   "outputs": [],
   "source": [
    "def convert_to_indicators():\n",
    "    global Titrain, Titest\n",
    "    # TODO (1)\n",
    "    Titrain = \n",
    "    # TODO (2)\n",
    "    Titest = "
   ]
  },
  {
   "cell_type": "markdown",
   "metadata": {},
   "source": [
    "To test if your `convert_to_indicators()` function works, run the following code. The `assert` code checks if your code produces the correct results and throws an error if it doesn't. **If you are failing the `assert` tests then something most likely went wrong in your function (check your shapes)!**"
   ]
  },
  {
   "cell_type": "code",
   "execution_count": 12,
   "metadata": {},
   "outputs": [
    {
     "name": "stdout",
     "output_type": "stream",
     "text": [
      "Train indicator shape: (120, 3)\n",
      "Test indicator shape: (30, 3)\n"
     ]
    }
   ],
   "source": [
    "convert_to_indicators()\n",
    "print(\"Train indicator shape: {}\".format(Titrain.shape))\n",
    "print(\"Test indicator shape: {}\".format(Titest.shape))"
   ]
  },
  {
   "cell_type": "code",
   "execution_count": 13,
   "metadata": {},
   "outputs": [],
   "source": [
    "assert (np.argmax(Titrain, axis=1) == Ttrain.flatten()).all()\n",
    "assert (np.argmax(Titest, axis=1) == Ttest.flatten()).all()"
   ]
  },
  {
   "cell_type": "markdown",
   "metadata": {},
   "source": [
    "Now we can use `Titrain` and `Titest` in our logistic regression algorithm!"
   ]
  },
  {
   "cell_type": "markdown",
   "metadata": {},
   "source": [
    "## Logistic Regression Training\n",
    "Now its time to implement our logistic regression algorithm. \n",
    "\n",
    "<img src=\"http://webpages.uncc.edu/mlee173/teach/itcs4156/images/class/linearlogreg.png\" width=450 />\n",
    "\n",
    "Remember, the logistic regression gradient update is as follows.\n",
    "$$\n",
    "\\wv \\leftarrow \\wv + \\alpha \\Xm^\\top \\Big(  \\Tm - g(\\Xm)\\Big).\n",
    "$$\n",
    "\n",
    "Where $w$ represents our weights, $X^T$ represents our data transformed, $T$ represents our targets, $g(X)$ represents our predictions, i.e. $X \\cdot w$, and $\\alpha$ represents our learning rate. \n"
   ]
  },
  {
   "cell_type": "markdown",
   "metadata": {},
   "source": [
    "Recall that in order to establish the probability of a given data sample belonging to one of our three flower classes, i.e. ${P(T = k | x)}$, we need to compute the softmax. Let's implement the softmax function before getting started.\n",
    "\n",
    "### TODO\n",
    "\n",
    "Implement the `softmax()` function and its wrapper function `g()`. Recall that the softmax is equal to the following formula.\n",
    "\n",
    "$$\n",
    " softmax = {P(T = k | x)} = \\frac{e^{z_k}}{\\sum_{i=1}^K e^{z_i}}\n",
    "$$\n",
    "\n",
    "Here $z$ represents our predictions made by computing $X \\cdot w$ which is calculated by the function `g()`.\n",
    "\n",
    "1. Using Numpy's `np.exp()` function compute the numerator of the softmax function, i.e. apply the exponential function to all our predictions `z`.\n",
    "2. Compute the denominator of the softmax function, i.e. apply the exponential function to all our predictions `z` and sum them.\n",
    "    1. Hint: Try using Numpy's `np.sum()`\n",
    "    2. Hint: If you're getting broadcasting errors make sure the numerator and denominator have the same shapes!\n",
    "3. Return the softmax output calced inside `softmax()` function.\n",
    "    1. Hint: Simply divide the numerator by the denominator\n",
    "4. Call the `softmax()` function and pass as its parameter the predictions calculated from dotting `X` and `w`. In addition, return the output of the `softmax()` function."
   ]
  },
  {
   "cell_type": "code",
   "execution_count": 90,
   "metadata": {},
   "outputs": [],
   "source": [
    "def softmax(z):\n",
    "    if not isinstance(z, np.ndarray):\n",
    "        z = np.asarray(z)\n",
    "    # TODO (1)\n",
    "    numerator = \n",
    "    # TODO (2)\n",
    "    denominator = \n",
    "    # TODO (3)\n",
    "    return\n",
    "\n",
    "# Wrapper for softmax\n",
    "def g(X, w):\n",
    "    # TODO (4)\n",
    "    return "
   ]
  },
  {
   "cell_type": "markdown",
   "metadata": {},
   "source": [
    "Let's implement the logistic regression algorithm below. We have already created a new variable with the bias already added called `X1train`. Be sure to use `X1train` when computing the predictions and weight updates!\n",
    "\n",
    "### TODO\n",
    "\n",
    "1. Compute the class probabilities by calling the `g()` function which takes in the current weights `w` and all our training data with bias added `X1train`. Store the predicted class probabilities in `ys`.\n",
    "2. Compute the logistic regression weight update using the predicted class probabilities `ys`, the train data with bias `X1train`, and the training indicator varaibles `Titrain`.\n",
    "    1. Hint: If you are getting an error \"overflow encountered in exp\" simply try rerunning the cell."
   ]
  },
  {
   "cell_type": "code",
   "execution_count": 91,
   "metadata": {},
   "outputs": [
    {
     "name": "stdout",
     "output_type": "stream",
     "text": [
      "[[3.91806145e-133 1.37747108e-058 1.00000000e+000]\n",
      " [8.16501208e-048 1.00000000e+000 1.52746594e-050]\n",
      " [1.00000000e+000 6.95361367e-074 0.00000000e+000]\n",
      " [1.00000000e+000 1.33563409e-071 0.00000000e+000]\n",
      " [2.44192608e-130 1.00143377e-065 1.00000000e+000]\n",
      " [5.52451162e-173 8.47681028e-110 1.00000000e+000]\n",
      " [4.01150045e-112 1.19186790e-052 1.00000000e+000]\n",
      " [4.74196015e-144 9.93958010e-076 1.00000000e+000]\n",
      " [1.00000000e+000 1.89206845e-074 0.00000000e+000]\n",
      " [2.32653736e-042 1.00000000e+000 3.19267625e-062]\n",
      " [1.00000000e+000 6.59536618e-057 0.00000000e+000]\n",
      " [1.00000000e+000 1.32716553e-045 0.00000000e+000]\n",
      " [1.58259941e-149 1.07827519e-072 1.00000000e+000]\n",
      " [1.00000000e+000 4.10267396e-062 0.00000000e+000]\n",
      " [5.68598325e-100 7.21934388e-020 1.00000000e+000]\n",
      " [1.00000000e+000 7.96317732e-078 0.00000000e+000]\n",
      " [1.00000000e+000 1.81960589e-051 0.00000000e+000]\n",
      " [4.14725187e-036 1.00000000e+000 1.20060323e-031]\n",
      " [1.47605248e-036 1.00000000e+000 9.89896229e-050]\n",
      " [2.71235549e-216 1.70624914e-102 1.00000000e+000]\n",
      " [5.06696901e-041 1.00000000e+000 5.03577937e-063]\n",
      " [1.00000000e+000 3.07181572e-049 0.00000000e+000]\n",
      " [7.49843115e-031 1.00000000e+000 2.68982856e-078]\n",
      " [1.00000000e+000 7.51039338e-051 0.00000000e+000]\n",
      " [2.07439256e-051 1.00000000e+000 1.01990651e-038]\n",
      " [6.18211318e-172 1.80483245e-073 1.00000000e+000]\n",
      " [1.00000000e+000 1.00075182e-085 0.00000000e+000]\n",
      " [1.11622357e-156 1.96393103e-069 1.00000000e+000]\n",
      " [2.78539276e-044 1.00000000e+000 6.15362074e-035]\n",
      " [1.00000000e+000 2.17475522e-073 0.00000000e+000]\n",
      " [1.00000000e+000 7.56858430e-094 0.00000000e+000]\n",
      " [6.77896605e-034 1.00000000e+000 7.35629875e-057]\n",
      " [1.00000000e+000 5.05578392e-088 0.00000000e+000]\n",
      " [1.00000000e+000 4.19437599e-063 0.00000000e+000]\n",
      " [2.25317606e-038 1.00000000e+000 1.11784721e-075]\n",
      " [4.32044722e-056 1.00000000e+000 1.32382297e-073]\n",
      " [1.00000000e+000 1.48097779e-075 0.00000000e+000]\n",
      " [2.31853085e-275 4.00533827e-149 1.00000000e+000]\n",
      " [1.10676266e-124 2.13888239e-069 1.00000000e+000]\n",
      " [1.17847157e-121 3.08556339e-043 1.00000000e+000]\n",
      " [1.66632202e-082 1.10905522e-029 1.00000000e+000]\n",
      " [3.13679087e-027 1.00000000e+000 1.09311524e-076]\n",
      " [6.74124224e-058 1.00000000e+000 6.98422284e-047]\n",
      " [7.88869663e-032 1.00000000e+000 2.05040885e-045]\n",
      " [2.41270846e-034 1.00000000e+000 6.06526137e-075]\n",
      " [3.20154772e-043 1.00000000e+000 2.75144465e-032]\n",
      " [1.00000000e+000 9.09757277e-070 0.00000000e+000]\n",
      " [1.00000000e+000 5.78738004e-095 0.00000000e+000]\n",
      " [1.05006361e-180 1.79354562e-101 1.00000000e+000]\n",
      " [5.16926308e-153 2.21508831e-071 1.00000000e+000]\n",
      " [1.00000000e+000 6.15164055e-030 3.93972692e-293]\n",
      " [1.00000000e+000 1.44514531e-062 0.00000000e+000]\n",
      " [5.34868132e-041 9.99921244e-001 7.87556694e-005]\n",
      " [1.00000000e+000 4.23544897e-065 0.00000000e+000]\n",
      " [1.16832445e-155 1.07116102e-098 1.00000000e+000]\n",
      " [6.02216888e-070 2.52067622e-021 1.00000000e+000]\n",
      " [8.28987997e-080 8.41218553e-014 1.00000000e+000]\n",
      " [1.00000000e+000 7.18166820e-074 0.00000000e+000]\n",
      " [6.76701124e-118 2.46895578e-051 1.00000000e+000]\n",
      " [3.47201184e-156 2.40675975e-088 1.00000000e+000]\n",
      " [4.02346270e-051 1.00000000e+000 3.96440917e-020]\n",
      " [1.52510206e-033 1.00000000e+000 7.81932633e-080]\n",
      " [4.74196015e-144 9.93958010e-076 1.00000000e+000]\n",
      " [1.38643036e-017 1.00000000e+000 3.86819266e-088]\n",
      " [8.10843454e-097 2.81766893e-028 1.00000000e+000]\n",
      " [1.00000000e+000 3.80575384e-066 0.00000000e+000]\n",
      " [1.14139288e-127 4.54322452e-070 1.00000000e+000]\n",
      " [1.00000000e+000 5.14461385e-059 0.00000000e+000]\n",
      " [1.11694389e-108 7.35443603e-051 1.00000000e+000]\n",
      " [3.45132844e-039 1.00000000e+000 2.59005324e-076]\n",
      " [1.00000000e+000 4.50123099e-070 0.00000000e+000]\n",
      " [1.00000000e+000 4.25588458e-073 0.00000000e+000]\n",
      " [6.57389993e-120 1.00335509e-049 1.00000000e+000]\n",
      " [3.91128341e-014 1.00000000e+000 4.57215942e-108]\n",
      " [1.00000000e+000 4.62268205e-060 0.00000000e+000]\n",
      " [1.00000000e+000 7.75396192e-088 0.00000000e+000]\n",
      " [1.00000000e+000 2.93705612e-054 0.00000000e+000]\n",
      " [1.00000000e+000 3.20497290e-048 0.00000000e+000]\n",
      " [1.21251046e-155 1.57104661e-078 1.00000000e+000]\n",
      " [9.89786010e-132 1.28498964e-080 1.00000000e+000]\n",
      " [1.00000000e+000 2.44968014e-052 0.00000000e+000]\n",
      " [2.69934934e-182 4.01127442e-104 1.00000000e+000]\n",
      " [2.00958820e-141 8.71642207e-074 1.00000000e+000]\n",
      " [1.80587865e-120 6.20750572e-048 1.00000000e+000]\n",
      " [1.00000000e+000 7.52518240e-066 0.00000000e+000]\n",
      " [6.86661310e-064 1.00000000e+000 2.73113235e-039]\n",
      " [1.00000000e+000 7.29535200e-065 0.00000000e+000]\n",
      " [1.69779670e-051 1.00000000e+000 4.17595591e-027]\n",
      " [1.00000000e+000 1.59585169e-074 0.00000000e+000]\n",
      " [4.65983672e-087 1.67855866e-024 1.00000000e+000]\n",
      " [3.72925777e-111 6.88406259e-042 1.00000000e+000]\n",
      " [1.00000000e+000 4.51971801e-062 0.00000000e+000]\n",
      " [1.91582828e-044 1.00000000e+000 4.77486722e-032]\n",
      " [1.12497380e-153 9.33797734e-089 1.00000000e+000]\n",
      " [2.85768736e-101 6.57187276e-041 1.00000000e+000]\n",
      " [5.08564402e-036 1.00000000e+000 1.21110463e-045]\n",
      " [6.82379136e-056 1.00000000e+000 2.16284259e-010]\n",
      " [2.55751133e-026 1.00000000e+000 5.38318817e-035]\n",
      " [1.00000000e+000 7.34310945e-053 0.00000000e+000]\n",
      " [1.00000000e+000 8.80498114e-073 0.00000000e+000]\n",
      " [1.00000000e+000 3.70732194e-073 0.00000000e+000]\n",
      " [7.95899472e-161 1.11533126e-088 1.00000000e+000]\n",
      " [1.00000000e+000 5.45441217e-052 0.00000000e+000]\n",
      " [7.76138826e-042 1.00000000e+000 1.16679065e-063]\n",
      " [6.08399315e-070 9.99998813e-001 1.18656793e-006]\n",
      " [3.76965368e-075 4.49488835e-025 1.00000000e+000]\n",
      " [3.13278759e-080 1.52855209e-009 9.99999998e-001]\n",
      " [2.06842466e-060 5.10961650e-019 1.00000000e+000]\n",
      " [2.50102098e-029 1.00000000e+000 4.88335648e-052]\n",
      " [3.83325147e-101 1.69324063e-038 1.00000000e+000]\n",
      " [1.00000000e+000 4.33193705e-063 0.00000000e+000]\n",
      " [4.27369900e-041 1.00000000e+000 3.94166239e-074]\n",
      " [5.64285375e-203 8.81715831e-100 1.00000000e+000]\n",
      " [7.45700282e-050 1.00000000e+000 1.48703298e-048]\n",
      " [5.68336192e-074 4.16293625e-018 1.00000000e+000]\n",
      " [1.64752223e-075 8.37271710e-024 1.00000000e+000]\n",
      " [3.68142406e-039 1.00000000e+000 2.90279633e-065]\n",
      " [1.00000000e+000 1.16825594e-063 0.00000000e+000]\n",
      " [1.00000000e+000 9.53091903e-061 0.00000000e+000]\n",
      " [1.00000000e+000 1.55152146e-066 0.00000000e+000]]\n",
      "[[4.41617529e-169 2.56315663e-095 1.00000000e+000]\n",
      " [1.99153559e-048 1.00000000e+000 2.36599908e-063]\n",
      " [6.46377945e-048 1.13285949e-007 9.99999887e-001]\n",
      " [1.01918283e-032 1.00000000e+000 3.71859982e-057]\n",
      " [1.66782674e-159 4.09886582e-096 1.00000000e+000]\n",
      " [1.00000000e+000 9.29817838e-052 0.00000000e+000]\n",
      " [1.00000000e+000 1.10457838e-066 0.00000000e+000]\n",
      " [1.09927488e-043 1.00000000e+000 1.64066270e-053]\n",
      " [2.43170634e-055 1.00000000e+000 2.08935288e-031]\n",
      " [2.87644222e-026 1.00000000e+000 1.03709477e-112]\n",
      " [9.08263542e-215 3.18738263e-142 1.00000000e+000]\n",
      " [1.00000000e+000 4.45439635e-052 0.00000000e+000]\n",
      " [1.35323123e-039 1.00000000e+000 8.01236388e-078]\n",
      " [1.99971503e-040 1.00000000e+000 1.34262668e-081]\n",
      " [1.00000000e+000 6.73081668e-055 0.00000000e+000]\n",
      " [4.31011996e-159 1.88450708e-063 1.00000000e+000]\n",
      " [7.72817446e-049 1.00000000e+000 1.02142858e-017]\n",
      " [2.92258870e-053 1.00000000e+000 1.94960595e-014]\n",
      " [2.05404997e-173 7.09091143e-094 1.00000000e+000]\n",
      " [1.00000000e+000 1.20707736e-060 0.00000000e+000]\n",
      " [1.00000000e+000 2.69869445e-052 0.00000000e+000]\n",
      " [8.83650910e-035 1.00000000e+000 4.05336693e-085]\n",
      " [1.19613994e-033 1.00000000e+000 1.33460395e-026]\n",
      " [2.08984351e-130 7.23062905e-046 1.00000000e+000]\n",
      " [1.08073388e-132 1.87712109e-074 1.00000000e+000]\n",
      " [2.99126149e-125 6.09182713e-056 1.00000000e+000]\n",
      " [1.00404726e-179 2.89524843e-082 1.00000000e+000]\n",
      " [5.93656682e-154 4.20477248e-065 1.00000000e+000]\n",
      " [1.00000000e+000 1.08287555e-099 0.00000000e+000]\n",
      " [1.16070388e-044 1.00000000e+000 5.16550603e-023]]\n"
     ]
    }
   ],
   "source": [
    "# Convert to indicators\n",
    "convert_to_indicators()\n",
    "\n",
    "# Set shape parameters\n",
    "Ntrain, D = Xtrain.shape\n",
    "Ntest = Xtest.shape[0]\n",
    "K = Titrain.shape[1]\n",
    "\n",
    "# initialize the weight matrix\n",
    "w = np.random.rand(D+1, K)\n",
    "\n",
    "# iterate to update weights\n",
    "niter = 1000\n",
    "alpha = 0.1\n",
    "\n",
    "# Add bias to data\n",
    "X1train = np.hstack((np.ones((Ntrain, 1)), Xtrain))\n",
    "\n",
    "likeli = []\n",
    "for step in range(niter):\n",
    "    # TODO (1)\n",
    "    ys =\n",
    "    # TODO (2)\n",
    "    w = \n",
    "    \n",
    "# Get class probabilities for each sample in X1train\n",
    "Ytrain = g(X1train, w)\n",
    "\n",
    "# Add bias to test data\n",
    "X1test = np.hstack((np.ones((Ntest,1)), Xtest))\n",
    "# Get class probabilities for each sample in X1test\n",
    "Ytest = g(X1test, w)\n",
    "\n",
    "print(Ytrain)\n",
    "print(Ytest)"
   ]
  },
  {
   "cell_type": "markdown",
   "metadata": {},
   "source": [
    "After running the logistic regression algorithm we should now have the predicted class probabilities for the training data `Ytrain`, and testing data `Ytest`. The question now is how do we get our predicted labels?\n",
    "\n",
    "The answer is quite simple! Recall, that there are three probabilities for each data sample (as seen in the above output). Logically, we want to label each data sample based on the class with the highest probability. We can do so by taking the argmax for each row in our data. The idea behind argmax is to return the column index that contains the highest probability.  Argmax works great here because our column indices are synonymous with our class targets because our targets are formatted as indicator variables!\n",
    "\n",
    "### TODO:\n",
    "Compute the argmax over our class probabilities for `Ytrain` and `Ytest`.\n",
    "\n",
    "1. Take the argmax of the training class probabilities `Ytrian` using Numpy's `argmax()` function. Store the predicted labels in `Ltrain`.\n",
    "    1. Hint: Remember to take the `argmax()` over the rows!\n",
    "2. Take the argmax of the testing class probabilities `Ytest` using Numpy's `argmax()` function. Store the predicted labels in `Ltest`.\n",
    "    1. Hint: Remember to take the `argmax()` over the rows!"
   ]
  },
  {
   "cell_type": "code",
   "execution_count": 92,
   "metadata": {},
   "outputs": [
    {
     "data": {
      "text/plain": [
       "array([2, 1, 0, 0, 2, 2, 2, 2, 0, 1, 0, 0, 2, 0, 2, 0, 0, 1, 1, 2, 1, 0,\n",
       "       1, 0, 1, 2, 0, 2, 1, 0, 0, 1, 0, 0, 1, 1, 0, 2, 2, 2, 2, 1, 1, 1,\n",
       "       1, 1, 0, 0, 2, 2, 0, 0, 1, 0, 2, 2, 2, 0, 2, 2, 1, 1, 2, 1, 2, 0,\n",
       "       2, 0, 2, 1, 0, 0, 2, 1, 0, 0, 0, 0, 2, 2, 0, 2, 2, 2, 0, 1, 0, 1,\n",
       "       0, 2, 2, 0, 1, 2, 2, 1, 1, 1, 0, 0, 0, 2, 0, 1, 1, 2, 2, 2, 1, 2,\n",
       "       0, 1, 2, 1, 2, 2, 1, 0, 0, 0])"
      ]
     },
     "execution_count": 92,
     "metadata": {},
     "output_type": "execute_result"
    }
   ],
   "source": [
    "# TODO (1)\n",
    "Ltrain = \n",
    "Ltrain "
   ]
  },
  {
   "cell_type": "code",
   "execution_count": 93,
   "metadata": {},
   "outputs": [
    {
     "data": {
      "text/plain": [
       "array([2, 1, 2, 1, 2, 0, 0, 1, 1, 1, 2, 0, 1, 1, 0, 2, 1, 1, 2, 0, 0, 1,\n",
       "       1, 2, 2, 2, 2, 2, 0, 1])"
      ]
     },
     "execution_count": 93,
     "metadata": {},
     "output_type": "execute_result"
    }
   ],
   "source": [
    "# TODO (2)\n",
    "Ltest =\n",
    "Ltest "
   ]
  },
  {
   "cell_type": "markdown",
   "metadata": {},
   "source": [
    "Awesome, now we have our predicted labels which corresponds to the classes that our logistic algorithm thought were the most likely correct for all the training and testing data samples. Let's visualize these predictions and see how they did."
   ]
  },
  {
   "cell_type": "code",
   "execution_count": 94,
   "metadata": {},
   "outputs": [
    {
     "data": {
      "text/plain": [
       "Text(0.5, 1.0, 'Training results')"
      ]
     },
     "execution_count": 94,
     "metadata": {},
     "output_type": "execute_result"
    },
    {
     "data": {
      "image/png": "[encoded data removed]",
      "text/plain": [
       "<Figure size 432x288 with 1 Axes>"
      ]
     },
     "metadata": {
      "needs_background": "light"
     },
     "output_type": "display_data"
    }
   ],
   "source": [
    "plt.plot(Ttrain, 'ro')\n",
    "plt.plot(Ltrain, 'bx')\n",
    "plt.title(\"Training results\")"
   ]
  },
  {
   "cell_type": "code",
   "execution_count": 95,
   "metadata": {},
   "outputs": [
    {
     "data": {
      "text/plain": [
       "Text(0.5, 1.0, 'Test results')"
      ]
     },
     "execution_count": 95,
     "metadata": {},
     "output_type": "execute_result"
    },
    {
     "data": {
      "image/png": "[encoded data removed]",
      "text/plain": [
       "<Figure size 432x288 with 1 Axes>"
      ]
     },
     "metadata": {
      "needs_background": "light"
     },
     "output_type": "display_data"
    }
   ],
   "source": [
    "plt.plot(Ttest, 'ro')\n",
    "plt.plot(Ltest, 'bx')\n",
    "plt.title(\"Test results\")"
   ]
  },
  {
   "cell_type": "markdown",
   "metadata": {},
   "source": [
    "The below code is another way to visualize which of our `Ttest` samples we got right (True) or wrong (False). Here we are simply comparing our predicted labels `Ltest` and our target labels `Ttest`. "
   ]
  },
  {
   "cell_type": "code",
   "execution_count": 96,
   "metadata": {},
   "outputs": [
    {
     "data": {
      "text/plain": [
       "array([ True,  True, False,  True,  True,  True,  True,  True,  True,\n",
       "        True,  True,  True,  True,  True,  True,  True,  True,  True,\n",
       "        True,  True,  True,  True,  True,  True,  True,  True,  True,\n",
       "        True,  True,  True])"
      ]
     },
     "execution_count": 96,
     "metadata": {},
     "output_type": "execute_result"
    }
   ],
   "source": [
    "Ltest==Ttest.flatten()"
   ]
  },
  {
   "cell_type": "markdown",
   "metadata": {},
   "source": [
    "Finally, let's quantify our algorithms preformance by computing the accuracy."
   ]
  },
  {
   "cell_type": "code",
   "execution_count": 97,
   "metadata": {},
   "outputs": [],
   "source": [
    "def print_accuracy(y, t, name):\n",
    "    N = y.shape[0]\n",
    "    n_correct = np.sum(y.flat == t.flat)\n",
    "    n_correct_percent =  (n_correct / N) * 100\n",
    "    print(\"{} accyracy:\\t{}/{}\\t{} %\".format(name, n_correct, N, n_correct_percent))"
   ]
  },
  {
   "cell_type": "code",
   "execution_count": 98,
   "metadata": {},
   "outputs": [
    {
     "name": "stdout",
     "output_type": "stream",
     "text": [
      "Train accyracy:\t117/120\t97.5 %\n",
      "Test accyracy:\t29/30\t96.66666666666667 %\n"
     ]
    }
   ],
   "source": [
    "print_accuracy(Ltrain, Ttrain, \"Train\")\n",
    "print_accuracy(Ltest, Ttest, \"Test\")"
   ]
  },
  {
   "cell_type": "markdown",
   "metadata": {},
   "source": [
    "As you can see our logistic regression algorithm does pretty well!"
   ]
  },
  {
   "cell_type": "markdown",
   "metadata": {},
   "source": [
    "# Applying New Metrics\n",
    "\n",
    "## Confusion Matrix \n",
    "Now it's time to visualize our results in a slightly different yet very meaningful way using a confusion matrix! A confusion matrix allows us to see the number of samples we mislabeled and which classes the samples were mislabeled as. While this may sound simplistic it is actually very powerful!\n",
    "\n",
    "Although our confusion matrix will have a shape of (3, 3), since we have three classes, the ideas of a binary confusion matrix still apply, however things are slightly more muddled. It's important to remember that a confusion matrix comes down to a matter of perspective! Let's see what this means by looking at the rows and columns of a confusion matrix of arbitrary size. \n",
    "\n",
    "### Reading a NxN Confusion Matrix\n",
    "\n",
    "Recall from the lecture notes that for a confusion matrix each row represents the predicted labels made by the model and each column represents the actual targets. This means that the main diagonal contains the number of samples we predicted correctly, i.e. our **true positives** and **true negatives**. Meanwhile, any values off the main diagonal corresponds to misclassified data samples. \n",
    "\n",
    "Looking row wise we can observe the **true positives** and **false positives**. Like the binary case **true positives** lie on the main diagonal. However, the rest of the row wise elements correspond to **false positives**. These being values that were predicted to be the class corresponding to the given row, but actually belong to the class corresponding to the given column. \n",
    "\n",
    "Likewise, looking column wise we can observe the **true negatives** and **false negatives**. Like the binary case **true negatives** lie on the main diagonal. However, the rest of the column wise elements correspond to **false negatives**. These being values that belong to the class corresponding to the given column, but were predicted to be the class corresponding to the given row. As we can see this is the reverse of the row perspective! \n",
    "\n",
    "### References:\n",
    "- [What is true positive and true negative – confusion matrix](https://moredvikas.wordpress.com/2017/09/12/what-is-true-positive-and-true-negative-confusion-matrix/)\n",
    "- [Simple guide to confusion matrix terminology](https://www.dataschool.io/simple-guide-to-confusion-matrix-terminology/)\n",
    "\n",
    "### TODO:\n",
    "1. Create a 3x3 confusion matrix for your test results by filling in the `confusion_matrix()` function. You can write your own or use the `confusion_matrix()` function from the [class notes](https://nbviewer.jupyter.org/url/webpages.uncc.edu/mlee173/teach/itcs4156/notebooks/notes/Note-Linear%20Classification.ipynb)."
   ]
  },
  {
   "cell_type": "code",
   "execution_count": 99,
   "metadata": {},
   "outputs": [],
   "source": [
    "def confusion_matrix(Y, T):\n",
    "    \"\"\"\n",
    "        Y    ndarray\n",
    "             predicted labels\n",
    "        T    ndarray\n",
    "             target labels\n",
    "             \n",
    "        @cfm DataFrame\n",
    "             confusion matrix\n",
    "    \"\"\"\n",
    "    # TODO (1): Add code here\n",
    "    \n",
    "    \n",
    "    return cfm"
   ]
  },
  {
   "cell_type": "code",
   "execution_count": 100,
   "metadata": {},
   "outputs": [
    {
     "data": {
      "text/html": [
       "<div>\n",
       "<style scoped>\n",
       "    .dataframe tbody tr th:only-of-type {\n",
       "        vertical-align: middle;\n",
       "    }\n",
       "\n",
       "    .dataframe tbody tr th {\n",
       "        vertical-align: top;\n",
       "    }\n",
       "\n",
       "    .dataframe thead th {\n",
       "        text-align: right;\n",
       "    }\n",
       "</style>\n",
       "<table border=\"1\" class=\"dataframe\">\n",
       "  <thead>\n",
       "    <tr style=\"text-align: right;\">\n",
       "      <th></th>\n",
       "      <th>0</th>\n",
       "      <th>1</th>\n",
       "      <th>2</th>\n",
       "    </tr>\n",
       "  </thead>\n",
       "  <tbody>\n",
       "    <tr>\n",
       "      <th>0</th>\n",
       "      <td>7</td>\n",
       "      <td>0</td>\n",
       "      <td>0</td>\n",
       "    </tr>\n",
       "    <tr>\n",
       "      <th>1</th>\n",
       "      <td>0</td>\n",
       "      <td>12</td>\n",
       "      <td>0</td>\n",
       "    </tr>\n",
       "    <tr>\n",
       "      <th>2</th>\n",
       "      <td>0</td>\n",
       "      <td>1</td>\n",
       "      <td>10</td>\n",
       "    </tr>\n",
       "  </tbody>\n",
       "</table>\n",
       "</div>"
      ],
      "text/plain": [
       "   0   1   2\n",
       "0  7   0   0\n",
       "1  0  12   0\n",
       "2  0   1  10"
      ]
     },
     "execution_count": 100,
     "metadata": {},
     "output_type": "execute_result"
    }
   ],
   "source": [
    "cfm = confusion_matrix(Ltest.flat, Ttest.flat)\n",
    "cfm"
   ]
  },
  {
   "cell_type": "markdown",
   "metadata": {},
   "source": [
    "**Notice that `cfm` is a Pandas DataFrmae not a Nump array!**"
   ]
  },
  {
   "cell_type": "code",
   "execution_count": 103,
   "metadata": {},
   "outputs": [
    {
     "data": {
      "text/plain": [
       "pandas.core.frame.DataFrame"
      ]
     },
     "execution_count": 103,
     "metadata": {},
     "output_type": "execute_result"
    }
   ],
   "source": [
    "type(cfm)"
   ]
  },
  {
   "cell_type": "markdown",
   "metadata": {},
   "source": [
    "## Precision, Recall, and F1-score \n",
    "Now that we have our confusion matrix we can use it to compute new metrics that inform us about different aspects of our models performance. Recall that we discussed precision, recall, and the F1-score in the class notes. Let's do a quick review of what these scores mean and how to compute them.\n",
    "\n",
    "### Precision\n",
    "Precision represents the accuracy when only looking at our **positive predictions**. Meaning, we want to know how many of our positive predictions were correct out of all the positive predictions made. Hence, we divide by the sum of the true positives $\\mathrm{TP}$ and false positives $\\mathrm{FP}$. Notice, the sum these two variables is equal the total number of positive predictions made for a given class.\n",
    "$$\n",
    "Precision = \\mathrm{\\frac{TP}{TP + FP}}\n",
    "$$\n",
    "\n",
    "### Recall\n",
    "Recall represents the accuracy when only looking at the **positive targets**. This means we want to know how many positive predictions we got correct out of the actual positive targets. Hence, we divide by the sum of true positives $\\mathrm{TP}$ and false negatives $\\mathrm{FN}$. Notice the sum these two variables is equal the total number of targets for a given class.\n",
    "$$\n",
    "Recall = \\mathrm{\\frac{TP}{TP + FN}}\n",
    "$$\n",
    "\n",
    "### F1-score\n",
    "The F1-score is used to gain a combined measure of both precision and recall. To do so we calculate the harmonic mean (the reciprocal of the arithmetic mean) of the precision and recall scores. F1-score is a good alternative to accuracy if the number false negatives and false positives are important to your problem. \n",
    "$$\n",
    "F_1 = 2 \\times \\frac{Precision \\times Recall}{Precision+Recall} = \\frac{2 \\times tp}{2 \\times tp + fp + fn}\n",
    "$$"
   ]
  },
  {
   "cell_type": "markdown",
   "metadata": {},
   "source": [
    "### TODO:\n",
    "Compute precision, recall, and F1-score using the elements confusion matrix `cfm`. Recall that the **rows** of the confusion matrix correspond to the *true positives* and *false positives*. Likewise, the **columns** correspond to *true negatives* and *false negatives*.\n",
    "\n",
    "**Remember that `cfm` is a Pandas DataFrmae not a Nump array! You must index `cfm` using `cfm.iloc()`!**\n",
    "\n",
    "1. Compute the percision score using our confusion matrix `cfm`\n",
    "2. Compute the recall score using our confusion matrix `cfm`\n",
    "3. Compute the F1-score score using the percision and recall"
   ]
  },
  {
   "cell_type": "code",
   "execution_count": 104,
   "metadata": {},
   "outputs": [
    {
     "name": "stdout",
     "output_type": "stream",
     "text": [
      "setosa:\n",
      "\tPrecision (setosa): 1.00000\n",
      "\tRecall (setosa): 1.00000\n",
      "\tF1 Score (setosa): 1.00000\n",
      "versicolor:\n",
      "\tPrecision (versicolor): 1.00000\n",
      "\tRecall (versicolor): 0.92308\n",
      "\tF1 Score (versicolor): 0.96000\n",
      "virginica:\n",
      "\tPrecision (virginica): 0.90909\n",
      "\tRecall (virginica): 1.00000\n",
      "\tF1 Score (virginica): 0.95238\n"
     ]
    }
   ],
   "source": [
    "for i in range(3):\n",
    "    t_name = iris.target_names[i]\n",
    "    print(\"{}:\".format(t_name))\n",
    "    # TODO (1)\n",
    "    precision = \n",
    "    # TODO (2)\n",
    "    recall = \n",
    "    # TODO (3)\n",
    "    f1 =\n",
    "    # Print scores for each class\n",
    "    print(\"\\tPrecision ({}): {:.5f}\".format(t_name, precision))\n",
    "    print(\"\\tRecall ({}): {:.5f}\".format(t_name, recall))\n",
    "    print(\"\\tF1 Score ({}): {:.5f}\".format(t_name, f1))\n"
   ]
  }
 ],
 "metadata": {
  "kernelspec": {
   "display_name": "Python 3",
   "language": "python",
   "name": "python3"
  },
  "language_info": {
   "codemirror_mode": {
    "name": "ipython",
    "version": 3
   },
   "file_extension": ".py",
   "mimetype": "text/x-python",
   "name": "python",
   "nbconvert_exporter": "python",
   "pygments_lexer": "ipython3",
   "version": "3.7.6"
  }
 },
 "nbformat": 4,
 "nbformat_minor": 2
}
