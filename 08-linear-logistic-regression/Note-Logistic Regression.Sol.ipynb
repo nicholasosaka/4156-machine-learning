{
 "cells": [
  {
   "cell_type": "markdown",
   "metadata": {},
   "source": [
    "$\\newcommand{\\xv}{\\mathbf{x}}\n",
    " \\newcommand{\\wv}{\\mathbf{w}}\n",
    " \\newcommand{\\Chi}{\\mathcal{X}}\n",
    " \\newcommand{\\R}{\\rm I\\!R}\n",
    " \\newcommand{\\sign}{\\text{sign}}\n",
    " \\newcommand{\\Tm}{\\mathbf{T}}\n",
    " \\newcommand{\\Xm}{\\mathbf{X}}\n",
    " \\newcommand{\\Im}{\\mathbf{I}}\n",
    "  \\newcommand{\\Ym}{\\mathbf{Y}}\n",
    "$\n",
    "\n",
    "# Linear Logistic Regression\n",
    "\n",
    "\n",
    "Previously we discussed least squres to fit on the discrete target for classification.\n",
    "When dealing with multiple classes, it can cause *masking problem* that one class estimation is masked by other predictions. For instance, when there are three classes such as red, blue, and green, it can wipe out the class prediction for blue by the two other classes.  \n",
    "\n",
    "Unlike previous classification algorithms, linear regression directly predicts $P(T=k \\mid \\xv)$, not the class label $k$ with linear model. \n",
    "We call this approach as linear **Logistic Regression**. \n",
    "The target output is probability values, thus the target output can be continuous value. \n",
    "The probablistic outputs helps us to understand the ML model's confidence about the prediction, which is often beneficial. \n",
    "\n",
    "We use the linear model for regression to produce the logit values $\\kappa$:\n",
    "\n",
    "$$\n",
    "\\kappa = f(\\xv ; \\wv) = \\Xm \\wv.\n",
    "$$\n",
    "\n",
    "Thus, to produce probability values, we use a mapping function $h$ to turn the logit values into probability values:\n",
    "\n",
    "$$\n",
    "P(T=k \\mid \\Xm) = h(\\Xm \\wv) = h(\\kappa) = \\yv.\n",
    "$$\n"
   ]
  },
  {
   "cell_type": "code",
   "execution_count": 2,
   "metadata": {},
   "outputs": [
    {
     "data": {
      "text/plain": [
       "(-3, 7)"
      ]
     },
     "execution_count": 2,
     "metadata": {},
     "output_type": "execute_result"
    },
    {
     "data": {
      "image/png": "[encoded data removed]",
      "text/plain": [
       "<Figure size 432x288 with 1 Axes>"
      ]
     },
     "metadata": {
      "needs_background": "light"
     },
     "output_type": "display_data"
    }
   ],
   "source": [
    "# Toy Data to play with\n",
    "\n",
    "import numpy as np\n",
    "import matplotlib.pyplot as plt\n",
    "%matplotlib inline\n",
    "\n",
    "mu1 = [-1, -1]\n",
    "cov1 = np.eye(2)\n",
    "\n",
    "mu2 = [2,3]\n",
    "cov2 = np.eye(2) * 3\n",
    "\n",
    "C1 = np.random.multivariate_normal(mu1, cov1, 50)\n",
    "C2 = np.random.multivariate_normal(mu2, cov2, 50)\n",
    "\n",
    "plt.plot(C1[:, 0], C1[:, 1], 'or')\n",
    "plt.plot(C2[:, 0], C2[:, 1], 'xb')\n",
    "\n",
    "plt.xlim([-3, 6])\n",
    "plt.ylim([-3, 7])"
   ]
  },
  {
   "cell_type": "markdown",
   "metadata": {},
   "source": [
    "To classify this data, let us prepare our logistic regression algorithm. First, we will modify the target values to fit and then derive the gradient for the iterative algorithm. "
   ]
  },
  {
   "cell_type": "markdown",
   "metadata": {},
   "source": [
    "# Target\n",
    "\n",
    "To generate multiple probability outputs for each class, we consider the indicator output targets. \n",
    "\n",
    "$$\n",
    "\\Tm = \\begin{bmatrix}\n",
    "        t_{1,1} & t_{1,2} & \\cdots & t_{1, K} \\\\\n",
    "        t_{2,1} & t_{2,2} & \\cdots & t_{2, K} \\\\\n",
    "        \\vdots & & &     \\vdots \\\\\n",
    "        t_{N,1} & t_{N,2} & \\cdots & t_{N, K} \\\\\n",
    "      \\end{bmatrix}\n",
    "$$\n",
    "where $t_{n,k}$ is 0 or 1 with only one 1 per each row. \n",
    "\n",
    "Note: Here the weight $\\wv$ is not a vector any more. It is matrix with $D+1 \\times K$ dimensions. \n",
    "\n",
    "You can follow the codes to below to get an idea how to create the indicator matrix."
   ]
  },
  {
   "cell_type": "code",
   "execution_count": 3,
   "metadata": {},
   "outputs": [
    {
     "data": {
      "text/plain": [
       "array([[ True, False, False, False],\n",
       "       [False,  True, False, False],\n",
       "       [False, False,  True, False],\n",
       "       [False, False, False,  True],\n",
       "       [False, False,  True, False],\n",
       "       [False,  True, False, False]])"
      ]
     },
     "execution_count": 3,
     "metadata": {},
     "output_type": "execute_result"
    }
   ],
   "source": [
    "np.array([0, 1,2,3,2,1]).reshape((-1, 1)) == np.arange(4)"
   ]
  },
  {
   "cell_type": "code",
   "execution_count": 5,
   "metadata": {},
   "outputs": [
    {
     "data": {
      "text/plain": [
       "array([[1, 0, 0, 0],\n",
       "       [0, 1, 0, 0],\n",
       "       [0, 0, 1, 0],\n",
       "       [0, 0, 0, 1],\n",
       "       [0, 0, 1, 0],\n",
       "       [0, 1, 0, 0]])"
      ]
     },
     "execution_count": 5,
     "metadata": {},
     "output_type": "execute_result"
    }
   ],
   "source": [
    "(np.array([0, 1,2,3,2,1]).reshape((-1, 1)) == np.arange(4)).astype(int)"
   ]
  },
  {
   "cell_type": "markdown",
   "metadata": {},
   "source": [
    "# Likelihood\n",
    "\n",
    "Assuming i.i.d (independently identically distributed) data, we can compute the likelihood as\n",
    "\n",
    "$$\n",
    "P(\\Tm \\mid \\wv) = \\prod_{n=1}^{N} \\prod_{k=1}^{K} P(T = k \\mid x_n)^{t_{n,k}} = \\prod_{n=1}^{N} \\prod_{k=1}^{K} y_{n,k}^{t_{n,k}}\n",
    "$$ \n",
    "We read the equation as \"when the data is independently distributed, the likelihood is computed by multiplying the conditional probability of the class $k$ given input $x_n$.\" Remember that $t_{n,k}$ is either zero or one as $\\Tm$ is indicator matrix. For each data sample, there are only one $t_{n,k} =$ while the others are zeros. That means, the second expression becomes one mostly for $t_{n,k} = 0$. We predict the $P(T=k \\mid x_n)$, and we can say $y_{n,k} = P(T=k \\mid x_n)$.\n",
    "\n",
    "Since we maximize the likelihood function, we define our error function as the negative logarithm of it:\n",
    "\n",
    "$$\n",
    "E(\\wv) = - \\ln P(\\Tm \\mid \\wv) =  - \\sum_{n=1}^{N} \\sum_{k=1}^{K} t_{n,k} \\ln y_{n,k}.\n",
    "$$\n",
    "\n",
    "This function is called *cross-entropy* error function for the multiclass classification problem. \n",
    "\n"
   ]
  },
  {
   "cell_type": "markdown",
   "metadata": {},
   "source": [
    "# Gradient Descent\n",
    "\n",
    "As we practiced in least mean squares, we need to update the weight $\\wv$ with the gradient:\n",
    "\n",
    "$$\n",
    "\\wv \\leftarrow \\wv - \\alpha \\nabla_\\wv E(\\wv).\n",
    "$$\n",
    "with the learning rate $\\alpha$. \n",
    "\n",
    "\n",
    "## Softmax Transformation\n",
    "\n",
    "Before computing the derivative, let us select the function $h(\\cdot)$. \n",
    "\n",
    "Since $P(T=k \\mid \\xv)$ is probability function, it satisfies \n",
    "\n",
    "- the outputs are non-negative,\n",
    "\n",
    "- the integral of the probability is one. \n",
    "\n",
    "To ensure this,\n",
    "\n",
    "$$\n",
    "P(T=k \\mid \\xv) = \\frac{\\kappa_k}{\\sum_{c=1}^K \\kappa_c}\n",
    "$$\n",
    "\n",
    "Since we are working with the logarithm, an exponent is a good idea.\n",
    "\n",
    "$$\n",
    "g_k(\\xv) = P(T=k \\mid \\xv) = \\frac{e^{\\kappa_k}}{\\sum_{c=1}^K e^{\\kappa_c}}\n",
    "$$\n",
    "\n",
    "This function is called as **softmax function**. This generalizes the logistic sigmoid fuunction and the derivatives are given by itself\n",
    "\n",
    "$$\n",
    "\\frac{\\partial g_k}{\\partial y_j}  = g_k (I_{kj} - g_j).\n",
    "$$\n",
    "\n",
    "\n",
    "## Back to Derivative\n",
    "\n",
    "Here, the chain rule and knowing the input to the function $g$ is the linear model, we can derive \n",
    "\n",
    "$$\n",
    "\\begin{align*}\n",
    "\\nabla_{\\wv_j} g_{n,k}(\\xv) &= g_k(\\xv) (I_{kj} - g_j(\\xv)) \\nabla_{\\wv_j} (\\wv^\\top \\xv) \\\\\n",
    "    \\\\\n",
    "            &= g_k(\\xv) (I_{kj} - g_j(\\xv))  \\xv.\n",
    "\\end{align*}\n",
    "$$\n",
    "\n",
    "Using $\\nabla_{\\wv_j} g_{n,k}(\\xv)$, we can get the gradient as follows:\n",
    "\n",
    "$$\n",
    "\\begin{align*}\n",
    "\\nabla_{\\wv_j} E(\\wv) &= \\nabla_{\\wv_j} \\Big(-\\sum_{n=1}^{N} \\sum_{k=1}^{K} t_{n,k} \\ln g_{n,k}(\\xv_n) \\Big) \\\\\n",
    "                      \\\\\n",
    "                      &= -\\sum_{n=1}^{N} \\sum_{k=1}^{K} t_{n,k} \\frac{1}{g_{n,k}(\\xv_n)} \\nabla_{\\wv_j} g_{n,k}(\\xv_n)\\\\\n",
    "                      \\\\\n",
    "                      &= -\\sum_{n=1}^{N} \\sum_{k=1}^{K} t_{n,k} (I_{kj} - g_j(\\xv_n)) \\xv_n\\\\\n",
    "                      \\\\\n",
    "                      &= -\\sum_{n=1}^{N} \\Bigg( \\sum_{k=1}^{K} t_{n,k} (I_{kj} - g_j(\\xv_n)) \\Bigg) \\xv_n\\\\\n",
    "                      \\\\\n",
    "                      &= -\\sum_{n=1}^{N} \\Bigg( \\sum_{k=1}^{K} t_{n,k} I_{kj} - g_j(\\xv_n) \\sum_{k=1}^{K} t_{n,k} ) \\Bigg) \\xv_n\\\\\n",
    "                      \\\\\n",
    "                      &= -\\sum_{n=1}^{N} \\Bigg(  t_{n,j} - g_j(\\xv_n)\\Bigg) \\xv_n\n",
    "\\end{align*}\n",
    "$$\n",
    "\n",
    "Using the gradient, now we can update the weights, \n",
    "\n",
    "$$\n",
    "\\wv_j \\leftarrow \\wv_j + \\alpha \\sum_{n=1}^{N} \\Big( t_{n,j} - g_j(\\xv_n)\\Big) \\xv_n.\n",
    "$$\n",
    "\n",
    "Converting the summation into matrix calculation,\n",
    "\n",
    "$$\n",
    "\\wv_j \\leftarrow \\wv_j + \\alpha \\Xm^\\top \\Big(  t_{*,j} - g_j(\\Xm)\\Big).\n",
    "$$\n"
   ]
  },
  {
   "cell_type": "markdown",
   "metadata": {},
   "source": [
    "# Implementation \n",
    "\n",
    "Before writing codes, let us check the matrix size!\n",
    "\n",
    "- $\\Xm: N \\times (D+1)$\n",
    "- $\\Tm: N \\times K$\n",
    "\n",
    "\n",
    "- $\\wv: (D+1) \\times K$\n",
    "- $t_{*,j}: N \\times 1 $\n",
    "- $g_j(\\Xm): N \\times 1 $\n",
    "\n",
    "\n",
    "- $\\Xm^\\top \\big( t_{*,j} - g_j(\\Xm) \\big)$: $(D+1) \\times N \\cdot \\big( N \\times 1 - N \\times 1 \\big) \\Rightarrow (D+1) \\times 1$\n",
    "\n",
    "This gradient update one column of the weight matrix, so we can combine the computations:\n",
    "\n",
    "$$\n",
    "\\wv \\leftarrow \\wv + \\alpha \\Xm^\\top \\Big(  \\Tm - g(\\Xm)\\Big).\n",
    "$$\n",
    "\n",
    "Double checking the size of matrics,\n",
    "\n",
    "- $\\Xm^\\top \\big( \\Tm - g(\\Xm) \\big)$: $(D+1) \\times N \\cdot \\big( N \\times K - N \\times K \\big) \\Rightarrow (D+1) \\times K$. \n",
    "\n",
    "\n"
   ]
  },
  {
   "cell_type": "markdown",
   "metadata": {},
   "source": [
    "# Practice\n",
    "\n",
    "Read the note and practice codes.\n",
    "Find TODO comment and finish the following:\n",
    "\n",
    "- $g(.)$ function,\n",
    "- the training codes."
   ]
  },
  {
   "cell_type": "code",
   "execution_count": 7,
   "metadata": {},
   "outputs": [],
   "source": [
    "# g(.) the softmax function\n",
    "# TODO: create a g(X ,w) function that compute softmax of linear model \n",
    "#.      given the two input X and w\n",
    "\n",
    "def softmax(z):\n",
    "    if not isinstance(z, np.ndarray):\n",
    "        z = np.asarray(z)\n",
    "    f = np.exp(z) \n",
    "    return f / (np.sum(f, axis=1, keepdims=True) if len(z.shape) == 2 else np.sum(f))\n",
    "\n",
    "# for linear fx\n",
    "def g(X, w):\n",
    "    return softmax(X @ w) "
   ]
  },
  {
   "cell_type": "markdown",
   "metadata": {},
   "source": [
    "### Toy Data\n",
    "\n",
    "Now, let us prepare data for training and test data. We will train the model using the training data and apply to the test set to observe the classification accuracy in unseen data."
   ]
  },
  {
   "cell_type": "code",
   "execution_count": 8,
   "metadata": {},
   "outputs": [
    {
     "data": {
      "text/plain": [
       "(-3, 7)"
      ]
     },
     "execution_count": 8,
     "metadata": {},
     "output_type": "execute_result"
    },
    {
     "data": {
      "image/png": "[encoded data removed]",
      "text/plain": [
       "<Figure size 432x288 with 1 Axes>"
      ]
     },
     "metadata": {
      "needs_background": "light"
     },
     "output_type": "display_data"
    },
    {
     "data": {
      "image/png": "[encoded data removed]",
      "text/plain": [
       "<Figure size 432x288 with 1 Axes>"
      ]
     },
     "metadata": {
      "needs_background": "light"
     },
     "output_type": "display_data"
    }
   ],
   "source": [
    "# Data for testing\n",
    "N1 = 50\n",
    "N2 = 50\n",
    "N = N1 + N2\n",
    "D = 2\n",
    "K = 2\n",
    "\n",
    "mu1 = [-1, -1]\n",
    "cov1 = np.eye(2)\n",
    "\n",
    "mu2 = [2,3]\n",
    "cov2 = np.eye(2) * 3\n",
    "\n",
    "#\n",
    "#  Train Data\n",
    "#\n",
    "C1 = np.random.multivariate_normal(mu1, cov1, N1)\n",
    "C2 = np.random.multivariate_normal(mu2, cov2, N2)\n",
    "\n",
    "plt.plot(C1[:, 0], C1[:, 1], 'or')\n",
    "plt.plot(C2[:, 0], C2[:, 1], 'xb')\n",
    "\n",
    "plt.xlim([-3, 6])\n",
    "plt.ylim([-3, 7])\n",
    "\n",
    "Xtrain = np.vstack((C1, C2))\n",
    "Ttrain = np.zeros((N, 2))\n",
    "Ttrain[:50, 0] = 1\n",
    "Ttrain[50:, 1] = 1\n",
    "\n",
    "means, stds = np.mean(Xtrain, 0), np.std(Xtrain, 0)\n",
    "# normalize inputs\n",
    "Xtrains = (Xtrain - means) / stds\n",
    "\n",
    "#\n",
    "#  Test Data\n",
    "#\n",
    "Ct1 = np.random.multivariate_normal(mu1, cov1, 20)\n",
    "Ct2 = np.random.multivariate_normal(mu2, cov2, 20)\n",
    "\n",
    "Xtest = np.vstack((Ct1, Ct2))\n",
    "Ttest = np.zeros((40, 2))\n",
    "Ttest[:20, 0] = 1\n",
    "Ttest[20:, 1] = 1\n",
    "\n",
    "# normalize inputs\n",
    "Xtests = (Xtrain - means) / stds\n",
    "\n",
    "\n",
    "plt.figure()\n",
    "plt.plot(Ct1[:, 0], Ct1[:, 1], 'or')\n",
    "plt.plot(Ct2[:, 0], Ct2[:, 1], 'xb')\n",
    "\n",
    "plt.xlim([-3, 6])\n",
    "plt.ylim([-3, 7])"
   ]
  },
  {
   "cell_type": "markdown",
   "metadata": {},
   "source": [
    "**initialization:** We first initialize the weights with random values. The shape of the weight matrix is $D+1 \\times k$. "
   ]
  },
  {
   "cell_type": "code",
   "execution_count": 9,
   "metadata": {},
   "outputs": [],
   "source": [
    "# TODO: initialize the weight matrix\n",
    "w = np.random.rand(D+1, K)"
   ]
  },
  {
   "cell_type": "markdown",
   "metadata": {},
   "source": [
    "**training:** We train the model on training data **(Xtrain, Ttrain)**. "
   ]
  },
  {
   "cell_type": "code",
   "execution_count": 10,
   "metadata": {},
   "outputs": [],
   "source": [
    "# iterate to update weights\n",
    "niter = 1000    # max number of iteration\n",
    "alpha = 0.1     # learning rate\n",
    "\n",
    "X1 = np.hstack((np.ones((N, 1)), Xtrain))    # add a bias column\n",
    "likeli = []\n",
    "\n",
    "##### Training loop\n",
    "for step in range(niter):\n",
    "    # TODO: add training code here! \n",
    "    ys = g(X1, w)\n",
    "    w += alpha * X1.T @ (Ttrain - ys)\n",
    "    \n"
   ]
  },
  {
   "cell_type": "markdown",
   "metadata": {},
   "source": [
    "**test:** We apply the trained model to **Xtest** and compare the prediction with **Ttest**. "
   ]
  },
  {
   "cell_type": "code",
   "execution_count": 11,
   "metadata": {},
   "outputs": [
    {
     "data": {
      "text/plain": [
       "array([[1.00000000e+00, 7.20854733e-18],\n",
       "       [1.00000000e+00, 6.50021226e-20],\n",
       "       [1.00000000e+00, 6.43247099e-56],\n",
       "       [1.00000000e+00, 7.50439285e-23],\n",
       "       [1.00000000e+00, 7.67138666e-35],\n",
       "       [1.00000000e+00, 7.49702512e-35],\n",
       "       [1.00000000e+00, 3.21104281e-14],\n",
       "       [1.00000000e+00, 6.12889730e-13],\n",
       "       [1.00000000e+00, 2.43180188e-26],\n",
       "       [1.00000000e+00, 3.83258450e-24],\n",
       "       [1.00000000e+00, 2.04751843e-25],\n",
       "       [1.00000000e+00, 3.83565137e-20],\n",
       "       [1.00000000e+00, 8.29622569e-24],\n",
       "       [1.00000000e+00, 2.02280748e-42],\n",
       "       [1.00000000e+00, 3.04645010e-19],\n",
       "       [1.00000000e+00, 1.05144310e-43],\n",
       "       [1.00000000e+00, 4.10193484e-58],\n",
       "       [1.00000000e+00, 5.92998596e-56],\n",
       "       [1.00000000e+00, 8.06493820e-26],\n",
       "       [1.00000000e+00, 1.29810260e-30],\n",
       "       [1.01969278e-25, 1.00000000e+00],\n",
       "       [3.83801888e-18, 1.00000000e+00],\n",
       "       [3.60129085e-46, 1.00000000e+00],\n",
       "       [2.06656676e-20, 1.00000000e+00],\n",
       "       [5.16701560e-48, 1.00000000e+00],\n",
       "       [2.37755697e-57, 1.00000000e+00],\n",
       "       [5.75235845e-30, 1.00000000e+00],\n",
       "       [2.05181178e-39, 1.00000000e+00],\n",
       "       [1.47084409e-38, 1.00000000e+00],\n",
       "       [6.45215080e-20, 1.00000000e+00],\n",
       "       [4.95614911e-24, 1.00000000e+00],\n",
       "       [1.02885242e-38, 1.00000000e+00],\n",
       "       [5.94452068e-57, 1.00000000e+00],\n",
       "       [1.24437332e-49, 1.00000000e+00],\n",
       "       [3.14439285e-43, 1.00000000e+00],\n",
       "       [3.00216746e-48, 1.00000000e+00],\n",
       "       [5.69338107e-40, 1.00000000e+00],\n",
       "       [1.65666696e-26, 1.00000000e+00],\n",
       "       [2.64013673e-35, 1.00000000e+00],\n",
       "       [2.17741899e-47, 1.00000000e+00]])"
      ]
     },
     "execution_count": 11,
     "metadata": {},
     "output_type": "execute_result"
    }
   ],
   "source": [
    "# TODO: apply the model to produce the probability values as the output below   \n",
    "X1t = np.hstack((np.ones((Xtest.shape[0],1)), Xtest))\n",
    "Y = g(X1t, w)\n",
    "\n",
    "Y"
   ]
  },
  {
   "cell_type": "markdown",
   "metadata": {},
   "source": [
    "**Presenting results**: Now we can plot the results and present the accuracy. "
   ]
  },
  {
   "cell_type": "code",
   "execution_count": 12,
   "metadata": {},
   "outputs": [
    {
     "name": "stdout",
     "output_type": "stream",
     "text": [
      "Accuracy:  100.0 %\n"
     ]
    },
    {
     "data": {
      "image/png": "[encoded data removed]",
      "text/plain": [
       "<Figure size 432x288 with 1 Axes>"
      ]
     },
     "metadata": {
      "needs_background": "light"
     },
     "output_type": "display_data"
    }
   ],
   "source": [
    "# retrieve labels and plot\n",
    "Yl = np.argmax(Y, 1)\n",
    "Tl = np.argmax(Ttest, 1)\n",
    "\n",
    "plt.plot(Tl)\n",
    "plt.plot(Yl)\n",
    "\n",
    "# TODO: compute the accuracy to show the results. \n",
    "#.      As the data is randomly generated, the accuracy values can be different in yours. \n",
    "print(\"Accuracy: \", 100 - np.mean(np.abs(Tl - Yl)) * 100, \"%\")"
   ]
  },
  {
   "cell_type": "markdown",
   "metadata": {},
   "source": [
    "We can observe the how the decision boundary is formed. As we use a linear model, the decision boundary is a straigh line.\n",
    "\n",
    "**TODO: (Discussion on Canvas) Read the codes and understand what each line does and share your understanding with class.**"
   ]
  },
  {
   "cell_type": "code",
   "execution_count": 13,
   "metadata": {},
   "outputs": [
    {
     "data": {
      "text/plain": [
       "[<matplotlib.lines.Line2D at 0x7f8ceb20f8d0>]"
      ]
     },
     "execution_count": 13,
     "metadata": {},
     "output_type": "execute_result"
    },
    {
     "data": {
      "image/png": "[encoded data removed]",
      "text/plain": [
       "<Figure size 432x432 with 1 Axes>"
      ]
     },
     "metadata": {
      "needs_background": "light"
     },
     "output_type": "display_data"
    }
   ],
   "source": [
    "# show me the boundary\n",
    "\n",
    "x = np.linspace(-3, 6, 1000)\n",
    "y = np.linspace(-3, 7, 1000)\n",
    "\n",
    "xs, ys = np.meshgrid(x, y)\n",
    "\n",
    "X = np.vstack((xs.flat, ys.flat)).T\n",
    "X1 = np.hstack((np.ones((X.shape[0], 1)), X))\n",
    "\n",
    "Y = g(X1, w)\n",
    "zs = np.argmax(Y, 1)\n",
    "\n",
    "plt.figure(figsize=(6,6))\n",
    "plt.contourf(xs, ys, zs.reshape(xs.shape))\n",
    "plt.title(\"Decision Boundary\")\n",
    "\n",
    "plt.plot(Ct1[:, 0], Ct1[:, 1], 'or')\n",
    "plt.plot(Ct2[:, 0], Ct2[:, 1], 'xb')\n"
   ]
  }
 ],
 "metadata": {
  "kernelspec": {
   "display_name": "Python 3",
   "language": "python",
   "name": "python3"
  },
  "language_info": {
   "codemirror_mode": {
    "name": "ipython",
    "version": 3
   },
   "file_extension": ".py",
   "mimetype": "text/x-python",
   "name": "python",
   "nbconvert_exporter": "python",
   "pygments_lexer": "ipython3",
   "version": "3.7.6"
  }
 },
 "nbformat": 4,
 "nbformat_minor": 2
}
